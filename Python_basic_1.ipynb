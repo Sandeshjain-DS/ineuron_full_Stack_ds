{
  "cells": [
    {
      "cell_type": "markdown",
      "metadata": {
        "id": "view-in-github",
        "colab_type": "text"
      },
      "source": [
        "<a href=\"https://colab.research.google.com/github/Sandeshjain-DS/ineuron_full_Stack_ds/blob/main/Python_basic_1.ipynb\" target=\"_parent\"><img src=\"https://colab.research.google.com/assets/colab-badge.svg\" alt=\"Open In Colab\"/></a>"
      ]
    },
    {
      "cell_type": "code",
      "execution_count": null,
      "metadata": {
        "id": "FxwW2bwfAxMf"
      },
      "outputs": [],
      "source": [
        "s = \"sudh\""
      ]
    },
    {
      "cell_type": "code",
      "execution_count": null,
      "metadata": {
        "id": "spWrkDiJAxMm",
        "outputId": "4e5e659d-3791-401a-aaa6-8ac744d3c21b"
      },
      "outputs": [
        {
          "data": {
            "text/plain": [
              "str"
            ]
          },
          "execution_count": 2,
          "metadata": {},
          "output_type": "execute_result"
        }
      ],
      "source": [
        "type(s)"
      ]
    },
    {
      "cell_type": "code",
      "execution_count": null,
      "metadata": {
        "id": "HWfh0eOBAxMo",
        "outputId": "59ffb01d-cb04-49f7-a38d-4efca22b51ea"
      },
      "outputs": [
        {
          "data": {
            "text/plain": [
              "'s'"
            ]
          },
          "execution_count": 3,
          "metadata": {},
          "output_type": "execute_result"
        }
      ],
      "source": [
        "s[0]"
      ]
    },
    {
      "cell_type": "code",
      "execution_count": null,
      "metadata": {
        "id": "go1wxH45AxMq",
        "outputId": "c064f87f-1b9d-4268-84e5-2c0328441e15"
      },
      "outputs": [
        {
          "data": {
            "text/plain": [
              "'u'"
            ]
          },
          "execution_count": 4,
          "metadata": {},
          "output_type": "execute_result"
        }
      ],
      "source": [
        "s[1]"
      ]
    },
    {
      "cell_type": "code",
      "execution_count": null,
      "metadata": {
        "id": "LRo_0twcAxMs",
        "outputId": "8dab04e3-136d-4a9e-9d43-06becd3716f6"
      },
      "outputs": [
        {
          "data": {
            "text/plain": [
              "'d'"
            ]
          },
          "execution_count": 5,
          "metadata": {},
          "output_type": "execute_result"
        }
      ],
      "source": [
        "s[2]"
      ]
    },
    {
      "cell_type": "code",
      "execution_count": null,
      "metadata": {
        "id": "3l3xHem8AxMt",
        "outputId": "0df1cb9a-6336-483b-fd9e-b56fd4ebeeaa"
      },
      "outputs": [
        {
          "data": {
            "text/plain": [
              "'h'"
            ]
          },
          "execution_count": 6,
          "metadata": {},
          "output_type": "execute_result"
        }
      ],
      "source": [
        "s[3]"
      ]
    },
    {
      "cell_type": "code",
      "execution_count": null,
      "metadata": {
        "id": "D5gS2a0SAxMw",
        "outputId": "43fd927e-6281-4870-e8a7-eb5af9e578c7"
      },
      "outputs": [
        {
          "data": {
            "text/plain": [
              "'h'"
            ]
          },
          "execution_count": 7,
          "metadata": {},
          "output_type": "execute_result"
        }
      ],
      "source": [
        "s[-1]"
      ]
    },
    {
      "cell_type": "code",
      "execution_count": null,
      "metadata": {
        "id": "hRQ6fq96AxMy",
        "outputId": "1bf65791-83f8-4f9c-9cd4-3506a3c9de3f"
      },
      "outputs": [
        {
          "data": {
            "text/plain": [
              "'d'"
            ]
          },
          "execution_count": 8,
          "metadata": {},
          "output_type": "execute_result"
        }
      ],
      "source": [
        "s[-2]"
      ]
    },
    {
      "cell_type": "code",
      "execution_count": null,
      "metadata": {
        "id": "Nm9D1Sp6AxM1"
      },
      "outputs": [],
      "source": [
        "a = \"my name is sudh\""
      ]
    },
    {
      "cell_type": "code",
      "execution_count": null,
      "metadata": {
        "id": "xsLfFwdEAxM3",
        "outputId": "c274b6ce-9b0b-4904-9661-2e5be750c34e"
      },
      "outputs": [
        {
          "data": {
            "text/plain": [
              "'h'"
            ]
          },
          "execution_count": 10,
          "metadata": {},
          "output_type": "execute_result"
        }
      ],
      "source": [
        "a[-1]"
      ]
    },
    {
      "cell_type": "code",
      "execution_count": null,
      "metadata": {
        "id": "JCJ251mBAxM4",
        "outputId": "35799f3c-5f10-496f-961b-488eeabe462e"
      },
      "outputs": [
        {
          "data": {
            "text/plain": [
              "'m'"
            ]
          },
          "execution_count": 11,
          "metadata": {},
          "output_type": "execute_result"
        }
      ],
      "source": [
        "a[0]"
      ]
    },
    {
      "cell_type": "code",
      "execution_count": null,
      "metadata": {
        "id": "qqWuSOwHAxM5",
        "outputId": "8dcc346b-edd2-43e4-f8e0-9ee631e4c96b"
      },
      "outputs": [
        {
          "ename": "IndexError",
          "evalue": "string index out of range",
          "output_type": "error",
          "traceback": [
            "\u001b[1;31m---------------------------------------------------------------------------\u001b[0m",
            "\u001b[1;31mIndexError\u001b[0m                                Traceback (most recent call last)",
            "\u001b[1;32m<ipython-input-12-cd7724b6c85f>\u001b[0m in \u001b[0;36m<module>\u001b[1;34m\u001b[0m\n\u001b[1;32m----> 1\u001b[1;33m \u001b[0ma\u001b[0m\u001b[1;33m[\u001b[0m\u001b[1;36m100\u001b[0m\u001b[1;33m]\u001b[0m\u001b[1;33m\u001b[0m\u001b[1;33m\u001b[0m\u001b[0m\n\u001b[0m",
            "\u001b[1;31mIndexError\u001b[0m: string index out of range"
          ]
        }
      ],
      "source": [
        "a[100]"
      ]
    },
    {
      "cell_type": "code",
      "execution_count": null,
      "metadata": {
        "id": "waPKYLTBAxM6",
        "outputId": "2e81c81a-cd38-42c6-a067-4bc5cdb1646d"
      },
      "outputs": [
        {
          "data": {
            "text/plain": [
              "'my name is sudh'"
            ]
          },
          "execution_count": 14,
          "metadata": {},
          "output_type": "execute_result"
        }
      ],
      "source": [
        "a"
      ]
    },
    {
      "cell_type": "code",
      "execution_count": null,
      "metadata": {
        "id": "WnXSZ-7SAxM7",
        "outputId": "0d0fb735-c801-40dd-bd15-7746d0bb8fad"
      },
      "outputs": [
        {
          "data": {
            "text/plain": [
              "'my name is'"
            ]
          },
          "execution_count": 15,
          "metadata": {},
          "output_type": "execute_result"
        }
      ],
      "source": [
        "a[0:10]"
      ]
    },
    {
      "cell_type": "code",
      "execution_count": null,
      "metadata": {
        "id": "cGsCGN7YAxM7"
      },
      "outputs": [],
      "source": [
        "b = \"ineuron\""
      ]
    },
    {
      "cell_type": "code",
      "execution_count": null,
      "metadata": {
        "id": "2e-Dr4cuAxNA",
        "outputId": "e51cb54c-efda-4e31-8072-8c3d445a5934"
      },
      "outputs": [
        {
          "data": {
            "text/plain": [
              "'ine'"
            ]
          },
          "execution_count": 17,
          "metadata": {},
          "output_type": "execute_result"
        }
      ],
      "source": [
        "b[0:3]"
      ]
    },
    {
      "cell_type": "code",
      "execution_count": null,
      "metadata": {
        "id": "XSTx7NuCAxNC",
        "outputId": "6851ef29-03f9-4169-a476-98d72a1e6b85"
      },
      "outputs": [
        {
          "data": {
            "text/plain": [
              "'ineuron'"
            ]
          },
          "execution_count": 18,
          "metadata": {},
          "output_type": "execute_result"
        }
      ],
      "source": [
        "b[0:300]"
      ]
    },
    {
      "cell_type": "code",
      "execution_count": null,
      "metadata": {
        "id": "qMWQ67Q0AxND",
        "outputId": "0d6e71bd-003c-4e72-962f-a50825135359"
      },
      "outputs": [
        {
          "ename": "IndexError",
          "evalue": "string index out of range",
          "output_type": "error",
          "traceback": [
            "\u001b[1;31m---------------------------------------------------------------------------\u001b[0m",
            "\u001b[1;31mIndexError\u001b[0m                                Traceback (most recent call last)",
            "\u001b[1;32m<ipython-input-19-6ff6ddb2b1a6>\u001b[0m in \u001b[0;36m<module>\u001b[1;34m\u001b[0m\n\u001b[1;32m----> 1\u001b[1;33m \u001b[0mb\u001b[0m\u001b[1;33m[\u001b[0m\u001b[1;36m300\u001b[0m\u001b[1;33m]\u001b[0m\u001b[1;33m\u001b[0m\u001b[1;33m\u001b[0m\u001b[0m\n\u001b[0m",
            "\u001b[1;31mIndexError\u001b[0m: string index out of range"
          ]
        }
      ],
      "source": [
        "b[300]"
      ]
    },
    {
      "cell_type": "code",
      "execution_count": null,
      "metadata": {
        "id": "oduap__sAxND",
        "outputId": "5efc8824-1016-470d-881d-9714a449f9ec"
      },
      "outputs": [
        {
          "ename": "IndexError",
          "evalue": "string index out of range",
          "output_type": "error",
          "traceback": [
            "\u001b[1;31m---------------------------------------------------------------------------\u001b[0m",
            "\u001b[1;31mIndexError\u001b[0m                                Traceback (most recent call last)",
            "\u001b[1;32m<ipython-input-21-b20bba380709>\u001b[0m in \u001b[0;36m<module>\u001b[1;34m\u001b[0m\n\u001b[1;32m----> 1\u001b[1;33m \u001b[0mb\u001b[0m\u001b[1;33m[\u001b[0m\u001b[1;33m-\u001b[0m\u001b[1;36m100\u001b[0m\u001b[1;33m]\u001b[0m\u001b[1;33m\u001b[0m\u001b[1;33m\u001b[0m\u001b[0m\n\u001b[0m",
            "\u001b[1;31mIndexError\u001b[0m: string index out of range"
          ]
        }
      ],
      "source": [
        "b[-100]"
      ]
    },
    {
      "cell_type": "code",
      "execution_count": null,
      "metadata": {
        "id": "w2yGf_PkAxNF",
        "outputId": "572a620b-3952-4d7b-cb46-1c44ff21d6c3"
      },
      "outputs": [
        {
          "data": {
            "text/plain": [
              "''"
            ]
          },
          "execution_count": 22,
          "metadata": {},
          "output_type": "execute_result"
        }
      ],
      "source": [
        "b[-1:-4]"
      ]
    },
    {
      "cell_type": "code",
      "execution_count": null,
      "metadata": {
        "id": "Tg9sfO9DAxNF",
        "outputId": "85230301-f845-4594-99f4-7dc0ab389ba0"
      },
      "outputs": [
        {
          "data": {
            "text/plain": [
              "'ineu'"
            ]
          },
          "execution_count": 23,
          "metadata": {},
          "output_type": "execute_result"
        }
      ],
      "source": [
        "b[0:4]"
      ]
    },
    {
      "cell_type": "code",
      "execution_count": null,
      "metadata": {
        "id": "lcavg9GnAxNG"
      },
      "outputs": [],
      "source": [
        "a = \"kumar\""
      ]
    },
    {
      "cell_type": "code",
      "execution_count": null,
      "metadata": {
        "id": "u3pjItuKAxNH",
        "outputId": "19ee6490-4297-4e4f-a45d-3ecd94d2d2b2"
      },
      "outputs": [
        {
          "data": {
            "text/plain": [
              "'kumar'"
            ]
          },
          "execution_count": 27,
          "metadata": {},
          "output_type": "execute_result"
        }
      ],
      "source": [
        "a[0:300:1]"
      ]
    },
    {
      "cell_type": "code",
      "execution_count": null,
      "metadata": {
        "id": "KZIM2AgGAxNH",
        "outputId": "021c74fe-a5e3-4cb6-c4c6-3e9f14e8fc26"
      },
      "outputs": [
        {
          "data": {
            "text/plain": [
              "'ka'"
            ]
          },
          "execution_count": 29,
          "metadata": {},
          "output_type": "execute_result"
        }
      ],
      "source": [
        "a[0:300:3]"
      ]
    },
    {
      "cell_type": "code",
      "execution_count": null,
      "metadata": {
        "id": "M2comuMSAxNI",
        "outputId": "c9b6bd30-26e4-4b44-f29f-d1f83cb68b28"
      },
      "outputs": [
        {
          "data": {
            "text/plain": [
              "''"
            ]
          },
          "execution_count": 30,
          "metadata": {},
          "output_type": "execute_result"
        }
      ],
      "source": [
        "a[0:100:-1]"
      ]
    },
    {
      "cell_type": "code",
      "execution_count": null,
      "metadata": {
        "id": "vsDW3UKBAxNI",
        "outputId": "76eec291-a224-4e7e-ea6f-b92e9c95e244"
      },
      "outputs": [
        {
          "data": {
            "text/plain": [
              "'ram'"
            ]
          },
          "execution_count": 32,
          "metadata": {},
          "output_type": "execute_result"
        }
      ],
      "source": [
        "a[-1:-4:-1]"
      ]
    },
    {
      "cell_type": "code",
      "execution_count": null,
      "metadata": {
        "id": "UjdvhqdTAxNJ",
        "outputId": "3a896250-47d5-4e37-dba1-46945bc55e90"
      },
      "outputs": [
        {
          "data": {
            "text/plain": [
              "'k'"
            ]
          },
          "execution_count": 34,
          "metadata": {},
          "output_type": "execute_result"
        }
      ],
      "source": [
        "a[0:-10:-1]"
      ]
    },
    {
      "cell_type": "code",
      "execution_count": null,
      "metadata": {
        "id": "YUkoE6_8AxNJ",
        "outputId": "31c67ad9-883b-4058-adc7-3dc13aac1222"
      },
      "outputs": [
        {
          "data": {
            "text/plain": [
              "'kumar'"
            ]
          },
          "execution_count": 35,
          "metadata": {},
          "output_type": "execute_result"
        }
      ],
      "source": [
        "a"
      ]
    },
    {
      "cell_type": "code",
      "execution_count": null,
      "metadata": {
        "id": "RCU-nKVYAxNK",
        "outputId": "2bdf1862-0254-45a4-8ced-67d155e42ea5"
      },
      "outputs": [
        {
          "data": {
            "text/plain": [
              "'kumar'"
            ]
          },
          "execution_count": 36,
          "metadata": {},
          "output_type": "execute_result"
        }
      ],
      "source": [
        "a[::]"
      ]
    },
    {
      "cell_type": "code",
      "execution_count": null,
      "metadata": {
        "id": "yVoU94zBAxNK",
        "outputId": "b5a47e8d-9e96-4ce5-ee18-c29c63321bf6"
      },
      "outputs": [
        {
          "data": {
            "text/plain": [
              "'kumar'"
            ]
          },
          "execution_count": 37,
          "metadata": {},
          "output_type": "execute_result"
        }
      ],
      "source": [
        "a[:8]"
      ]
    },
    {
      "cell_type": "code",
      "execution_count": null,
      "metadata": {
        "id": "m5hOSwyCAxNL",
        "outputId": "61eb8c66-42ea-44c6-ac70-de067839f572"
      },
      "outputs": [
        {
          "data": {
            "text/plain": [
              "'a'"
            ]
          },
          "execution_count": 39,
          "metadata": {},
          "output_type": "execute_result"
        }
      ],
      "source": [
        "a[-2:-1]"
      ]
    },
    {
      "cell_type": "code",
      "execution_count": null,
      "metadata": {
        "id": "Srj0TlnDAxNL",
        "outputId": "9aa9f232-80c4-4eeb-f115-3cb3395d4930"
      },
      "outputs": [
        {
          "data": {
            "text/plain": [
              "'kumar'"
            ]
          },
          "execution_count": 40,
          "metadata": {},
          "output_type": "execute_result"
        }
      ],
      "source": [
        "a"
      ]
    },
    {
      "cell_type": "code",
      "execution_count": null,
      "metadata": {
        "id": "4mLcTtYzAxNL",
        "outputId": "821de2d8-ac7b-4fbc-96bd-c4b6b3d1bf0d"
      },
      "outputs": [
        {
          "data": {
            "text/plain": [
              "'ramuk'"
            ]
          },
          "execution_count": 41,
          "metadata": {},
          "output_type": "execute_result"
        }
      ],
      "source": [
        "a[::-1]"
      ]
    },
    {
      "cell_type": "code",
      "execution_count": null,
      "metadata": {
        "id": "n31zWjrcAxNM",
        "outputId": "ab29daca-7fc3-4790-9f5e-21c361a51269"
      },
      "outputs": [
        {
          "data": {
            "text/plain": [
              "'ramuk'"
            ]
          },
          "execution_count": 42,
          "metadata": {},
          "output_type": "execute_result"
        }
      ],
      "source": [
        "a[-1::-1]"
      ]
    },
    {
      "cell_type": "code",
      "execution_count": null,
      "metadata": {
        "id": "3YD7JQwnAxNM"
      },
      "outputs": [],
      "source": [
        "a = \"i am working with ineuron\""
      ]
    },
    {
      "cell_type": "code",
      "execution_count": null,
      "metadata": {
        "id": "46CvclXrAxNQ",
        "outputId": "97b9d080-90d2-4e20-ab31-cb259fd3774f"
      },
      "outputs": [
        {
          "data": {
            "text/plain": [
              "'norueni htiw gnikrow ma i'"
            ]
          },
          "execution_count": 44,
          "metadata": {},
          "output_type": "execute_result"
        }
      ],
      "source": [
        "a[::-1]"
      ]
    },
    {
      "cell_type": "code",
      "execution_count": null,
      "metadata": {
        "id": "oZUzAV5hAxNS",
        "outputId": "5cccfff0-c50d-4549-c226-607c25f585da"
      },
      "outputs": [
        {
          "data": {
            "text/plain": [
              "'eni htiw gnikro'"
            ]
          },
          "execution_count": 46,
          "metadata": {},
          "output_type": "execute_result"
        }
      ],
      "source": [
        "a[-5:5:-1]"
      ]
    },
    {
      "cell_type": "code",
      "execution_count": null,
      "metadata": {
        "id": "VsALlaB9AxNS",
        "outputId": "d8ef3321-8b6e-45b3-d355-dc31c32d61e7"
      },
      "outputs": [
        {
          "data": {
            "text/plain": [
              "'orueni h'"
            ]
          },
          "execution_count": 47,
          "metadata": {},
          "output_type": "execute_result"
        }
      ],
      "source": [
        "a[-2:-10:-1] "
      ]
    },
    {
      "cell_type": "code",
      "execution_count": null,
      "metadata": {
        "id": "uzMjCgvgAxNT",
        "outputId": "4fe8b28e-3fb8-4ae7-dad3-4cc803a5a5b9"
      },
      "outputs": [
        {
          "data": {
            "text/plain": [
              "'imoi tiun'"
            ]
          },
          "execution_count": 48,
          "metadata": {},
          "output_type": "execute_result"
        }
      ],
      "source": [
        "a[0:100:3]"
      ]
    },
    {
      "cell_type": "code",
      "execution_count": null,
      "metadata": {
        "id": "55eHzsmoAxNT",
        "outputId": "c2f4b2ef-1940-4e2e-a47a-4fb6d7c1c8f5"
      },
      "outputs": [
        {
          "data": {
            "text/plain": [
              "'sudhsudhsudh'"
            ]
          },
          "execution_count": 49,
          "metadata": {},
          "output_type": "execute_result"
        }
      ],
      "source": [
        "\"sudh\"*3"
      ]
    },
    {
      "cell_type": "code",
      "execution_count": null,
      "metadata": {
        "id": "ICCy_wT8AxNV",
        "outputId": "1bca3ae7-0854-429f-e303-1f77adc2318d"
      },
      "outputs": [
        {
          "data": {
            "text/plain": [
              "'sudhkumar'"
            ]
          },
          "execution_count": 50,
          "metadata": {},
          "output_type": "execute_result"
        }
      ],
      "source": [
        "\"sudh\" + \"kumar\""
      ]
    },
    {
      "cell_type": "code",
      "execution_count": null,
      "metadata": {
        "id": "j0Bd_UwDAxNW",
        "outputId": "e385497f-8af7-4eab-91bd-2786e0313683"
      },
      "outputs": [
        {
          "data": {
            "text/plain": [
              "'i am working with ineuron'"
            ]
          },
          "execution_count": 51,
          "metadata": {},
          "output_type": "execute_result"
        }
      ],
      "source": [
        "a"
      ]
    },
    {
      "cell_type": "code",
      "execution_count": null,
      "metadata": {
        "id": "jjpSzs8dAxNW",
        "outputId": "06e02046-0af5-4ee8-83a2-6ae1fb285a8d"
      },
      "outputs": [
        {
          "data": {
            "text/plain": [
              "25"
            ]
          },
          "execution_count": 52,
          "metadata": {},
          "output_type": "execute_result"
        }
      ],
      "source": [
        "len(a)"
      ]
    },
    {
      "cell_type": "code",
      "execution_count": null,
      "metadata": {
        "id": "jchiGqQuAxNX",
        "outputId": "5c40e487-9979-4096-c5bc-02b8d5241514"
      },
      "outputs": [
        {
          "data": {
            "text/plain": [
              "'sudhsudhsudhsudh'"
            ]
          },
          "execution_count": 54,
          "metadata": {},
          "output_type": "execute_result"
        }
      ],
      "source": [
        "\"sudh\"*4"
      ]
    },
    {
      "cell_type": "code",
      "execution_count": null,
      "metadata": {
        "id": "sFyat2q4AxNX",
        "outputId": "afe56394-138b-4432-e053-ad77ee677288"
      },
      "outputs": [
        {
          "data": {
            "text/plain": [
              "'i am working with ineuron'"
            ]
          },
          "execution_count": 55,
          "metadata": {},
          "output_type": "execute_result"
        }
      ],
      "source": [
        "a"
      ]
    },
    {
      "cell_type": "code",
      "execution_count": null,
      "metadata": {
        "id": "HnoBTd1zAxNY",
        "outputId": "6659068f-85fe-41ed-9439-d957a3346fb9"
      },
      "outputs": [
        {
          "data": {
            "text/plain": [
              "2"
            ]
          },
          "execution_count": 56,
          "metadata": {},
          "output_type": "execute_result"
        }
      ],
      "source": [
        "a.find('a')"
      ]
    },
    {
      "cell_type": "code",
      "execution_count": null,
      "metadata": {
        "id": "UPCTUy7jAxNY",
        "outputId": "7a284130-83cf-448e-fcc4-fd6027c0f53a"
      },
      "outputs": [
        {
          "data": {
            "text/plain": [
              "-1"
            ]
          },
          "execution_count": 58,
          "metadata": {},
          "output_type": "execute_result"
        }
      ],
      "source": [
        "a.find('ia')"
      ]
    },
    {
      "cell_type": "code",
      "execution_count": null,
      "metadata": {
        "id": "EFl3_ZM_AxNZ",
        "outputId": "3f4a457d-9d99-4f7c-c977-5f6a4aaef9f2"
      },
      "outputs": [
        {
          "data": {
            "text/plain": [
              "9"
            ]
          },
          "execution_count": 59,
          "metadata": {},
          "output_type": "execute_result"
        }
      ],
      "source": [
        "a.find('in')"
      ]
    },
    {
      "cell_type": "code",
      "execution_count": null,
      "metadata": {
        "id": "CX-HVS_yAxNZ",
        "outputId": "caf6ee46-7b58-4bd8-e5b0-765d99890953"
      },
      "outputs": [
        {
          "data": {
            "text/plain": [
              "4"
            ]
          },
          "execution_count": 60,
          "metadata": {},
          "output_type": "execute_result"
        }
      ],
      "source": [
        "a.count('i')"
      ]
    },
    {
      "cell_type": "code",
      "execution_count": null,
      "metadata": {
        "id": "BF7qWLG9AxNa",
        "outputId": "03cce848-2128-449c-c903-dd3d8b8d9fcc"
      },
      "outputs": [
        {
          "data": {
            "text/plain": [
              "0"
            ]
          },
          "execution_count": 61,
          "metadata": {},
          "output_type": "execute_result"
        }
      ],
      "source": [
        "a.count('x')"
      ]
    },
    {
      "cell_type": "code",
      "execution_count": null,
      "metadata": {
        "id": "8E7VG_qOAxNa",
        "outputId": "43b389d5-44af-4e86-f4f6-7053d93a807b"
      },
      "outputs": [
        {
          "data": {
            "text/plain": [
              "'i am working with ineuron'"
            ]
          },
          "execution_count": 62,
          "metadata": {},
          "output_type": "execute_result"
        }
      ],
      "source": [
        "a"
      ]
    },
    {
      "cell_type": "code",
      "execution_count": null,
      "metadata": {
        "id": "hZaMbf69AxNb"
      },
      "outputs": [],
      "source": [
        "l = a.split()"
      ]
    },
    {
      "cell_type": "code",
      "execution_count": null,
      "metadata": {
        "id": "cORfQZ1-AxNb",
        "outputId": "6d3d25fa-fc9c-494f-96bd-c1e6dedd5919"
      },
      "outputs": [
        {
          "data": {
            "text/plain": [
              "['i', 'am', 'working', 'with', 'ineuron']"
            ]
          },
          "execution_count": 67,
          "metadata": {},
          "output_type": "execute_result"
        }
      ],
      "source": [
        "l"
      ]
    },
    {
      "cell_type": "code",
      "execution_count": null,
      "metadata": {
        "id": "vipDjvdpAxNb",
        "outputId": "1891e126-df77-4a59-e97a-0e77fd56bf3a"
      },
      "outputs": [
        {
          "data": {
            "text/plain": [
              "'i'"
            ]
          },
          "execution_count": 68,
          "metadata": {},
          "output_type": "execute_result"
        }
      ],
      "source": [
        "l[0]"
      ]
    },
    {
      "cell_type": "code",
      "execution_count": null,
      "metadata": {
        "id": "d-6UmotBAxNc",
        "outputId": "2131f2ef-a58b-4118-dde0-2983f4eeb3e4"
      },
      "outputs": [
        {
          "data": {
            "text/plain": [
              "'am'"
            ]
          },
          "execution_count": 69,
          "metadata": {},
          "output_type": "execute_result"
        }
      ],
      "source": [
        "l[1]"
      ]
    },
    {
      "cell_type": "code",
      "execution_count": null,
      "metadata": {
        "id": "VQKJlUfaAxNc",
        "outputId": "71c336bd-21a0-4ea3-f0d3-417b56803150"
      },
      "outputs": [
        {
          "data": {
            "text/plain": [
              "'working'"
            ]
          },
          "execution_count": 70,
          "metadata": {},
          "output_type": "execute_result"
        }
      ],
      "source": [
        "l[2]"
      ]
    },
    {
      "cell_type": "code",
      "execution_count": null,
      "metadata": {
        "id": "mpgXXgc7AxNc",
        "outputId": "16e26c5e-9ce6-4d36-df4e-88fc328f691b"
      },
      "outputs": [
        {
          "data": {
            "text/plain": [
              "['i', 'am', 'working']"
            ]
          },
          "execution_count": 71,
          "metadata": {},
          "output_type": "execute_result"
        }
      ],
      "source": [
        "l[0:3]"
      ]
    },
    {
      "cell_type": "code",
      "execution_count": null,
      "metadata": {
        "id": "VcBOW4-oAxNe",
        "outputId": "f357fbdc-cc9e-45f6-bd5a-d21ff9f4570f"
      },
      "outputs": [
        {
          "data": {
            "text/plain": [
              "['i am ', 'rking with ineuron']"
            ]
          },
          "execution_count": 75,
          "metadata": {},
          "output_type": "execute_result"
        }
      ],
      "source": [
        "a.split('wo')"
      ]
    },
    {
      "cell_type": "code",
      "execution_count": null,
      "metadata": {
        "id": "LBZLRhH0AxNg",
        "outputId": "7740722b-5499-4231-850b-0b5d98906c38"
      },
      "outputs": [
        {
          "data": {
            "text/plain": [
              "'i am working with ineuron'"
            ]
          },
          "execution_count": 73,
          "metadata": {},
          "output_type": "execute_result"
        }
      ],
      "source": [
        "a"
      ]
    },
    {
      "cell_type": "code",
      "execution_count": null,
      "metadata": {
        "id": "A5diVGILAxNh",
        "outputId": "b7f26df6-4cb6-4421-87ca-4112373d00c6"
      },
      "outputs": [
        {
          "data": {
            "text/plain": [
              "'i am working with ineuron'"
            ]
          },
          "execution_count": 76,
          "metadata": {},
          "output_type": "execute_result"
        }
      ],
      "source": [
        "a"
      ]
    },
    {
      "cell_type": "code",
      "execution_count": null,
      "metadata": {
        "id": "aIEUT5kuAxNh",
        "outputId": "e729baff-ff4c-4123-befa-ea134b22606a"
      },
      "outputs": [
        {
          "data": {
            "text/plain": [
              "'I AM WORKING WITH INEURON'"
            ]
          },
          "execution_count": 77,
          "metadata": {},
          "output_type": "execute_result"
        }
      ],
      "source": [
        "a.upper()"
      ]
    },
    {
      "cell_type": "code",
      "execution_count": null,
      "metadata": {
        "id": "XHw88dc0AxNi"
      },
      "outputs": [],
      "source": [
        "s = \"sUdh\""
      ]
    },
    {
      "cell_type": "code",
      "execution_count": null,
      "metadata": {
        "id": "G7CvprV9AxNi",
        "outputId": "7db3a903-d8ad-4264-8bfe-68095de09fba"
      },
      "outputs": [
        {
          "data": {
            "text/plain": [
              "'SuDH'"
            ]
          },
          "execution_count": 79,
          "metadata": {},
          "output_type": "execute_result"
        }
      ],
      "source": [
        "s.swapcase()"
      ]
    },
    {
      "cell_type": "code",
      "execution_count": null,
      "metadata": {
        "id": "zXJf5BErAxNi",
        "outputId": "0ce4d927-cda3-49da-8679-3bc7b7a0ea63"
      },
      "outputs": [
        {
          "data": {
            "text/plain": [
              "'Sudh'"
            ]
          },
          "execution_count": 80,
          "metadata": {},
          "output_type": "execute_result"
        }
      ],
      "source": [
        "s.title()"
      ]
    },
    {
      "cell_type": "code",
      "execution_count": null,
      "metadata": {
        "id": "zHCTVY0vAxNj",
        "outputId": "a3a0e2e5-d16c-4ae1-dfc7-f1d20281eb74"
      },
      "outputs": [
        {
          "data": {
            "text/plain": [
              "'Sudh'"
            ]
          },
          "execution_count": 81,
          "metadata": {},
          "output_type": "execute_result"
        }
      ],
      "source": [
        "s.capitalize()"
      ]
    },
    {
      "cell_type": "code",
      "execution_count": null,
      "metadata": {
        "id": "hQirs4I5AxNj"
      },
      "outputs": [],
      "source": [
        "b = \"sudh\"\n",
        "c = \"ineuron\""
      ]
    },
    {
      "cell_type": "code",
      "execution_count": null,
      "metadata": {
        "id": "KVHk_fGRAxNm",
        "outputId": "9ec536e9-5595-418e-a76b-45a0439cb51e"
      },
      "outputs": [
        {
          "data": {
            "text/plain": [
              "'isudhnsudhesudhusudhrsudhosudhn'"
            ]
          },
          "execution_count": 84,
          "metadata": {},
          "output_type": "execute_result"
        }
      ],
      "source": [
        "b.join(c)"
      ]
    },
    {
      "cell_type": "code",
      "execution_count": null,
      "metadata": {
        "id": "ypUz3-lhAxNm",
        "outputId": "f7eeab04-933e-4e49-d7a3-2e65cbacd1e1"
      },
      "outputs": [
        {
          "data": {
            "text/plain": [
              "'s u d h'"
            ]
          },
          "execution_count": 85,
          "metadata": {},
          "output_type": "execute_result"
        }
      ],
      "source": [
        "\" \".join(\"sudh\")"
      ]
    },
    {
      "cell_type": "code",
      "execution_count": null,
      "metadata": {
        "id": "7Ev3aoPKAxNn",
        "outputId": "1391d401-26ff-4eb1-a815-1e079ed26be5"
      },
      "outputs": [
        {
          "name": "stdout",
          "output_type": "stream",
          "text": [
            "h\n",
            "d\n",
            "u\n",
            "s\n"
          ]
        }
      ],
      "source": [
        "for i in reversed(\"sudh\"):\n",
        "    print(i)"
      ]
    },
    {
      "cell_type": "code",
      "execution_count": null,
      "metadata": {
        "id": "mLE-XPW0AxNo",
        "outputId": "9e292a6c-dcf0-4b74-cb1a-86f873fcc0d2"
      },
      "outputs": [
        {
          "data": {
            "text/plain": [
              "'hdus'"
            ]
          },
          "execution_count": 88,
          "metadata": {},
          "output_type": "execute_result"
        }
      ],
      "source": [
        "s= \"sudh\"\n",
        "s[::-1]"
      ]
    },
    {
      "cell_type": "code",
      "execution_count": null,
      "metadata": {
        "id": "z9WqYpHiAxNp"
      },
      "outputs": [],
      "source": [
        "s = \" sudh \""
      ]
    },
    {
      "cell_type": "code",
      "execution_count": null,
      "metadata": {
        "id": "0SeywQlaAxNq",
        "outputId": "3931e5a7-5e12-45b0-b7df-f206d6d640cc"
      },
      "outputs": [
        {
          "data": {
            "text/plain": [
              "' sudh'"
            ]
          },
          "execution_count": 91,
          "metadata": {},
          "output_type": "execute_result"
        }
      ],
      "source": [
        "s.rstrip()"
      ]
    },
    {
      "cell_type": "code",
      "execution_count": null,
      "metadata": {
        "id": "Gn0ZI6teAxNr",
        "outputId": "4489d654-a5b5-420d-8bd7-be66bd87f042"
      },
      "outputs": [
        {
          "data": {
            "text/plain": [
              "'sudh '"
            ]
          },
          "execution_count": 92,
          "metadata": {},
          "output_type": "execute_result"
        }
      ],
      "source": [
        "s.lstrip()"
      ]
    },
    {
      "cell_type": "code",
      "execution_count": null,
      "metadata": {
        "id": "cmVL0lv4AxNs",
        "outputId": "22f4e7d5-7a47-45e9-eee4-d39ed5ed0ec3"
      },
      "outputs": [
        {
          "data": {
            "text/plain": [
              "'sudh'"
            ]
          },
          "execution_count": 93,
          "metadata": {},
          "output_type": "execute_result"
        }
      ],
      "source": [
        "s.strip()"
      ]
    },
    {
      "cell_type": "code",
      "execution_count": null,
      "metadata": {
        "id": "5aUiApg1AxNs"
      },
      "outputs": [],
      "source": [
        "s = \"sudh\""
      ]
    },
    {
      "cell_type": "code",
      "execution_count": null,
      "metadata": {
        "id": "qcjjLjYyAxNt",
        "outputId": "72b2f69d-7880-41be-8e4f-8aa9c4d7c519"
      },
      "outputs": [
        {
          "data": {
            "text/plain": [
              "'sudh'"
            ]
          },
          "execution_count": 96,
          "metadata": {},
          "output_type": "execute_result"
        }
      ],
      "source": [
        "s.replace(\"t\" , \"xyz\")"
      ]
    },
    {
      "cell_type": "code",
      "execution_count": null,
      "metadata": {
        "id": "ri1rMbazAxNw",
        "outputId": "36980750-2501-4da9-aa0a-6f32f16619d4"
      },
      "outputs": [
        {
          "data": {
            "text/plain": [
              "'sudh    kumar'"
            ]
          },
          "execution_count": 97,
          "metadata": {},
          "output_type": "execute_result"
        }
      ],
      "source": [
        "\"sudh\\tkumar\".expandtabs()"
      ]
    },
    {
      "cell_type": "code",
      "execution_count": null,
      "metadata": {
        "id": "zz1P-PtWAxN3"
      },
      "outputs": [],
      "source": [
        "s= \"sudh\""
      ]
    },
    {
      "cell_type": "code",
      "execution_count": null,
      "metadata": {
        "id": "Jx9RCe5uAxN3",
        "outputId": "f9b25d72-a2f9-48f5-da6a-a4763a36ea2b"
      },
      "outputs": [
        {
          "data": {
            "text/plain": [
              "'##################sudh##################'"
            ]
          },
          "execution_count": 101,
          "metadata": {},
          "output_type": "execute_result"
        }
      ],
      "source": [
        "s.center(40 , '#')"
      ]
    },
    {
      "cell_type": "code",
      "execution_count": null,
      "metadata": {
        "id": "IGjQL2yeAxN4",
        "outputId": "d82323b8-af5f-4bb0-8085-b3a9b19bdb69"
      },
      "outputs": [
        {
          "data": {
            "text/plain": [
              "'      indians are the best in the world'"
            ]
          },
          "execution_count": 102,
          "metadata": {},
          "output_type": "execute_result"
        }
      ],
      "source": [
        "b=\"      indians are the best in the world\"\n",
        "b.strip(\"are\")\n"
      ]
    },
    {
      "cell_type": "code",
      "execution_count": null,
      "metadata": {
        "id": "OcvXKQJyAxN9",
        "outputId": "26b03e15-2366-4860-de8c-fa3892477476"
      },
      "outputs": [
        {
          "data": {
            "text/plain": [
              "'indians are the best in the world'"
            ]
          },
          "execution_count": 103,
          "metadata": {},
          "output_type": "execute_result"
        }
      ],
      "source": [
        "b=\"      indians are the best in the world\"\n",
        "b.strip()"
      ]
    },
    {
      "cell_type": "code",
      "execution_count": null,
      "metadata": {
        "id": "5XVGqsQ7AxN-"
      },
      "outputs": [],
      "source": [
        "s = \"SUDH\""
      ]
    },
    {
      "cell_type": "code",
      "execution_count": null,
      "metadata": {
        "id": "E23ZbogEAxN-",
        "outputId": "774ec957-1024-4295-b6ba-e6fedddc345b"
      },
      "outputs": [
        {
          "data": {
            "text/plain": [
              "True"
            ]
          },
          "execution_count": 109,
          "metadata": {},
          "output_type": "execute_result"
        }
      ],
      "source": [
        "s.isupper()"
      ]
    },
    {
      "cell_type": "code",
      "execution_count": null,
      "metadata": {
        "id": "VDkVIZ0AAxOB",
        "outputId": "b2620087-74cb-4af0-ab4a-50365f23b384"
      },
      "outputs": [
        {
          "data": {
            "text/plain": [
              "False"
            ]
          },
          "execution_count": 110,
          "metadata": {},
          "output_type": "execute_result"
        }
      ],
      "source": [
        "s.islower()"
      ]
    },
    {
      "cell_type": "code",
      "execution_count": null,
      "metadata": {
        "id": "x4bdHoSMAxOD"
      },
      "outputs": [],
      "source": []
    },
    {
      "cell_type": "code",
      "execution_count": null,
      "metadata": {
        "id": "fQf4nmoQAxOE"
      },
      "outputs": [],
      "source": [
        "s= \"     \""
      ]
    },
    {
      "cell_type": "code",
      "execution_count": null,
      "metadata": {
        "id": "ymI3qNkYAxOE",
        "outputId": "3683bc53-3b9f-43f8-96ce-79422b394cf1"
      },
      "outputs": [
        {
          "data": {
            "text/plain": [
              "True"
            ]
          },
          "execution_count": 115,
          "metadata": {},
          "output_type": "execute_result"
        }
      ],
      "source": [
        "s.isspace()"
      ]
    },
    {
      "cell_type": "code",
      "execution_count": null,
      "metadata": {
        "id": "LvS4nL7qAxOF"
      },
      "outputs": [],
      "source": [
        "s = \"43543\""
      ]
    },
    {
      "cell_type": "code",
      "execution_count": null,
      "metadata": {
        "id": "-jN9kmwUAxOF",
        "outputId": "546cced8-3892-4782-b6e4-3d4beebdd7c0"
      },
      "outputs": [
        {
          "data": {
            "text/plain": [
              "True"
            ]
          },
          "execution_count": 121,
          "metadata": {},
          "output_type": "execute_result"
        }
      ],
      "source": [
        "s.isdigit()"
      ]
    },
    {
      "cell_type": "code",
      "execution_count": null,
      "metadata": {
        "id": "YkZfKGSvAxOG"
      },
      "outputs": [],
      "source": [
        "s = \"sudh\""
      ]
    },
    {
      "cell_type": "code",
      "execution_count": null,
      "metadata": {
        "id": "wl6Y1XDRAxOG",
        "outputId": "827c0205-573b-4494-c4dd-b548e1f2b469"
      },
      "outputs": [
        {
          "data": {
            "text/plain": [
              "False"
            ]
          },
          "execution_count": 124,
          "metadata": {},
          "output_type": "execute_result"
        }
      ],
      "source": [
        "s.endswith('x')"
      ]
    },
    {
      "cell_type": "code",
      "execution_count": null,
      "metadata": {
        "id": "jmUkM8sVAxOG",
        "outputId": "a84bf5be-7a0b-4348-aaeb-56390c964d0e"
      },
      "outputs": [
        {
          "data": {
            "text/plain": [
              "True"
            ]
          },
          "execution_count": 126,
          "metadata": {},
          "output_type": "execute_result"
        }
      ],
      "source": [
        "s.startswith('s')"
      ]
    },
    {
      "cell_type": "code",
      "execution_count": null,
      "metadata": {
        "id": "Lo9bIHOmAxOH",
        "outputId": "a6604582-9206-46bd-d5f8-29fdcae1f8bc"
      },
      "outputs": [
        {
          "data": {
            "text/plain": [
              "False"
            ]
          },
          "execution_count": 127,
          "metadata": {},
          "output_type": "execute_result"
        }
      ],
      "source": [
        "s.istitle()"
      ]
    },
    {
      "cell_type": "code",
      "execution_count": null,
      "metadata": {
        "id": "p0i110jlAxOH",
        "outputId": "9962be60-d147-4101-f317-76e814259ccf"
      },
      "outputs": [
        {
          "data": {
            "text/plain": [
              "b'sudh'"
            ]
          },
          "execution_count": 130,
          "metadata": {},
          "output_type": "execute_result"
        }
      ],
      "source": [
        "s.encode()\n"
      ]
    },
    {
      "cell_type": "code",
      "execution_count": null,
      "metadata": {
        "id": "x0zrVP6sAxOH"
      },
      "outputs": [],
      "source": [
        "s = \"sdfsaf dsaf safasdf asdfsadfdas fadf dfa fadfa dsaf adfsa\""
      ]
    },
    {
      "cell_type": "code",
      "execution_count": null,
      "metadata": {
        "id": "xNqgrfshAxOI"
      },
      "outputs": [],
      "source": [
        "l = [\"sudh\" , \"kumar\" , 3543 , 4+6j , True , 345.56]"
      ]
    },
    {
      "cell_type": "code",
      "execution_count": null,
      "metadata": {
        "id": "wWabNteiAxOI",
        "outputId": "35dc805c-ba3b-4d4f-fcaa-e5217f34a43f"
      },
      "outputs": [
        {
          "data": {
            "text/plain": [
              "list"
            ]
          },
          "execution_count": 133,
          "metadata": {},
          "output_type": "execute_result"
        }
      ],
      "source": [
        "type(l)"
      ]
    },
    {
      "cell_type": "code",
      "execution_count": null,
      "metadata": {
        "id": "DV0lhxSEAxOI",
        "outputId": "18feba42-baf9-45a7-9226-f545a5aa3ee5"
      },
      "outputs": [
        {
          "data": {
            "text/plain": [
              "'sudh'"
            ]
          },
          "execution_count": 134,
          "metadata": {},
          "output_type": "execute_result"
        }
      ],
      "source": [
        "l[0]"
      ]
    },
    {
      "cell_type": "code",
      "execution_count": null,
      "metadata": {
        "id": "0CfP7VAUAxOI",
        "outputId": "e4d10b09-de48-41dd-ef92-2a56ba967ec2"
      },
      "outputs": [
        {
          "data": {
            "text/plain": [
              "345.56"
            ]
          },
          "execution_count": 135,
          "metadata": {},
          "output_type": "execute_result"
        }
      ],
      "source": [
        "l[-1]"
      ]
    },
    {
      "cell_type": "code",
      "execution_count": null,
      "metadata": {
        "id": "rhaStgpLAxOJ",
        "outputId": "2156c651-72a9-4326-a689-0f7c8e442a73"
      },
      "outputs": [
        {
          "data": {
            "text/plain": [
              "'kumar'"
            ]
          },
          "execution_count": 136,
          "metadata": {},
          "output_type": "execute_result"
        }
      ],
      "source": [
        "l[-5]"
      ]
    },
    {
      "cell_type": "code",
      "execution_count": null,
      "metadata": {
        "id": "xABUSLopAxOK",
        "outputId": "b59869dd-003a-440c-a44e-f4cf2ea1ab68"
      },
      "outputs": [
        {
          "data": {
            "text/plain": [
              "['sudh', 'kumar', 3543, (4+6j), True, 345.56]"
            ]
          },
          "execution_count": 137,
          "metadata": {},
          "output_type": "execute_result"
        }
      ],
      "source": [
        "l"
      ]
    },
    {
      "cell_type": "code",
      "execution_count": null,
      "metadata": {
        "id": "4uUI2Jo3AxOL",
        "outputId": "b45fb681-a8d6-40e2-ad83-538a45fc15bf"
      },
      "outputs": [
        {
          "data": {
            "text/plain": [
              "['sudh', 'kumar', 3543, (4+6j)]"
            ]
          },
          "execution_count": 138,
          "metadata": {},
          "output_type": "execute_result"
        }
      ],
      "source": [
        "l[0:4]"
      ]
    },
    {
      "cell_type": "code",
      "execution_count": null,
      "metadata": {
        "id": "c_pYcIRlAxOL",
        "outputId": "72f72d12-a0e3-40cd-aaa6-183244a014f8"
      },
      "outputs": [
        {
          "data": {
            "text/plain": [
              "[345.56, True, (4+6j), 3543, 'kumar', 'sudh']"
            ]
          },
          "execution_count": 139,
          "metadata": {},
          "output_type": "execute_result"
        }
      ],
      "source": [
        "l[::-1]"
      ]
    },
    {
      "cell_type": "code",
      "execution_count": null,
      "metadata": {
        "id": "EgTWF763AxOM",
        "outputId": "2b5a8466-8458-4973-8e9b-3c1cfdbdf16b"
      },
      "outputs": [
        {
          "data": {
            "text/plain": [
              "[345.56]"
            ]
          },
          "execution_count": 140,
          "metadata": {},
          "output_type": "execute_result"
        }
      ],
      "source": [
        "l[-1:6]"
      ]
    },
    {
      "cell_type": "code",
      "execution_count": null,
      "metadata": {
        "id": "1ju-QT_SAxOM",
        "outputId": "d6915796-9d9e-4630-8aaa-556325d6880e"
      },
      "outputs": [
        {
          "data": {
            "text/plain": [
              "str"
            ]
          },
          "execution_count": 142,
          "metadata": {},
          "output_type": "execute_result"
        }
      ],
      "source": [
        "type(l[0])"
      ]
    },
    {
      "cell_type": "code",
      "execution_count": null,
      "metadata": {
        "id": "0sEbFUlGAxOM",
        "outputId": "97217885-46d9-4b61-afd5-49c3456cf60c"
      },
      "outputs": [
        {
          "data": {
            "text/plain": [
              "bool"
            ]
          },
          "execution_count": 146,
          "metadata": {},
          "output_type": "execute_result"
        }
      ],
      "source": [
        "type(l[4])"
      ]
    },
    {
      "cell_type": "code",
      "execution_count": null,
      "metadata": {
        "id": "OpyC-JXxAxON",
        "outputId": "2516afe4-5b9f-4a16-cab2-1daa63e0b9cf"
      },
      "outputs": [
        {
          "data": {
            "text/plain": [
              "'u'"
            ]
          },
          "execution_count": 148,
          "metadata": {},
          "output_type": "execute_result"
        }
      ],
      "source": [
        "l[0][1]"
      ]
    },
    {
      "cell_type": "code",
      "execution_count": null,
      "metadata": {
        "id": "liUlSRK3AxOO",
        "outputId": "67a90a33-7e61-4661-b225-094cc1ac0718"
      },
      "outputs": [
        {
          "data": {
            "text/plain": [
              "6.0"
            ]
          },
          "execution_count": 151,
          "metadata": {},
          "output_type": "execute_result"
        }
      ],
      "source": [
        "l[3].imag"
      ]
    },
    {
      "cell_type": "code",
      "execution_count": null,
      "metadata": {
        "id": "5Qs4gYGQAxOP"
      },
      "outputs": [],
      "source": [
        "l1 = [\"sudh\" , \"kumar\" , 4356]\n",
        "l2 = [\"xyz\" , \"pqr\" , 546.567]"
      ]
    },
    {
      "cell_type": "code",
      "execution_count": null,
      "metadata": {
        "id": "ZwAdiqnyAxOR",
        "outputId": "730fda5c-fc58-4e11-8af0-ff4482b8e425"
      },
      "outputs": [
        {
          "data": {
            "text/plain": [
              "['sudh', 'kumar', 4356, 'xyz', 'pqr', 546.567]"
            ]
          },
          "execution_count": 153,
          "metadata": {},
          "output_type": "execute_result"
        }
      ],
      "source": [
        "l1+l2"
      ]
    },
    {
      "cell_type": "code",
      "execution_count": null,
      "metadata": {
        "id": "b_IObHb1AxOW",
        "outputId": "a59a89db-cfb2-4b51-8be6-36f5e74c78ad"
      },
      "outputs": [
        {
          "data": {
            "text/plain": [
              "['sudh', 'kumar', 4356, 'sudh']"
            ]
          },
          "execution_count": 154,
          "metadata": {},
          "output_type": "execute_result"
        }
      ],
      "source": [
        "l1 + [\"sudh\"]"
      ]
    },
    {
      "cell_type": "code",
      "execution_count": null,
      "metadata": {
        "id": "a_7G_CHyAxOW",
        "outputId": "7d75ee3f-e3d4-4176-8506-e3e8de959de2"
      },
      "outputs": [
        {
          "data": {
            "text/plain": [
              "['sudh', 'kumar', 4356, 'sudh', 'kumar', 4356]"
            ]
          },
          "execution_count": 156,
          "metadata": {},
          "output_type": "execute_result"
        }
      ],
      "source": [
        "l1*2"
      ]
    },
    {
      "cell_type": "code",
      "execution_count": null,
      "metadata": {
        "id": "Diqr70Z0AxOX",
        "outputId": "d1a1a8ee-1c51-4483-a392-4b56416de26f"
      },
      "outputs": [
        {
          "data": {
            "text/plain": [
              "['sudh', 'kumar', 4356]"
            ]
          },
          "execution_count": 157,
          "metadata": {},
          "output_type": "execute_result"
        }
      ],
      "source": [
        "l1"
      ]
    },
    {
      "cell_type": "code",
      "execution_count": null,
      "metadata": {
        "id": "pMSjHnxuAxOY"
      },
      "outputs": [],
      "source": [
        "l1[0] =4356455634564"
      ]
    },
    {
      "cell_type": "code",
      "execution_count": null,
      "metadata": {
        "id": "FabHnqGjAxOY",
        "outputId": "5303f0fc-5158-4027-e231-1f0cbc0571ed"
      },
      "outputs": [
        {
          "data": {
            "text/plain": [
              "[4356455634564, 'kumar', 4356]"
            ]
          },
          "execution_count": 165,
          "metadata": {},
          "output_type": "execute_result"
        }
      ],
      "source": [
        "l1"
      ]
    },
    {
      "cell_type": "code",
      "execution_count": null,
      "metadata": {
        "id": "dW74ilndAxOZ",
        "outputId": "9623716c-5de9-4b89-fa25-bac91915f64e"
      },
      "outputs": [
        {
          "data": {
            "text/plain": [
              "'kumar'"
            ]
          },
          "execution_count": 166,
          "metadata": {},
          "output_type": "execute_result"
        }
      ],
      "source": [
        "l1[1]"
      ]
    },
    {
      "cell_type": "code",
      "execution_count": null,
      "metadata": {
        "id": "0J3Egu_-AxOa"
      },
      "outputs": [],
      "source": [
        "s = \"sudh\""
      ]
    },
    {
      "cell_type": "code",
      "execution_count": null,
      "metadata": {
        "id": "-bA3wVSeAxOa",
        "outputId": "679571a3-dde3-4545-cbb6-0d0c1def770f"
      },
      "outputs": [
        {
          "ename": "TypeError",
          "evalue": "'str' object does not support item assignment",
          "output_type": "error",
          "traceback": [
            "\u001b[1;31m---------------------------------------------------------------------------\u001b[0m",
            "\u001b[1;31mTypeError\u001b[0m                                 Traceback (most recent call last)",
            "\u001b[1;32m<ipython-input-169-00de5ec5ca3c>\u001b[0m in \u001b[0;36m<module>\u001b[1;34m\u001b[0m\n\u001b[1;32m----> 1\u001b[1;33m \u001b[0ms\u001b[0m\u001b[1;33m[\u001b[0m\u001b[1;36m0\u001b[0m\u001b[1;33m]\u001b[0m \u001b[1;33m=\u001b[0m \u001b[1;34m\"k\"\u001b[0m\u001b[1;33m\u001b[0m\u001b[1;33m\u001b[0m\u001b[0m\n\u001b[0m",
            "\u001b[1;31mTypeError\u001b[0m: 'str' object does not support item assignment"
          ]
        }
      ],
      "source": [
        "s[0] = \"k\""
      ]
    },
    {
      "cell_type": "code",
      "execution_count": null,
      "metadata": {
        "id": "FDX20RjJAxOa",
        "outputId": "cb8c0860-77ff-4ac1-e832-104b20872d1f"
      },
      "outputs": [
        {
          "data": {
            "text/plain": [
              "[4356455634564, 'kumar', 4356]"
            ]
          },
          "execution_count": 170,
          "metadata": {},
          "output_type": "execute_result"
        }
      ],
      "source": [
        "l1"
      ]
    },
    {
      "cell_type": "code",
      "execution_count": null,
      "metadata": {
        "id": "EiR07s1bAxOb"
      },
      "outputs": [],
      "source": [
        "l[1] = \"sudh\""
      ]
    },
    {
      "cell_type": "code",
      "execution_count": null,
      "metadata": {
        "id": "4nT91fg5AxOb",
        "outputId": "4efe6e31-9f74-4043-ccc1-bed812a59a1d"
      },
      "outputs": [
        {
          "data": {
            "text/plain": [
              "'vudh'"
            ]
          },
          "execution_count": 172,
          "metadata": {},
          "output_type": "execute_result"
        }
      ],
      "source": [
        "s.replace('s','v')"
      ]
    },
    {
      "cell_type": "code",
      "execution_count": null,
      "metadata": {
        "id": "N4Uoc3_yAxOc",
        "outputId": "1666cd46-8eb8-46db-8e3b-ff4ad2647925"
      },
      "outputs": [
        {
          "data": {
            "text/plain": [
              "'sudh'"
            ]
          },
          "execution_count": 173,
          "metadata": {},
          "output_type": "execute_result"
        }
      ],
      "source": [
        "s"
      ]
    },
    {
      "cell_type": "code",
      "execution_count": null,
      "metadata": {
        "id": "y8q3xtnpAxOc",
        "outputId": "73ed2f35-6b36-4d5a-e0ae-bb8f75b45a89"
      },
      "outputs": [
        {
          "ename": "TypeError",
          "evalue": "'str' object does not support item assignment",
          "output_type": "error",
          "traceback": [
            "\u001b[1;31m---------------------------------------------------------------------------\u001b[0m",
            "\u001b[1;31mTypeError\u001b[0m                                 Traceback (most recent call last)",
            "\u001b[1;32m<ipython-input-174-3868546884ef>\u001b[0m in \u001b[0;36m<module>\u001b[1;34m\u001b[0m\n\u001b[1;32m----> 1\u001b[1;33m \u001b[0ms\u001b[0m\u001b[1;33m[\u001b[0m\u001b[1;36m0\u001b[0m\u001b[1;33m]\u001b[0m \u001b[1;33m=\u001b[0m \u001b[1;34m'v'\u001b[0m\u001b[1;33m\u001b[0m\u001b[1;33m\u001b[0m\u001b[0m\n\u001b[0m",
            "\u001b[1;31mTypeError\u001b[0m: 'str' object does not support item assignment"
          ]
        }
      ],
      "source": [
        "s[0] = 'v'"
      ]
    },
    {
      "cell_type": "code",
      "execution_count": null,
      "metadata": {
        "id": "Z6KU5bUOAxOc",
        "outputId": "668b9f05-8f3d-4c33-ceeb-c38847902b6a"
      },
      "outputs": [
        {
          "data": {
            "text/plain": [
              "[4356455634564, 'kumar', 4356]"
            ]
          },
          "execution_count": 175,
          "metadata": {},
          "output_type": "execute_result"
        }
      ],
      "source": [
        "l1"
      ]
    },
    {
      "cell_type": "code",
      "execution_count": null,
      "metadata": {
        "id": "j-ec3PfTAxOd",
        "outputId": "8932ee68-a717-4718-9828-c214836eb475"
      },
      "outputs": [
        {
          "data": {
            "text/plain": [
              "3"
            ]
          },
          "execution_count": 176,
          "metadata": {},
          "output_type": "execute_result"
        }
      ],
      "source": [
        "len(l1)"
      ]
    },
    {
      "cell_type": "code",
      "execution_count": null,
      "metadata": {
        "id": "dotn0iuZAxOd",
        "outputId": "9dd055e1-a53a-4f57-e907-84af07494c27"
      },
      "outputs": [
        {
          "data": {
            "text/plain": [
              "False"
            ]
          },
          "execution_count": 178,
          "metadata": {},
          "output_type": "execute_result"
        }
      ],
      "source": [
        " 345 in l1"
      ]
    },
    {
      "cell_type": "code",
      "execution_count": null,
      "metadata": {
        "id": "GjzeN1gOAxOd",
        "outputId": "ae4f142a-7814-49d4-cef8-32bd0c8df3c0"
      },
      "outputs": [
        {
          "data": {
            "text/plain": [
              "[(5+8j)]"
            ]
          },
          "execution_count": 180,
          "metadata": {},
          "output_type": "execute_result"
        }
      ],
      "source": [
        "l = ['okay','kumar', 78,45,789,5.5,True, 5+8j]\n",
        "l[-1:6:-1]\n"
      ]
    },
    {
      "cell_type": "code",
      "execution_count": null,
      "metadata": {
        "id": "Gzr0mlQsAxOe",
        "outputId": "6f111ce2-f741-47f5-94cf-a566ce5b8bdd"
      },
      "outputs": [
        {
          "data": {
            "text/plain": [
              "['xyz', 'pqr', 546.567]"
            ]
          },
          "execution_count": 181,
          "metadata": {},
          "output_type": "execute_result"
        }
      ],
      "source": [
        "l2 "
      ]
    },
    {
      "cell_type": "code",
      "execution_count": null,
      "metadata": {
        "id": "oGMwiIziAxOf"
      },
      "outputs": [],
      "source": [
        "l2.append(\"sudh\")"
      ]
    },
    {
      "cell_type": "code",
      "execution_count": null,
      "metadata": {
        "id": "Safi_aDwAxOf",
        "outputId": "956fdd78-2754-4ceb-888c-d6f659bb6c80"
      },
      "outputs": [
        {
          "data": {
            "text/plain": [
              "['xyz', 'pqr', 546.567, 'sudh']"
            ]
          },
          "execution_count": 183,
          "metadata": {},
          "output_type": "execute_result"
        }
      ],
      "source": [
        "l2"
      ]
    },
    {
      "cell_type": "code",
      "execution_count": null,
      "metadata": {
        "id": "XxjtWp5WAxOh",
        "outputId": "5217a5dd-eefc-462a-89d5-df6e48d01f96"
      },
      "outputs": [
        {
          "data": {
            "text/plain": [
              "'sudh'"
            ]
          },
          "execution_count": 184,
          "metadata": {},
          "output_type": "execute_result"
        }
      ],
      "source": [
        "l2.pop()"
      ]
    },
    {
      "cell_type": "code",
      "execution_count": null,
      "metadata": {
        "id": "ELYmfQtMAxOk",
        "outputId": "04f897c4-ed62-45f7-93bc-148e15577a93"
      },
      "outputs": [
        {
          "ename": "IndexError",
          "evalue": "pop index out of range",
          "output_type": "error",
          "traceback": [
            "\u001b[1;31m---------------------------------------------------------------------------\u001b[0m",
            "\u001b[1;31mIndexError\u001b[0m                                Traceback (most recent call last)",
            "\u001b[1;32m<ipython-input-185-e4fec1d81b7d>\u001b[0m in \u001b[0;36m<module>\u001b[1;34m\u001b[0m\n\u001b[1;32m----> 1\u001b[1;33m \u001b[0ml2\u001b[0m\u001b[1;33m.\u001b[0m\u001b[0mpop\u001b[0m\u001b[1;33m(\u001b[0m\u001b[1;36m3\u001b[0m\u001b[1;33m)\u001b[0m\u001b[1;33m\u001b[0m\u001b[1;33m\u001b[0m\u001b[0m\n\u001b[0m",
            "\u001b[1;31mIndexError\u001b[0m: pop index out of range"
          ]
        }
      ],
      "source": [
        "l2.pop(3)"
      ]
    },
    {
      "cell_type": "code",
      "execution_count": null,
      "metadata": {
        "id": "V8KvhYoPAxOk",
        "outputId": "7ad1a6dc-57c0-4dba-fe7c-8a68ca9d1971"
      },
      "outputs": [
        {
          "data": {
            "text/plain": [
              "546.567"
            ]
          },
          "execution_count": 186,
          "metadata": {},
          "output_type": "execute_result"
        }
      ],
      "source": [
        "l2.pop(2)"
      ]
    },
    {
      "cell_type": "code",
      "execution_count": null,
      "metadata": {
        "id": "G9jLU2vgAxOl",
        "outputId": "1a0c9050-bdfc-429c-9635-6eab172d45eb"
      },
      "outputs": [
        {
          "data": {
            "text/plain": [
              "['xyz', 'pqr']"
            ]
          },
          "execution_count": 187,
          "metadata": {},
          "output_type": "execute_result"
        }
      ],
      "source": [
        "l2"
      ]
    },
    {
      "cell_type": "code",
      "execution_count": null,
      "metadata": {
        "id": "aTQcqYzaAxOl",
        "outputId": "9c7f32ec-a536-4cca-b6c5-4ba3d717a552"
      },
      "outputs": [
        {
          "data": {
            "text/plain": [
              "['xyz', 'pqr']"
            ]
          },
          "execution_count": 188,
          "metadata": {},
          "output_type": "execute_result"
        }
      ],
      "source": [
        "l2"
      ]
    },
    {
      "cell_type": "code",
      "execution_count": null,
      "metadata": {
        "id": "SlNOy6zKAxOl"
      },
      "outputs": [],
      "source": [
        "l2.append(345435)"
      ]
    },
    {
      "cell_type": "code",
      "execution_count": null,
      "metadata": {
        "id": "bdwsWcg3AxOm",
        "outputId": "2354fec8-5ce1-4875-d8d8-c41a36934689"
      },
      "outputs": [
        {
          "data": {
            "text/plain": [
              "['xyz', 'pqr', 345435]"
            ]
          },
          "execution_count": 190,
          "metadata": {},
          "output_type": "execute_result"
        }
      ],
      "source": [
        "l2"
      ]
    },
    {
      "cell_type": "code",
      "execution_count": null,
      "metadata": {
        "id": "4NYqeSvUAxOm"
      },
      "outputs": [],
      "source": [
        "l2.insert(1,\"dsgadfgda\")"
      ]
    },
    {
      "cell_type": "code",
      "execution_count": null,
      "metadata": {
        "id": "VgNMBK-YAxOm",
        "outputId": "1a4423ff-ed85-4423-f49a-bc87085f4938"
      },
      "outputs": [
        {
          "data": {
            "text/plain": [
              "['xyz', 'dsgadfgda', 'pqr', 345435]"
            ]
          },
          "execution_count": 192,
          "metadata": {},
          "output_type": "execute_result"
        }
      ],
      "source": [
        "l2"
      ]
    },
    {
      "cell_type": "code",
      "execution_count": null,
      "metadata": {
        "id": "8dfnDfsgAxOm"
      },
      "outputs": [],
      "source": [
        "l2.insert(3,[34,45,56,576,67])"
      ]
    },
    {
      "cell_type": "code",
      "execution_count": null,
      "metadata": {
        "id": "vDTOCp2tAxOn",
        "outputId": "3d46509d-f505-4c24-a4ee-9423d0a48f94"
      },
      "outputs": [
        {
          "data": {
            "text/plain": [
              "['xyz', 'dsgadfgda', 'pqr', [34, 45, 56, 576, 67], 345435]"
            ]
          },
          "execution_count": 194,
          "metadata": {},
          "output_type": "execute_result"
        }
      ],
      "source": [
        "l2"
      ]
    },
    {
      "cell_type": "code",
      "execution_count": null,
      "metadata": {
        "id": "qR4n55DdAxOn",
        "outputId": "fcacef5f-5a42-45e5-c680-bdb804b6174d"
      },
      "outputs": [
        {
          "data": {
            "text/plain": [
              "['xyz', 'dsgadfgda', 'pqr', [34, 45, 56, 576, 67], 345435]"
            ]
          },
          "execution_count": 195,
          "metadata": {},
          "output_type": "execute_result"
        }
      ],
      "source": [
        "l2"
      ]
    },
    {
      "cell_type": "code",
      "execution_count": null,
      "metadata": {
        "id": "pVM1HDwmAxOn",
        "outputId": "791b0a46-a1eb-4fd2-b9b6-ad526c1fc06e"
      },
      "outputs": [
        {
          "data": {
            "text/plain": [
              "[345435, [34, 45, 56, 576, 67], 'pqr', 'dsgadfgda', 'xyz']"
            ]
          },
          "execution_count": 196,
          "metadata": {},
          "output_type": "execute_result"
        }
      ],
      "source": [
        "l2[::-1]"
      ]
    },
    {
      "cell_type": "code",
      "execution_count": null,
      "metadata": {
        "id": "xDY0usCRAxOo"
      },
      "outputs": [],
      "source": [
        "l2.reverse()"
      ]
    },
    {
      "cell_type": "code",
      "execution_count": null,
      "metadata": {
        "id": "eTOuXb4SAxOo",
        "outputId": "731d0807-0f4b-4606-a56b-f2d8de8ae6bf"
      },
      "outputs": [
        {
          "data": {
            "text/plain": [
              "[345435, [34, 45, 56, 576, 67], 'pqr', 'dsgadfgda', 'xyz']"
            ]
          },
          "execution_count": 198,
          "metadata": {},
          "output_type": "execute_result"
        }
      ],
      "source": [
        "l2"
      ]
    },
    {
      "cell_type": "code",
      "execution_count": null,
      "metadata": {
        "id": "7kCRLUf_AxOo",
        "outputId": "579e2207-8645-4f92-eed4-b3e4053bc035"
      },
      "outputs": [
        {
          "data": {
            "text/plain": [
              "[4356455634564, 'kumar', 4356]"
            ]
          },
          "execution_count": 199,
          "metadata": {},
          "output_type": "execute_result"
        }
      ],
      "source": [
        "l1"
      ]
    },
    {
      "cell_type": "code",
      "execution_count": null,
      "metadata": {
        "id": "V1QjBVbFAxOp",
        "outputId": "fd9c8128-4aea-4026-aec0-39ed7b1b8d66"
      },
      "outputs": [
        {
          "data": {
            "text/plain": [
              "[345435, [34, 45, 56, 576, 67], 'pqr', 'dsgadfgda', 'xyz']"
            ]
          },
          "execution_count": 200,
          "metadata": {},
          "output_type": "execute_result"
        }
      ],
      "source": [
        "l2"
      ]
    },
    {
      "cell_type": "code",
      "execution_count": null,
      "metadata": {
        "id": "6bVLJgxxAxOp",
        "outputId": "9afc4bd7-da6a-4cf3-bd79-9611d1cf4dd6"
      },
      "outputs": [
        {
          "data": {
            "text/plain": [
              "56"
            ]
          },
          "execution_count": 202,
          "metadata": {},
          "output_type": "execute_result"
        }
      ],
      "source": [
        "l2[1][2]"
      ]
    },
    {
      "cell_type": "code",
      "execution_count": null,
      "metadata": {
        "id": "iNkVdbVWAxOp",
        "outputId": "c6d99e31-11df-4660-f8de-f7c0cd7255e2"
      },
      "outputs": [
        {
          "data": {
            "text/plain": [
              "56"
            ]
          },
          "execution_count": 204,
          "metadata": {},
          "output_type": "execute_result"
        }
      ],
      "source": [
        "l2[1][2]"
      ]
    },
    {
      "cell_type": "code",
      "execution_count": null,
      "metadata": {
        "id": "REO1fFQEAxOp",
        "outputId": "5ab6e107-4736-4886-e096-ac3d543f593f"
      },
      "outputs": [
        {
          "data": {
            "text/plain": [
              "[345435, [34, 45, 56, 576, 67], 'pqr', 'dsgadfgda', 'xyz']"
            ]
          },
          "execution_count": 205,
          "metadata": {},
          "output_type": "execute_result"
        }
      ],
      "source": [
        "l2"
      ]
    },
    {
      "cell_type": "code",
      "execution_count": null,
      "metadata": {
        "id": "GOc_XCj_AxOq",
        "outputId": "cd6ddb40-716e-4527-b757-988b106cc623"
      },
      "outputs": [
        {
          "data": {
            "text/plain": [
              "0"
            ]
          },
          "execution_count": 207,
          "metadata": {},
          "output_type": "execute_result"
        }
      ],
      "source": [
        "l2.count('xfddsfsfyz')"
      ]
    },
    {
      "cell_type": "code",
      "execution_count": null,
      "metadata": {
        "id": "xcQ4UgZ6AxOq"
      },
      "outputs": [],
      "source": [
        "l2.append(\"dssafasf\")"
      ]
    },
    {
      "cell_type": "code",
      "execution_count": null,
      "metadata": {
        "id": "mSCJUXKTAxOr",
        "outputId": "ad46a8bb-e75b-449d-ca05-39ce6f91e990"
      },
      "outputs": [
        {
          "data": {
            "text/plain": [
              "[345435, [34, 45, 56, 576, 67], 'pqr', 'dsgadfgda', 'xyz', 'dssafasf']"
            ]
          },
          "execution_count": 209,
          "metadata": {},
          "output_type": "execute_result"
        }
      ],
      "source": [
        "l2"
      ]
    },
    {
      "cell_type": "code",
      "execution_count": null,
      "metadata": {
        "id": "IpJikdfrAxOr"
      },
      "outputs": [],
      "source": [
        "l2.append([3,4,54,6])"
      ]
    },
    {
      "cell_type": "code",
      "execution_count": null,
      "metadata": {
        "id": "7s4tq7etAxOs",
        "outputId": "1236fee7-7740-4034-8b49-1124e878f429"
      },
      "outputs": [
        {
          "data": {
            "text/plain": [
              "[345435,\n",
              " [34, 45, 56, 576, 67],\n",
              " 'pqr',\n",
              " 'dsgadfgda',\n",
              " 'xyz',\n",
              " 'dssafasf',\n",
              " [3, 4, 54, 6]]"
            ]
          },
          "execution_count": 211,
          "metadata": {},
          "output_type": "execute_result"
        }
      ],
      "source": [
        "l2"
      ]
    },
    {
      "cell_type": "code",
      "execution_count": null,
      "metadata": {
        "id": "LsjnVxqrAxOt",
        "outputId": "ae87e27d-ed50-44d6-80c6-5b13bf4301ff"
      },
      "outputs": [
        {
          "data": {
            "text/plain": [
              "[4356455634564, 'kumar', 4356]"
            ]
          },
          "execution_count": 212,
          "metadata": {},
          "output_type": "execute_result"
        }
      ],
      "source": [
        "l1"
      ]
    },
    {
      "cell_type": "code",
      "execution_count": null,
      "metadata": {
        "id": "3PwB2CVOAxOt"
      },
      "outputs": [],
      "source": [
        "l1.extend([2,54,656, \"sdfs\"])"
      ]
    },
    {
      "cell_type": "code",
      "execution_count": null,
      "metadata": {
        "id": "mSwQwGiYAxOt",
        "outputId": "fa69eca9-8440-46bd-f4ea-c7f046cb3786"
      },
      "outputs": [
        {
          "data": {
            "text/plain": [
              "[4356455634564, 'kumar', 4356, 2, 54, 656, 'sdfs']"
            ]
          },
          "execution_count": 214,
          "metadata": {},
          "output_type": "execute_result"
        }
      ],
      "source": [
        "l1\n"
      ]
    },
    {
      "cell_type": "code",
      "execution_count": null,
      "metadata": {
        "id": "BF3h0dcgAxOu",
        "outputId": "3330f1a6-ca68-4e14-9186-d53efb6f786d"
      },
      "outputs": [
        {
          "name": "stdout",
          "output_type": "stream",
          "text": [
            "None\n"
          ]
        }
      ],
      "source": [
        "print(l2.reverse())\n"
      ]
    },
    {
      "cell_type": "code",
      "execution_count": null,
      "metadata": {
        "id": "pS7-EnvYAxOu",
        "outputId": "38777766-59f6-4605-f69b-623e68a81640"
      },
      "outputs": [
        {
          "data": {
            "text/plain": [
              "[43, 4343, 'sudh']"
            ]
          },
          "execution_count": 216,
          "metadata": {},
          "output_type": "execute_result"
        }
      ],
      "source": [
        "l1=[43,4343]\n",
        "l1+list('sudh')\n",
        "l1+['sudh']\n"
      ]
    },
    {
      "cell_type": "code",
      "execution_count": null,
      "metadata": {
        "id": "0TQ0lV24AxOv",
        "outputId": "406a9aa6-bfd5-446f-99ff-57e47a6507cc"
      },
      "outputs": [
        {
          "data": {
            "text/plain": [
              "['s', 'u', 'd', 'h']"
            ]
          },
          "execution_count": 217,
          "metadata": {},
          "output_type": "execute_result"
        }
      ],
      "source": [
        "list(\"sudh\")"
      ]
    },
    {
      "cell_type": "code",
      "execution_count": null,
      "metadata": {
        "id": "Z8OkHGaHAxOv",
        "outputId": "55fa30f2-9180-46a8-f29d-a2b976e14022"
      },
      "outputs": [
        {
          "data": {
            "text/plain": [
              "False"
            ]
          },
          "execution_count": 220,
          "metadata": {},
          "output_type": "execute_result"
        }
      ],
      "source": [
        "s.endswith(\"\")\n"
      ]
    },
    {
      "cell_type": "code",
      "execution_count": null,
      "metadata": {
        "id": "6FdR7cxOAxOw",
        "outputId": "9dfd5aef-037b-40db-feac-fc9619b7efe4"
      },
      "outputs": [
        {
          "data": {
            "text/plain": [
              "'sudh'"
            ]
          },
          "execution_count": 221,
          "metadata": {},
          "output_type": "execute_result"
        }
      ],
      "source": [
        "s"
      ]
    },
    {
      "cell_type": "code",
      "execution_count": null,
      "metadata": {
        "id": "VxjRqkugAxOw"
      },
      "outputs": [],
      "source": [
        "l = [\"sudh \" , 345,4354353,4353]"
      ]
    },
    {
      "cell_type": "code",
      "execution_count": null,
      "metadata": {
        "id": "TSmAZRI6AxOx"
      },
      "outputs": [],
      "source": [
        "l.append(\"kumar\")"
      ]
    },
    {
      "cell_type": "code",
      "execution_count": null,
      "metadata": {
        "id": "nmeitR7nAxOy",
        "outputId": "df5f578e-5fcb-47b5-b4b4-9e64f6a7dd74"
      },
      "outputs": [
        {
          "data": {
            "text/plain": [
              "['sudh ', 345, 4354353, 4353, 'kumar']"
            ]
          },
          "execution_count": 224,
          "metadata": {},
          "output_type": "execute_result"
        }
      ],
      "source": [
        "l"
      ]
    },
    {
      "cell_type": "code",
      "execution_count": null,
      "metadata": {
        "id": "gR7QCjDGAxO0"
      },
      "outputs": [],
      "source": [
        "l.append([2,3,4,5,6])"
      ]
    },
    {
      "cell_type": "code",
      "execution_count": null,
      "metadata": {
        "id": "HqnPPPlvAxO1",
        "outputId": "9fb2ab8b-b235-4ba1-cf42-4eaa0cdad4a2"
      },
      "outputs": [
        {
          "data": {
            "text/plain": [
              "['sudh ', 345, 4354353, 4353, 'kumar', [2, 3, 4, 5, 6]]"
            ]
          },
          "execution_count": 226,
          "metadata": {},
          "output_type": "execute_result"
        }
      ],
      "source": [
        "l"
      ]
    },
    {
      "cell_type": "code",
      "execution_count": null,
      "metadata": {
        "id": "WkF0cJoxAxO1"
      },
      "outputs": [],
      "source": [
        "l.extend([1,2,3,4])"
      ]
    },
    {
      "cell_type": "code",
      "execution_count": null,
      "metadata": {
        "id": "t_n_rL6uAxO1",
        "outputId": "580a3bbe-ec51-4168-ff10-c302de42412f"
      },
      "outputs": [
        {
          "data": {
            "text/plain": [
              "['sudh ',\n",
              " 345,\n",
              " 4354353,\n",
              " 4353,\n",
              " 'kumar',\n",
              " [2, 3, 4, 5, 6],\n",
              " 's',\n",
              " 'u',\n",
              " 's',\n",
              " 'd',\n",
              " 'f',\n",
              " 's',\n",
              " 'f',\n",
              " 1,\n",
              " 2,\n",
              " 3,\n",
              " 4]"
            ]
          },
          "execution_count": 231,
          "metadata": {},
          "output_type": "execute_result"
        }
      ],
      "source": [
        "l"
      ]
    },
    {
      "cell_type": "code",
      "execution_count": null,
      "metadata": {
        "id": "uAagMYhYAxO2",
        "outputId": "32c6668e-c728-4ae3-afd3-1569b47ff97c"
      },
      "outputs": [
        {
          "data": {
            "text/plain": [
              "[2, 3, 4, 4, 5, 76, 4, 5, 6, 77]"
            ]
          },
          "execution_count": 232,
          "metadata": {},
          "output_type": "execute_result"
        }
      ],
      "source": [
        "[2,3,4,4,5,76]  + [4,5,6,77]"
      ]
    },
    {
      "cell_type": "code",
      "execution_count": null,
      "metadata": {
        "id": "R_3cM3ypAxO2",
        "outputId": "375e7f59-b921-4812-9101-412088080c9f"
      },
      "outputs": [
        {
          "data": {
            "text/plain": [
              "['fdsaffsafsafd afsa saf asdfa sdsaf afsad ']"
            ]
          },
          "execution_count": 236,
          "metadata": {},
          "output_type": "execute_result"
        }
      ],
      "source": [
        "\"fdsaffsafsafd afsa saf asdfa sdsaf afsad \".split('&')"
      ]
    },
    {
      "cell_type": "code",
      "execution_count": null,
      "metadata": {
        "id": "Pfd77pf9AxO2",
        "outputId": "2dcf8427-068b-462d-fe6d-22197cfc9be9"
      },
      "outputs": [
        {
          "data": {
            "text/plain": [
              "(3+4j)"
            ]
          },
          "execution_count": 237,
          "metadata": {},
          "output_type": "execute_result"
        }
      ],
      "source": [
        "3 +4j"
      ]
    },
    {
      "cell_type": "code",
      "execution_count": null,
      "metadata": {
        "id": "nza_bhnsAxO3",
        "outputId": "debe5b12-57fc-4b41-c25d-5c8caf42b814"
      },
      "outputs": [
        {
          "data": {
            "text/plain": [
              "[345.6]"
            ]
          },
          "execution_count": 239,
          "metadata": {},
          "output_type": "execute_result"
        }
      ],
      "source": [
        "L=['sudh', 'kumar', 3543, 4+6j, True, 345.6]\n",
        "L[-1:6]\n"
      ]
    },
    {
      "cell_type": "code",
      "execution_count": null,
      "metadata": {
        "id": "BrzucktiAxO3"
      },
      "outputs": [],
      "source": []
    },
    {
      "cell_type": "code",
      "execution_count": null,
      "metadata": {
        "id": "ywWd9ODsAxO3",
        "outputId": "fb90001b-b2f8-49a3-936f-a6056cd0814d"
      },
      "outputs": [
        {
          "data": {
            "text/plain": [
              "'dfdasfasfda     safasf          fadsfsafdsaf    '"
            ]
          },
          "execution_count": 240,
          "metadata": {},
          "output_type": "execute_result"
        }
      ],
      "source": [
        "\"dfdasfasfda\\tsafasf\\t\\tfadsfsafdsaf\\t\".expandtabs()"
      ]
    },
    {
      "cell_type": "code",
      "execution_count": null,
      "metadata": {
        "id": "45tnBjCfAxO3",
        "outputId": "ff0b5310-fc13-484d-cfa8-f3dcba331bc2"
      },
      "outputs": [
        {
          "ename": "SyntaxError",
          "evalue": "invalid syntax (<ipython-input-241-fef3cd6af93b>, line 3)",
          "output_type": "error",
          "traceback": [
            "\u001b[1;36m  File \u001b[1;32m\"<ipython-input-241-fef3cd6af93b>\"\u001b[1;36m, line \u001b[1;32m3\u001b[0m\n\u001b[1;33m    a[0:-10:-1] gives blank but a[0:-100:-1] gives ‘I’\u001b[0m\n\u001b[1;37m                ^\u001b[0m\n\u001b[1;31mSyntaxError\u001b[0m\u001b[1;31m:\u001b[0m invalid syntax\n"
          ]
        }
      ],
      "source": [
        "a = \"I am working in ineuron\"\n",
        "\n",
        "a[0:-10:-1] gives blank but a[0:-100:-1] gives ‘I’\n",
        "Can you please explain this?\n"
      ]
    },
    {
      "cell_type": "code",
      "execution_count": null,
      "metadata": {
        "id": "tj5XY48aAxO4"
      },
      "outputs": [],
      "source": [
        "a = \"I am working in ineuron\""
      ]
    },
    {
      "cell_type": "code",
      "execution_count": null,
      "metadata": {
        "id": "D_lYiouDAxO4",
        "outputId": "a95e683f-e33f-47fb-8118-208bce190ff1"
      },
      "outputs": [
        {
          "data": {
            "text/plain": [
              "''"
            ]
          },
          "execution_count": 243,
          "metadata": {},
          "output_type": "execute_result"
        }
      ],
      "source": [
        "a[0:-10:-1]"
      ]
    },
    {
      "cell_type": "code",
      "execution_count": null,
      "metadata": {
        "id": "TNvzQJTmAxO4",
        "outputId": "96dc3727-959e-4f2a-fe9b-ad21a14a3590"
      },
      "outputs": [
        {
          "data": {
            "text/plain": [
              "'I'"
            ]
          },
          "execution_count": 245,
          "metadata": {},
          "output_type": "execute_result"
        }
      ],
      "source": [
        "a[0:-100:-1]"
      ]
    },
    {
      "cell_type": "code",
      "execution_count": null,
      "metadata": {
        "id": "51Yh8YjgAxO5",
        "outputId": "c2201d75-6489-4f08-aa9f-eb5261cceb78"
      },
      "outputs": [
        {
          "data": {
            "text/plain": [
              "'I'"
            ]
          },
          "execution_count": 246,
          "metadata": {},
          "output_type": "execute_result"
        }
      ],
      "source": [
        "a[0::-1]"
      ]
    },
    {
      "cell_type": "code",
      "execution_count": null,
      "metadata": {
        "id": "Z4Q_ryKRAxO5"
      },
      "outputs": [],
      "source": [
        "l2=['prweu', 5345]\n",
        "l3=l2\n",
        "l3[0]='newatl3'\n",
        "print(l3)\n",
        "print(l2)\n",
        "o/p ['newatl3', 5345]\n",
        "o/p ['newatl3', 5345] \n",
        "why it has changed l2?\n",
        "\n",
        "\n",
        "s1='sudh'\n",
        "s2=s1\n",
        "s2='newdata'\n",
        "print(s1)                 in this case why it has not changed s1?\n",
        "print(s2)\n",
        "'sudh'\n",
        "'newdata'\n"
      ]
    },
    {
      "cell_type": "code",
      "execution_count": null,
      "metadata": {
        "id": "3pWw6_CHAxO5"
      },
      "outputs": [],
      "source": [
        "l2=['prweu', 5345]\n",
        "l3=l2"
      ]
    },
    {
      "cell_type": "code",
      "execution_count": null,
      "metadata": {
        "id": "G2wTnAERAxO6",
        "outputId": "4b7eafe0-6d16-4306-ecd7-684abfe4597e"
      },
      "outputs": [
        {
          "data": {
            "text/plain": [
              "['sudh', 5345]"
            ]
          },
          "execution_count": 259,
          "metadata": {},
          "output_type": "execute_result"
        }
      ],
      "source": [
        "l2"
      ]
    },
    {
      "cell_type": "code",
      "execution_count": null,
      "metadata": {
        "id": "RicMKmHHAxO6",
        "outputId": "6577d634-e578-4f13-c058-bce119a5853b"
      },
      "outputs": [
        {
          "data": {
            "text/plain": [
              "['dsfdsafsa', 5, 6, 7, 7]"
            ]
          },
          "execution_count": 260,
          "metadata": {},
          "output_type": "execute_result"
        }
      ],
      "source": [
        "l3"
      ]
    },
    {
      "cell_type": "code",
      "execution_count": null,
      "metadata": {
        "id": "t38C_v_hAxO6"
      },
      "outputs": [],
      "source": [
        "l3 = [4,5,6,7,7]"
      ]
    },
    {
      "cell_type": "code",
      "execution_count": null,
      "metadata": {
        "id": "3ZZCXOHnAxO6"
      },
      "outputs": [],
      "source": [
        "l3[0] = \"dsfdsafsa\""
      ]
    },
    {
      "cell_type": "code",
      "execution_count": null,
      "metadata": {
        "id": "fcBKiB1lAxO7"
      },
      "outputs": [],
      "source": [
        "l3[0] = \"sudh\""
      ]
    },
    {
      "cell_type": "code",
      "execution_count": null,
      "metadata": {
        "id": "CHFK2MtyAxO7",
        "outputId": "30c1142b-c249-47ac-a9b7-08cc85519007"
      },
      "outputs": [
        {
          "data": {
            "text/plain": [
              "['sudh', 5345]"
            ]
          },
          "execution_count": 250,
          "metadata": {},
          "output_type": "execute_result"
        }
      ],
      "source": [
        "l3"
      ]
    },
    {
      "cell_type": "code",
      "execution_count": null,
      "metadata": {
        "id": "g0c7JDiyAxO7",
        "outputId": "cf1193f5-81f8-4cb6-9c69-33fbd8d6b0b0"
      },
      "outputs": [
        {
          "data": {
            "text/plain": [
              "['sudh', 5345]"
            ]
          },
          "execution_count": 251,
          "metadata": {},
          "output_type": "execute_result"
        }
      ],
      "source": [
        "l2"
      ]
    },
    {
      "cell_type": "code",
      "execution_count": null,
      "metadata": {
        "id": "pO-OsTraAxO7"
      },
      "outputs": [],
      "source": [
        "s1='sudh'\n",
        "s2=s1\n",
        "s2='newdata'"
      ]
    },
    {
      "cell_type": "code",
      "execution_count": null,
      "metadata": {
        "id": "5C0JzkjGAxO8",
        "outputId": "71f18174-c054-444d-cfb6-2284c85a3958"
      },
      "outputs": [
        {
          "data": {
            "text/plain": [
              "'newdata'"
            ]
          },
          "execution_count": 254,
          "metadata": {},
          "output_type": "execute_result"
        }
      ],
      "source": [
        "s2"
      ]
    },
    {
      "cell_type": "code",
      "execution_count": null,
      "metadata": {
        "id": "wFRCKfixAxO8",
        "outputId": "3d2a4806-75b2-429b-dc89-0075406f2362"
      },
      "outputs": [
        {
          "data": {
            "text/plain": [
              "'sudh'"
            ]
          },
          "execution_count": 255,
          "metadata": {},
          "output_type": "execute_result"
        }
      ],
      "source": [
        "s1"
      ]
    },
    {
      "cell_type": "code",
      "execution_count": null,
      "metadata": {
        "id": "wbYSlWUNAxO8"
      },
      "outputs": [],
      "source": [
        "l1= [569, \"Sudh\", \"ravi\"]\n"
      ]
    },
    {
      "cell_type": "code",
      "execution_count": null,
      "metadata": {
        "id": "FZgD8xzRAxO8"
      },
      "outputs": [],
      "source": []
    },
    {
      "cell_type": "code",
      "execution_count": null,
      "metadata": {
        "id": "0SinlCsXAxO8"
      },
      "outputs": [],
      "source": [
        "g = l1[2].replace('v',\"s\")"
      ]
    },
    {
      "cell_type": "code",
      "execution_count": null,
      "metadata": {
        "id": "JGuRajPyAxO9",
        "outputId": "9b5f368a-6407-4500-ca1e-0cb0db09f098"
      },
      "outputs": [
        {
          "data": {
            "text/plain": [
              "'ravi'"
            ]
          },
          "execution_count": 267,
          "metadata": {},
          "output_type": "execute_result"
        }
      ],
      "source": [
        "l1.pop()"
      ]
    },
    {
      "cell_type": "code",
      "execution_count": null,
      "metadata": {
        "id": "zaKZIsbzAxO9"
      },
      "outputs": [],
      "source": [
        "l1.append(g)"
      ]
    },
    {
      "cell_type": "code",
      "execution_count": null,
      "metadata": {
        "id": "Id5yIUwdAxO9",
        "outputId": "5be0ebb8-22f6-4221-c961-7e4090f21e7a"
      },
      "outputs": [
        {
          "data": {
            "text/plain": [
              "'ravi'"
            ]
          },
          "execution_count": 276,
          "metadata": {},
          "output_type": "execute_result"
        }
      ],
      "source": [
        "l1.pop(2)"
      ]
    },
    {
      "cell_type": "code",
      "execution_count": null,
      "metadata": {
        "id": "D1LRFyGoAxO-",
        "outputId": "83c23c21-3317-484a-8e71-a28a6935eeea"
      },
      "outputs": [
        {
          "data": {
            "text/plain": [
              "[569, 'Sudh', 'rasi']"
            ]
          },
          "execution_count": 277,
          "metadata": {},
          "output_type": "execute_result"
        }
      ],
      "source": [
        "l1"
      ]
    },
    {
      "cell_type": "code",
      "execution_count": null,
      "metadata": {
        "id": "rdB_aINGAxO-"
      },
      "outputs": [],
      "source": [
        "l=['ved', 12,True]\n",
        "l[0]=str(l[0].replace('e', 'E') )\n"
      ]
    },
    {
      "cell_type": "code",
      "execution_count": null,
      "metadata": {
        "id": "JYq7Ntt0AxO-",
        "outputId": "aa248ee1-b305-4c23-faa5-d0c78f50679c"
      },
      "outputs": [
        {
          "data": {
            "text/plain": [
              "['vEd', 12, True]"
            ]
          },
          "execution_count": 280,
          "metadata": {},
          "output_type": "execute_result"
        }
      ],
      "source": [
        "l"
      ]
    },
    {
      "cell_type": "code",
      "execution_count": null,
      "metadata": {
        "id": "Eh6wJcRJAxO-"
      },
      "outputs": [],
      "source": [
        "s = 'USA fdf'"
      ]
    },
    {
      "cell_type": "code",
      "execution_count": null,
      "metadata": {
        "id": "vk4k_ygzAxO_",
        "outputId": "c2954097-8e6a-480b-e4a6-b644e1178112"
      },
      "outputs": [
        {
          "data": {
            "text/plain": [
              "False"
            ]
          },
          "execution_count": 286,
          "metadata": {},
          "output_type": "execute_result"
        }
      ],
      "source": [
        "s.isupper()"
      ]
    },
    {
      "cell_type": "code",
      "execution_count": null,
      "metadata": {
        "id": "QnGMuDeFAxO_"
      },
      "outputs": [],
      "source": [
        "l = [\"sunny\" , \"gadhiya\" , \"9999\" , 9+9j , True , 99.9]\n",
        "\n"
      ]
    },
    {
      "cell_type": "code",
      "execution_count": null,
      "metadata": {
        "id": "Xnf9gYa5AxO_",
        "outputId": "dfbde74a-15ee-436b-8785-67a2c7889e10"
      },
      "outputs": [
        {
          "data": {
            "text/plain": [
              "9.0"
            ]
          },
          "execution_count": 291,
          "metadata": {},
          "output_type": "execute_result"
        }
      ],
      "source": [
        "l[3].imag"
      ]
    },
    {
      "cell_type": "code",
      "execution_count": null,
      "metadata": {
        "id": "ejrdHYhgAxPA",
        "outputId": "88069061-5558-445f-d72f-88d573b62871"
      },
      "outputs": [
        {
          "data": {
            "text/plain": [
              "9.0"
            ]
          },
          "execution_count": 292,
          "metadata": {},
          "output_type": "execute_result"
        }
      ],
      "source": [
        "l[3].real"
      ]
    },
    {
      "cell_type": "code",
      "execution_count": null,
      "metadata": {
        "id": "QY53_vPWAxPA",
        "outputId": "7ff096b8-271c-41bc-88a7-a719d98990f5"
      },
      "outputs": [
        {
          "data": {
            "text/plain": [
              "'pqr'"
            ]
          },
          "execution_count": 295,
          "metadata": {},
          "output_type": "execute_result"
        }
      ],
      "source": [
        "s = ['abc','pqr','xyz']\n",
        "s.pop(1)"
      ]
    },
    {
      "cell_type": "code",
      "execution_count": null,
      "metadata": {
        "id": "4UkxhUGpAxPA",
        "outputId": "046d1777-4bda-4edb-e055-be7b76c5eb90"
      },
      "outputs": [
        {
          "data": {
            "text/plain": [
              "'s u d h '"
            ]
          },
          "execution_count": 297,
          "metadata": {},
          "output_type": "execute_result"
        }
      ],
      "source": [
        "\" \".join(\"sudh\") + \" \""
      ]
    },
    {
      "cell_type": "code",
      "execution_count": null,
      "metadata": {
        "id": "mRUTH8viAxPA",
        "outputId": "acc02530-12ce-46fb-9542-b02159b62b12"
      },
      "outputs": [
        {
          "data": {
            "text/plain": [
              "['abc', 'xyz']"
            ]
          },
          "execution_count": 298,
          "metadata": {},
          "output_type": "execute_result"
        }
      ],
      "source": [
        "s "
      ]
    },
    {
      "cell_type": "code",
      "execution_count": null,
      "metadata": {
        "id": "DJOEnRUNAxPB"
      },
      "outputs": [],
      "source": [
        "s = \"sudh\""
      ]
    },
    {
      "cell_type": "code",
      "execution_count": null,
      "metadata": {
        "id": "WBu_VCTUAxPG",
        "outputId": "72f60a7f-f01c-4c04-d55a-0653472a25ac"
      },
      "outputs": [
        {
          "data": {
            "text/plain": [
              "2"
            ]
          },
          "execution_count": 300,
          "metadata": {},
          "output_type": "execute_result"
        }
      ],
      "source": [
        "s.index('d')"
      ]
    },
    {
      "cell_type": "code",
      "execution_count": null,
      "metadata": {
        "id": "Mf4gtZ99AxPH"
      },
      "outputs": [],
      "source": [
        "l = [3,4,5,6]"
      ]
    },
    {
      "cell_type": "code",
      "execution_count": null,
      "metadata": {
        "id": "zeEccO7eAxPH",
        "outputId": "b7b842f3-f42c-426d-efeb-4efd47b123bf"
      },
      "outputs": [
        {
          "data": {
            "text/plain": [
              "2"
            ]
          },
          "execution_count": 303,
          "metadata": {},
          "output_type": "execute_result"
        }
      ],
      "source": [
        "l.index(5)"
      ]
    },
    {
      "cell_type": "code",
      "execution_count": null,
      "metadata": {
        "id": "71Yeodo7AxPH"
      },
      "outputs": [],
      "source": [
        "s = \"sudh\"\n"
      ]
    },
    {
      "cell_type": "code",
      "execution_count": null,
      "metadata": {
        "id": "8ov2rzlkAxPI",
        "outputId": "31c108b5-1d68-4182-83e6-87a75726811e"
      },
      "outputs": [
        {
          "ename": "TypeError",
          "evalue": "'list' object is not callable",
          "output_type": "error",
          "traceback": [
            "\u001b[1;31m---------------------------------------------------------------------------\u001b[0m",
            "\u001b[1;31mTypeError\u001b[0m                                 Traceback (most recent call last)",
            "\u001b[1;32m<ipython-input-306-1715e50e8d9b>\u001b[0m in \u001b[0;36m<module>\u001b[1;34m\u001b[0m\n\u001b[0;32m      1\u001b[0m \u001b[0ml1\u001b[0m\u001b[1;33m=\u001b[0m \u001b[1;33m[\u001b[0m\u001b[1;36m43\u001b[0m\u001b[1;33m,\u001b[0m\u001b[1;36m4343\u001b[0m\u001b[1;33m]\u001b[0m\u001b[1;33m\u001b[0m\u001b[1;33m\u001b[0m\u001b[0m\n\u001b[1;32m----> 2\u001b[1;33m \u001b[0ml1\u001b[0m\u001b[1;33m+\u001b[0m\u001b[0mlist\u001b[0m\u001b[1;33m(\u001b[0m\u001b[1;34m'sudh'\u001b[0m\u001b[1;33m)\u001b[0m\u001b[1;33m\u001b[0m\u001b[1;33m\u001b[0m\u001b[0m\n\u001b[0m\u001b[0;32m      3\u001b[0m \u001b[0ml1\u001b[0m\u001b[1;33m+\u001b[0m\u001b[1;33m[\u001b[0m\u001b[1;34m'sudh'\u001b[0m\u001b[1;33m]\u001b[0m\u001b[1;33m\u001b[0m\u001b[1;33m\u001b[0m\u001b[0m\n",
            "\u001b[1;31mTypeError\u001b[0m: 'list' object is not callable"
          ]
        }
      ],
      "source": [
        "list = [43,4343]\n",
        "l1+list('sudh')\n",
        "l1+['sudh']\n"
      ]
    },
    {
      "cell_type": "code",
      "execution_count": null,
      "metadata": {
        "id": "0i4ZqruHAxPI"
      },
      "outputs": [],
      "source": [
        "l1= [43,4343]"
      ]
    },
    {
      "cell_type": "code",
      "execution_count": null,
      "metadata": {
        "id": "VFvyvQ6GAxPI",
        "outputId": "408a7652-3b1a-4c14-f50a-3d07dcf08e8c"
      },
      "outputs": [
        {
          "data": {
            "text/plain": [
              "[43, 4343, 's', 'u', 'd', 'h']"
            ]
          },
          "execution_count": 4,
          "metadata": {},
          "output_type": "execute_result"
        }
      ],
      "source": [
        "l1+list('sudh')"
      ]
    },
    {
      "cell_type": "code",
      "execution_count": null,
      "metadata": {
        "id": "uetPTIA8AxPI",
        "outputId": "6dda41b8-b03c-4c87-bd0d-c3df453c32dd"
      },
      "outputs": [
        {
          "data": {
            "text/plain": [
              "['s', 'u', 'd', 'h']"
            ]
          },
          "execution_count": 5,
          "metadata": {},
          "output_type": "execute_result"
        }
      ],
      "source": [
        "list(\"sudh\")"
      ]
    },
    {
      "cell_type": "code",
      "execution_count": null,
      "metadata": {
        "id": "ZW1qz4-UAxPJ",
        "outputId": "0cd2bb41-2374-43a8-e3d8-0323f10778b4"
      },
      "outputs": [
        {
          "data": {
            "text/plain": [
              "[43, 4343, 'sudh']"
            ]
          },
          "execution_count": 6,
          "metadata": {},
          "output_type": "execute_result"
        }
      ],
      "source": [
        "l1+['sudh']"
      ]
    },
    {
      "cell_type": "code",
      "execution_count": null,
      "metadata": {
        "id": "k50qJLCHAxPJ",
        "outputId": "0b523e2f-f34c-44a5-846d-5a7bf448711c"
      },
      "outputs": [
        {
          "data": {
            "text/plain": [
              "['s', 'u', 'd', 'h']"
            ]
          },
          "execution_count": 1,
          "metadata": {},
          "output_type": "execute_result"
        }
      ],
      "source": [
        "list(\"sudh\")\n"
      ]
    },
    {
      "cell_type": "code",
      "execution_count": null,
      "metadata": {
        "id": "H_0aPhObAxPJ"
      },
      "outputs": [],
      "source": [
        "l = [4,5,6,6]"
      ]
    },
    {
      "cell_type": "code",
      "execution_count": null,
      "metadata": {
        "id": "nT58dmUyAxPJ"
      },
      "outputs": [],
      "source": [
        "l.insert(-1,45)"
      ]
    },
    {
      "cell_type": "code",
      "execution_count": null,
      "metadata": {
        "id": "-6aBnZghAxPK",
        "outputId": "b6e65ff4-d4d4-4faa-fdae-1ee8822c95d4"
      },
      "outputs": [
        {
          "data": {
            "text/plain": [
              "[4, 5, 6, 'sudh', 45, 45, 6]"
            ]
          },
          "execution_count": 8,
          "metadata": {},
          "output_type": "execute_result"
        }
      ],
      "source": [
        "l"
      ]
    },
    {
      "cell_type": "code",
      "execution_count": null,
      "metadata": {
        "id": "sehNzI_rAxPK"
      },
      "outputs": [],
      "source": [
        "l.insert(3,\"sudh\")"
      ]
    },
    {
      "cell_type": "code",
      "execution_count": null,
      "metadata": {
        "id": "Svaw298fAxPO",
        "outputId": "609e6475-58c0-4ead-e31e-e7535bdb6878"
      },
      "outputs": [
        {
          "data": {
            "text/plain": [
              "[4, 5, 6, 'sudh', 45, 6]"
            ]
          },
          "execution_count": 6,
          "metadata": {},
          "output_type": "execute_result"
        }
      ],
      "source": [
        "l"
      ]
    },
    {
      "cell_type": "code",
      "execution_count": null,
      "metadata": {
        "id": "QjcqrzADAxPP",
        "outputId": "a0cff749-a420-4d61-cd27-fe4a76f9e7e8"
      },
      "outputs": [
        {
          "data": {
            "text/plain": [
              "str"
            ]
          },
          "execution_count": 10,
          "metadata": {},
          "output_type": "execute_result"
        }
      ],
      "source": [
        "type(l[3])"
      ]
    },
    {
      "cell_type": "code",
      "execution_count": null,
      "metadata": {
        "id": "eYHZEspJAxPP"
      },
      "outputs": [],
      "source": [
        "s = \"sudh\""
      ]
    },
    {
      "cell_type": "code",
      "execution_count": null,
      "metadata": {
        "id": "gfp3fe6gAxPQ"
      },
      "outputs": [],
      "source": [
        "l2 =[1,2]\n",
        "l2[2] = 3 Why can't assign l2[2] = 3\n"
      ]
    },
    {
      "cell_type": "code",
      "execution_count": null,
      "metadata": {
        "id": "FmMLMS37AxPQ",
        "outputId": "cfde2f19-8592-4bae-b536-29f7f3aaeefb"
      },
      "outputs": [
        {
          "data": {
            "text/plain": [
              "'eni htiw gnikro'"
            ]
          },
          "execution_count": 11,
          "metadata": {},
          "output_type": "execute_result"
        }
      ],
      "source": [
        "a = 'i am working with ineuron'\n",
        "a[-5:5:-1]"
      ]
    },
    {
      "cell_type": "code",
      "execution_count": null,
      "metadata": {
        "id": "ZNxmHZ7SAxPQ"
      },
      "outputs": [],
      "source": [
        "\n"
      ]
    },
    {
      "cell_type": "code",
      "execution_count": null,
      "metadata": {
        "id": "50s4YSA_AxPQ"
      },
      "outputs": [],
      "source": []
    }
  ],
  "metadata": {
    "kernelspec": {
      "display_name": "Python 3",
      "language": "python",
      "name": "python3"
    },
    "language_info": {
      "codemirror_mode": {
        "name": "ipython",
        "version": 3
      },
      "file_extension": ".py",
      "mimetype": "text/x-python",
      "name": "python",
      "nbconvert_exporter": "python",
      "pygments_lexer": "ipython3",
      "version": "3.8.5"
    },
    "colab": {
      "provenance": [],
      "include_colab_link": true
    }
  },
  "nbformat": 4,
  "nbformat_minor": 0
}