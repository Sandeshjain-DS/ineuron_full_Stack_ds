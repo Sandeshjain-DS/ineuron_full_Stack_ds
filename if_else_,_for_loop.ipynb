{
  "cells": [
    {
      "cell_type": "markdown",
      "metadata": {
        "id": "view-in-github",
        "colab_type": "text"
      },
      "source": [
        "<a href=\"https://colab.research.google.com/github/Sandeshjain-DS/ineuron_full_Stack_ds/blob/main/if_else_%2C_for_loop.ipynb\" target=\"_parent\"><img src=\"https://colab.research.google.com/assets/colab-badge.svg\" alt=\"Open In Colab\"/></a>"
      ]
    },
    {
      "cell_type": "code",
      "execution_count": null,
      "metadata": {
        "id": "1vFxSpX2S0E5"
      },
      "outputs": [],
      "source": [
        "a = 10 "
      ]
    },
    {
      "cell_type": "code",
      "execution_count": null,
      "metadata": {
        "id": "0Sz3RH5KS0FD"
      },
      "outputs": [],
      "source": [
        "if a < 15:\n",
        "    pass\n",
        "    "
      ]
    },
    {
      "cell_type": "code",
      "execution_count": null,
      "metadata": {
        "id": "CHz6hWz4S0FF",
        "outputId": "c2bbcd5c-a564-492b-dc40-f64b49d48c55"
      },
      "outputs": [
        {
          "data": {
            "text/plain": [
              "True"
            ]
          },
          "execution_count": 2,
          "metadata": {},
          "output_type": "execute_result"
        }
      ],
      "source": [
        "a < 15"
      ]
    },
    {
      "cell_type": "code",
      "execution_count": null,
      "metadata": {
        "id": "H6fkjiuqS0FH",
        "outputId": "b8a0e066-f5c0-4c5a-c34a-ba4af5372146"
      },
      "outputs": [
        {
          "name": "stdout",
          "output_type": "stream",
          "text": [
            "my name is sudh\n"
          ]
        }
      ],
      "source": [
        "if a < 15 :\n",
        "    print(\"my name is sudh\")"
      ]
    },
    {
      "cell_type": "code",
      "execution_count": null,
      "metadata": {
        "id": "S5nkw-oZS0FJ"
      },
      "outputs": [],
      "source": [
        "if 24 < 15 :\n",
        "    print(\"my name is sudh\")"
      ]
    },
    {
      "cell_type": "code",
      "execution_count": null,
      "metadata": {
        "id": "Cya050D1S0FK",
        "outputId": "c8a70469-4709-46be-9c3e-515967d03fec"
      },
      "outputs": [
        {
          "data": {
            "text/plain": [
              "False"
            ]
          },
          "execution_count": 9,
          "metadata": {},
          "output_type": "execute_result"
        }
      ],
      "source": [
        "24 < 15"
      ]
    },
    {
      "cell_type": "code",
      "execution_count": null,
      "metadata": {
        "id": "XxOhkPWPS0FL",
        "outputId": "f52f3ba0-bc31-426f-e2b6-c66faea00601"
      },
      "outputs": [
        {
          "name": "stdout",
          "output_type": "stream",
          "text": [
            " 10 is lesser then 3 \n"
          ]
        }
      ],
      "source": [
        "if 5<10 :\n",
        "    print(\" 10 is lesser then 3 \")\n",
        "else :\n",
        "    print(\"if statemnt is wrong \")\n",
        "\n",
        "    "
      ]
    },
    {
      "cell_type": "code",
      "execution_count": null,
      "metadata": {
        "id": "rC129xTBS0FM",
        "outputId": "e1dc1c66-7fc6-4581-b80b-a35fce432657"
      },
      "outputs": [
        {
          "name": "stdout",
          "output_type": "stream",
          "text": [
            "10\n",
            "i will be able to buy phone\n"
          ]
        }
      ],
      "source": [
        "income = int(input())\n",
        "if income < 50:\n",
        "    print(\"i will be able to buy phone\")\n",
        "elif income < 70 :\n",
        "    print(\"i will be able to buy car \")\n",
        "elif  income < 90 :\n",
        "    print(\"i will be able to rent a house \")\n",
        "else :\n",
        "    print(\"i wont be able to buy anything\")"
      ]
    },
    {
      "cell_type": "code",
      "execution_count": null,
      "metadata": {
        "id": "H2YTVuSwS0FS",
        "outputId": "46e6b2f5-6193-4925-9ac6-c0dab490b4ce"
      },
      "outputs": [
        {
          "name": "stdout",
          "output_type": "stream",
          "text": [
            "4565\n",
            "dicount will be  228.25\n"
          ]
        }
      ],
      "source": [
        "Total_price = int(input())\n",
        "if Total_price  > 20000 :\n",
        "    discount = Total_price * .20\n",
        "    print(\"Discount will be \" , discount)\n",
        "elif Total_price <= 7000 :\n",
        "    discount = Total_price *.05\n",
        "    print(\"dicount will be \" , discount)\n",
        "else :\n",
        "    print( \"wont be able to give any discount \")"
      ]
    },
    {
      "cell_type": "code",
      "execution_count": null,
      "metadata": {
        "id": "N7rwdf5nS0FV",
        "outputId": "60001d43-d236-41c9-c8f4-20b37cd4339a"
      },
      "outputs": [
        {
          "name": "stdout",
          "output_type": "stream",
          "text": [
            "8000\n",
            "No discount\n"
          ]
        }
      ],
      "source": [
        "Total_price = int(input())\n",
        "\n",
        "if Total_price > 20000:\n",
        "    dicount = Total_price * .20\n",
        "    print (\"Discount is\", discount)\n",
        "elif Total_price > 7000:\n",
        "    dicount = Total_price * .05\n",
        "    print (\"No discount\")\n"
      ]
    },
    {
      "cell_type": "code",
      "execution_count": null,
      "metadata": {
        "id": "ktXN-PNbS0FW"
      },
      "outputs": [],
      "source": [
        "coursework1 = input(\"Input coursework1 name \")\n",
        "score_theory1 = int(input(\"input score_theory1 \"))\n",
        "score_practical1 = int(input(\"input score_practical1 \"))\n",
        "coursework2 = input(\"Input coursework2 name \")\n",
        "score_theory2 = int(input(\"input score_theory2 \"))\n",
        "score_practical2 = int(input(\"input score_practical2 \"))\n",
        "if(coursework1 == \"English\" or coursework1 == \"english\"):\n",
        "    if(score_theory1 >70):\n",
        "        print(\"Invalid input\")\n",
        "    elif(score_practical2>70):\n",
        "        print(\"Invalid input\")\n",
        "    else:\n",
        "        print(\"Sum of theory and practical in english \",score_theory1+score_practical1)\n",
        "if(coursework2 == \"Science\" or coursework2 == \"science\"):\n",
        "    if(score_theory2 >70):\n",
        "        print(\"Invalid input\")\n",
        "    elif(score_practical2>70):\n",
        "        print(\"Invalid input\")\n",
        "    else:\n",
        "        print(\"Sum of theory and practical in Science\",score_theory2+score_practical2)\n",
        "else:\n",
        "    print(\"coursework not recognized\")\n"
      ]
    },
    {
      "cell_type": "code",
      "execution_count": null,
      "metadata": {
        "id": "AnT_HeQQS0FY",
        "outputId": "aaab8653-860a-4fd8-8b9a-3844cf893408"
      },
      "outputs": [
        {
          "name": "stdout",
          "output_type": "stream",
          "text": [
            "SUDHANSHU5\n",
            "you will be able to get a discount of 5 % \n",
            "you will be able to get one neuron with this amount  6726.0\n"
          ]
        }
      ],
      "source": [
        "coup = input()\n",
        "if coup == \"SUDHANSHU5\":\n",
        "    print(\"you will be able to get a discount of 5 % \")\n",
        "    paid_amount = 7080 - 7080*.05\n",
        "    print(\"you will be able to get one neuron with this amount \" , paid_amount )\n",
        "else :\n",
        "    print(\"kindly use a valid coupoun code \")"
      ]
    },
    {
      "cell_type": "code",
      "execution_count": null,
      "metadata": {
        "id": "AMlRZoFES0Fa",
        "outputId": "d5a2137e-d4ac-4669-903b-a01d99bb4319"
      },
      "outputs": [
        {
          "data": {
            "text/plain": [
              "True"
            ]
          },
          "execution_count": 9,
          "metadata": {},
          "output_type": "execute_result"
        }
      ],
      "source": [
        "\"sudh\" == \"sudh\""
      ]
    },
    {
      "cell_type": "code",
      "execution_count": null,
      "metadata": {
        "id": "Z0R5m5VjS0Fc",
        "outputId": "a41dac37-4728-443f-e9fc-ba9467127128"
      },
      "outputs": [
        {
          "name": "stdout",
          "output_type": "stream",
          "text": [
            "2\n",
            "it may take 6 month for transition\n"
          ]
        }
      ],
      "source": [
        "study_hour = int(input())\n",
        "if study_hour < 1:\n",
        "    print(\"it may take  8- 9 month of time to make a transitino \")\n",
        "elif study_hour < 4 and  study_hour > 1:\n",
        "    print(\"it may take 6 month for transition\")\n",
        "elif study_hour > 10 :\n",
        "    print(\" it will take 3 month of time for transition \")\n",
        "else :\n",
        "    print(\"it will be difficult \")"
      ]
    },
    {
      "cell_type": "code",
      "execution_count": null,
      "metadata": {
        "id": "_SWFyxZRS0Fe",
        "outputId": "e5c83543-6251-4cb6-8ae2-6f4b7a315d6d"
      },
      "outputs": [
        {
          "name": "stdout",
          "output_type": "stream",
          "text": [
            "4\n",
            "succeed\n"
          ]
        }
      ],
      "source": [
        "study = float(input())\n",
        "if study <1 and  study >0.5:\n",
        "    print(\"you may succeed\")\n",
        "elif   study <6 and  study >1:\n",
        "        print(\"succeed\")\n",
        "else :\n",
        "    print(\"fail\")\n"
      ]
    },
    {
      "cell_type": "code",
      "execution_count": null,
      "metadata": {
        "id": "Crv7RsEKS0Fl",
        "outputId": "57be2589-ccb8-4d9e-a9b2-1570ca6bad37"
      },
      "outputs": [
        {
          "name": "stdout",
          "output_type": "stream",
          "text": [
            "valid\n"
          ]
        }
      ],
      "source": [
        "a = 9 \n",
        "if a == 9 : \n",
        "    print(\"valid\")"
      ]
    },
    {
      "cell_type": "code",
      "execution_count": null,
      "metadata": {
        "id": "ghKWEGxYS0Fn",
        "outputId": "707da5e6-b708-46cc-c257-da36932df3a0"
      },
      "outputs": [
        {
          "name": "stdout",
          "output_type": "stream",
          "text": [
            "enter a string to start oneneuron\n",
            "enter a course name sdfdsa\n",
            "enter a service name fdsf\n",
            "this course is not availble kindly raise your demand \n"
          ]
        }
      ],
      "source": [
        "s = input(\"enter a string to start \")\n",
        "course = input(\"enter a course name \")\n",
        "service = input(\"enter a service name \")\n",
        "if s == \"oneneuron\":\n",
        "    if course == \"DSA\":\n",
        "        print(\"yes its available under one neruon and in multiple mode for job prepratoin and core concept \")\n",
        "    elif course == \"Blockchain\":\n",
        "        print(\"this is not aviable as of now , kindly raise your demand and we will fulfil in 60 days \")\n",
        "    elif course == \"FSDS\":\n",
        "        print(\"yes its availble , youi can start learning \")\n",
        "    else :\n",
        "        print(\"this course is not availble kindly raise your demand \")\n",
        "elif s  == \"oneneuronservice\":\n",
        "    if service == \"courserequest\":\n",
        "        print(\"*NOTE: Dear Learner, you can raise demand related to any new course, and we will fulfil your need in the next 60 days.\")\n",
        "    elif service == \"module\" :\n",
        "        print(\"*NOTE: Dear Learner, you can raise demand related to any new course module, and we will fulfil your need in the next 30 days.\")\n",
        "    elif service == \"doubt\":\n",
        "        print(\"*NOTE: Dear Learner, you can raise demand related to any doubt clearing, and we will fulfil your need in the next 24 hours.\")\n",
        "    elif service == \"workwithus\":\n",
        "        print(\"*NOTE: Dear Learner, you can raise the demand to work with our team; our HR will evaluate and get back to you in 24 hours.\")\n",
        "    else :\n",
        "        print(\"kindly provide us your feedback and we will fulfil\")\n",
        "else :\n",
        "    print(\"kindly connect with our team \")"
      ]
    },
    {
      "cell_type": "code",
      "execution_count": null,
      "metadata": {
        "id": "CE-smiFxS0Fo"
      },
      "outputs": [],
      "source": [
        "s = input(\"Enter a string to start\")\n",
        "course = input(\"ENter a code\")\n",
        "service = input(\"enter a service name\")\n",
        "if s == \"oneneuron\":\n",
        "    if course == \"DSA\":\n",
        "        print(\"Yes it is available under OneNeuron and in multiple mode for job preparation and core \")\n",
        "    elif course ==\"Blockchain\":\n",
        "        print(\"this is not available now, kindly raise demand\")\n",
        "    elif course == \" FSDS\":\n",
        "        print(\"Available, start learning\")\n",
        "    else:\n",
        "        print(\"Kindly raise demand\")\n",
        "elif s = \"oneneuronservice\":\n",
        "    if service == 'courserequest':\n",
        "        print(\"Note Dear learner you can raise demand to any new course\")\n",
        "    elif service == \"module\":\n",
        "        print(\"Raise demand to any new course\")\n",
        "    elif service == \"doubt\":\n",
        "        print(\"*Note:Dear Learner you can raise demand\")\n",
        "    elif service == \"workwithus\":\n",
        "        print(\"Note: Dear learner you can raise the demand\")\n",
        "    else :\n",
        "        print(\"kidnly provide us ur feedback\")\n",
        "        \n",
        "else:\n",
        "    print(\"Kindly connect with our team\")\n"
      ]
    },
    {
      "cell_type": "code",
      "execution_count": null,
      "metadata": {
        "id": "AcYm-TBiS0Fo",
        "outputId": "7d67ba80-62ef-468c-c588-228ae86725ca"
      },
      "outputs": [
        {
          "name": "stdout",
          "output_type": "stream",
          "text": [
            "enter a stringnto startfgh\n",
            "eneter a course namedfg\n",
            "enetr a service namefgd\n"
          ]
        }
      ],
      "source": [
        "s = input(\"enter a stringnto start\")\n",
        "course = input(\"eneter a course name\")\n",
        "service = input(\"enetr a service name\")\n",
        "if s ==\"oneneuron\":\n",
        "    if course == \"DSA\":\n",
        "        ptint(\"yes it available under one neuron i multiple code \")\n",
        "    elif course==\"blockchain\":\n",
        "        print(\"raise ur demand\")\n",
        "    elif course==\"FSDS\":\n",
        "        print(\"yes it is available\")\n",
        "    else :\n",
        "        print(\"not vailable\")\n",
        "elif s ==\"oneneuronservice\":\n",
        "    if service==\"courserequest\":\n",
        "        print(\"raise demand for new course\")\n",
        "    elif service==\"modulr\":\n",
        "        print(\"raise demand for module\")\n",
        "    elif service==\"doubt\":\n",
        "        print(\"note doubt clearing\") \n",
        "    else:\n",
        "        print(\"feedback\")\n"
      ]
    },
    {
      "cell_type": "code",
      "execution_count": null,
      "metadata": {
        "id": "cQQelOLqS0Fp",
        "outputId": "f5109600-082a-41dd-ead7-427b8bb2d405"
      },
      "outputs": [
        {
          "name": "stdout",
          "output_type": "stream",
          "text": [
            "enter a string to startfd\n",
            "enter a course namefd\n",
            "enter service namefd\n",
            "ytr\n"
          ]
        }
      ],
      "source": [
        "s = input(\"enter a string to start\")\n",
        "course=input(\"enter a course name\")\n",
        "service= input(\"enter service name\")\n",
        "if s == \"oneneuron\":\n",
        "    if course == \"DSA\":\n",
        "        print(\"yes it is available under oneneron and in multiple mode for job preperation and core concept\")\n",
        "    elif course==\"blockchain\":\n",
        "        print(\"this is not available as of now, kindly raise your demand\")\n",
        "    elif course == \"FSDS\":\n",
        "        print(\"yes it is available, you can start learning\")\n",
        "    else:\n",
        "        print(\"this course is not available\")\n",
        "elif s == \"oneneuronservices\":\n",
        "        if service == \"courserequest\":\n",
        "            print(\"abcd\")\n",
        "        elif service == \"module\":\n",
        "            print(\"123654\")\n",
        "        elif service ==\"work with us\":\n",
        "                print(\"tyru\")\n",
        "        else:\n",
        "            print(\"hyst\")\n",
        "else:\n",
        "     print(\"ytr\")"
      ]
    },
    {
      "cell_type": "code",
      "execution_count": null,
      "metadata": {
        "id": "8XTbDOU2S0Fr",
        "outputId": "12eff7a0-b9dc-4827-ee20-dba30d462724"
      },
      "outputs": [
        {
          "name": "stdout",
          "output_type": "stream",
          "text": [
            "enter a string to start : sdf\n",
            "kindly contact our team\n"
          ]
        }
      ],
      "source": [
        "s = input('enter a string to start : ')\n",
        "if s == 'oneneuron':\n",
        "  course = input('enter a course name : ')\n",
        "  if course == 'DSA':\n",
        "    print('yes it is availbale under oneneuron')\n",
        "  elif course == 'Blockchain':\n",
        "    print('this is not availble at the moment kindly raise a request.')\n",
        "  else:\n",
        "    print('kindly raise  your demand')\n",
        "elif s == 'oneneuronservice':\n",
        "  service = input('what kind of service you want : ')\n",
        "  if service == 'servicerequest':\n",
        "    print('this is not availble at the moment kindly raise a request.')\n",
        "  elif service == 'module':\n",
        "    print('this is not availble at the moment kindly raise a request.')\n",
        "  else :\n",
        "    print('kindly provide us your feedback')\n",
        "else:\n",
        "  print('kindly contact our team')\n"
      ]
    },
    {
      "cell_type": "code",
      "execution_count": null,
      "metadata": {
        "id": "7kxGK6teS0Ft",
        "outputId": "96faf3d0-32e1-48f2-ad82-e82fe3306e8e"
      },
      "outputs": [
        {
          "name": "stdout",
          "output_type": "stream",
          "text": [
            "1\n",
            "2\n",
            "3\n",
            "4\n",
            "5\n",
            "6\n",
            "7\n"
          ]
        }
      ],
      "source": [
        "l = [1,2,3,4,5,6,7]\n",
        "for i in l :\n",
        "    print(i)\n",
        "    "
      ]
    },
    {
      "cell_type": "code",
      "execution_count": null,
      "metadata": {
        "id": "3G6cU2LoS0Fu",
        "outputId": "aece0203-10bb-43e9-dad6-7330487cf962"
      },
      "outputs": [
        {
          "name": "stdout",
          "output_type": "stream",
          "text": [
            "s\n",
            "u\n",
            "d\n",
            "h\n"
          ]
        }
      ],
      "source": [
        "\n",
        "for i in \"sudh\" :\n",
        "    print(i)\n",
        "    \n",
        "    "
      ]
    },
    {
      "cell_type": "code",
      "execution_count": null,
      "metadata": {
        "id": "c4bvjGR6S0Fz"
      },
      "outputs": [],
      "source": [
        "t = (1 ,2,3,4,5,6,6)"
      ]
    },
    {
      "cell_type": "code",
      "execution_count": null,
      "metadata": {
        "id": "gafvWfdeS0F0",
        "outputId": "fdc10e47-ba27-49bc-edb2-99f52f25f3a3"
      },
      "outputs": [
        {
          "name": "stdout",
          "output_type": "stream",
          "text": [
            "1\n",
            "2\n",
            "3\n",
            "4\n",
            "5\n",
            "6\n",
            "6\n"
          ]
        }
      ],
      "source": [
        "for i in t :\n",
        "    print(i)"
      ]
    },
    {
      "cell_type": "code",
      "execution_count": null,
      "metadata": {
        "id": "4dbuKFvqS0F0"
      },
      "outputs": [],
      "source": [
        "l = [1 ,4,5.6 , 4+7j , \"sudh\" ]"
      ]
    },
    {
      "cell_type": "code",
      "execution_count": null,
      "metadata": {
        "id": "CcgaFznzS0F1",
        "outputId": "6b1b771e-2594-4875-993c-54f4bdc38c31"
      },
      "outputs": [
        {
          "name": "stdout",
          "output_type": "stream",
          "text": [
            "<class 'int'> type of  1\n",
            "<class 'int'> type of  4\n",
            "<class 'float'> type of  5.6\n",
            "<class 'complex'> type of  (4+7j)\n",
            "<class 'str'> type of  sudh\n"
          ]
        }
      ],
      "source": [
        "for i in l :\n",
        "    print(type(i) , \"type of \" , i )\n",
        "    \n",
        "    "
      ]
    },
    {
      "cell_type": "code",
      "execution_count": null,
      "metadata": {
        "id": "8949gbtmS0F2",
        "outputId": "b39215f1-9941-4589-db5f-5c6106096df7"
      },
      "outputs": [
        {
          "data": {
            "text/plain": [
              "int"
            ]
          },
          "execution_count": 45,
          "metadata": {},
          "output_type": "execute_result"
        }
      ],
      "source": [
        "type(1)"
      ]
    },
    {
      "cell_type": "code",
      "execution_count": null,
      "metadata": {
        "id": "bCluugjuS0F3",
        "outputId": "27eb32f6-466d-4566-de49-488c6843b14e"
      },
      "outputs": [
        {
          "name": "stdout",
          "output_type": "stream",
          "text": [
            "3\n",
            "6\n",
            "7.6\n"
          ]
        }
      ],
      "source": [
        "l = [1 ,4,5.6 ]\n",
        "l1 = []\n",
        "for i in l :\n",
        "    print(i+2)\n",
        "    l1.append(i+2)"
      ]
    },
    {
      "cell_type": "code",
      "execution_count": null,
      "metadata": {
        "id": "P17DhWCwS0F3",
        "outputId": "faca39b3-1204-486c-fc59-7739cf391859"
      },
      "outputs": [
        {
          "data": {
            "text/plain": [
              "[3, 6, 7.6]"
            ]
          },
          "execution_count": 49,
          "metadata": {},
          "output_type": "execute_result"
        }
      ],
      "source": [
        "l1"
      ]
    },
    {
      "cell_type": "code",
      "execution_count": null,
      "metadata": {
        "id": "fv3jUFsJS0F4"
      },
      "outputs": [],
      "source": [
        "l = [2,45,78,12,\"sudh\" , 6+7j,[56,67,78,\"dsfdsf\"]]"
      ]
    },
    {
      "cell_type": "code",
      "execution_count": null,
      "metadata": {
        "id": "dG-l2oiZS0F9",
        "outputId": "c0d23819-1ce3-4edc-8725-9e0cb5161f3c"
      },
      "outputs": [
        {
          "name": "stdout",
          "output_type": "stream",
          "text": [
            "2\n",
            "45\n",
            "78\n",
            "12\n",
            "56\n",
            "67\n",
            "78\n"
          ]
        }
      ],
      "source": [
        "for i in l :\n",
        "    if type(i) == int :\n",
        "        print(i)\n",
        "    elif type(i) == list:\n",
        "        for j in i :\n",
        "            if type(j) == int:\n",
        "                print(j)"
      ]
    },
    {
      "cell_type": "code",
      "execution_count": null,
      "metadata": {
        "id": "kOsD1gBwS0GA"
      },
      "outputs": [],
      "source": [
        "l = [2,45,78,12,12,12,12,\"sudh\" , 6+7j,[56,67,78,\"dsfdsf\"]]\n",
        "#q1 . try to print index of all the element \n",
        "#q2 . Try to extract all the list of char if element is string \n",
        "#q3 . Try to return a list after doing a square of all the int element \n",
        "    "
      ]
    },
    {
      "cell_type": "code",
      "execution_count": null,
      "metadata": {
        "id": "YX5PGe0rS0GC",
        "outputId": "300111f2-9ef3-46e1-e6d7-7f5deaed3573"
      },
      "outputs": [
        {
          "data": {
            "text/plain": [
              "range(0, 4)"
            ]
          },
          "execution_count": 60,
          "metadata": {},
          "output_type": "execute_result"
        }
      ],
      "source": [
        "range(4)"
      ]
    },
    {
      "cell_type": "code",
      "execution_count": null,
      "metadata": {
        "id": "SvQZWWujS0GE",
        "outputId": "612a4e6b-0740-497c-eb89-4cc87b104901"
      },
      "outputs": [
        {
          "data": {
            "text/plain": [
              "10"
            ]
          },
          "execution_count": 61,
          "metadata": {},
          "output_type": "execute_result"
        }
      ],
      "source": [
        "len(l)"
      ]
    },
    {
      "cell_type": "code",
      "execution_count": null,
      "metadata": {
        "id": "suUDSsQvS0GF"
      },
      "outputs": [],
      "source": []
    },
    {
      "cell_type": "code",
      "execution_count": null,
      "metadata": {
        "id": "WeabsMFOS0GF",
        "outputId": "72d72b62-8ad3-4d86-e397-3083d9955252"
      },
      "outputs": [
        {
          "name": "stdout",
          "output_type": "stream",
          "text": [
            "index 0 for an element  2\n",
            "index 1 for an element  45\n",
            "index 2 for an element  78\n",
            "index 3 for an element  12\n",
            "index 4 for an element  12\n",
            "index 5 for an element  12\n",
            "index 6 for an element  12\n",
            "index 7 for an element  sudh\n",
            "index 8 for an element  (6+7j)\n",
            "index 9 for an element  [56, 67, 78, 'dsfdsf']\n"
          ]
        }
      ],
      "source": [
        "for i in range(len(l)):\n",
        "    print(\"index\" , i  , \"for an element \" , l[i])"
      ]
    },
    {
      "cell_type": "code",
      "execution_count": null,
      "metadata": {
        "id": "XNjLVSbAS0GG",
        "outputId": "52831500-2b86-4c56-8710-50b3bb390abe"
      },
      "outputs": [
        {
          "data": {
            "text/plain": [
              "[2, 45, 78, 12, 12, 12, 12, 'sudh', (6+7j), [56, 67, 78, 'dsfdsf']]"
            ]
          },
          "execution_count": 63,
          "metadata": {},
          "output_type": "execute_result"
        }
      ],
      "source": [
        "l"
      ]
    },
    {
      "cell_type": "code",
      "execution_count": null,
      "metadata": {
        "id": "UmhWhsWTS0GH",
        "outputId": "92ac2e50-aa70-4d94-ab42-611693a74a24"
      },
      "outputs": [
        {
          "name": "stdout",
          "output_type": "stream",
          "text": [
            "0 2\n",
            "1 45\n",
            "2 78\n",
            "3 12\n",
            "4 12\n",
            "5 12\n",
            "6 12\n",
            "7 sudh\n",
            "8 (6+7j)\n",
            "9 [56, 67, 78, 'dsfdsf']\n"
          ]
        }
      ],
      "source": [
        "for i,j  in enumerate(l):\n",
        "    print(i ,j)"
      ]
    },
    {
      "cell_type": "code",
      "execution_count": null,
      "metadata": {
        "id": "v-1u_T5US0GI",
        "outputId": "4bb2fe1f-6e60-4353-b0b8-85752bf1dfd9"
      },
      "outputs": [
        {
          "data": {
            "text/plain": [
              "[2, 45, 78, 12, 12, 12, 12, 'sudh', (6+7j), [56, 67, 78, 'dsfdsf']]"
            ]
          },
          "execution_count": 66,
          "metadata": {},
          "output_type": "execute_result"
        }
      ],
      "source": [
        "l"
      ]
    },
    {
      "cell_type": "code",
      "execution_count": null,
      "metadata": {
        "id": "mUcLVvm1S0GI",
        "outputId": "1743a93c-bcd2-4539-f68b-097a1b001e4c"
      },
      "outputs": [
        {
          "name": "stdout",
          "output_type": "stream",
          "text": [
            "['s', 'u', 'd', 'h']\n",
            "['k', 'u', 'm', 'a', 'r']\n"
          ]
        }
      ],
      "source": [
        "for i in l :\n",
        "    if type(i) == str :\n",
        "        l1 = []\n",
        "        for j in i :\n",
        "            l1.append(j)\n",
        "        print(l1)\n",
        "        "
      ]
    },
    {
      "cell_type": "code",
      "execution_count": null,
      "metadata": {
        "id": "clkbCMijS0GJ"
      },
      "outputs": [],
      "source": [
        "l = [2,45,78,12,12,12,12,\"sudh\"  ,\"kumar\" , 6+7j,[56,67,78,\"dsfdsf\"]]"
      ]
    },
    {
      "cell_type": "code",
      "execution_count": null,
      "metadata": {
        "id": "TWCyoHTtS0GJ",
        "outputId": "407ef982-54b9-4133-9879-93c891297044"
      },
      "outputs": [
        {
          "data": {
            "text/plain": [
              "[2, 45, 78, 12, 12, 12, 12, 'sudh', 'kumar', (6+7j), [56, 67, 78, 'dsfdsf']]"
            ]
          },
          "execution_count": 71,
          "metadata": {},
          "output_type": "execute_result"
        }
      ],
      "source": [
        "l\n"
      ]
    },
    {
      "cell_type": "code",
      "execution_count": null,
      "metadata": {
        "id": "Zi-uoO2kS0GK",
        "outputId": "1dd66934-5bbd-4936-f02a-70604513b619"
      },
      "outputs": [
        {
          "name": "stdout",
          "output_type": "stream",
          "text": [
            "4\n",
            "2025\n",
            "6084\n",
            "144\n"
          ]
        }
      ],
      "source": [
        "\n",
        "for i in l :\n",
        "    if type(i) == int :\n",
        "            print(i**2)\n",
        "        "
      ]
    },
    {
      "cell_type": "code",
      "execution_count": null,
      "metadata": {
        "id": "lU2PPXq3S0GL",
        "outputId": "571301e6-4544-4d2b-8e91-e53bc33a6660"
      },
      "outputs": [
        {
          "data": {
            "text/plain": [
              "[4, 2025, 6084, 144, 144, 144, 144]"
            ]
          },
          "execution_count": 77,
          "metadata": {},
          "output_type": "execute_result"
        }
      ],
      "source": [
        "l2"
      ]
    },
    {
      "cell_type": "code",
      "execution_count": null,
      "metadata": {
        "id": "-E61DQQ9S0GL",
        "outputId": "a77b027a-8b6d-4a51-948d-3376d8460dcc"
      },
      "outputs": [
        {
          "data": {
            "text/plain": [
              "[4, 2025, 6084, 144]"
            ]
          },
          "execution_count": 79,
          "metadata": {},
          "output_type": "execute_result"
        }
      ],
      "source": [
        "l = [2,45,78,12,\"sudh\", 6+7j,[56,67,78,\"shdhi\"]]\n",
        "l2=[]\n",
        "for i in l :\n",
        "    if type(i) == int:\n",
        "        l2.append(i**2)\n",
        "\n",
        "l2"
      ]
    },
    {
      "cell_type": "code",
      "execution_count": null,
      "metadata": {
        "id": "odlMwOZpS0GM",
        "outputId": "b5df52de-5ca6-41b3-e699-60c4c338c2ab"
      },
      "outputs": [
        {
          "name": "stdout",
          "output_type": "stream",
          "text": [
            "index of 78 is 2\n"
          ]
        },
        {
          "ename": "IndexError",
          "evalue": "list index out of range",
          "output_type": "error",
          "traceback": [
            "\u001b[1;31m---------------------------------------------------------------------------\u001b[0m",
            "\u001b[1;31mIndexError\u001b[0m                                Traceback (most recent call last)",
            "\u001b[1;32m<ipython-input-80-c150fbd51d47>\u001b[0m in \u001b[0;36m<module>\u001b[1;34m\u001b[0m\n\u001b[0;32m      1\u001b[0m \u001b[0ml\u001b[0m\u001b[1;33m=\u001b[0m\u001b[1;33m[\u001b[0m\u001b[1;36m2\u001b[0m\u001b[1;33m,\u001b[0m\u001b[1;36m45\u001b[0m\u001b[1;33m,\u001b[0m\u001b[1;36m78\u001b[0m\u001b[1;33m,\u001b[0m\u001b[1;36m12\u001b[0m\u001b[1;33m,\u001b[0m\u001b[1;34m\"sudh\"\u001b[0m\u001b[1;33m,\u001b[0m\u001b[1;36m6\u001b[0m\u001b[1;33m+\u001b[0m\u001b[1;36m7j\u001b[0m\u001b[1;33m,\u001b[0m\u001b[1;33m[\u001b[0m\u001b[1;36m56\u001b[0m\u001b[1;33m,\u001b[0m\u001b[1;36m67\u001b[0m\u001b[1;33m,\u001b[0m\u001b[1;36m78\u001b[0m\u001b[1;33m]\u001b[0m\u001b[1;33m]\u001b[0m\u001b[1;33m\u001b[0m\u001b[1;33m\u001b[0m\u001b[0m\n\u001b[0;32m      2\u001b[0m \u001b[1;32mfor\u001b[0m \u001b[0mi\u001b[0m \u001b[1;32min\u001b[0m \u001b[0ml\u001b[0m \u001b[1;33m:\u001b[0m\u001b[1;33m\u001b[0m\u001b[1;33m\u001b[0m\u001b[0m\n\u001b[1;32m----> 3\u001b[1;33m     \u001b[0mprint\u001b[0m\u001b[1;33m(\u001b[0m\u001b[1;34m\"index of\"\u001b[0m\u001b[1;33m,\u001b[0m\u001b[0ml\u001b[0m\u001b[1;33m[\u001b[0m\u001b[0mi\u001b[0m\u001b[1;33m]\u001b[0m\u001b[1;33m,\u001b[0m\u001b[1;34m\"is\"\u001b[0m\u001b[1;33m,\u001b[0m\u001b[0mi\u001b[0m\u001b[1;33m)\u001b[0m\u001b[1;33m\u001b[0m\u001b[1;33m\u001b[0m\u001b[0m\n\u001b[0m",
            "\u001b[1;31mIndexError\u001b[0m: list index out of range"
          ]
        }
      ],
      "source": [
        "l=[2,45,78,12,\"sudh\",6+7j,[56,67,78]]\n",
        "for i in l :\n",
        "    print(\"index of\",l[i],\"is\",i)\n"
      ]
    },
    {
      "cell_type": "code",
      "execution_count": null,
      "metadata": {
        "id": "XCRmbjOjS0GN",
        "outputId": "289c5de0-dbe1-4960-e757-c264d80b7894"
      },
      "outputs": [
        {
          "ename": "IndexError",
          "evalue": "list index out of range",
          "output_type": "error",
          "traceback": [
            "\u001b[1;31m---------------------------------------------------------------------------\u001b[0m",
            "\u001b[1;31mIndexError\u001b[0m                                Traceback (most recent call last)",
            "\u001b[1;32m<ipython-input-81-da5086cc0e3b>\u001b[0m in \u001b[0;36m<module>\u001b[1;34m\u001b[0m\n\u001b[1;32m----> 1\u001b[1;33m \u001b[0ml\u001b[0m\u001b[1;33m[\u001b[0m\u001b[1;36m45\u001b[0m\u001b[1;33m]\u001b[0m\u001b[1;33m\u001b[0m\u001b[1;33m\u001b[0m\u001b[0m\n\u001b[0m",
            "\u001b[1;31mIndexError\u001b[0m: list index out of range"
          ]
        }
      ],
      "source": [
        "l[45]"
      ]
    },
    {
      "cell_type": "code",
      "execution_count": null,
      "metadata": {
        "id": "LQwBWeqgS0GP",
        "outputId": "4b873a58-e537-48cf-e289-6bc214735118"
      },
      "outputs": [
        {
          "name": "stdout",
          "output_type": "stream",
          "text": [
            "index of  0 for an element k\n",
            "index of  1 for an element u\n",
            "index of  2 for an element m\n",
            "index of  3 for an element a\n",
            "index of  4 for an element r\n"
          ]
        }
      ],
      "source": [
        "for i in range (len(l1)): # question \n",
        "    print(\"index of \",i ,\"for an element\",l1[i])\n"
      ]
    },
    {
      "cell_type": "code",
      "execution_count": null,
      "metadata": {
        "id": "zYTq6BxPS0GQ",
        "outputId": "2b6c8908-5e1a-4ab8-8203-847f61fdd3ad"
      },
      "outputs": [
        {
          "ename": "FileNotFoundError",
          "evalue": "[Errno 2] No such file or directory: 'carbon_nanotubes.csv'",
          "output_type": "error",
          "traceback": [
            "\u001b[1;31m---------------------------------------------------------------------------\u001b[0m",
            "\u001b[1;31mFileNotFoundError\u001b[0m                         Traceback (most recent call last)",
            "\u001b[1;32m<ipython-input-84-dfa04d460896>\u001b[0m in \u001b[0;36m<module>\u001b[1;34m\u001b[0m\n\u001b[1;32m----> 1\u001b[1;33m \u001b[1;32mwith\u001b[0m \u001b[0mopen\u001b[0m\u001b[1;33m(\u001b[0m\u001b[1;34m\"carbon_nanotubes.csv\"\u001b[0m\u001b[1;33m,\u001b[0m \u001b[1;34m'r'\u001b[0m\u001b[1;33m)\u001b[0m \u001b[1;32mas\u001b[0m \u001b[0mfile\u001b[0m\u001b[1;33m:\u001b[0m\u001b[1;33m\u001b[0m\u001b[1;33m\u001b[0m\u001b[0m\n\u001b[0m\u001b[0;32m      2\u001b[0m     \u001b[0mdata\u001b[0m \u001b[1;33m=\u001b[0m \u001b[0mcsv\u001b[0m\u001b[1;33m.\u001b[0m\u001b[0mreader\u001b[0m\u001b[1;33m(\u001b[0m\u001b[0mfile\u001b[0m\u001b[1;33m,\u001b[0m\u001b[0mdelimiter\u001b[0m \u001b[1;33m=\u001b[0m \u001b[1;34m'\\n'\u001b[0m\u001b[1;33m)\u001b[0m\u001b[1;33m\u001b[0m\u001b[1;33m\u001b[0m\u001b[0m\n\u001b[0;32m      3\u001b[0m     \u001b[0mnext\u001b[0m\u001b[1;33m(\u001b[0m\u001b[0mdata\u001b[0m\u001b[1;33m)\u001b[0m\u001b[1;33m\u001b[0m\u001b[1;33m\u001b[0m\u001b[0m\n\u001b[0;32m      4\u001b[0m \u001b[1;33m\u001b[0m\u001b[0m\n\u001b[0;32m      5\u001b[0m     \u001b[1;32mfor\u001b[0m \u001b[0mi\u001b[0m \u001b[1;32min\u001b[0m \u001b[0mdata\u001b[0m\u001b[1;33m:\u001b[0m\u001b[1;33m\u001b[0m\u001b[1;33m\u001b[0m\u001b[0m\n",
            "\u001b[1;31mFileNotFoundError\u001b[0m: [Errno 2] No such file or directory: 'carbon_nanotubes.csv'"
          ]
        }
      ],
      "source": [
        "with open(\"carbon_nanotubes.csv\", 'r') as file:\n",
        "    data = csv.reader(file,delimiter = '\\n')\n",
        "    next(data)\n",
        "\n",
        "    for i in data:\n",
        "        j = i[0].replace(',',':').split(';') \n",
        "#         print(j)\n",
        "#         z = \",\".join(j)\n",
        "#         print(z)\n",
        "        query = \"INSERT INTO CarbonNanoTube.NanoTubeDetails values ({});\".format(j)\n",
        "        cursor.execute(query)\n",
        "    mydb.commit() \n",
        "    print(\"Data Inserted\")\n"
      ]
    },
    {
      "cell_type": "code",
      "execution_count": null,
      "metadata": {
        "id": "eVMCWyARS0GQ",
        "outputId": "b0f42eee-6357-4695-8284-33d7a2692d6a"
      },
      "outputs": [
        {
          "name": "stdout",
          "output_type": "stream",
          "text": [
            "sudh\n"
          ]
        }
      ],
      "source": [
        "l=[2,45,78,12,\"sudh\",6+5j,[56,67]]\n",
        "for i in l:\n",
        "    if type(i)==str:\n",
        "        print(i)\n"
      ]
    },
    {
      "cell_type": "code",
      "execution_count": null,
      "metadata": {
        "id": "iDqqzp0sS0GV",
        "outputId": "7fa3e704-a4c3-486b-c6ac-2db02640f5f0"
      },
      "outputs": [
        {
          "name": "stdout",
          "output_type": "stream",
          "text": [
            "sudh\n",
            "s\n",
            "u\n",
            "d\n",
            "h\n"
          ]
        }
      ],
      "source": [
        "for j in l:\n",
        "  if type(j)== str:\n",
        "    print(j)\n",
        "    for words in j:\n",
        "      print(words)\n"
      ]
    },
    {
      "cell_type": "code",
      "execution_count": null,
      "metadata": {
        "id": "WJIWcAupS0GW",
        "outputId": "0d3614d7-1593-4078-d3ba-8534db8f79bb"
      },
      "outputs": [
        {
          "name": "stdout",
          "output_type": "stream",
          "text": [
            "['s', 'u', 'd', 'h']\n"
          ]
        }
      ],
      "source": [
        "l = [1,2,3,5.6,4+5j,7.6,'sudh']\n",
        "for i in l:\n",
        "  if type(i) == str:\n",
        "    l1 = []\n",
        "    for j in i:\n",
        "      l1.append(j)\n",
        "    print(l1)\n"
      ]
    },
    {
      "cell_type": "code",
      "execution_count": null,
      "metadata": {
        "id": "5Wf9XQSlS0GW",
        "outputId": "53b23797-8224-4f94-b628-5fa03365cf37"
      },
      "outputs": [
        {
          "name": "stdout",
          "output_type": "stream",
          "text": [
            "['s', 'u', 'd', 'h']\n"
          ]
        }
      ],
      "source": [
        "l1=[2,4,5,6,7,\"sudh\",6+7j,[56,67,78,\"dfdfs\"]]\n",
        "for i in l1:\n",
        "      if type(i)== str:\n",
        "        l2=[]\n",
        "        for j in i:\n",
        "            l2.append(j)\n",
        "        print (l2)\n",
        "\n"
      ]
    },
    {
      "cell_type": "code",
      "execution_count": null,
      "metadata": {
        "id": "KdIe6nPmS0GY",
        "outputId": "e169d6e1-aea7-4c83-8a12-02de3c41d6f7"
      },
      "outputs": [
        {
          "name": "stdout",
          "output_type": "stream",
          "text": [
            "flag\n"
          ]
        }
      ],
      "source": [
        "l = [2,45,78,12,\"sudh\", 6 + 7j, [56,67,78,\"hhdh\"]]\n",
        "sqr = []\n",
        "for i in range(len(l)):\n",
        "    if type(l[i]) == list :\n",
        "        print(\"flag\")\n",
        "        for j in range(len(l[i])):\n",
        "            if type(l[i][j]) == int:\n",
        "                m = l[i][j]**2\n",
        "                sqr.append(m)\n"
      ]
    },
    {
      "cell_type": "code",
      "execution_count": null,
      "metadata": {
        "id": "Y4Lhv01LS0GY",
        "outputId": "a82ef499-4785-4858-c9d5-3096106a4cf8"
      },
      "outputs": [
        {
          "data": {
            "text/plain": [
              "[3136, 4489, 6084]"
            ]
          },
          "execution_count": 104,
          "metadata": {},
          "output_type": "execute_result"
        }
      ],
      "source": [
        "sqr"
      ]
    },
    {
      "cell_type": "code",
      "execution_count": null,
      "metadata": {
        "id": "VnNq33sSS0GZ",
        "outputId": "e1de292e-fc31-4be1-a106-7fa300f9687a"
      },
      "outputs": [
        {
          "name": "stdout",
          "output_type": "stream",
          "text": [
            "1\n",
            "24\n",
            "5.6\n"
          ]
        }
      ],
      "source": [
        "l=[1,24,5.6,\"sudh\",6+5j,[56,78,99]]\n",
        "for i in l:\n",
        "    if type(i)==float or  type(i)==int:\n",
        "        print (i)\n"
      ]
    },
    {
      "cell_type": "code",
      "execution_count": null,
      "metadata": {
        "id": "ScCKwydmS0Ga",
        "outputId": "baa1aa34-b60f-4072-bfe3-aa3ab8814c20"
      },
      "outputs": [
        {
          "data": {
            "text/plain": [
              "[0, 1, 2, 3]"
            ]
          },
          "execution_count": 109,
          "metadata": {},
          "output_type": "execute_result"
        }
      ],
      "source": [
        "list(range(4))"
      ]
    },
    {
      "cell_type": "code",
      "execution_count": null,
      "metadata": {
        "id": "L6CUqwOGS0Ga",
        "outputId": "849b810e-620b-4a17-f26d-c9c368144320"
      },
      "outputs": [
        {
          "data": {
            "text/plain": [
              "[1, 24, 5.6, 'sudh', (6+5j), [56, 78, 99]]"
            ]
          },
          "execution_count": 110,
          "metadata": {},
          "output_type": "execute_result"
        }
      ],
      "source": [
        "l"
      ]
    },
    {
      "cell_type": "code",
      "execution_count": null,
      "metadata": {
        "id": "ygW_pwqpS0Gg",
        "outputId": "393a1bd6-2d33-4a71-f6ca-a1cb3db3c616"
      },
      "outputs": [
        {
          "data": {
            "text/plain": [
              "6"
            ]
          },
          "execution_count": 111,
          "metadata": {},
          "output_type": "execute_result"
        }
      ],
      "source": [
        "len(l)"
      ]
    },
    {
      "cell_type": "code",
      "execution_count": null,
      "metadata": {
        "id": "NOzUnbxRS0Gh",
        "outputId": "1075d32c-64f9-4a95-8558-63c791c11a70"
      },
      "outputs": [
        {
          "data": {
            "text/plain": [
              "[0, 1, 2, 3, 4, 5]"
            ]
          },
          "execution_count": 113,
          "metadata": {},
          "output_type": "execute_result"
        }
      ],
      "source": [
        "list(range(len(l)))"
      ]
    },
    {
      "cell_type": "code",
      "execution_count": null,
      "metadata": {
        "id": "gx3LqXJoS0Gk",
        "outputId": "62137c74-706f-488f-e524-013b50f4ec50"
      },
      "outputs": [
        {
          "name": "stdout",
          "output_type": "stream",
          "text": [
            "1\n",
            "24\n",
            "5.6\n",
            "sudh\n",
            "(6+5j)\n",
            "[56, 78, 99]\n"
          ]
        }
      ],
      "source": [
        "for i in range(len(l)):\n",
        "    print(l[i])"
      ]
    },
    {
      "cell_type": "code",
      "execution_count": null,
      "metadata": {
        "id": "SlYIuH3NS0Gm",
        "outputId": "8b5fdf06-7ee9-4c05-fbf1-0dc56b40ae2e"
      },
      "outputs": [
        {
          "data": {
            "text/plain": [
              "[1, 24, 5.6, 'sudh', (6+5j), [56, 78, 99]]"
            ]
          },
          "execution_count": 115,
          "metadata": {},
          "output_type": "execute_result"
        }
      ],
      "source": [
        "l"
      ]
    },
    {
      "cell_type": "code",
      "execution_count": null,
      "metadata": {
        "id": "yfHDIN60S0Gn",
        "outputId": "8fb3046b-bb4f-4307-b604-b040c55b6562"
      },
      "outputs": [
        {
          "data": {
            "text/plain": [
              "5.6"
            ]
          },
          "execution_count": 118,
          "metadata": {},
          "output_type": "execute_result"
        }
      ],
      "source": [
        "l[2]"
      ]
    },
    {
      "cell_type": "code",
      "execution_count": null,
      "metadata": {
        "id": "HpRNKmO4S0Go",
        "outputId": "cc7dd28f-d0ca-4408-cecf-090f3579f16c"
      },
      "outputs": [
        {
          "data": {
            "text/plain": [
              "2"
            ]
          },
          "execution_count": 120,
          "metadata": {},
          "output_type": "execute_result"
        }
      ],
      "source": [
        "2 & 3 "
      ]
    },
    {
      "cell_type": "code",
      "execution_count": null,
      "metadata": {
        "id": "M4iXcB6TS0Gp",
        "outputId": "369b1a81-9579-4def-89a7-e8d8b5087b4b"
      },
      "outputs": [
        {
          "data": {
            "text/plain": [
              "3"
            ]
          },
          "execution_count": 122,
          "metadata": {},
          "output_type": "execute_result"
        }
      ],
      "source": [
        "2 and 3"
      ]
    },
    {
      "cell_type": "code",
      "execution_count": null,
      "metadata": {
        "id": "bYdXl2heS0Gq",
        "outputId": "df867417-b883-41e4-dea0-5ffa1a4a8312"
      },
      "outputs": [
        {
          "data": {
            "text/plain": [
              "[1, 2, 3, 1, 2, 3, [23, 's', 32, '4r5'], 's']"
            ]
          },
          "execution_count": 123,
          "metadata": {},
          "output_type": "execute_result"
        }
      ],
      "source": [
        "l = [1,2,3]\n",
        "s =  [1,2,3,[23,'s',32,'4r5'],'s']\n",
        "\n",
        "l.extend(s)\n",
        "l\n"
      ]
    },
    {
      "cell_type": "code",
      "execution_count": null,
      "metadata": {
        "id": "w-EsBciBS0Gr"
      },
      "outputs": [],
      "source": [
        "l.append(s)"
      ]
    },
    {
      "cell_type": "code",
      "execution_count": null,
      "metadata": {
        "id": "QMX00O9JS0Gt",
        "outputId": "cef30110-4161-426a-efc9-f58beab246af"
      },
      "outputs": [
        {
          "name": "stdout",
          "output_type": "stream",
          "text": [
            "['sudh', 'dsfdsf']\n"
          ]
        }
      ],
      "source": [
        "l=[2,45,78,12,\"sudh\",6+7j,[56,67,78,\"dsfdsf\"]]\n",
        "o=[]\n",
        "for i in l:\n",
        "    if type(i)== str:\n",
        "        o.append(i)\n",
        "    if type(i)==list:\n",
        "        for j in i:\n",
        "            if type(j)==str:\n",
        "                o.append(j)\n",
        "                \n",
        "        print(o)\n"
      ]
    },
    {
      "cell_type": "code",
      "execution_count": null,
      "metadata": {
        "id": "qaHIlnoMS0Gu",
        "outputId": "18fb09fb-9977-47b8-e890-0f54fa47bd03"
      },
      "outputs": [
        {
          "name": "stdout",
          "output_type": "stream",
          "text": [
            "[4, 2025, 6084, 144]\n"
          ]
        }
      ],
      "source": [
        "l=[2, 45, 78, 12, 'sudh', (6+7j), [56, 67, 78, 'dsfsdf']]\n",
        "l2 = []\n",
        "for i in l:\n",
        "    if type(i) == int:\n",
        "        l2.append(i**2)\n",
        "print(l2)\n"
      ]
    },
    {
      "cell_type": "code",
      "execution_count": null,
      "metadata": {
        "id": "pU5sm207S0Gw",
        "outputId": "099883d5-cdd4-4620-c3c1-168440f958cc"
      },
      "outputs": [
        {
          "name": "stdout",
          "output_type": "stream",
          "text": [
            "['s', 'u', 'd', 'h']\n"
          ]
        }
      ],
      "source": [
        "for i in l :\n",
        "    if type(i)==str:\n",
        "        l1=[]\n",
        "        for j in i:\n",
        "            l1.append(j)\n",
        "        print(l1)"
      ]
    },
    {
      "cell_type": "code",
      "execution_count": null,
      "metadata": {
        "id": "4th4PHK9S0G1",
        "outputId": "fec96346-566f-486e-d30b-5f58911a7ff7"
      },
      "outputs": [
        {
          "data": {
            "text/plain": [
              "[0,\n",
              " 1,\n",
              " 2,\n",
              " 3,\n",
              " 4,\n",
              " 5,\n",
              " 6,\n",
              " 7,\n",
              " 8,\n",
              " 9,\n",
              " 10,\n",
              " 11,\n",
              " 12,\n",
              " 13,\n",
              " 14,\n",
              " 15,\n",
              " 16,\n",
              " 17,\n",
              " 18,\n",
              " 19,\n",
              " 20,\n",
              " 21,\n",
              " 22,\n",
              " 23]"
            ]
          },
          "execution_count": 137,
          "metadata": {},
          "output_type": "execute_result"
        }
      ],
      "source": [
        "list( range(len(s)))"
      ]
    },
    {
      "cell_type": "code",
      "execution_count": null,
      "metadata": {
        "id": "nku20pIOS0G3",
        "outputId": "95703af0-cd2f-4142-a2c7-5a479dd12de5"
      },
      "outputs": [
        {
          "name": "stdout",
          "output_type": "stream",
          "text": [
            "t\n",
            "h\n",
            "c\n",
            "t\n",
            "a\n",
            "b\n",
            " \n",
            "k\n",
            "c\n",
            "a\n",
            "t\n",
            "s\n",
            " \n",
            "l\n",
            "l\n",
            "u\n",
            "f\n",
            " \n",
            "s\n",
            "i\n",
            " \n",
            "s\n",
            "i\n",
            "h\n"
          ]
        }
      ],
      "source": [
        "s = 'this is full stack batch'\n",
        "\n",
        "for i in range(len(s)):\n",
        "    print(s[-i])\n"
      ]
    },
    {
      "cell_type": "code",
      "execution_count": null,
      "metadata": {
        "id": "AglO1Ez-S0G4",
        "outputId": "0d67ad7a-d116-495b-9e83-975ebc150ed0"
      },
      "outputs": [
        {
          "name": "stdout",
          "output_type": "stream",
          "text": [
            "['a', 's', 'h', 'gvjhbjknjn', 'gvjhbjknjn', 'gvjhbjknjn', 'gvjhbjknjn', 'gvjhbjknjn', 'gvjhbjknjn', 'gvjhbjknjn', 'gvjhbjknjn', 'gvjhbjknjn', 'gvjhbjknjn']\n"
          ]
        }
      ],
      "source": [
        "l=[2,45,78,12, 12, 12, \"ash\", 7+8j, [6,87,34,\"gvjhbjknjn\"]]\n",
        "for i in l:\n",
        "    if type(i)==str:\n",
        "        a=[]\n",
        "        for h in i:\n",
        "            a.append(h)\n",
        "    if type(i)==list:\n",
        "        for k in i:\n",
        "            if type(k)==str:\n",
        "                for m in k:\n",
        "                    a.append(k)\n",
        "                print(a)"
      ]
    },
    {
      "cell_type": "code",
      "execution_count": null,
      "metadata": {
        "id": "Pn3ORnHjS0G5",
        "outputId": "19cadd28-5baa-4c5c-e478-27ed3cd741a1"
      },
      "outputs": [
        {
          "data": {
            "text/plain": [
              "[2, 45, 78, 12, 12, 12, 'ash', (7+8j), [6, 87, 34, 'gvjhbjknjn']]"
            ]
          },
          "execution_count": 139,
          "metadata": {},
          "output_type": "execute_result"
        }
      ],
      "source": [
        "l"
      ]
    },
    {
      "cell_type": "code",
      "execution_count": null,
      "metadata": {
        "id": "MSq4wXB9S0G6",
        "outputId": "61a7db98-eccc-4140-bf61-ace6b218ad97"
      },
      "outputs": [
        {
          "data": {
            "text/plain": [
              "[0, 1, 2, 3, 4, 5, 6, 7, 8]"
            ]
          },
          "execution_count": 142,
          "metadata": {},
          "output_type": "execute_result"
        }
      ],
      "source": [
        "list(range(len(l)))"
      ]
    },
    {
      "cell_type": "code",
      "execution_count": null,
      "metadata": {
        "id": "UnIQ1FiIS0G7",
        "outputId": "9e6b505d-3d63-4482-ade3-e63b1581dc66"
      },
      "outputs": [
        {
          "name": "stdout",
          "output_type": "stream",
          "text": [
            "2\n",
            "45\n",
            "78\n",
            "12\n",
            "12\n",
            "12\n",
            "ash\n",
            "(7+8j)\n",
            "[6, 87, 34, 'gvjhbjknjn']\n"
          ]
        }
      ],
      "source": [
        "for i in [0, 1, 2, 3, 4, 5, 6, 7, 8]:\n",
        "    print(l[i])"
      ]
    },
    {
      "cell_type": "code",
      "execution_count": null,
      "metadata": {
        "id": "GxkW3oMHS0G-",
        "outputId": "f54f64a0-ba9d-4976-8c75-6a6efbebd8ad"
      },
      "outputs": [
        {
          "data": {
            "text/plain": [
              "2"
            ]
          },
          "execution_count": 143,
          "metadata": {},
          "output_type": "execute_result"
        }
      ],
      "source": [
        "l[0]"
      ]
    },
    {
      "cell_type": "code",
      "execution_count": null,
      "metadata": {
        "id": "x4Ht8umlS0G_",
        "outputId": "9f827357-5472-40cb-e77e-62a52402390c"
      },
      "outputs": [
        {
          "name": "stdout",
          "output_type": "stream",
          "text": [
            "['j', 'i', 'c', 'k', 'u']\n",
            "['s', 'u', 'd', 'h']\n"
          ]
        }
      ],
      "source": [
        "l=[2,45,\"jicku\",12,\"sudh\",6+7j,[56,67,78,\"dsdsdsf\"]]\n",
        "for i in l:\n",
        "    if type(i)==str:\n",
        "        list_c=[]\n",
        "        for j in range(0,len(i)):\n",
        "            list_c.insert(j,i[j])\n",
        "        print(list_c)\n"
      ]
    },
    {
      "cell_type": "code",
      "execution_count": null,
      "metadata": {
        "id": "BqzQIeOhS0HA"
      },
      "outputs": [],
      "source": [
        "l2 = [] \n",
        "for i in l:\n",
        "    if type(i)==str:\n",
        "        for j in i:\n",
        "            l2.append(j)"
      ]
    },
    {
      "cell_type": "code",
      "execution_count": null,
      "metadata": {
        "id": "1BzEaNfCS0HD",
        "outputId": "72929004-630b-4a76-f89c-8c23b00b42d0"
      },
      "outputs": [
        {
          "data": {
            "text/plain": [
              "['j', 'i', 'c', 'k', 'u', 's', 'u', 'd', 'h']"
            ]
          },
          "execution_count": 159,
          "metadata": {},
          "output_type": "execute_result"
        }
      ],
      "source": [
        "l2"
      ]
    },
    {
      "cell_type": "code",
      "execution_count": null,
      "metadata": {
        "id": "8_Pyfqu_S0HH",
        "outputId": "d1958780-8bfe-4c23-fed7-bf220d9e512f"
      },
      "outputs": [
        {
          "name": "stdout",
          "output_type": "stream",
          "text": [
            "enter a string to startdfff\n",
            "enter a courseservice\n",
            " enter a servicemodule\n",
            "connect with ur team\n"
          ]
        }
      ],
      "source": [
        "s = input(\"enter a string to start\")\n",
        "course=input(\"enter a course\")\n",
        "service=input(\" enter a service\")\n",
        "if s==\"one\" :\n",
        "    if course==\"DSA\" :\n",
        "        print(\"yes its available\")\n",
        "    elif course==\"block chain\" :\n",
        "        print(\"no its nt available\")\n",
        "    elif course==\"FSDS\" :\n",
        "        print(\"yes, start learning\")\n",
        "    else :\n",
        "        print(\"not available ,raise your demnd\")       \n",
        "elif s==\"service\":   \n",
        "    if service==\"course request\":\n",
        "        print(\"raise demand\")\n",
        "    elif  service==\"module\":    \n",
        "        print(\"new course module\")\n",
        "    elif service==\" doubt\":\n",
        "        print(\"work with us\")\n",
        "    else:\n",
        "        print(\"provide your feedback\")\n",
        "else:\n",
        "    print(\"connect with ur team\")\n"
      ]
    },
    {
      "cell_type": "code",
      "execution_count": null,
      "metadata": {
        "id": "E9vTBq78S0HI",
        "outputId": "447be50c-1429-441b-a913-bade4a4526e6"
      },
      "outputs": [
        {
          "data": {
            "text/plain": [
              "[2, 45, 'jicku', 12, 'sudh', (6+7j), [56, 67, 78, 'dsdsdsf']]"
            ]
          },
          "execution_count": 163,
          "metadata": {},
          "output_type": "execute_result"
        }
      ],
      "source": [
        "l"
      ]
    },
    {
      "cell_type": "code",
      "execution_count": null,
      "metadata": {
        "id": "zjBBRsSpS0HK",
        "outputId": "254ad760-e4ee-450c-8fca-b4d3105f3573"
      },
      "outputs": [
        {
          "name": "stdout",
          "output_type": "stream",
          "text": [
            "6.0\n"
          ]
        }
      ],
      "source": [
        "for i in l :\n",
        "    if type(i) ==complex:\n",
        "        print(i.real)"
      ]
    },
    {
      "cell_type": "code",
      "execution_count": null,
      "metadata": {
        "id": "1iOnKwkDS0HL",
        "outputId": "a4e20de2-ce68-4161-979b-e324d845c9af"
      },
      "outputs": [
        {
          "name": "stdout",
          "output_type": "stream",
          "text": [
            "oneneuroneservice\n",
            "sdfs\n",
            "module\n",
            "NOTE : you raised demand for module\n"
          ]
        }
      ],
      "source": [
        "s = input()\n",
        "course = input()\n",
        "service = input()\n",
        "if s == \"oneneurone\":\n",
        "    if course == \"dsa\":\n",
        "        print(\"yes available\")\n",
        "    elif course == \"blockcain\":\n",
        "        print(\"this is not available\")\n",
        "    elif course == \"fsds\":\n",
        "        print(\"yes started you can learn\")\n",
        "    else :\n",
        "        print (\" this is not available raise your demand\")\n",
        "elif s == \"oneneuroneservice\":\n",
        "    if service == \"courserequest\":\n",
        "        print:(\"NOTE:raised demand related to new course\")\n",
        "    elif service == \"module\" :\n",
        "        print (\"NOTE : you raised demand for module\")\n",
        "    else :\n",
        "        print(\"provide us your feedback\")\n",
        "else:\n",
        "    print(\"kindely connect with our team\")\n"
      ]
    },
    {
      "cell_type": "code",
      "execution_count": null,
      "metadata": {
        "id": "EsMOFVdIS0HM"
      },
      "outputs": [],
      "source": [
        "c=0\n",
        "#dsffasdfsadfsadfsa\n",
        "for i in [0,1,2]:\n",
        "    for j in [0,1,2]:\n",
        "        if i != j:\n",
        "            c=c+1\n",
        "            c=c-3+1"
      ]
    },
    {
      "cell_type": "code",
      "execution_count": null,
      "metadata": {
        "id": "zLKAv6fxS0HN",
        "outputId": "7fefd54c-2f39-4495-b186-8553d1a9f161"
      },
      "outputs": [
        {
          "data": {
            "text/plain": [
              "-6"
            ]
          },
          "execution_count": 168,
          "metadata": {},
          "output_type": "execute_result"
        }
      ],
      "source": [
        "c"
      ]
    },
    {
      "cell_type": "code",
      "execution_count": null,
      "metadata": {
        "id": "sLg-j5uVS0HO"
      },
      "outputs": [],
      "source": [
        "\"\"\"fdsafsa\n",
        "fdsaf\n",
        "dsa\n",
        "fsad\n",
        "fsa\n",
        "f\n",
        "saf\n",
        "sadf\"\"\""
      ]
    },
    {
      "cell_type": "code",
      "execution_count": null,
      "metadata": {
        "id": "qgDooFp4S0HP",
        "outputId": "2962ec4b-3029-409b-c636-268a86c9faec"
      },
      "outputs": [
        {
          "data": {
            "text/plain": [
              "[2, 45, 'jicku', 12, 'sudh', (6+7j), [56, 67, 78, 'dsdsdsf']]"
            ]
          },
          "execution_count": 171,
          "metadata": {},
          "output_type": "execute_result"
        }
      ],
      "source": [
        "l"
      ]
    },
    {
      "cell_type": "code",
      "execution_count": null,
      "metadata": {
        "id": "ML-ZxlYtS0HQ",
        "outputId": "3789fb42-6885-4d88-8af9-29a76c3e3da1"
      },
      "outputs": [
        {
          "name": "stdout",
          "output_type": "stream",
          "text": [
            "0\n",
            "1\n",
            "2\n",
            "3\n",
            "4\n",
            "5\n",
            "6\n"
          ]
        }
      ],
      "source": [
        "for i in [0, 1, 2, 3, 4]:\n",
        "    print(i)"
      ]
    },
    {
      "cell_type": "code",
      "execution_count": null,
      "metadata": {
        "id": "KWcTznuwS0HR",
        "outputId": "bd73a48b-0b5a-4c0f-c14c-1c00dbecb1ee"
      },
      "outputs": [
        {
          "data": {
            "text/plain": [
              "[0, 1, 2, 3, 4]"
            ]
          },
          "execution_count": 175,
          "metadata": {},
          "output_type": "execute_result"
        }
      ],
      "source": [
        "list(range(len(l)))"
      ]
    },
    {
      "cell_type": "code",
      "execution_count": null,
      "metadata": {
        "id": "vJwxN27RS0HS",
        "outputId": "457eec8f-6bb3-452c-c041-a080e3faccda"
      },
      "outputs": [
        {
          "name": "stdout",
          "output_type": "stream",
          "text": [
            "2\n",
            "3\n",
            "4\n",
            "5\n",
            "6\n"
          ]
        }
      ],
      "source": [
        "l = [4,5,6,7,8]\n",
        "for i in range(len(l)) :\n",
        "    print(i+2)"
      ]
    },
    {
      "cell_type": "code",
      "execution_count": null,
      "metadata": {
        "id": "dgbKZzWDS0HT",
        "outputId": "f3990434-f141-4c54-dd83-4c34e2f82fee"
      },
      "outputs": [
        {
          "name": "stdout",
          "output_type": "stream",
          "text": [
            "Index 4 for an element  12\n",
            "Index 5 for an element  12\n",
            "Index 6 for an element  3\n",
            "Index 7 for an element  12\n",
            "Index 8 for an element  Sudh\n"
          ]
        }
      ],
      "source": [
        "l3 = [2,45, 78,12,12,12,3,12, 'Sudh', 6+7j, [56,67,78,'sahfgu']]\n",
        "for i in l:\n",
        "    print(\"Index\",i,\"for an element \", l3[i])\n",
        "    if type(i)==str:\n",
        "        l4=[]\n",
        "        for j in i:\n",
        "            l4.append(j)\n",
        "        print(l4)\n"
      ]
    },
    {
      "cell_type": "code",
      "execution_count": null,
      "metadata": {
        "id": "yCpzxEwLS0HY",
        "outputId": "4570cc3a-9a28-44f5-9c52-dfd95d8bbac3"
      },
      "outputs": [
        {
          "name": "stdout",
          "output_type": "stream",
          "text": [
            "2 is the str\n",
            "4 is the str\n",
            "4 is the str\n",
            "fdfd is the str\n",
            "(5+2j) is the str\n",
            "dsdfsfs is the str\n"
          ]
        }
      ],
      "source": [
        "l=[2,4,4,\"fdfd\",5+2j,\"dsdfsfs\"]\n",
        "for i in l:\n",
        "    print(i, \"is the str\") \n"
      ]
    },
    {
      "cell_type": "code",
      "execution_count": null,
      "metadata": {
        "id": "TmQayXB3S0Ha"
      },
      "outputs": [],
      "source": []
    }
  ],
  "metadata": {
    "kernelspec": {
      "display_name": "Python 3",
      "language": "python",
      "name": "python3"
    },
    "language_info": {
      "codemirror_mode": {
        "name": "ipython",
        "version": 3
      },
      "file_extension": ".py",
      "mimetype": "text/x-python",
      "name": "python",
      "nbconvert_exporter": "python",
      "pygments_lexer": "ipython3",
      "version": "3.8.5"
    },
    "colab": {
      "provenance": [],
      "include_colab_link": true
    }
  },
  "nbformat": 4,
  "nbformat_minor": 0
}