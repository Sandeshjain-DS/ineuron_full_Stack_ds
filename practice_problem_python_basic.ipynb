{
  "cells": [
    {
      "cell_type": "markdown",
      "metadata": {
        "id": "view-in-github",
        "colab_type": "text"
      },
      "source": [
        "<a href=\"https://colab.research.google.com/github/Sandeshjain-DS/ineuron_full_Stack_ds/blob/main/practice_problem_python_basic.ipynb\" target=\"_parent\"><img src=\"https://colab.research.google.com/assets/colab-badge.svg\" alt=\"Open In Colab\"/></a>"
      ]
    },
    {
      "cell_type": "code",
      "execution_count": null,
      "metadata": {
        "id": "wNaXZqok-Q-l",
        "outputId": "23a683ec-5496-488b-8517-279f90e74c63"
      },
      "outputs": [
        {
          "data": {
            "text/plain": [
              "26"
            ]
          },
          "execution_count": 1,
          "metadata": {},
          "output_type": "execute_result"
        }
      ],
      "source": [
        "s = \"This is basic python class\"\n",
        "len(s)"
      ]
    },
    {
      "cell_type": "code",
      "execution_count": null,
      "metadata": {
        "id": "8FqOXoCL-Q-t",
        "outputId": "64cc0d2d-88b9-40b2-8697-e2715eb68f26"
      },
      "outputs": [
        {
          "name": "stdout",
          "output_type": "stream",
          "text": [
            "26\n"
          ]
        }
      ],
      "source": [
        "count = 0 \n",
        "for i in s :\n",
        "    #count = count +1\n",
        "    count+=1\n",
        "print(count)\n",
        "    "
      ]
    },
    {
      "cell_type": "code",
      "execution_count": null,
      "metadata": {
        "id": "d73IKKBR-Q-v",
        "outputId": "76636429-9226-4b67-f9bb-d37c6d49f34b"
      },
      "outputs": [
        {
          "data": {
            "text/plain": [
              "'ssalc nohtyp cisab si sihT'"
            ]
          },
          "execution_count": 4,
          "metadata": {},
          "output_type": "execute_result"
        }
      ],
      "source": [
        "s[::-1]"
      ]
    },
    {
      "cell_type": "code",
      "execution_count": null,
      "metadata": {
        "id": "rQUyS2qu-Q-w",
        "outputId": "e21a4a95-e314-4040-a76b-4ce05001a61c"
      },
      "outputs": [
        {
          "name": "stdout",
          "output_type": "stream",
          "text": [
            "s\n",
            "s\n",
            "a\n",
            "l\n",
            "c\n",
            " \n",
            "n\n",
            "o\n",
            "h\n",
            "t\n",
            "y\n",
            "p\n",
            " \n",
            "c\n",
            "i\n",
            "s\n",
            "a\n",
            "b\n",
            " \n",
            "s\n",
            "i\n",
            " \n",
            "s\n",
            "i\n",
            "h\n",
            "T\n"
          ]
        }
      ],
      "source": [
        "for i in range(len(s)-1 , -1,-1):\n",
        "    print(s[i])"
      ]
    },
    {
      "cell_type": "code",
      "execution_count": null,
      "metadata": {
        "id": "KN6MKz4U-Q-x",
        "outputId": "2633aebc-015d-4a31-b6f9-3863b0a7d7a9"
      },
      "outputs": [
        {
          "name": "stdout",
          "output_type": "stream",
          "text": [
            "s s a l c   n o h t y p   c i s a b   s i   s i h T "
          ]
        }
      ],
      "source": [
        "i=len(s)-1\n",
        "while(i>=0):\n",
        "    print(s[i],end=\" \")\n",
        "    i=i-1\n"
      ]
    },
    {
      "cell_type": "code",
      "execution_count": null,
      "metadata": {
        "id": "q8XVMV3e-Q-y",
        "outputId": "f7c57ccc-ff70-4e31-99a6-158f0367b701"
      },
      "outputs": [
        {
          "data": {
            "text/plain": [
              "'This is basic python class'"
            ]
          },
          "execution_count": 7,
          "metadata": {},
          "output_type": "execute_result"
        }
      ],
      "source": [
        "s\n"
      ]
    },
    {
      "cell_type": "code",
      "execution_count": null,
      "metadata": {
        "id": "h3ZArEtb-Q-0"
      },
      "outputs": [],
      "source": [
        "s = \"ineuron\"\n",
        "v = \"AaEeIiOoUu\""
      ]
    },
    {
      "cell_type": "code",
      "execution_count": null,
      "metadata": {
        "id": "YXOe3KQP-Q-1",
        "outputId": "ae9a45e3-ac8e-4178-dd8f-74c430dcfd68"
      },
      "outputs": [
        {
          "name": "stdout",
          "output_type": "stream",
          "text": [
            "not vowel s\n",
            "not vowel h\n",
            "vowel i\n",
            "not vowel k\n",
            "not vowel h\n",
            "vowel a\n",
            "not vowel r\n"
          ]
        }
      ],
      "source": [
        "s=\"shikhar\"\n",
        "v=\"AaEeIiOoUu\"\n",
        "for i in s:\n",
        "    if i in v:\n",
        "        print(\"vowel\",i)\n",
        "    else:\n",
        "        print(\"not vowel\",i)\n"
      ]
    },
    {
      "cell_type": "code",
      "execution_count": null,
      "metadata": {
        "id": "KfEpxRq9-Q-3",
        "outputId": "4136f44f-952d-4de4-ea65-0203aa76e378"
      },
      "outputs": [
        {
          "data": {
            "text/plain": [
              "False"
            ]
          },
          "execution_count": 14,
          "metadata": {},
          "output_type": "execute_result"
        }
      ],
      "source": [
        "\"g\" in \"sudh\""
      ]
    },
    {
      "cell_type": "code",
      "execution_count": null,
      "metadata": {
        "id": "0FuofzMG-Q-5",
        "outputId": "07ac9754-e50b-45b9-a464-81d75752e3f3"
      },
      "outputs": [
        {
          "data": {
            "text/plain": [
              "'shikhar'"
            ]
          },
          "execution_count": 10,
          "metadata": {},
          "output_type": "execute_result"
        }
      ],
      "source": [
        "s"
      ]
    },
    {
      "cell_type": "code",
      "execution_count": null,
      "metadata": {
        "id": "wF8isy4G-Q-7"
      },
      "outputs": [],
      "source": [
        "\"tnent\"\n",
        "\"malayalam\"\n",
        "\"eye\""
      ]
    },
    {
      "cell_type": "code",
      "execution_count": null,
      "metadata": {
        "id": "rAJ_u9La-Q-8",
        "outputId": "ab1e81e5-4ac6-41c4-9100-fb1a4f8eaf1a"
      },
      "outputs": [
        {
          "name": "stdout",
          "output_type": "stream",
          "text": [
            "eye\n",
            "Pallindrome eye\n"
          ]
        }
      ],
      "source": [
        "s = input()\n",
        "v = s[::-1]\n",
        "if s == v :\n",
        "    print(\"Pallindrome\",s)\n",
        "else:\n",
        "    print(\"Not a pallindrome\",s)\n"
      ]
    },
    {
      "cell_type": "code",
      "execution_count": null,
      "metadata": {
        "id": "pn9c4nxN-Q-8"
      },
      "outputs": [],
      "source": [
        "s = 'koot'\n",
        "s1 = 'malayalam'\n",
        "if s1 == s1[::-1]:\n",
        "    print('palindrom')\n",
        "else:\n",
        "    print('not a palindrom')\n"
      ]
    },
    {
      "cell_type": "code",
      "execution_count": null,
      "metadata": {
        "id": "WiYdyFk4-Q-9",
        "outputId": "d83730d4-8b74-4c30-9e77-1efd79cf0693"
      },
      "outputs": [
        {
          "name": "stdout",
          "output_type": "stream",
          "text": [
            "eyeeee is palendrom\n",
            "eyeeee  - Not a palendrome\n",
            "eyeeee is palendrom\n",
            "eyeeee is palendrom\n",
            "eyeeee  - Not a palendrome\n",
            "eyeeee is palendrom\n"
          ]
        }
      ],
      "source": [
        "word = \"eyeeee\"\n",
        "for i in range(len(word)):\n",
        "    if word[i] == word[len(word)-1-i]:\n",
        "        print(word , \"is palendrom\")\n",
        "        continue\n",
        "    else:\n",
        "        print(word,\" - Not a palendrome\")\n"
      ]
    },
    {
      "cell_type": "code",
      "execution_count": null,
      "metadata": {
        "id": "GiNBC8U2-Q-_",
        "outputId": "e8a8136e-aba6-45aa-e579-2c5d3a10c703"
      },
      "outputs": [
        {
          "name": "stdout",
          "output_type": "stream",
          "text": [
            "Palindrome\n"
          ]
        }
      ],
      "source": [
        "word=\"eeyee\"\n",
        "\n",
        "for i in range(len(word)):\n",
        "    if word[i]!=word[len(word)-i-1]:\n",
        "        print(\"Not palindrome\")\n",
        "        break\n",
        "else:\n",
        "    print(\"Palindrome\")\n"
      ]
    },
    {
      "cell_type": "code",
      "execution_count": null,
      "metadata": {
        "id": "iEo10g0F-Q-_",
        "outputId": "ba2c23b2-ed68-4c58-bc80-eb66dd4857ab"
      },
      "outputs": [
        {
          "name": "stdout",
          "output_type": "stream",
          "text": [
            "not palindrome\n"
          ]
        }
      ],
      "source": [
        "s1=\"eye\"\n",
        "s2=s1\n",
        "n = len(s1)-1\n",
        "while (n>=0):\n",
        "   #print(s1[n],end=\"\")\n",
        "    n=n-1\n",
        "if s2==n:\n",
        "    print(\"palindrome\")\n",
        "else:\n",
        "    print(\"not palindrome\")\n"
      ]
    },
    {
      "cell_type": "code",
      "execution_count": null,
      "metadata": {
        "id": "ZvL7NFgO-Q_A",
        "outputId": "6d04ff86-d009-4962-9f35-a34cebe66cde"
      },
      "outputs": [
        {
          "name": "stdout",
          "output_type": "stream",
          "text": [
            "tnent\n",
            "palindrome\n"
          ]
        }
      ],
      "source": [
        "s=input()\n",
        "f=\"\"\n",
        "i=len(s)-1\n",
        "\n",
        "while(i>=0):\n",
        "    f=f+s[i]\n",
        "    i=i-1\n",
        "if(s==f):\n",
        "    print(\"palindrome\")\n",
        "else:\n",
        "    print(\"not a palindrome\")\n"
      ]
    },
    {
      "cell_type": "code",
      "execution_count": null,
      "metadata": {
        "id": "2rn0dD8Y-Q_B",
        "outputId": "de74cd4c-9b41-409a-f33a-e2555fe567f8"
      },
      "outputs": [
        {
          "name": "stdout",
          "output_type": "stream",
          "text": [
            "Yes\n"
          ]
        }
      ],
      "source": [
        "x = \"malayalam\"\n",
        " \n",
        "w = \"\"\n",
        "for i in x:\n",
        "    w = i + w\n",
        " \n",
        "if (x == w):\n",
        "    print(\"Yes\")\n",
        "else:\n",
        "    print(\"No\")\n"
      ]
    },
    {
      "cell_type": "code",
      "execution_count": null,
      "metadata": {
        "id": "GKcQlFNw-Q_B",
        "outputId": "fa7fca1e-cbb4-462e-add7-6ee8727c96e7"
      },
      "outputs": [
        {
          "name": "stdout",
          "output_type": "stream",
          "text": [
            "palindrome\n"
          ]
        }
      ],
      "source": [
        "l=len(s)\n",
        "k=0\n",
        "for i in range(l):\n",
        "    if s[i]==s[l-i-1]:\n",
        "               \n",
        "               continue\n",
        "    else:\n",
        "               print(\"Non palindrome\")\n",
        "               k=1\n",
        "               break\n",
        "if k==0:\n",
        "    print(\"palindrome\")\n"
      ]
    },
    {
      "cell_type": "code",
      "execution_count": null,
      "metadata": {
        "id": "5VwoL4Q1-Q_C",
        "outputId": "0cef2ee3-d718-426d-e593-c952deb53769"
      },
      "outputs": [
        {
          "data": {
            "text/plain": [
              "'tnent'"
            ]
          },
          "execution_count": 40,
          "metadata": {},
          "output_type": "execute_result"
        }
      ],
      "source": [
        "s"
      ]
    },
    {
      "cell_type": "code",
      "execution_count": null,
      "metadata": {
        "id": "DgjNth2h-Q_D"
      },
      "outputs": [],
      "source": [
        "d = {\"india\" :\"IN\" ,\n",
        "     \"canada\" : \"CA\",\n",
        "     \"china\" : \"CH\",\n",
        "     \"united state \" : \"US\"\n",
        "    }"
      ]
    },
    {
      "cell_type": "code",
      "execution_count": null,
      "metadata": {
        "id": "lg1pxbvM-Q_E",
        "outputId": "84ab4f7d-6268-44e1-baa3-914b471829db"
      },
      "outputs": [
        {
          "data": {
            "text/plain": [
              "True"
            ]
          },
          "execution_count": 43,
          "metadata": {},
          "output_type": "execute_result"
        }
      ],
      "source": [
        "\"india\" in d"
      ]
    },
    {
      "cell_type": "code",
      "execution_count": null,
      "metadata": {
        "id": "B8lWYccY-Q_F"
      },
      "outputs": [],
      "source": [
        "l_greater = []\n",
        "l_smaller = []\n",
        "for i in d:\n",
        "    if len(i)<= 5 :\n",
        "        l_smaller.append(i)\n",
        "    else :\n",
        "        l_greater.append(i)"
      ]
    },
    {
      "cell_type": "code",
      "execution_count": null,
      "metadata": {
        "id": "GZ3P3Nkb-Q_G",
        "outputId": "7b13f323-a3c4-4528-9f94-aafe1de0effb"
      },
      "outputs": [
        {
          "data": {
            "text/plain": [
              "['canada', 'united state ']"
            ]
          },
          "execution_count": 46,
          "metadata": {},
          "output_type": "execute_result"
        }
      ],
      "source": [
        "l_greater"
      ]
    },
    {
      "cell_type": "code",
      "execution_count": null,
      "metadata": {
        "id": "Avri_3D4-Q_G",
        "outputId": "b804a7dd-d4f4-4dec-bdcf-b7b4f46dbe0d"
      },
      "outputs": [
        {
          "data": {
            "text/plain": [
              "['india', 'china']"
            ]
          },
          "execution_count": 47,
          "metadata": {},
          "output_type": "execute_result"
        }
      ],
      "source": [
        "l_smaller"
      ]
    },
    {
      "cell_type": "code",
      "execution_count": null,
      "metadata": {
        "id": "Y_mXc9VN-Q_H"
      },
      "outputs": [],
      "source": [
        "d_1 = {\"ineruon\" :{\n",
        "                        \"a\" : 14,\n",
        "                        \"b\":10,\n",
        "                        \"c\" : 4\n",
        "                    },\n",
        "        \n",
        "       'course' : {\n",
        "                       'd':45,\n",
        "                       \"e\" : 34,\n",
        "                       'f' :1\n",
        "                   }\n",
        "    }"
      ]
    },
    {
      "cell_type": "code",
      "execution_count": null,
      "metadata": {
        "id": "Ws0m_RcG-Q_H",
        "outputId": "54d987dc-ddad-4f35-d4d7-847c9f705446"
      },
      "outputs": [
        {
          "name": "stdout",
          "output_type": "stream",
          "text": [
            "14\n",
            "10\n",
            "4\n",
            "45\n",
            "34\n",
            "1\n"
          ]
        }
      ],
      "source": [
        "for i in d.values():\n",
        "    for j in i.values():\n",
        "        print(j)"
      ]
    },
    {
      "cell_type": "code",
      "execution_count": null,
      "metadata": {
        "id": "C3foBp7p-Q_I",
        "outputId": "ecd3b993-4dca-40be-aec3-9e904b60bb4e"
      },
      "outputs": [
        {
          "name": "stdout",
          "output_type": "stream",
          "text": [
            "14\n",
            "45\n"
          ]
        }
      ],
      "source": [
        "lst = []\n",
        "for i in d.values():\n",
        "    for j in i.values():\n",
        "        lst.append(j)\n",
        "    print(max(lst))\n"
      ]
    },
    {
      "cell_type": "code",
      "execution_count": null,
      "metadata": {
        "id": "CoZpIkGp-Q_J",
        "outputId": "a8872341-6216-4e4e-918a-86c60742560c"
      },
      "outputs": [
        {
          "name": "stdout",
          "output_type": "stream",
          "text": [
            "14\n",
            "66\n"
          ]
        }
      ],
      "source": [
        "d1={'ineuron':{\n",
        "    'a':14,\n",
        "    'b':10,\n",
        "    'c':4},\n",
        "   'course':{'d':45,\n",
        "    'e':34,\n",
        "    'i':66}\n",
        "}\n",
        "\n",
        "lst1=[]\n",
        "lst2=[]\n",
        "for i in d1['ineuron'].values():\n",
        "    lst1.append(i)\n",
        "    lst1.sort()\n",
        "print(lst1[-1])\n",
        "\n",
        "for i in d1['course'].values():\n",
        "    lst2.append(i)\n",
        "    lst2.sort()\n",
        "print(lst2[-1])\n"
      ]
    },
    {
      "cell_type": "code",
      "execution_count": null,
      "metadata": {
        "id": "0IKZMEZI-Q_K",
        "outputId": "e633af9d-59c3-4855-c06a-040c6e87fbc6"
      },
      "outputs": [
        {
          "name": "stdout",
          "output_type": "stream",
          "text": [
            "24\n",
            "45\n"
          ]
        }
      ],
      "source": [
        "# printing maximum values\n",
        "d1 = {\"ineuron\":{\"a\":14,\"b\":24,\"c\":4},\n",
        "      \"course\":{\"d\":45,\"e\":34,\"f\":1}\n",
        "      }\n",
        "for i in d1.values():\n",
        "    \n",
        "    mx = 0\n",
        "    for j in i.values():\n",
        "        if mx<j:\n",
        "            mx = j\n",
        "    print(mx)\n"
      ]
    },
    {
      "cell_type": "code",
      "execution_count": null,
      "metadata": {
        "id": "X_T8ZL3C-Q_K",
        "outputId": "55d15368-a216-484e-b4a6-bdc30fa15c46"
      },
      "outputs": [
        {
          "name": "stdout",
          "output_type": "stream",
          "text": [
            "14\n",
            "45\n"
          ]
        }
      ],
      "source": [
        "for i in d_1.values():\n",
        "    print(max(i.values()))\n"
      ]
    },
    {
      "cell_type": "code",
      "execution_count": null,
      "metadata": {
        "id": "deLQ_b4c-Q_K",
        "outputId": "0bf652ef-cc9d-40fc-b5a0-30a6f1938df6"
      },
      "outputs": [
        {
          "name": "stdout",
          "output_type": "stream",
          "text": [
            "ineruon\n",
            "14\n",
            "course\n",
            "45\n"
          ]
        }
      ],
      "source": [
        "for i in d_1.keys():\n",
        "    print(i)\n",
        "    print(max(d_1[i].values()))\n"
      ]
    },
    {
      "cell_type": "code",
      "execution_count": null,
      "metadata": {
        "id": "T8vI6jgg-Q_L",
        "outputId": "ce007d94-db91-49a8-f625-4680476f9a42"
      },
      "outputs": [
        {
          "data": {
            "text/plain": [
              "{'ineruon': {'a': 14, 'b': 10, 'c': 4}, 'course': {'d': 45, 'e': 34, 'f': 1}}"
            ]
          },
          "execution_count": 61,
          "metadata": {},
          "output_type": "execute_result"
        }
      ],
      "source": [
        "d_1"
      ]
    },
    {
      "cell_type": "code",
      "execution_count": null,
      "metadata": {
        "id": "JtTAptbf-Q_L",
        "outputId": "8d502c57-f95e-48f8-a967-9305be31e34d"
      },
      "outputs": [
        {
          "name": "stdout",
          "output_type": "stream",
          "text": [
            "ineuron\n",
            "course\n"
          ]
        }
      ],
      "source": [
        "d = {\n",
        "    'ineuron':\n",
        "        {'a':45,\n",
        "         'b':33,\n",
        "         'c':56},\n",
        "     \n",
        "     'course':\n",
        "        {'c':45,\n",
        "         'd':56,\n",
        "         'e':77}}\n",
        "\n",
        "for i in d :\n",
        "    print(i)"
      ]
    },
    {
      "cell_type": "code",
      "execution_count": null,
      "metadata": {
        "id": "Fz_9u0FY-Q_M",
        "outputId": "9f08a2a7-e51d-4d8f-a1e2-1f8abe0000bc"
      },
      "outputs": [
        {
          "name": "stdout",
          "output_type": "stream",
          "text": [
            "{'a': 45, 'b': 33, 'c': 56}\n",
            "{'c': 45, 'd': 56, 'e': 77}\n"
          ]
        }
      ],
      "source": [
        "d = {\n",
        "    'ineuron':\n",
        "        {'a':45,\n",
        "         'b':33,\n",
        "         'c':56},\n",
        "     \n",
        "     'course':\n",
        "        {'c':45,\n",
        "         'd':56,\n",
        "         'e':77}}\n",
        "\n",
        "d.values()\n",
        "#dict_values([{'a': 45, 'b': 33, 'c': 56}, {'c': 45, 'd': 56, 'e': 77}])\n",
        "for i in d:\n",
        "    print(d[i])\n",
        "\n",
        "    \n"
      ]
    },
    {
      "cell_type": "code",
      "execution_count": null,
      "metadata": {
        "id": "slm1RKmu-Q_M"
      },
      "outputs": [],
      "source": [
        "d_1={\"ineuron\":{\"a\":14,\"b\":10,\"c\":4},\"course\":{\"d\":45,\"e\":34,\"f\":1}}\n",
        "                                \n"
      ]
    },
    {
      "cell_type": "code",
      "execution_count": null,
      "metadata": {
        "id": "SqwbccoC-Q_N",
        "outputId": "181d0e27-4c01-45bb-888a-09ad273db48b"
      },
      "outputs": [
        {
          "name": "stdout",
          "output_type": "stream",
          "text": [
            "56\n",
            "77\n"
          ]
        }
      ],
      "source": [
        "for i in d.values():\n",
        "    print(max(i.values()))\n"
      ]
    },
    {
      "cell_type": "code",
      "execution_count": null,
      "metadata": {
        "id": "HyV16HFj-Q_N",
        "outputId": "5ce26f2f-7247-4892-b6a3-a679352745a5"
      },
      "outputs": [
        {
          "name": "stdout",
          "output_type": "stream",
          "text": [
            "{'a': 14, 'b': 10, 'c': 5}\n",
            "14\n",
            "{'d': 45, 'e': 34, 'f': 1}\n",
            "45\n"
          ]
        }
      ],
      "source": [
        "d_1 = {   \"ineuron\" : { \"a\":14,\"b\":10,\"c\":5 },\n",
        "      \n",
        "          \"course\":{\"d\":45,\"e\":34,\"f\": 1}\n",
        "      \n",
        "      }\n",
        "\n",
        "for i in d_1:\n",
        "    print(d_1[i])\n",
        "    print(max(d_1[i].values()))\n"
      ]
    },
    {
      "cell_type": "code",
      "execution_count": null,
      "metadata": {
        "id": "ariiCJQt-Q_N",
        "outputId": "c1acce1e-c560-413f-b3d4-66bd5a967a32"
      },
      "outputs": [
        {
          "name": "stdout",
          "output_type": "stream",
          "text": [
            "24\n",
            "45\n"
          ]
        }
      ],
      "source": [
        "r = []\n",
        "for i in d1.values():\n",
        "    \n",
        "    r.append(max(i.values()))\n",
        "    print(max(r))\n"
      ]
    },
    {
      "cell_type": "code",
      "execution_count": null,
      "metadata": {
        "id": "fScKJjs0-Q_O",
        "outputId": "8ad22945-f6b5-46b4-e60a-51cdc5d146d0"
      },
      "outputs": [
        {
          "data": {
            "text/plain": [
              "{'ineuron': {'a': 14, 'b': 24, 'c': 4}, 'course': {'d': 45, 'e': 34, 'f': 1}}"
            ]
          },
          "execution_count": 75,
          "metadata": {},
          "output_type": "execute_result"
        }
      ],
      "source": [
        "d1"
      ]
    },
    {
      "cell_type": "code",
      "execution_count": null,
      "metadata": {
        "id": "DkoX3lS9-Q_O"
      },
      "outputs": [],
      "source": [
        "d1={\"ineuron\":{\"a\":14,\"b\":10,\"c\":4},\"course\":{\"d\":45,\"e\":34,\"f\":1}, \n",
        "     \"g\" : 34 , \"h\" :[45,6,7,8,9,3] , 'i' :(45,34,2) , 'k' :\"sudh\"}"
      ]
    },
    {
      "cell_type": "code",
      "execution_count": null,
      "metadata": {
        "id": "Tz9uS9iB-Q_P",
        "outputId": "9acbcb99-eb33-48ac-9423-beee29f35637"
      },
      "outputs": [
        {
          "ename": "AttributeError",
          "evalue": "'int' object has no attribute 'values'",
          "output_type": "error",
          "traceback": [
            "\u001b[1;31m---------------------------------------------------------------------------\u001b[0m",
            "\u001b[1;31mAttributeError\u001b[0m                            Traceback (most recent call last)",
            "\u001b[1;32m<ipython-input-77-31bb491adab5>\u001b[0m in \u001b[0;36m<module>\u001b[1;34m\u001b[0m\n\u001b[0;32m      2\u001b[0m \u001b[1;32mfor\u001b[0m \u001b[0mi\u001b[0m \u001b[1;32min\u001b[0m \u001b[0md1\u001b[0m\u001b[1;33m.\u001b[0m\u001b[0mvalues\u001b[0m\u001b[1;33m(\u001b[0m\u001b[1;33m)\u001b[0m\u001b[1;33m:\u001b[0m\u001b[1;33m\u001b[0m\u001b[1;33m\u001b[0m\u001b[0m\n\u001b[0;32m      3\u001b[0m     \u001b[1;32mif\u001b[0m \u001b[0mtype\u001b[0m\u001b[1;33m(\u001b[0m\u001b[0mi\u001b[0m\u001b[1;33m)\u001b[0m \u001b[1;33m==\u001b[0m \u001b[0mint\u001b[0m\u001b[1;33m:\u001b[0m\u001b[1;33m\u001b[0m\u001b[1;33m\u001b[0m\u001b[0m\n\u001b[1;32m----> 4\u001b[1;33m         \u001b[0mr\u001b[0m\u001b[1;33m.\u001b[0m\u001b[0mappend\u001b[0m\u001b[1;33m(\u001b[0m\u001b[0mmax\u001b[0m\u001b[1;33m(\u001b[0m\u001b[0mi\u001b[0m\u001b[1;33m.\u001b[0m\u001b[0mvalues\u001b[0m\u001b[1;33m(\u001b[0m\u001b[1;33m)\u001b[0m\u001b[1;33m)\u001b[0m\u001b[1;33m)\u001b[0m\u001b[1;33m\u001b[0m\u001b[1;33m\u001b[0m\u001b[0m\n\u001b[0m\u001b[0;32m      5\u001b[0m         \u001b[0mprint\u001b[0m\u001b[1;33m(\u001b[0m\u001b[0mmax\u001b[0m\u001b[1;33m(\u001b[0m\u001b[0mr\u001b[0m\u001b[1;33m)\u001b[0m\u001b[1;33m)\u001b[0m\u001b[1;33m\u001b[0m\u001b[1;33m\u001b[0m\u001b[0m\n",
            "\u001b[1;31mAttributeError\u001b[0m: 'int' object has no attribute 'values'"
          ]
        }
      ],
      "source": [
        "r = []\n",
        "for i in d1.values():\n",
        "    if type(i) == int:\n",
        "        r.append(max(i.values()))\n",
        "        print(max(r))\n"
      ]
    },
    {
      "cell_type": "code",
      "execution_count": null,
      "metadata": {
        "id": "-TiCr26p-Q_P"
      },
      "outputs": [],
      "source": [
        "d_1={\"ineuron\":{\"a\":14,\"b\":10,\"c\":4},\"course\":{\"d\":45,\"e\":34,\"f\":1}, \n",
        "     \"g\" : 354 , \"h\" :[45,6,7,8,9,3] , 'i' :(45,34,2) , 'k' :\"sudh\"}"
      ]
    },
    {
      "cell_type": "code",
      "execution_count": null,
      "metadata": {
        "id": "FKD2d2aO-Q_P",
        "outputId": "0babd2e6-0cc4-4f85-c41a-1cb407f04416"
      },
      "outputs": [
        {
          "name": "stdout",
          "output_type": "stream",
          "text": [
            "354\n"
          ]
        }
      ],
      "source": [
        "l1=[]\n",
        "for i in d_1.values():\n",
        "    if type(i)==dict:\n",
        "        l1.append(max(i.values()))\n",
        "    elif type(i)==list:\n",
        "        l1.append(max(i))\n",
        "    elif type(i)==tuple:\n",
        "        l1.append(max(i))\n",
        "    elif type(i)== str:\n",
        "        pass\n",
        "    else:\n",
        "        l1.append(i)\n",
        "print(max(l1))\n"
      ]
    },
    {
      "cell_type": "code",
      "execution_count": null,
      "metadata": {
        "id": "oJ0vR0lN-Q_Q"
      },
      "outputs": [],
      "source": [
        "d={\"ineuron\":{\"a\":14,\"b\":10,\"c\":4},\"course\":{\"d\":45,\"e\":34,\"f\":1}, \n",
        "     \"g\" : 354 , \"h\" :[45,6,7,8,9,3] , 'i' :(45,34,2) , 'k' :\"sudh\"}"
      ]
    },
    {
      "cell_type": "code",
      "execution_count": null,
      "metadata": {
        "id": "B4Nc0z3J-Q_Q"
      },
      "outputs": [],
      "source": [
        "for i in d.values():\n",
        "    if i==int:\n",
        "        mx=0\n",
        "        for j in i.values():\n",
        "            if mx<j:\n",
        "                print(mx)\n"
      ]
    },
    {
      "cell_type": "code",
      "execution_count": null,
      "metadata": {
        "id": "UNk14-Zp-Q_Q",
        "outputId": "6679e4ce-a68a-4c04-f7ac-d8cebdd6d28b"
      },
      "outputs": [
        {
          "ename": "AttributeError",
          "evalue": "'int' object has no attribute 'values'",
          "output_type": "error",
          "traceback": [
            "\u001b[1;31m---------------------------------------------------------------------------\u001b[0m",
            "\u001b[1;31mAttributeError\u001b[0m                            Traceback (most recent call last)",
            "\u001b[1;32m<ipython-input-92-b7821e6a7919>\u001b[0m in \u001b[0;36m<module>\u001b[1;34m\u001b[0m\n\u001b[0;32m      1\u001b[0m \u001b[0mlst\u001b[0m \u001b[1;33m=\u001b[0m \u001b[1;33m[\u001b[0m\u001b[1;33m]\u001b[0m\u001b[1;33m\u001b[0m\u001b[1;33m\u001b[0m\u001b[0m\n\u001b[0;32m      2\u001b[0m \u001b[1;32mfor\u001b[0m \u001b[0mi\u001b[0m \u001b[1;32min\u001b[0m \u001b[0md\u001b[0m\u001b[1;33m.\u001b[0m\u001b[0mvalues\u001b[0m\u001b[1;33m(\u001b[0m\u001b[1;33m)\u001b[0m\u001b[1;33m:\u001b[0m\u001b[1;33m\u001b[0m\u001b[1;33m\u001b[0m\u001b[0m\n\u001b[1;32m----> 3\u001b[1;33m     \u001b[1;32mfor\u001b[0m \u001b[0mj\u001b[0m \u001b[1;32min\u001b[0m \u001b[0mi\u001b[0m\u001b[1;33m.\u001b[0m\u001b[0mvalues\u001b[0m\u001b[1;33m(\u001b[0m\u001b[1;33m)\u001b[0m\u001b[1;33m:\u001b[0m\u001b[1;33m\u001b[0m\u001b[1;33m\u001b[0m\u001b[0m\n\u001b[0m\u001b[0;32m      4\u001b[0m         \u001b[1;32mif\u001b[0m \u001b[0mtype\u001b[0m\u001b[1;33m(\u001b[0m\u001b[0mj\u001b[0m\u001b[1;33m)\u001b[0m\u001b[1;33m==\u001b[0m \u001b[0mlist\u001b[0m\u001b[1;33m:\u001b[0m\u001b[1;33m\u001b[0m\u001b[1;33m\u001b[0m\u001b[0m\n\u001b[0;32m      5\u001b[0m             \u001b[0mb\u001b[0m \u001b[1;33m=\u001b[0m \u001b[0mmax\u001b[0m\u001b[1;33m(\u001b[0m\u001b[0mj\u001b[0m\u001b[1;33m)\u001b[0m\u001b[1;33m\u001b[0m\u001b[1;33m\u001b[0m\u001b[0m\n",
            "\u001b[1;31mAttributeError\u001b[0m: 'int' object has no attribute 'values'"
          ]
        }
      ],
      "source": [
        "lst = []\n",
        "for i in d.values():\n",
        "    for j in i.values():\n",
        "        if type(j)== list:\n",
        "            b = max(j)\n",
        "            lst.append(b)\n",
        "        elif type(j)== tuple:\n",
        "            d = max(j)\n",
        "            lst.append(d)\n",
        "        elif type(j) == int:\n",
        "            lst.append(j)\n",
        "print(max(lst))\n"
      ]
    },
    {
      "cell_type": "code",
      "execution_count": null,
      "metadata": {
        "id": "hLRtBdEO-Q_R",
        "outputId": "ad4ec9cd-56ec-4fd6-c524-d29b6a5f6785"
      },
      "outputs": [
        {
          "name": "stdout",
          "output_type": "stream",
          "text": [
            "45\n"
          ]
        }
      ],
      "source": [
        "d1={'ineuron':{'a':14, 'b':10, 'c':4},'course':{'d':45, 'e':34, 'f':1},'g':34, 'h':[45,6,7,8,9,3], 'i':(45,34,2), 'k':'sudh'}\n",
        "l = []\n",
        "for i in d1.values():\n",
        "    if type(i) == int:\n",
        "        l.append(i)\n",
        "    elif type(i) == list or type(i) == tuple:\n",
        "        l.extend(i)\n",
        "    elif type(i) == dict:\n",
        "        for j in i.values():\n",
        "            l.append(j)\n",
        "print(max(l))\n"
      ]
    },
    {
      "cell_type": "code",
      "execution_count": null,
      "metadata": {
        "id": "seA6fQO9-Q_R",
        "outputId": "cb781f35-ee1f-4ff8-cdab-5260b19b380c"
      },
      "outputs": [
        {
          "name": "stdout",
          "output_type": "stream",
          "text": [
            "True\n",
            "[45]\n"
          ]
        }
      ],
      "source": [
        "l=[]\n",
        "d={\"s\":{\"a\":45}}\n",
        "for i in d:\n",
        "    if type(d[i]) == dict:\n",
        "        print(True)\n",
        "        l.append(max(d[i].values()))\n",
        "    elif type(d[i]) == list or type(d[i]) == tuple:\n",
        "        l.append(max(d[i]))\n",
        "print(l)\n"
      ]
    },
    {
      "cell_type": "code",
      "execution_count": null,
      "metadata": {
        "id": "jSHEj9Jj-Q_S",
        "outputId": "c41b6a03-3d59-481d-e81d-5ef886b8efd6"
      },
      "outputs": [
        {
          "name": "stdout",
          "output_type": "stream",
          "text": [
            "83\n"
          ]
        }
      ],
      "source": [
        "# Q. Find the maximum integer out of all the values from a given dictionary d1\n",
        "\n",
        "##### SOLUTION: 1 #####\n",
        "\n",
        "d1 = {\n",
        "    \"apdaga\": {\n",
        "        \"a\":12,\n",
        "        \"b\":65,\n",
        "        \"c\":7\n",
        "    },\n",
        "    \"dumpbox\":{\n",
        "        \"d\":34,\n",
        "        \"e\":83,\n",
        "        \"f\":45\n",
        "    },\n",
        "    \"g\":34,\n",
        "    \"h\":[35,6,2,9,3],\n",
        "    \"i\":(65,34,2),\n",
        "    \"k\":\"akshay\"\n",
        "}\n",
        "\n",
        "# print(d1)\n",
        "\n",
        "out=[]\n",
        "\n",
        "for k,v in d1.items():\n",
        "    if type(v) == dict:\n",
        "        out.extend(list(v.values()))\n",
        "    elif type(v) == int:\n",
        "        out.append(v)\n",
        "    elif type(v) == list:\n",
        "        out.append(max(v))\n",
        "    elif type(v) == tuple:\n",
        "        out.append(max(v))\n",
        "    else:\n",
        "        pass\n",
        "    \n",
        "print(max(out))\n"
      ]
    },
    {
      "cell_type": "code",
      "execution_count": null,
      "metadata": {
        "id": "4pirv0NI-Q_S",
        "outputId": "c2943f74-2d62-4f07-cc77-902556a4ef12"
      },
      "outputs": [
        {
          "ename": "IndexError",
          "evalue": "list index out of range",
          "output_type": "error",
          "traceback": [
            "\u001b[1;31m---------------------------------------------------------------------------\u001b[0m",
            "\u001b[1;31mIndexError\u001b[0m                                Traceback (most recent call last)",
            "\u001b[1;32m<ipython-input-97-811d06ea47e2>\u001b[0m in \u001b[0;36m<module>\u001b[1;34m\u001b[0m\n\u001b[0;32m      4\u001b[0m \u001b[1;33m\u001b[0m\u001b[0m\n\u001b[0;32m      5\u001b[0m         \u001b[1;32mfor\u001b[0m \u001b[0mk\u001b[0m \u001b[1;32min\u001b[0m \u001b[0mj\u001b[0m\u001b[1;33m:\u001b[0m\u001b[1;33m\u001b[0m\u001b[1;33m\u001b[0m\u001b[0m\n\u001b[1;32m----> 6\u001b[1;33m             \u001b[1;32mif\u001b[0m \u001b[0mtype\u001b[0m\u001b[1;33m(\u001b[0m\u001b[0mj\u001b[0m\u001b[1;33m[\u001b[0m\u001b[0mk\u001b[0m\u001b[1;33m]\u001b[0m\u001b[1;33m)\u001b[0m\u001b[1;33m==\u001b[0m\u001b[0mint\u001b[0m\u001b[1;33m:\u001b[0m\u001b[1;33m\u001b[0m\u001b[1;33m\u001b[0m\u001b[0m\n\u001b[0m\u001b[0;32m      7\u001b[0m                 \u001b[1;32mif\u001b[0m \u001b[0mj\u001b[0m\u001b[1;33m[\u001b[0m\u001b[0mk\u001b[0m\u001b[1;33m]\u001b[0m\u001b[1;33m>\u001b[0m\u001b[0mmax\u001b[0m\u001b[1;33m:\u001b[0m\u001b[1;33m\u001b[0m\u001b[1;33m\u001b[0m\u001b[0m\n\u001b[0;32m      8\u001b[0m                     \u001b[0mmax\u001b[0m\u001b[1;33m=\u001b[0m\u001b[0mj\u001b[0m\u001b[1;33m[\u001b[0m\u001b[0mk\u001b[0m\u001b[1;33m]\u001b[0m\u001b[1;33m\u001b[0m\u001b[1;33m\u001b[0m\u001b[0m\n",
            "\u001b[1;31mIndexError\u001b[0m: list index out of range"
          ]
        }
      ],
      "source": [
        "for i,j in d_1.items():\n",
        "    max=0\n",
        "    if type(j)==dict or type(j) == list or type(j)== tuple:\n",
        "        \n",
        "        for k in j:\n",
        "            if type(j[k])==int:\n",
        "                if j[k]>max:\n",
        "                    max=j[k]\n",
        "    else:\n",
        "        if type(j)==int:\n",
        "            if j>max:\n",
        "                max=j\n",
        "print(f\"maximum is {max}\")\n"
      ]
    },
    {
      "cell_type": "code",
      "execution_count": null,
      "metadata": {
        "id": "NxZX8Rg6-Q_T",
        "outputId": "1189255c-24c3-4df8-f629-0cf688d0a475"
      },
      "outputs": [
        {
          "data": {
            "text/plain": [
              "[14, 10, 4, 45, 34, 1, 45, 6, 7, 8, 9, 3, 45, 34, 2]"
            ]
          },
          "execution_count": 1,
          "metadata": {},
          "output_type": "execute_result"
        }
      ],
      "source": [
        "d_1 = {\"ineuron\" : {\n",
        "                        \"a\" : 14,\n",
        "                        \"b\" : 10,\n",
        "                        \"c\" : 4\n",
        "                        },\n",
        "          \"course\" : {\n",
        "                      \"d\" : 45,\n",
        "                      \"e\" : 34,\n",
        "                      \"f\" : 1\n",
        "                      },\n",
        "       \"g\" : 34,\n",
        "       \"h\" : [45,6,7,8,9,3],\n",
        "       \"i\" : (45,34,2),\n",
        "       \"k\" : \"sudh\"\n",
        "}\n",
        "\n",
        "l = []\n",
        "for i in d_1.values():\n",
        "    if type(i) != str and type(i)!= complex:\n",
        "        if type(i) == list or type(i) == tuple or type(i) == set:\n",
        "            l.extend(list(i))\n",
        "        elif type(i) == dict:\n",
        "            for j in i.values():\n",
        "                l.append(j)\n",
        "l"
      ]
    },
    {
      "cell_type": "code",
      "execution_count": null,
      "metadata": {
        "id": "lv5gY-fZ-Q_T",
        "outputId": "a7644eae-323b-4e40-86d8-d134b4850955"
      },
      "outputs": [
        {
          "data": {
            "text/plain": [
              "list"
            ]
          },
          "execution_count": 2,
          "metadata": {},
          "output_type": "execute_result"
        }
      ],
      "source": [
        "type(l)"
      ]
    },
    {
      "cell_type": "code",
      "execution_count": null,
      "metadata": {
        "id": "hVbaMQ16-Q_U",
        "outputId": "a428b0d4-2d0b-4f1c-d9c9-82fb510caace"
      },
      "outputs": [
        {
          "name": "stdout",
          "output_type": "stream",
          "text": [
            "45\n"
          ]
        }
      ],
      "source": [
        "print(max(l))"
      ]
    },
    {
      "cell_type": "code",
      "execution_count": null,
      "metadata": {
        "id": "7eBdMrd8-Q_U",
        "outputId": "4f4ca350-09f8-4f56-a3af-246770e1c461"
      },
      "outputs": [
        {
          "data": {
            "text/plain": [
              "0"
            ]
          },
          "execution_count": 116,
          "metadata": {},
          "output_type": "execute_result"
        }
      ],
      "source": [
        "max"
      ]
    },
    {
      "cell_type": "code",
      "execution_count": null,
      "metadata": {
        "id": "Orzb81oZ-Q_U",
        "outputId": "5913ac41-de7c-460e-f960-abfcaa94ce18"
      },
      "outputs": [
        {
          "data": {
            "text/plain": [
              "8"
            ]
          },
          "execution_count": 4,
          "metadata": {},
          "output_type": "execute_result"
        }
      ],
      "source": [
        "t = (5,6,7,8)\n",
        "max(t)"
      ]
    },
    {
      "cell_type": "code",
      "execution_count": null,
      "metadata": {
        "id": "fZX5pMvW-Q_V"
      },
      "outputs": [],
      "source": [
        "d = {\"ineuron\": {\"a\":14,\n",
        "                \"b\":10,\n",
        "                \"c\":4\n",
        "                },\n",
        "    'course' : {'d': 45,\n",
        "               \"e\" : 34,\n",
        "               \"f\": 1},\n",
        "     \"g\" : 34,\n",
        "     \"h\" : [45, 6, 7, 78, 9,3],\n",
        "     \"i\" : (45, 34, 2),\n",
        "     \"k\" : \"sudh\"\n",
        "    }\n"
      ]
    },
    {
      "cell_type": "code",
      "execution_count": null,
      "metadata": {
        "id": "dMtZvn3S-Q_V",
        "outputId": "84141c1b-f75a-4490-8093-ed3d03a722f0"
      },
      "outputs": [
        {
          "data": {
            "text/plain": [
              "78"
            ]
          },
          "execution_count": 9,
          "metadata": {},
          "output_type": "execute_result"
        }
      ],
      "source": [
        "\n",
        "l1 = []\n",
        "for i in d:\n",
        "    if type(d[i]) == int:\n",
        "            l1.append(d[i])\n",
        "    elif type(d[i]) == str:\n",
        "            continue\n",
        "    elif type(d[i]) == dict:\n",
        "            l1.extend(list(d[i].values()))\n",
        "    else:\n",
        "            l1.extend(list(d[i]))\n",
        "max(l1)\n"
      ]
    },
    {
      "cell_type": "code",
      "execution_count": null,
      "metadata": {
        "id": "Wlap8vQ--Q_W",
        "outputId": "6aa99706-9144-429e-9438-661c16747b2b"
      },
      "outputs": [
        {
          "data": {
            "text/plain": [
              "12"
            ]
          },
          "execution_count": 21,
          "metadata": {},
          "output_type": "execute_result"
        }
      ],
      "source": [
        "int(121/10)"
      ]
    },
    {
      "cell_type": "code",
      "execution_count": null,
      "metadata": {
        "id": "lar6CumZ-Q_W",
        "outputId": "16e15979-b351-47f8-81ff-b3f011bea149"
      },
      "outputs": [
        {
          "name": "stdout",
          "output_type": "stream",
          "text": [
            "1\n",
            "1\n",
            "12\n",
            "2\n",
            "12\n",
            "1\n",
            "1\n",
            "121\n",
            "0\n"
          ]
        }
      ],
      "source": [
        "a = 121\n",
        "c = 0 \n",
        "\n",
        "        while (a >0):\n",
        "            d = a \n",
        "            b = a%10\n",
        "            print(b)\n",
        "            c = c*10 +b\n",
        "            print(c)\n",
        "\n",
        "            a = int(a/10)\n",
        "            print(a)\n",
        "\n",
        "\n"
      ]
    },
    {
      "cell_type": "code",
      "execution_count": null,
      "metadata": {
        "id": "0bkhFasO-Q_X",
        "outputId": "793798ce-bcb0-4086-e9b4-4e6c6b6432b2"
      },
      "outputs": [
        {
          "name": "stdout",
          "output_type": "stream",
          "text": [
            "Pelindrom\n"
          ]
        }
      ],
      "source": [
        "a = 121\n",
        "if (c == a) :\n",
        "      print(\"Pelindrom\")\n",
        "else:\n",
        "      print(\"Not pelindrom\")"
      ]
    },
    {
      "cell_type": "code",
      "execution_count": null,
      "metadata": {
        "id": "Dj0OLy5w-Q_Y",
        "outputId": "15cabdc3-9db4-4c08-a33a-a400e90a69c7"
      },
      "outputs": [
        {
          "name": "stdout",
          "output_type": "stream",
          "text": [
            "india\n",
            "canada\n",
            "china\n",
            "united state\n"
          ]
        }
      ],
      "source": [
        "d={\"india\":\"IN\",\"canada\":\"CA\",\"china\":\"CH\",\"united state\":\"US\"}\n",
        "k=[]\n",
        "l=[]\n",
        "\n",
        "for i in d:\n",
        "    print(i)\n",
        "    c=0\n",
        "    for j in i:\n",
        "        c=c+1\n",
        "    if c>5:\n",
        "        l.append(i)\n",
        "    else:\n",
        "        k.append(i)\n",
        "##Doubt\n"
      ]
    },
    {
      "cell_type": "code",
      "execution_count": null,
      "metadata": {
        "id": "xYUV1l3s-Q_Y",
        "outputId": "f8d3fd5d-c342-4313-d478-f7614b3b1d7f"
      },
      "outputs": [
        {
          "data": {
            "text/plain": [
              "['india', 'china']"
            ]
          },
          "execution_count": 37,
          "metadata": {},
          "output_type": "execute_result"
        }
      ],
      "source": [
        "k"
      ]
    },
    {
      "cell_type": "code",
      "execution_count": null,
      "metadata": {
        "id": "zVyLKVM3-Q_Z",
        "outputId": "88a69072-e555-40b3-fc07-287f15b7dd13"
      },
      "outputs": [
        {
          "data": {
            "text/plain": [
              "['canada', 'united state']"
            ]
          },
          "execution_count": 38,
          "metadata": {},
          "output_type": "execute_result"
        }
      ],
      "source": [
        "l"
      ]
    },
    {
      "cell_type": "code",
      "execution_count": null,
      "metadata": {
        "id": "cTrkw8JN-Q_Z"
      },
      "outputs": [],
      "source": [
        "d = {\"ineuron\": {\"a\":14,\n",
        "                \"b\":10,\n",
        "                \"c\":4\n",
        "                },\n",
        "    'course' : {'d': 45,\n",
        "               \"e\" : 34,\n",
        "               \"f\": 1},\n",
        "     \"g\" : 34,\n",
        "     \"h\" : [45, 6, 7, 78, 9,3],\n",
        "     \"i\" : (45, 34, 2),\n",
        "     \"k\" : \"27\"\n",
        "    }"
      ]
    },
    {
      "cell_type": "code",
      "execution_count": null,
      "metadata": {
        "id": "RPH0pod3-Q_Z",
        "outputId": "d2993b70-2f2e-4d9b-e6b3-1af53f54f02c"
      },
      "outputs": [
        {
          "ename": "ValueError",
          "evalue": "invalid literal for int() with base 10: 'sudh'",
          "output_type": "error",
          "traceback": [
            "\u001b[1;31m---------------------------------------------------------------------------\u001b[0m",
            "\u001b[1;31mValueError\u001b[0m                                Traceback (most recent call last)",
            "\u001b[1;32m<ipython-input-39-7b3d85a2cf6e>\u001b[0m in \u001b[0;36m<module>\u001b[1;34m\u001b[0m\n\u001b[1;32m----> 1\u001b[1;33m \u001b[0mint\u001b[0m\u001b[1;33m(\u001b[0m\u001b[1;34m\"sudh\"\u001b[0m\u001b[1;33m)\u001b[0m\u001b[1;33m\u001b[0m\u001b[1;33m\u001b[0m\u001b[0m\n\u001b[0m",
            "\u001b[1;31mValueError\u001b[0m: invalid literal for int() with base 10: 'sudh'"
          ]
        }
      ],
      "source": [
        "int(\"sudh\")"
      ]
    },
    {
      "cell_type": "code",
      "execution_count": null,
      "metadata": {
        "id": "xmK6y3Iu-Q_a",
        "outputId": "55f547e5-4ddb-4a28-a5c4-ab6e743fefb4"
      },
      "outputs": [
        {
          "data": {
            "text/plain": [
              "45546"
            ]
          },
          "execution_count": 40,
          "metadata": {},
          "output_type": "execute_result"
        }
      ],
      "source": [
        "int(\"45546\")"
      ]
    },
    {
      "cell_type": "code",
      "execution_count": null,
      "metadata": {
        "id": "x_A8nYD1-Q_a",
        "outputId": "5c12b4c0-05d0-4ebb-cac7-0872f33c82ee"
      },
      "outputs": [
        {
          "name": "stdout",
          "output_type": "stream",
          "text": [
            "14\n",
            "45\n"
          ]
        },
        {
          "ename": "AttributeError",
          "evalue": "'int' object has no attribute 'values'",
          "output_type": "error",
          "traceback": [
            "\u001b[1;31m---------------------------------------------------------------------------\u001b[0m",
            "\u001b[1;31mAttributeError\u001b[0m                            Traceback (most recent call last)",
            "\u001b[1;32m<ipython-input-41-3f3e573e98da>\u001b[0m in \u001b[0;36m<module>\u001b[1;34m\u001b[0m\n\u001b[0;32m      4\u001b[0m \u001b[1;32mfor\u001b[0m \u001b[0mi\u001b[0m \u001b[1;32min\u001b[0m \u001b[0md_a\u001b[0m\u001b[1;33m.\u001b[0m\u001b[0mvalues\u001b[0m\u001b[1;33m(\u001b[0m\u001b[1;33m)\u001b[0m\u001b[1;33m:\u001b[0m\u001b[1;33m\u001b[0m\u001b[1;33m\u001b[0m\u001b[0m\n\u001b[0;32m      5\u001b[0m     \u001b[1;32mif\u001b[0m \u001b[0mi\u001b[0m\u001b[1;33m!=\u001b[0m \u001b[0mstr\u001b[0m\u001b[1;33m:\u001b[0m\u001b[1;33m\u001b[0m\u001b[1;33m\u001b[0m\u001b[0m\n\u001b[1;32m----> 6\u001b[1;33m          \u001b[1;32mfor\u001b[0m \u001b[0mj\u001b[0m \u001b[1;32min\u001b[0m \u001b[0mi\u001b[0m\u001b[1;33m.\u001b[0m\u001b[0mvalues\u001b[0m\u001b[1;33m(\u001b[0m\u001b[1;33m)\u001b[0m\u001b[1;33m:\u001b[0m\u001b[1;33m\u001b[0m\u001b[1;33m\u001b[0m\u001b[0m\n\u001b[0m\u001b[0;32m      7\u001b[0m             \u001b[0mr\u001b[0m\u001b[1;33m.\u001b[0m\u001b[0mappend\u001b[0m\u001b[1;33m(\u001b[0m\u001b[0mj\u001b[0m\u001b[1;33m)\u001b[0m\u001b[1;33m\u001b[0m\u001b[1;33m\u001b[0m\u001b[0m\n\u001b[0;32m      8\u001b[0m             \u001b[0ml\u001b[0m\u001b[1;33m=\u001b[0m\u001b[0mmax\u001b[0m\u001b[1;33m(\u001b[0m\u001b[0mr\u001b[0m\u001b[1;33m)\u001b[0m\u001b[1;33m\u001b[0m\u001b[1;33m\u001b[0m\u001b[0m\n",
            "\u001b[1;31mAttributeError\u001b[0m: 'int' object has no attribute 'values'"
          ]
        }
      ],
      "source": [
        "d_a={\"ineruon\":{\"a\":14, \"b\":10, \"c\":4},\"course\":{\"d\":45,\"e\":34,\"f\":1},\"g\":34,\"h\":[45,6,7,8,9,3],\"i\":[45+10j,34,2]}\n",
        "r=[]\n",
        "mx=0\n",
        "for i in d_a.values():\n",
        "    if i!= str:\n",
        "         for j in i.values():\n",
        "            r.append(j)\n",
        "            l=max(r)\n",
        "    print(l)\n"
      ]
    },
    {
      "cell_type": "code",
      "execution_count": null,
      "metadata": {
        "id": "6iRMsVGk-Q_a",
        "outputId": "948ecca0-55e9-40cf-88f1-78300b7ac6fa"
      },
      "outputs": [
        {
          "ename": "TypeError",
          "evalue": "'int' object is not iterable",
          "output_type": "error",
          "traceback": [
            "\u001b[1;31m---------------------------------------------------------------------------\u001b[0m",
            "\u001b[1;31mTypeError\u001b[0m                                 Traceback (most recent call last)",
            "\u001b[1;32m<ipython-input-1-3df40e359d67>\u001b[0m in \u001b[0;36m<module>\u001b[1;34m\u001b[0m\n\u001b[0;32m     23\u001b[0m         \u001b[1;32mpass\u001b[0m\u001b[1;33m\u001b[0m\u001b[1;33m\u001b[0m\u001b[0m\n\u001b[0;32m     24\u001b[0m     \u001b[1;32melse\u001b[0m \u001b[1;33m:\u001b[0m\u001b[1;33m\u001b[0m\u001b[1;33m\u001b[0m\u001b[0m\n\u001b[1;32m---> 25\u001b[1;33m         \u001b[0ml\u001b[0m\u001b[1;33m.\u001b[0m\u001b[0mextend\u001b[0m\u001b[1;33m(\u001b[0m\u001b[0mlist\u001b[0m\u001b[1;33m(\u001b[0m\u001b[0mi\u001b[0m\u001b[1;33m)\u001b[0m\u001b[1;33m)\u001b[0m\u001b[1;33m\u001b[0m\u001b[1;33m\u001b[0m\u001b[0m\n\u001b[0m\u001b[0;32m     26\u001b[0m \u001b[0mprint\u001b[0m\u001b[1;33m(\u001b[0m\u001b[0mmax\u001b[0m\u001b[1;33m(\u001b[0m\u001b[0ml\u001b[0m\u001b[1;33m)\u001b[0m\u001b[1;33m)\u001b[0m\u001b[1;33m\u001b[0m\u001b[1;33m\u001b[0m\u001b[0m\n",
            "\u001b[1;31mTypeError\u001b[0m: 'int' object is not iterable"
          ]
        }
      ],
      "source": [
        "d ={\"ineruon\" : {\n",
        "                    \"a\": 14,\n",
        "                    \"b\": 10,\n",
        "                    \"c\": 4\n",
        "                    },\n",
        "        \"course\" :  {\n",
        "                        \"d\":45,\n",
        "                        \"e\":34,\n",
        "                        \"f\":1,\n",
        "                    },\n",
        "    \"g\" : 34,\n",
        "    \"h\" : [45,6,7,8,9,3],\n",
        "    \"i\" : (45,34,2),\n",
        "    \"k\" : \"asdf\"\n",
        "     }\n",
        "#find max integer\n",
        "\n",
        "l=[]\n",
        "for i in d.values():\n",
        "    if type(i)== dict:\n",
        "        l.append(i.values())\n",
        "    elif type(i)== str or type(i)== complex:\n",
        "        pass\n",
        "    else :\n",
        "        l.extend(list(i))\n",
        "print(max(l))\n"
      ]
    },
    {
      "cell_type": "code",
      "execution_count": null,
      "metadata": {
        "id": "ZdFVcGgc-Q_b"
      },
      "outputs": [],
      "source": [
        "dict_1={\"ineuron\":{\"a\":14,\n",
        "                \"b\":10,\n",
        "                \"c\":4},\n",
        "   'course' : {'d':344,\n",
        "      'e':34,\n",
        "      'f':1},\"g\":34,\"h\":[45,6,7,8,9,3],'i':(45,34,2),'k':'sudh'\n",
        "    }\n"
      ]
    },
    {
      "cell_type": "code",
      "execution_count": null,
      "metadata": {
        "id": "NGayF4dH-Q_c"
      },
      "outputs": [],
      "source": [
        "d = {\"ineuron\":{\"a\":14,\"b\":10,\"c\":4},\n",
        "     \"course\":{\"d\":\"fails\",\"e\":34,\"f\":1},\n",
        "      \"g\":345,\"h\":[45,6,\"check\",8,9,3],\"i\":(\"hope\",45,34,2),\"k\":\"sudh\"}\n"
      ]
    },
    {
      "cell_type": "code",
      "execution_count": null,
      "metadata": {
        "id": "1jf85TbD-Q_d"
      },
      "outputs": [],
      "source": [
        "lst=[]\n",
        "for k,v in d.items():\n",
        "    if type(v)==dict:\n",
        "        lst.extend(list(v.values()))\n",
        "    elif type(v)==tuple:\n",
        "                for i in v : \n",
        "                    if type(i) == int:\n",
        "                        lst.append(i)\n",
        "                   \n",
        "    elif type(v)==list:\n",
        "        for i in v : \n",
        "            if type(i) == int:\n",
        "                    lst.append(i)\n",
        "    elif type(v)==set:\n",
        "        lst.append(v)\n",
        "    else:\n",
        "        pass"
      ]
    },
    {
      "cell_type": "code",
      "execution_count": null,
      "metadata": {
        "id": "4gpGicJE-Q_e",
        "outputId": "66f34561-14b8-4302-d03e-9f379c39bd24"
      },
      "outputs": [
        {
          "data": {
            "text/plain": [
              "[14, 10, 4, 'fails', 34, 1, 45, 6, 8, 9, 3, 'hope', 45, 34, 2]"
            ]
          },
          "execution_count": 27,
          "metadata": {},
          "output_type": "execute_result"
        }
      ],
      "source": [
        "lst"
      ]
    },
    {
      "cell_type": "code",
      "execution_count": null,
      "metadata": {
        "id": "a5-Pqx0q-Q_e",
        "outputId": "cf1aa43b-d89a-44d5-e28f-ceaaceaba15c"
      },
      "outputs": [
        {
          "name": "stdout",
          "output_type": "stream",
          "text": [
            "the max number is 100\n"
          ]
        }
      ],
      "source": [
        "d_1 = {\"ineuron\" :{\n",
        "    \"a\":14,\n",
        "    \"b\":10,\n",
        "    \"c\":4\n",
        "},\n",
        "      \"course\":{\n",
        "          'd':45,\n",
        "          'e':34,\n",
        "          'f':1\n",
        "      },\n",
        "      \"g\": 34,\n",
        "      \"h\": [45,6,7,100,3,9],\n",
        "      \"i\": (45,84,2),\n",
        "      \"k\": \"sudh\"\n",
        "}\n",
        "\n",
        "max1=[]\n",
        "for code,dict3 in d_1.items():\n",
        "    if isinstance(dict3,dict):\n",
        "        for letter,value in dict3.items():\n",
        "            max1.append(value)\n",
        "    else:\n",
        "        if type(d_1[code]) == list:\n",
        "            max1.extend(d_1[code])\n",
        "        elif type(d_1[code]) == tuple:\n",
        "            max1.extend(d_1[code])\n",
        "        else:\n",
        "            continue\n",
        "\n",
        "print(\"the max number is\", max(max1))\n"
      ]
    },
    {
      "cell_type": "code",
      "execution_count": null,
      "metadata": {
        "id": "Mvzf74-1-Q_f",
        "outputId": "376502a7-2053-4e0a-ce18-fe0505f94c62"
      },
      "outputs": [
        {
          "name": "stdout",
          "output_type": "stream",
          "text": [
            "56\n"
          ]
        }
      ],
      "source": [
        "d_mix = {\"neuron\": {  \"a\":1,   \"b\":2,  \"c\" :3 }, \n",
        "               \"course\": {  \"d\":4,   \"e\": 5 },\n",
        "                \"f\": 7, \n",
        "                \"g\": [1,4,7,10],\n",
        "                \"h\":(4,56,1), \n",
        "                \"i\": 'kmr'\n",
        "                } \n",
        "li =[]\n",
        "for i in d_mix.values():\n",
        "    if type(i) != str and type(i) != complex:\n",
        "        if type(i) ==list or type(i) ==tuple or type(i) ==set:\n",
        "            \n",
        "            #li.append(max(i))\n",
        "            li.extend(list(i))\n",
        "    \n",
        "        elif type(i) == dict:\n",
        "            li.append(max(i.values()))\n",
        "        elif type(i) == int:\n",
        "                      li.append((i))\n",
        "        else:\n",
        "            pass\n",
        "print(max(li))\n"
      ]
    },
    {
      "cell_type": "code",
      "execution_count": null,
      "metadata": {
        "id": "AErOu4w9-Q_f",
        "outputId": "7545d068-bc64-4b73-a5be-ab31df729f27"
      },
      "outputs": [
        {
          "name": "stdout",
          "output_type": "stream",
          "text": [
            "eye\n",
            "eye is a palndrom\n",
            "eye is a palndrom\n",
            "eye is a palndrom\n"
          ]
        }
      ],
      "source": [
        "m=input()\n",
        "for i in range(len(m)):\n",
        "    if m[i] != m[len(m)-i-1]:\n",
        "        print(\"Not a palndrom\")\n",
        "\n",
        "    else:\n",
        "        print(m, \"is a palndrom\")\n"
      ]
    },
    {
      "cell_type": "code",
      "execution_count": null,
      "metadata": {
        "id": "VuY9t7s2-Q_f",
        "outputId": "9f33ad28-4f59-4fd9-d4d7-13febb3a4479"
      },
      "outputs": [
        {
          "name": "stdout",
          "output_type": "stream",
          "text": [
            "<class 'str'> Con't find max because data type is different\n"
          ]
        },
        {
          "ename": "TypeError",
          "evalue": "'>' not supported between instances of 'str' and 'int'",
          "output_type": "error",
          "traceback": [
            "\u001b[1;31m---------------------------------------------------------------------------\u001b[0m",
            "\u001b[1;31mTypeError\u001b[0m                                 Traceback (most recent call last)",
            "\u001b[1;32m<ipython-input-38-8fad1a45e0b1>\u001b[0m in \u001b[0;36m<module>\u001b[1;34m\u001b[0m\n\u001b[0;32m     12\u001b[0m     \u001b[1;32melse\u001b[0m\u001b[1;33m:\u001b[0m\u001b[1;33m\u001b[0m\u001b[1;33m\u001b[0m\u001b[0m\n\u001b[0;32m     13\u001b[0m         \u001b[0mprint\u001b[0m\u001b[1;33m(\u001b[0m\u001b[0mtype\u001b[0m\u001b[1;33m(\u001b[0m\u001b[0mi\u001b[0m\u001b[1;33m)\u001b[0m\u001b[1;33m,\u001b[0m\u001b[1;34m\"Con't find max because data type is different\"\u001b[0m\u001b[1;33m)\u001b[0m\u001b[1;33m\u001b[0m\u001b[1;33m\u001b[0m\u001b[0m\n\u001b[1;32m---> 14\u001b[1;33m \u001b[0mprint\u001b[0m\u001b[1;33m(\u001b[0m\u001b[0mmax\u001b[0m\u001b[1;33m(\u001b[0m\u001b[0mlst\u001b[0m \u001b[1;33m)\u001b[0m\u001b[1;33m)\u001b[0m\u001b[1;33m\u001b[0m\u001b[1;33m\u001b[0m\u001b[0m\n\u001b[0m",
            "\u001b[1;31mTypeError\u001b[0m: '>' not supported between instances of 'str' and 'int'"
          ]
        }
      ],
      "source": [
        "lst=[]\n",
        "my_lst=[]\n",
        "for i in d.values():\n",
        "    if type(i)==dict:\n",
        "        lst.extend(list(i.values()))\n",
        "    elif type(i)==int:\n",
        "        lst.append(i)\n",
        "    elif type(i)==list:\n",
        "        lst.extend(i)\n",
        "    elif type(i)==tuple:\n",
        "        lst.extend(i)\n",
        "    else:\n",
        "        print(type(i),\"Con't find max because data type is different\")\n",
        "print(max(lst ))\n"
      ]
    },
    {
      "cell_type": "code",
      "execution_count": null,
      "metadata": {
        "id": "2gCaAt71-Q_g"
      },
      "outputs": [],
      "source": [
        "d_2={\"ineuron\":{\"a\":10,\"b\":1,\"c\":45},\"course\":{\"d\":2,\"e\":5,\"f\":20},\"g\":34,\"h\":[4,6,23],\"i\":(12,4,78),\"k\":\"sudh\"}\n",
        "list2=[]\n",
        "for i in d_2.values():\n",
        "    if type(i)==dict:\n",
        "        list2.append(max(i.values()))\n"
      ]
    },
    {
      "cell_type": "code",
      "execution_count": null,
      "metadata": {
        "id": "84Ea59xJ-Q_g",
        "outputId": "26c868b8-bb2a-445c-cee3-983123ecf169"
      },
      "outputs": [
        {
          "data": {
            "text/plain": [
              "[45, 20]"
            ]
          },
          "execution_count": 47,
          "metadata": {},
          "output_type": "execute_result"
        }
      ],
      "source": [
        "list2"
      ]
    },
    {
      "cell_type": "code",
      "execution_count": null,
      "metadata": {
        "id": "4jHSuF8a-Q_h",
        "outputId": "f7b0c1cf-20f9-411b-988e-22beca9f52e8"
      },
      "outputs": [
        {
          "name": "stdout",
          "output_type": "stream",
          "text": [
            "palindrome\n"
          ]
        }
      ],
      "source": [
        "word = \"ssshsss\"\n",
        "for i in range (len(word)):\n",
        "    if word[i] != word [len(word)-i-1]:\n",
        "        print(\"not palindrome\")\n",
        "\n",
        "    else:\n",
        "        print('palindrome')\n",
        "        break\n"
      ]
    },
    {
      "cell_type": "code",
      "execution_count": null,
      "metadata": {
        "id": "qSo406zE-Q_h",
        "outputId": "d8c950a8-b9fc-43d3-ff45-319ef3f3eadf"
      },
      "outputs": [
        {
          "ename": "TypeError",
          "evalue": "'int' object is not iterable",
          "output_type": "error",
          "traceback": [
            "\u001b[1;31m---------------------------------------------------------------------------\u001b[0m",
            "\u001b[1;31mTypeError\u001b[0m                                 Traceback (most recent call last)",
            "\u001b[1;32m<ipython-input-52-c45702575703>\u001b[0m in \u001b[0;36m<module>\u001b[1;34m\u001b[0m\n\u001b[0;32m      3\u001b[0m     \u001b[1;32mfor\u001b[0m \u001b[0mj\u001b[0m \u001b[1;32min\u001b[0m \u001b[1;33m[\u001b[0m\u001b[0mi\u001b[0m\u001b[1;33m]\u001b[0m\u001b[1;33m:\u001b[0m\u001b[1;33m\u001b[0m\u001b[1;33m\u001b[0m\u001b[0m\n\u001b[0;32m      4\u001b[0m         \u001b[1;32mif\u001b[0m \u001b[0mtype\u001b[0m\u001b[1;33m(\u001b[0m\u001b[0mi\u001b[0m\u001b[1;33m)\u001b[0m\u001b[1;33m==\u001b[0m\u001b[0mtype\u001b[0m\u001b[1;33m(\u001b[0m\u001b[0mj\u001b[0m\u001b[1;33m)\u001b[0m\u001b[1;33m:\u001b[0m\u001b[1;33m\u001b[0m\u001b[1;33m\u001b[0m\u001b[0m\n\u001b[1;32m----> 5\u001b[1;33m             \u001b[0mlst\u001b[0m\u001b[1;33m.\u001b[0m\u001b[0mextend\u001b[0m\u001b[1;33m(\u001b[0m\u001b[0mi\u001b[0m\u001b[1;33m)\u001b[0m\u001b[1;33m\u001b[0m\u001b[1;33m\u001b[0m\u001b[0m\n\u001b[0m\u001b[0;32m      6\u001b[0m         \u001b[1;32melse\u001b[0m\u001b[1;33m:\u001b[0m\u001b[1;33m\u001b[0m\u001b[1;33m\u001b[0m\u001b[0m\n\u001b[0;32m      7\u001b[0m             \u001b[0mprint\u001b[0m\u001b[1;33m(\u001b[0m\u001b[1;34m\"\"\u001b[0m\u001b[1;33m)\u001b[0m\u001b[1;33m\u001b[0m\u001b[1;33m\u001b[0m\u001b[0m\n",
            "\u001b[1;31mTypeError\u001b[0m: 'int' object is not iterable"
          ]
        }
      ],
      "source": [
        "lst=[]\n",
        "for i in d.values():\n",
        "    for j in [i]:\n",
        "        if type(i)==type(j):\n",
        "            lst.extend(i)\n",
        "        else:\n",
        "            print(\"\")\n",
        "lst\n"
      ]
    },
    {
      "cell_type": "code",
      "execution_count": null,
      "metadata": {
        "id": "hi2Udk08-Q_h",
        "outputId": "36e955a9-1ee0-4428-c7f1-0d8fb4f4263c"
      },
      "outputs": [
        {
          "data": {
            "text/plain": [
              "{'ineuron': {'a': 14, 'b': 10, 'c': 4},\n",
              " 'course': {'d': 'fails', 'e': 34, 'f': 1},\n",
              " 'g': 345,\n",
              " 'h': [45, 6, 'check', 8, 9, 3],\n",
              " 'i': ('hope', 45, 34, 2),\n",
              " 'k': 'sudh'}"
            ]
          },
          "execution_count": 53,
          "metadata": {},
          "output_type": "execute_result"
        }
      ],
      "source": [
        "d"
      ]
    },
    {
      "cell_type": "code",
      "execution_count": null,
      "metadata": {
        "id": "8pj_r4T7-Q_i"
      },
      "outputs": [],
      "source": []
    }
  ],
  "metadata": {
    "kernelspec": {
      "display_name": "Python 3",
      "language": "python",
      "name": "python3"
    },
    "language_info": {
      "codemirror_mode": {
        "name": "ipython",
        "version": 3
      },
      "file_extension": ".py",
      "mimetype": "text/x-python",
      "name": "python",
      "nbconvert_exporter": "python",
      "pygments_lexer": "ipython3",
      "version": "3.8.5"
    },
    "colab": {
      "provenance": [],
      "include_colab_link": true
    }
  },
  "nbformat": 4,
  "nbformat_minor": 0
}