{
  "cells": [
    {
      "cell_type": "markdown",
      "metadata": {
        "id": "view-in-github",
        "colab_type": "text"
      },
      "source": [
        "<a href=\"https://colab.research.google.com/github/Sandeshjain-DS/ineuron_full_Stack_ds/blob/main/Tuples_%2C_set_%2C_dict_.ipynb\" target=\"_parent\"><img src=\"https://colab.research.google.com/assets/colab-badge.svg\" alt=\"Open In Colab\"/></a>"
      ]
    },
    {
      "cell_type": "code",
      "execution_count": null,
      "metadata": {
        "id": "3RBFQAWYCn7y"
      },
      "outputs": [],
      "source": [
        "t = (1,2,3,4,5)"
      ]
    },
    {
      "cell_type": "code",
      "execution_count": null,
      "metadata": {
        "id": "9TfynzdHCn75",
        "outputId": "bf1fca4c-0eee-4b98-a2a3-4b7dfe1b50d7"
      },
      "outputs": [
        {
          "data": {
            "text/plain": [
              "tuple"
            ]
          },
          "execution_count": 2,
          "metadata": {},
          "output_type": "execute_result"
        }
      ],
      "source": [
        "type(t)"
      ]
    },
    {
      "cell_type": "code",
      "execution_count": null,
      "metadata": {
        "id": "D2zMU-Q3Cn77"
      },
      "outputs": [],
      "source": [
        "t1 = (\"sudh\" , 345 , 45+78j , 546.56 ,True)"
      ]
    },
    {
      "cell_type": "code",
      "execution_count": null,
      "metadata": {
        "id": "96lz-RErCn79"
      },
      "outputs": [],
      "source": [
        " l = [\"sudh\" , 345 , 45+78j , 546.56 ,True]"
      ]
    },
    {
      "cell_type": "code",
      "execution_count": null,
      "metadata": {
        "id": "exNyYSMvCn79",
        "outputId": "8a9814ff-66ab-4bd0-b6a2-ef1e8d50cdd0"
      },
      "outputs": [
        {
          "data": {
            "text/plain": [
              "tuple"
            ]
          },
          "execution_count": 6,
          "metadata": {},
          "output_type": "execute_result"
        }
      ],
      "source": [
        "type(t1)"
      ]
    },
    {
      "cell_type": "code",
      "execution_count": null,
      "metadata": {
        "id": "MQB1Zg1KCn7-",
        "outputId": "6c48f0db-fd99-4850-a09a-8492ce5a2e3c"
      },
      "outputs": [
        {
          "data": {
            "text/plain": [
              "list"
            ]
          },
          "execution_count": 7,
          "metadata": {},
          "output_type": "execute_result"
        }
      ],
      "source": [
        "type(l)"
      ]
    },
    {
      "cell_type": "code",
      "execution_count": null,
      "metadata": {
        "id": "Yoaog-6BCn8A"
      },
      "outputs": [],
      "source": [
        "t2 = ()"
      ]
    },
    {
      "cell_type": "code",
      "execution_count": null,
      "metadata": {
        "id": "JiS3mYORCn8B",
        "outputId": "21c1f926-39eb-4fa0-c6ca-f7f530fd00cf"
      },
      "outputs": [
        {
          "data": {
            "text/plain": [
              "tuple"
            ]
          },
          "execution_count": 9,
          "metadata": {},
          "output_type": "execute_result"
        }
      ],
      "source": [
        "type(t2)"
      ]
    },
    {
      "cell_type": "code",
      "execution_count": null,
      "metadata": {
        "id": "-rTk7rvlCn8C",
        "outputId": "601bcb43-ed9b-46df-93a6-3c0f5ecb4243"
      },
      "outputs": [
        {
          "data": {
            "text/plain": [
              "('sudh', 345, (45+78j), 546.56, True)"
            ]
          },
          "execution_count": 10,
          "metadata": {},
          "output_type": "execute_result"
        }
      ],
      "source": [
        "t1"
      ]
    },
    {
      "cell_type": "code",
      "execution_count": null,
      "metadata": {
        "id": "XNwzw2J1Cn8D",
        "outputId": "cf0ecb7e-a27b-4b60-ec66-c7cc0e3dab41"
      },
      "outputs": [
        {
          "data": {
            "text/plain": [
              "['sudh', 345, (45+78j), 546.56, True]"
            ]
          },
          "execution_count": 11,
          "metadata": {},
          "output_type": "execute_result"
        }
      ],
      "source": [
        "l"
      ]
    },
    {
      "cell_type": "code",
      "execution_count": null,
      "metadata": {
        "id": "5hGDkJhaCn8E",
        "outputId": "f5f7e5fb-14e6-4468-f8d8-134e8aaa75c8"
      },
      "outputs": [
        {
          "data": {
            "text/plain": [
              "['sudh', 345]"
            ]
          },
          "execution_count": 12,
          "metadata": {},
          "output_type": "execute_result"
        }
      ],
      "source": [
        "l[0:2]"
      ]
    },
    {
      "cell_type": "code",
      "execution_count": null,
      "metadata": {
        "id": "KQ0WErUzCn8I",
        "outputId": "64721722-a1f6-41e4-f10d-331d4f4ec056"
      },
      "outputs": [
        {
          "data": {
            "text/plain": [
              "('sudh', 345)"
            ]
          },
          "execution_count": 13,
          "metadata": {},
          "output_type": "execute_result"
        }
      ],
      "source": [
        "t1[0:2]"
      ]
    },
    {
      "cell_type": "code",
      "execution_count": null,
      "metadata": {
        "id": "7ZcnQu9rCn8J",
        "outputId": "e22026cf-bceb-4eb1-eb9e-67ef7431bb95"
      },
      "outputs": [
        {
          "data": {
            "text/plain": [
              "(True, 546.56, (45+78j), 345, 'sudh')"
            ]
          },
          "execution_count": 14,
          "metadata": {},
          "output_type": "execute_result"
        }
      ],
      "source": [
        "t1[::-1]"
      ]
    },
    {
      "cell_type": "code",
      "execution_count": null,
      "metadata": {
        "id": "MNe_Z7MkCn8L",
        "outputId": "f8262355-1bf3-4100-de13-f1e93d77a4dc"
      },
      "outputs": [
        {
          "data": {
            "text/plain": [
              "True"
            ]
          },
          "execution_count": 15,
          "metadata": {},
          "output_type": "execute_result"
        }
      ],
      "source": [
        "t1[-1]"
      ]
    },
    {
      "cell_type": "code",
      "execution_count": null,
      "metadata": {
        "id": "aq3yBajTCn8M",
        "outputId": "09c0bb59-1787-4623-d45d-ea09349f9d67"
      },
      "outputs": [
        {
          "data": {
            "text/plain": [
              "('sudh', 345, (45+78j), 546.56, True)"
            ]
          },
          "execution_count": 16,
          "metadata": {},
          "output_type": "execute_result"
        }
      ],
      "source": [
        "t1"
      ]
    },
    {
      "cell_type": "code",
      "execution_count": null,
      "metadata": {
        "id": "ZKE-rMKECn8M",
        "outputId": "07d3060e-9bc8-481b-aa31-ca4dacd1cc73"
      },
      "outputs": [
        {
          "data": {
            "text/plain": [
              "('sudh', (45+78j), True)"
            ]
          },
          "execution_count": 17,
          "metadata": {},
          "output_type": "execute_result"
        }
      ],
      "source": [
        "t1[0::2]"
      ]
    },
    {
      "cell_type": "code",
      "execution_count": null,
      "metadata": {
        "id": "XAE7askHCn8N",
        "outputId": "9b965874-96a2-4043-fc82-85ff79074971"
      },
      "outputs": [
        {
          "data": {
            "text/plain": [
              "['sudh', 345, (45+78j), 546.56, True]"
            ]
          },
          "execution_count": 18,
          "metadata": {},
          "output_type": "execute_result"
        }
      ],
      "source": [
        "l"
      ]
    },
    {
      "cell_type": "code",
      "execution_count": null,
      "metadata": {
        "id": "KX9GMdZqCn8N"
      },
      "outputs": [],
      "source": [
        "l1 = [4,5,6,7]"
      ]
    },
    {
      "cell_type": "code",
      "execution_count": null,
      "metadata": {
        "id": "iTfCT8fwCn8O"
      },
      "outputs": [],
      "source": [
        "l[0] = \"kumar\""
      ]
    },
    {
      "cell_type": "code",
      "execution_count": null,
      "metadata": {
        "id": "XMHn77bVCn8O",
        "outputId": "56c3ee6f-d8ec-4018-bbb3-1361013d3bee"
      },
      "outputs": [
        {
          "data": {
            "text/plain": [
              "['kumar', 345, (45+78j), 546.56, True]"
            ]
          },
          "execution_count": 22,
          "metadata": {},
          "output_type": "execute_result"
        }
      ],
      "source": [
        "l"
      ]
    },
    {
      "cell_type": "code",
      "execution_count": null,
      "metadata": {
        "id": "8Y_kWgNQCn8P",
        "outputId": "1d467d0f-63dd-4c48-f214-d52e34e49176"
      },
      "outputs": [
        {
          "data": {
            "text/plain": [
              "('sudh', 345, (45+78j), 546.56, True)"
            ]
          },
          "execution_count": 23,
          "metadata": {},
          "output_type": "execute_result"
        }
      ],
      "source": [
        "t1"
      ]
    },
    {
      "cell_type": "code",
      "execution_count": null,
      "metadata": {
        "id": "DhaL9YU8Cn8P",
        "outputId": "dfbb3c50-d713-4ea7-8891-c7a1c980fda3"
      },
      "outputs": [
        {
          "ename": "TypeError",
          "evalue": "'tuple' object does not support item assignment",
          "output_type": "error",
          "traceback": [
            "\u001b[1;31m---------------------------------------------------------------------------\u001b[0m",
            "\u001b[1;31mTypeError\u001b[0m                                 Traceback (most recent call last)",
            "\u001b[1;32m<ipython-input-25-5bd21952e310>\u001b[0m in \u001b[0;36m<module>\u001b[1;34m\u001b[0m\n\u001b[1;32m----> 1\u001b[1;33m \u001b[0mt1\u001b[0m\u001b[1;33m[\u001b[0m\u001b[1;36m0\u001b[0m\u001b[1;33m]\u001b[0m \u001b[1;33m=\u001b[0m \u001b[1;34m\"xyz\"\u001b[0m\u001b[1;33m\u001b[0m\u001b[1;33m\u001b[0m\u001b[0m\n\u001b[0m",
            "\u001b[1;31mTypeError\u001b[0m: 'tuple' object does not support item assignment"
          ]
        }
      ],
      "source": [
        "t1[0] = \"xyz\""
      ]
    },
    {
      "cell_type": "code",
      "execution_count": null,
      "metadata": {
        "id": "q1Y9vgSkCn8Q"
      },
      "outputs": [],
      "source": [
        "s = \"sudh\""
      ]
    },
    {
      "cell_type": "code",
      "execution_count": null,
      "metadata": {
        "id": "FTfii7rXCn8R",
        "outputId": "744f74e4-9288-404d-e06f-195aae9d4db1"
      },
      "outputs": [
        {
          "ename": "TypeError",
          "evalue": "'str' object does not support item assignment",
          "output_type": "error",
          "traceback": [
            "\u001b[1;31m---------------------------------------------------------------------------\u001b[0m",
            "\u001b[1;31mTypeError\u001b[0m                                 Traceback (most recent call last)",
            "\u001b[1;32m<ipython-input-28-4911d8b25eb9>\u001b[0m in \u001b[0;36m<module>\u001b[1;34m\u001b[0m\n\u001b[1;32m----> 1\u001b[1;33m \u001b[0ms\u001b[0m\u001b[1;33m[\u001b[0m\u001b[1;36m0\u001b[0m\u001b[1;33m]\u001b[0m \u001b[1;33m=\u001b[0m \u001b[1;36m45\u001b[0m\u001b[1;33m\u001b[0m\u001b[1;33m\u001b[0m\u001b[0m\n\u001b[0m",
            "\u001b[1;31mTypeError\u001b[0m: 'str' object does not support item assignment"
          ]
        }
      ],
      "source": [
        "s[0] = 45"
      ]
    },
    {
      "cell_type": "code",
      "execution_count": null,
      "metadata": {
        "id": "T-9h-BtkCn8R",
        "outputId": "8f2dc29b-9358-4182-dafa-5e5a151dadfc"
      },
      "outputs": [
        {
          "data": {
            "text/plain": [
              "('sudh', 345, (45+78j), 546.56, True)"
            ]
          },
          "execution_count": 29,
          "metadata": {},
          "output_type": "execute_result"
        }
      ],
      "source": [
        "t1"
      ]
    },
    {
      "cell_type": "code",
      "execution_count": null,
      "metadata": {
        "id": "yVesABxcCn8R"
      },
      "outputs": [],
      "source": [
        "t2 = (34,56,56,56,5,656)"
      ]
    },
    {
      "cell_type": "code",
      "execution_count": null,
      "metadata": {
        "id": "KdzrOXJHCn8S",
        "outputId": "0ef1cbb8-79d9-412f-c84f-ad28ce6eb2a1"
      },
      "outputs": [
        {
          "data": {
            "text/plain": [
              "('sudh', 345, (45+78j), 546.56, True, 34, 56, 56, 56, 5, 656)"
            ]
          },
          "execution_count": 31,
          "metadata": {},
          "output_type": "execute_result"
        }
      ],
      "source": [
        "t1+t2"
      ]
    },
    {
      "cell_type": "code",
      "execution_count": null,
      "metadata": {
        "id": "dBvi421QCn8S",
        "outputId": "b4ba6803-9044-4858-8f67-03ee69a97a0f"
      },
      "outputs": [
        {
          "data": {
            "text/plain": [
              "['kumar', 345, (45+78j), 546.56, True]"
            ]
          },
          "execution_count": 32,
          "metadata": {},
          "output_type": "execute_result"
        }
      ],
      "source": [
        "l"
      ]
    },
    {
      "cell_type": "code",
      "execution_count": null,
      "metadata": {
        "id": "HDLT55eLCn8T",
        "outputId": "5d5f60a2-6e8a-41d8-ea73-67caa30ad14c"
      },
      "outputs": [
        {
          "data": {
            "text/plain": [
              "[4, 5, 6, 7]"
            ]
          },
          "execution_count": 33,
          "metadata": {},
          "output_type": "execute_result"
        }
      ],
      "source": [
        "l1"
      ]
    },
    {
      "cell_type": "code",
      "execution_count": null,
      "metadata": {
        "id": "n1O51jGjCn8T",
        "outputId": "64eda189-d0b0-42c1-83d7-9c6d69c60b94"
      },
      "outputs": [
        {
          "data": {
            "text/plain": [
              "['kumar', 345, (45+78j), 546.56, True, 4, 5, 6, 7]"
            ]
          },
          "execution_count": 34,
          "metadata": {},
          "output_type": "execute_result"
        }
      ],
      "source": [
        "l+l1"
      ]
    },
    {
      "cell_type": "code",
      "execution_count": null,
      "metadata": {
        "id": "EEFkzK1gCn8U",
        "outputId": "e159b476-2f78-4f6d-b003-09a867433218"
      },
      "outputs": [
        {
          "data": {
            "text/plain": [
              "('sudh', 345, (45+78j), 546.56, True)"
            ]
          },
          "execution_count": 35,
          "metadata": {},
          "output_type": "execute_result"
        }
      ],
      "source": [
        "t1"
      ]
    },
    {
      "cell_type": "code",
      "execution_count": null,
      "metadata": {
        "id": "EmbY37zHCn8U",
        "outputId": "dcf822e9-dd7f-46fc-b251-c10f5a47a460"
      },
      "outputs": [
        {
          "data": {
            "text/plain": [
              "('sudh', 345, (45+78j), 546.56, True, 'sudh', 345, (45+78j), 546.56, True)"
            ]
          },
          "execution_count": 36,
          "metadata": {},
          "output_type": "execute_result"
        }
      ],
      "source": [
        "t1*2"
      ]
    },
    {
      "cell_type": "code",
      "execution_count": null,
      "metadata": {
        "id": "5deIx5CtCn8U",
        "outputId": "09a1d7b7-f4b9-4879-c5d9-5368cdf0a9ff"
      },
      "outputs": [
        {
          "data": {
            "text/plain": [
              "('sudh', 345, (45+78j), 546.56, True)"
            ]
          },
          "execution_count": 37,
          "metadata": {},
          "output_type": "execute_result"
        }
      ],
      "source": [
        "t1"
      ]
    },
    {
      "cell_type": "code",
      "execution_count": null,
      "metadata": {
        "id": "oXRXfjshCn8V",
        "outputId": "fc89149b-cb9a-4514-bc12-fdbf955cd56e"
      },
      "outputs": [
        {
          "data": {
            "text/plain": [
              "1"
            ]
          },
          "execution_count": 39,
          "metadata": {},
          "output_type": "execute_result"
        }
      ],
      "source": [
        "t1.count(\"sudh\")"
      ]
    },
    {
      "cell_type": "code",
      "execution_count": null,
      "metadata": {
        "id": "h9k8i4pXCn8V",
        "outputId": "0f43bcb4-d21f-4521-e729-0da18f3fb5bf"
      },
      "outputs": [
        {
          "data": {
            "text/plain": [
              "0"
            ]
          },
          "execution_count": 40,
          "metadata": {},
          "output_type": "execute_result"
        }
      ],
      "source": [
        "t1.index(\"sudh\")"
      ]
    },
    {
      "cell_type": "code",
      "execution_count": null,
      "metadata": {
        "id": "d1K4KUbKCn8W",
        "outputId": "1945097f-caa6-47a6-f9d8-405b0c41612a"
      },
      "outputs": [
        {
          "data": {
            "text/plain": [
              "['kumar', 345, (45+78j), 546.56, True]"
            ]
          },
          "execution_count": 38,
          "metadata": {},
          "output_type": "execute_result"
        }
      ],
      "source": [
        "l"
      ]
    },
    {
      "cell_type": "code",
      "execution_count": null,
      "metadata": {
        "id": "deSQsKJlCn8W"
      },
      "outputs": [],
      "source": [
        "l."
      ]
    },
    {
      "cell_type": "code",
      "execution_count": null,
      "metadata": {
        "id": "eVMG4jZ9Cn8W"
      },
      "outputs": [],
      "source": [
        "t = (45,54,54,5, (4,5,6) , (\"sudh\"))"
      ]
    },
    {
      "cell_type": "code",
      "execution_count": null,
      "metadata": {
        "id": "7mNn9gDKCn8X",
        "outputId": "65da3b34-d7d3-4ab1-e063-027be5d39e71"
      },
      "outputs": [
        {
          "data": {
            "text/plain": [
              "(45, 54, 54, 5, (4, 5, 6), 'sudh')"
            ]
          },
          "execution_count": 42,
          "metadata": {},
          "output_type": "execute_result"
        }
      ],
      "source": [
        "t"
      ]
    },
    {
      "cell_type": "code",
      "execution_count": null,
      "metadata": {
        "id": "iAeF8qcOCn8X"
      },
      "outputs": [],
      "source": [
        "t1 = ([3,4,54,6]  , (\"sd\" , 435,56) , \"ushd\")"
      ]
    },
    {
      "cell_type": "code",
      "execution_count": null,
      "metadata": {
        "id": "NEU3NXL2Cn8X"
      },
      "outputs": [],
      "source": [
        "t1[0][2] = \"sudh\""
      ]
    },
    {
      "cell_type": "code",
      "execution_count": null,
      "metadata": {
        "id": "fUe5ZfPyCn8Y",
        "outputId": "245766e9-ebd7-4c22-8f94-97e3c07b682b"
      },
      "outputs": [
        {
          "data": {
            "text/plain": [
              "([3, 4, 'sudh', 6], ('sd', 435, 56), 'ushd')"
            ]
          },
          "execution_count": 48,
          "metadata": {},
          "output_type": "execute_result"
        }
      ],
      "source": [
        "t1"
      ]
    },
    {
      "cell_type": "code",
      "execution_count": null,
      "metadata": {
        "id": "JsWze0vBCn8Y",
        "outputId": "4f617327-02fa-410d-e581-b93a0b2ecbcd"
      },
      "outputs": [
        {
          "ename": "TypeError",
          "evalue": "'tuple' object does not support item assignment",
          "output_type": "error",
          "traceback": [
            "\u001b[1;31m---------------------------------------------------------------------------\u001b[0m",
            "\u001b[1;31mTypeError\u001b[0m                                 Traceback (most recent call last)",
            "\u001b[1;32m<ipython-input-50-adad04fe9159>\u001b[0m in \u001b[0;36m<module>\u001b[1;34m\u001b[0m\n\u001b[1;32m----> 1\u001b[1;33m \u001b[0mt1\u001b[0m\u001b[1;33m[\u001b[0m\u001b[1;36m0\u001b[0m\u001b[1;33m]\u001b[0m \u001b[1;33m=\u001b[0m \u001b[1;34m\"sdfsaf\"\u001b[0m\u001b[1;33m\u001b[0m\u001b[1;33m\u001b[0m\u001b[0m\n\u001b[0m",
            "\u001b[1;31mTypeError\u001b[0m: 'tuple' object does not support item assignment"
          ]
        }
      ],
      "source": [
        "t1[0] = \"sdfsaf\""
      ]
    },
    {
      "cell_type": "code",
      "execution_count": null,
      "metadata": {
        "id": "yg_StnuwCn8Y"
      },
      "outputs": [],
      "source": [
        "t1 = (53,54,45,4,5,4,54)"
      ]
    },
    {
      "cell_type": "code",
      "execution_count": null,
      "metadata": {
        "id": "7iTzJZYnCn8Y"
      },
      "outputs": [],
      "source": [
        "l  = list(t1)"
      ]
    },
    {
      "cell_type": "code",
      "execution_count": null,
      "metadata": {
        "id": "NV6G_H4xCn8Z",
        "outputId": "affc9fe8-adb6-4dee-e55d-2c4abc47d308"
      },
      "outputs": [
        {
          "data": {
            "text/plain": [
              "[53, 54, 45, 4, 5, 4, 54]"
            ]
          },
          "execution_count": 54,
          "metadata": {},
          "output_type": "execute_result"
        }
      ],
      "source": [
        "l"
      ]
    },
    {
      "cell_type": "code",
      "execution_count": null,
      "metadata": {
        "id": "fZwLXrSxCn8Z",
        "outputId": "16ad7e72-8349-46f9-9cfa-9d593ec8cdc4"
      },
      "outputs": [
        {
          "data": {
            "text/plain": [
              "(53, 54, 45, 4, 5, 4, 54)"
            ]
          },
          "execution_count": 55,
          "metadata": {},
          "output_type": "execute_result"
        }
      ],
      "source": [
        "tuple(l)"
      ]
    },
    {
      "cell_type": "code",
      "execution_count": null,
      "metadata": {
        "id": "0y3T4JdMCn8a"
      },
      "outputs": [],
      "source": [
        "l = [1,2,3,4,5,6,76,5,5,5,5,5,5,5,2,3,4,5,6,1,2,3]"
      ]
    },
    {
      "cell_type": "code",
      "execution_count": null,
      "metadata": {
        "id": "K0V9odNoCn8b",
        "outputId": "47e03043-953d-44ef-e2b0-e987a0a234d6"
      },
      "outputs": [
        {
          "data": {
            "text/plain": [
              "{1, 2, 3, 4, 5, 6, 76}"
            ]
          },
          "execution_count": 58,
          "metadata": {},
          "output_type": "execute_result"
        }
      ],
      "source": [
        "set(l)"
      ]
    },
    {
      "cell_type": "code",
      "execution_count": null,
      "metadata": {
        "id": "6r03cVwzCn8b"
      },
      "outputs": [],
      "source": [
        "s = {}"
      ]
    },
    {
      "cell_type": "code",
      "execution_count": null,
      "metadata": {
        "id": "gjz8VZeDCn8b",
        "outputId": "e44da567-8a40-4752-cf4b-3e7d6561d97b"
      },
      "outputs": [
        {
          "data": {
            "text/plain": [
              "dict"
            ]
          },
          "execution_count": 60,
          "metadata": {},
          "output_type": "execute_result"
        }
      ],
      "source": [
        "type(s)"
      ]
    },
    {
      "cell_type": "code",
      "execution_count": null,
      "metadata": {
        "id": "lTzokYRaCn8b"
      },
      "outputs": [],
      "source": [
        "s1 = {2,3,4}"
      ]
    },
    {
      "cell_type": "code",
      "execution_count": null,
      "metadata": {
        "id": "6C4rFlmJCn8c",
        "outputId": "dd1e813c-7b21-49f6-b8fe-c7d3baddd448"
      },
      "outputs": [
        {
          "data": {
            "text/plain": [
              "set"
            ]
          },
          "execution_count": 62,
          "metadata": {},
          "output_type": "execute_result"
        }
      ],
      "source": [
        "type(s1)"
      ]
    },
    {
      "cell_type": "code",
      "execution_count": null,
      "metadata": {
        "id": "Nw4x2dDBCn8c"
      },
      "outputs": [],
      "source": [
        "s2={1,1,1,1,1,1,2,3,4,54,4,3,3,2,54}"
      ]
    },
    {
      "cell_type": "code",
      "execution_count": null,
      "metadata": {
        "id": "FLf4-5u5Cn8c",
        "outputId": "7caf1215-b215-4b17-9913-74455319a207"
      },
      "outputs": [
        {
          "data": {
            "text/plain": [
              "{1, 2, 3, 4, 54}"
            ]
          },
          "execution_count": 64,
          "metadata": {},
          "output_type": "execute_result"
        }
      ],
      "source": [
        "s2"
      ]
    },
    {
      "cell_type": "code",
      "execution_count": null,
      "metadata": {
        "id": "RBTq0WuGCn8d",
        "outputId": "e9096967-d279-4e96-c6f5-b52e98a3b75d"
      },
      "outputs": [
        {
          "ename": "TypeError",
          "evalue": "'set' object is not subscriptable",
          "output_type": "error",
          "traceback": [
            "\u001b[1;31m---------------------------------------------------------------------------\u001b[0m",
            "\u001b[1;31mTypeError\u001b[0m                                 Traceback (most recent call last)",
            "\u001b[1;32m<ipython-input-65-ab7c8e26b0d3>\u001b[0m in \u001b[0;36m<module>\u001b[1;34m\u001b[0m\n\u001b[1;32m----> 1\u001b[1;33m \u001b[0ms2\u001b[0m\u001b[1;33m[\u001b[0m\u001b[1;36m0\u001b[0m\u001b[1;33m]\u001b[0m\u001b[1;33m\u001b[0m\u001b[1;33m\u001b[0m\u001b[0m\n\u001b[0m",
            "\u001b[1;31mTypeError\u001b[0m: 'set' object is not subscriptable"
          ]
        }
      ],
      "source": [
        "s2[0]"
      ]
    },
    {
      "cell_type": "code",
      "execution_count": null,
      "metadata": {
        "id": "y6ba-4lVCn8d",
        "outputId": "ff6fb1b2-6470-4fca-cf75-64e2d364d17e"
      },
      "outputs": [
        {
          "data": {
            "text/plain": [
              "[1, 2, 3, 4, 54]"
            ]
          },
          "execution_count": 67,
          "metadata": {},
          "output_type": "execute_result"
        }
      ],
      "source": [
        "list(s2)"
      ]
    },
    {
      "cell_type": "code",
      "execution_count": null,
      "metadata": {
        "id": "TZCWjYptCn8d",
        "outputId": "fced3dd7-93f2-4c20-ba0f-d72eb14389b5"
      },
      "outputs": [
        {
          "data": {
            "text/plain": [
              "{1, 2, 3, 4, 54}"
            ]
          },
          "execution_count": 68,
          "metadata": {},
          "output_type": "execute_result"
        }
      ],
      "source": [
        "s2"
      ]
    },
    {
      "cell_type": "code",
      "execution_count": null,
      "metadata": {
        "id": "SUZ1A4RCCn8e"
      },
      "outputs": [],
      "source": [
        "s2.add(89777)"
      ]
    },
    {
      "cell_type": "code",
      "execution_count": null,
      "metadata": {
        "id": "vHasjYQRCn8e",
        "outputId": "079ba0ee-04b3-4e09-806a-1ad75ff4de63"
      },
      "outputs": [
        {
          "data": {
            "text/plain": [
              "{1, 2, 3, 4, 54, 89777}"
            ]
          },
          "execution_count": 70,
          "metadata": {},
          "output_type": "execute_result"
        }
      ],
      "source": [
        "s2"
      ]
    },
    {
      "cell_type": "code",
      "execution_count": null,
      "metadata": {
        "id": "WcAlS1eLCn8e"
      },
      "outputs": [],
      "source": [
        "s2.add(\"sudh\")"
      ]
    },
    {
      "cell_type": "code",
      "execution_count": null,
      "metadata": {
        "id": "93t__lHfCn8f",
        "outputId": "4219d91e-2ef9-43f8-e670-88c3d43f216e"
      },
      "outputs": [
        {
          "data": {
            "text/plain": [
              "{1, 2, 3, 4, 54, 89777, 'sudh'}"
            ]
          },
          "execution_count": 72,
          "metadata": {},
          "output_type": "execute_result"
        }
      ],
      "source": [
        "s2"
      ]
    },
    {
      "cell_type": "code",
      "execution_count": null,
      "metadata": {
        "id": "_qztKzbdCn8f",
        "outputId": "e5875157-592a-40cd-b111-048a4711a12e"
      },
      "outputs": [
        {
          "ename": "TypeError",
          "evalue": "unhashable type: 'list'",
          "output_type": "error",
          "traceback": [
            "\u001b[1;31m---------------------------------------------------------------------------\u001b[0m",
            "\u001b[1;31mTypeError\u001b[0m                                 Traceback (most recent call last)",
            "\u001b[1;32m<ipython-input-73-345b76a01cc4>\u001b[0m in \u001b[0;36m<module>\u001b[1;34m\u001b[0m\n\u001b[1;32m----> 1\u001b[1;33m \u001b[0ms2\u001b[0m\u001b[1;33m.\u001b[0m\u001b[0madd\u001b[0m\u001b[1;33m(\u001b[0m\u001b[1;33m[\u001b[0m\u001b[1;36m3\u001b[0m\u001b[1;33m,\u001b[0m\u001b[1;36m4\u001b[0m\u001b[1;33m,\u001b[0m\u001b[1;36m5\u001b[0m\u001b[1;33m,\u001b[0m\u001b[1;36m6\u001b[0m\u001b[1;33m]\u001b[0m\u001b[1;33m)\u001b[0m\u001b[1;33m\u001b[0m\u001b[1;33m\u001b[0m\u001b[0m\n\u001b[0m",
            "\u001b[1;31mTypeError\u001b[0m: unhashable type: 'list'"
          ]
        }
      ],
      "source": [
        "s2.add([3,4,5,6])"
      ]
    },
    {
      "cell_type": "code",
      "execution_count": null,
      "metadata": {
        "id": "pQrJCQzzCn8f",
        "outputId": "18b6c855-dea4-4120-9415-49f8221fc6f6"
      },
      "outputs": [
        {
          "ename": "TypeError",
          "evalue": "unhashable type: 'list'",
          "output_type": "error",
          "traceback": [
            "\u001b[1;31m---------------------------------------------------------------------------\u001b[0m",
            "\u001b[1;31mTypeError\u001b[0m                                 Traceback (most recent call last)",
            "\u001b[1;32m<ipython-input-74-41fccfa9cf4f>\u001b[0m in \u001b[0;36m<module>\u001b[1;34m\u001b[0m\n\u001b[1;32m----> 1\u001b[1;33m \u001b[1;33m{\u001b[0m\u001b[1;33m[\u001b[0m\u001b[1;36m3\u001b[0m\u001b[1;33m,\u001b[0m\u001b[1;36m4\u001b[0m\u001b[1;33m,\u001b[0m\u001b[1;36m5\u001b[0m\u001b[1;33m,\u001b[0m\u001b[1;36m6\u001b[0m\u001b[1;33m]\u001b[0m \u001b[1;33m,\u001b[0m\u001b[1;36m3\u001b[0m\u001b[1;33m,\u001b[0m\u001b[1;36m4\u001b[0m\u001b[1;33m,\u001b[0m\u001b[1;36m5\u001b[0m\u001b[1;33m,\u001b[0m\u001b[1;36m3\u001b[0m\u001b[1;33m,\u001b[0m\u001b[1;36m4\u001b[0m\u001b[1;33m,\u001b[0m\u001b[1;36m5\u001b[0m\u001b[1;33m}\u001b[0m\u001b[1;33m\u001b[0m\u001b[1;33m\u001b[0m\u001b[0m\n\u001b[0m",
            "\u001b[1;31mTypeError\u001b[0m: unhashable type: 'list'"
          ]
        }
      ],
      "source": [
        "{[3,4,5,6] ,3,4,5,3,4,5}"
      ]
    },
    {
      "cell_type": "code",
      "execution_count": null,
      "metadata": {
        "id": "skqfBlvUCn8f"
      },
      "outputs": [],
      "source": [
        "s = {(3,4,5,6) ,(3,4,5,6) ,3,4,5,3,4,5}"
      ]
    },
    {
      "cell_type": "code",
      "execution_count": null,
      "metadata": {
        "id": "Jv32SpAwCn8g",
        "outputId": "5d144ade-e685-40b8-eff7-f7f7f3877a42"
      },
      "outputs": [
        {
          "data": {
            "text/plain": [
              "{}"
            ]
          },
          "execution_count": 77,
          "metadata": {},
          "output_type": "execute_result"
        }
      ],
      "source": [
        "s"
      ]
    },
    {
      "cell_type": "code",
      "execution_count": null,
      "metadata": {
        "id": "cH1ekDTMCn8g",
        "outputId": "be10e5c3-283b-40db-be6e-6e88f99ed350"
      },
      "outputs": [
        {
          "data": {
            "text/plain": [
              "{(3, 4, 5, 6), 3, 4, 5}"
            ]
          },
          "execution_count": 79,
          "metadata": {},
          "output_type": "execute_result"
        }
      ],
      "source": [
        "s"
      ]
    },
    {
      "cell_type": "code",
      "execution_count": null,
      "metadata": {
        "id": "_jVaOCSgCn8g"
      },
      "outputs": [],
      "source": [
        "s.remove(4)"
      ]
    },
    {
      "cell_type": "code",
      "execution_count": null,
      "metadata": {
        "id": "SG7Wceo2Cn8h",
        "outputId": "b470e896-e5ea-41e7-b711-a18ff31b1e5f"
      },
      "outputs": [
        {
          "data": {
            "text/plain": [
              "{(3, 4, 5, 6), 3, 5}"
            ]
          },
          "execution_count": 81,
          "metadata": {},
          "output_type": "execute_result"
        }
      ],
      "source": [
        "s"
      ]
    },
    {
      "cell_type": "code",
      "execution_count": null,
      "metadata": {
        "id": "NzTaOcIhCn8h"
      },
      "outputs": [],
      "source": [
        "s.discard(5)"
      ]
    },
    {
      "cell_type": "code",
      "execution_count": null,
      "metadata": {
        "id": "AuAOZZV2Cn8i",
        "outputId": "5b92a24b-f921-4013-9366-e22c76ee0fdc"
      },
      "outputs": [
        {
          "data": {
            "text/plain": [
              "{(3, 4, 5, 6), 3}"
            ]
          },
          "execution_count": 83,
          "metadata": {},
          "output_type": "execute_result"
        }
      ],
      "source": [
        "s"
      ]
    },
    {
      "cell_type": "code",
      "execution_count": null,
      "metadata": {
        "id": "7yzK46kwCn8i",
        "outputId": "24fa4243-84e4-4d02-a0ab-6a461df448e9"
      },
      "outputs": [
        {
          "ename": "KeyError",
          "evalue": "45",
          "output_type": "error",
          "traceback": [
            "\u001b[1;31m---------------------------------------------------------------------------\u001b[0m",
            "\u001b[1;31mKeyError\u001b[0m                                  Traceback (most recent call last)",
            "\u001b[1;32m<ipython-input-84-30b5ee21a9a0>\u001b[0m in \u001b[0;36m<module>\u001b[1;34m\u001b[0m\n\u001b[1;32m----> 1\u001b[1;33m \u001b[0ms\u001b[0m\u001b[1;33m.\u001b[0m\u001b[0mremove\u001b[0m\u001b[1;33m(\u001b[0m\u001b[1;36m45\u001b[0m\u001b[1;33m)\u001b[0m\u001b[1;33m\u001b[0m\u001b[1;33m\u001b[0m\u001b[0m\n\u001b[0m",
            "\u001b[1;31mKeyError\u001b[0m: 45"
          ]
        }
      ],
      "source": [
        "s.remove(45)"
      ]
    },
    {
      "cell_type": "code",
      "execution_count": null,
      "metadata": {
        "id": "h38F96_QCn8j"
      },
      "outputs": [],
      "source": [
        "s.discard(45)"
      ]
    },
    {
      "cell_type": "code",
      "execution_count": null,
      "metadata": {
        "id": "T3TUUj6zCn8j",
        "outputId": "1d9d41ee-5aae-4c6b-d0a0-3d98400b3ee2"
      },
      "outputs": [
        {
          "data": {
            "text/plain": [
              "{'Sudh', 'sudh'}"
            ]
          },
          "execution_count": 86,
          "metadata": {},
          "output_type": "execute_result"
        }
      ],
      "source": [
        "{\"sudh\" ,\"Sudh\"}"
      ]
    },
    {
      "cell_type": "code",
      "execution_count": null,
      "metadata": {
        "id": "rCMtSKseCn8j"
      },
      "outputs": [],
      "source": [
        "s = {4,5,6,7,78 , 3,4,5,3,4,5 , \"sudh\" , \"sudh\"}"
      ]
    },
    {
      "cell_type": "code",
      "execution_count": null,
      "metadata": {
        "id": "-tshAuFSCn8k",
        "outputId": "c03ed4a2-3aa5-4bf0-8a30-01e4f22a6275"
      },
      "outputs": [
        {
          "data": {
            "text/plain": [
              "{3, 4, 5, 6, 7, 78, 'sudh'}"
            ]
          },
          "execution_count": 88,
          "metadata": {},
          "output_type": "execute_result"
        }
      ],
      "source": [
        "s"
      ]
    },
    {
      "cell_type": "code",
      "execution_count": null,
      "metadata": {
        "id": "WrW88DN9Cn8k"
      },
      "outputs": [],
      "source": [
        "l = [3,4,5,6]"
      ]
    },
    {
      "cell_type": "code",
      "execution_count": null,
      "metadata": {
        "id": "dORPB4J7Cn8k",
        "outputId": "b11147b6-b0ea-4049-bcc9-1c3f4967c3b4"
      },
      "outputs": [
        {
          "data": {
            "text/plain": [
              "{3, 4, 5, 6}"
            ]
          },
          "execution_count": 90,
          "metadata": {},
          "output_type": "execute_result"
        }
      ],
      "source": [
        "set(l)"
      ]
    },
    {
      "cell_type": "code",
      "execution_count": null,
      "metadata": {
        "id": "fSVBob_aCn8l"
      },
      "outputs": [],
      "source": [
        "d = {3,4}"
      ]
    },
    {
      "cell_type": "code",
      "execution_count": null,
      "metadata": {
        "id": "jUf11WRMCn8l",
        "outputId": "69c94b22-9b5f-4f24-eeeb-303b2d69611b"
      },
      "outputs": [
        {
          "data": {
            "text/plain": [
              "set"
            ]
          },
          "execution_count": 94,
          "metadata": {},
          "output_type": "execute_result"
        }
      ],
      "source": [
        "type(d)"
      ]
    },
    {
      "cell_type": "code",
      "execution_count": null,
      "metadata": {
        "id": "tZa9jiHeCn8l"
      },
      "outputs": [],
      "source": [
        "d = {4:\"sudh\"}"
      ]
    },
    {
      "cell_type": "code",
      "execution_count": null,
      "metadata": {
        "id": "2Y6gSb1HCn8m"
      },
      "outputs": [],
      "source": [
        "d1 = {\"key1\" : 5445 , \"key2\" :\"sudh\" , 45 : [3,4,5,6]}"
      ]
    },
    {
      "cell_type": "code",
      "execution_count": null,
      "metadata": {
        "id": "LwdWJLllCn8m"
      },
      "outputs": [],
      "source": [
        "l = [3,4,5,6,7]"
      ]
    },
    {
      "cell_type": "code",
      "execution_count": null,
      "metadata": {
        "id": "eEvS4UFOCn8m",
        "outputId": "3c82b3eb-b317-495f-a1bd-865bff13333e"
      },
      "outputs": [
        {
          "data": {
            "text/plain": [
              "{'key1': 5445, 'key2': 'sudh', 45: [3, 4, 5, 6]}"
            ]
          },
          "execution_count": 100,
          "metadata": {},
          "output_type": "execute_result"
        }
      ],
      "source": [
        "d1"
      ]
    },
    {
      "cell_type": "code",
      "execution_count": null,
      "metadata": {
        "id": "fo1Kig3-Cn8n",
        "outputId": "c30be7e3-ff45-41d8-afdd-7cc79057af15"
      },
      "outputs": [
        {
          "data": {
            "text/plain": [
              "3"
            ]
          },
          "execution_count": 101,
          "metadata": {},
          "output_type": "execute_result"
        }
      ],
      "source": [
        "l[0]"
      ]
    },
    {
      "cell_type": "code",
      "execution_count": null,
      "metadata": {
        "id": "Alta_h62Cn8n",
        "outputId": "ad880a4e-42aa-4367-edfa-d3c3e80e2632"
      },
      "outputs": [
        {
          "data": {
            "text/plain": [
              "5445"
            ]
          },
          "execution_count": 102,
          "metadata": {},
          "output_type": "execute_result"
        }
      ],
      "source": [
        "d1['key1']"
      ]
    },
    {
      "cell_type": "code",
      "execution_count": null,
      "metadata": {
        "id": "-6UW0m-pCn8n",
        "outputId": "7b867ed4-ea03-4fc7-b1db-76d12bce5001"
      },
      "outputs": [
        {
          "data": {
            "text/plain": [
              "[3, 4, 5, 6]"
            ]
          },
          "execution_count": 103,
          "metadata": {},
          "output_type": "execute_result"
        }
      ],
      "source": [
        "d1[45]"
      ]
    },
    {
      "cell_type": "code",
      "execution_count": null,
      "metadata": {
        "id": "iTSKTaT0Cn8n"
      },
      "outputs": [],
      "source": [
        "d = {\"KEY\":{3,4,5,6}}"
      ]
    },
    {
      "cell_type": "code",
      "execution_count": null,
      "metadata": {
        "id": "iyRH6ocRCn8o"
      },
      "outputs": [],
      "source": [
        "d1 = {\"key1\" : [2,3,4,5]  , \"key2\":[2,3,4,5], \"kumar\" :45}"
      ]
    },
    {
      "cell_type": "code",
      "execution_count": null,
      "metadata": {
        "id": "HfzaF6plCn8o",
        "outputId": "291ddc7a-69f8-4e1c-d84f-74990382aa59"
      },
      "outputs": [
        {
          "data": {
            "text/plain": [
              "[2, 3, 4, 5]"
            ]
          },
          "execution_count": 120,
          "metadata": {},
          "output_type": "execute_result"
        }
      ],
      "source": [
        "d1['key1']"
      ]
    },
    {
      "cell_type": "code",
      "execution_count": null,
      "metadata": {
        "id": "OqIJxOu0Cn8o",
        "outputId": "9c890f67-1002-4d4b-c051-9f7a2fe649f5"
      },
      "outputs": [
        {
          "data": {
            "text/plain": [
              "45"
            ]
          },
          "execution_count": 121,
          "metadata": {},
          "output_type": "execute_result"
        }
      ],
      "source": [
        "d1['kumar']"
      ]
    },
    {
      "cell_type": "code",
      "execution_count": null,
      "metadata": {
        "id": "YrhTvFYhCn8p"
      },
      "outputs": [],
      "source": [
        "d3= {\"*+++\":\"venu\"}"
      ]
    },
    {
      "cell_type": "code",
      "execution_count": null,
      "metadata": {
        "id": "lpmNPkrXCn8p"
      },
      "outputs": [],
      "source": [
        "d = {'name' : \"sudhanshu\" , \"mo_no\" :3454354353 , \"mail_id\" :\"sudhanshu@xyz.com\",'key1':[4,5,6,7] , \"key2\" :(3,4,5,6),\"key3\" : {3,4,5,4,3,3,3,3,3,3,3},'key4':{1:5,4:6}}"
      ]
    },
    {
      "cell_type": "code",
      "execution_count": null,
      "metadata": {
        "id": "G6ob9KNcCn8p",
        "outputId": "36095e02-8b71-4e97-8215-3595b23ae553"
      },
      "outputs": [
        {
          "data": {
            "text/plain": [
              "{'name': 'sudhanshu',\n",
              " 'mo_no': 3454354353,\n",
              " 'mail_id': 'sudhanshu@xyz.com',\n",
              " 'key1': [4, 5, 6, 7],\n",
              " 'key2': (3, 4, 5, 6),\n",
              " 'key3': {3, 4, 5},\n",
              " 'key4': {1: 5, 4: 6}}"
            ]
          },
          "execution_count": 125,
          "metadata": {},
          "output_type": "execute_result"
        }
      ],
      "source": [
        "d"
      ]
    },
    {
      "cell_type": "code",
      "execution_count": null,
      "metadata": {
        "id": "z5Aml6M3Cn8q",
        "outputId": "a2916f0c-3734-4f1e-e979-fe88a6ccdbf0"
      },
      "outputs": [
        {
          "data": {
            "text/plain": [
              "set"
            ]
          },
          "execution_count": 127,
          "metadata": {},
          "output_type": "execute_result"
        }
      ],
      "source": [
        "type(d['key3'])"
      ]
    },
    {
      "cell_type": "code",
      "execution_count": null,
      "metadata": {
        "id": "_mHpa2m6Cn8r",
        "outputId": "7d79ea76-d9c5-436e-a8ed-0d49b104b12d"
      },
      "outputs": [
        {
          "data": {
            "text/plain": [
              "6"
            ]
          },
          "execution_count": 129,
          "metadata": {},
          "output_type": "execute_result"
        }
      ],
      "source": [
        "d['key4'][4]"
      ]
    },
    {
      "cell_type": "code",
      "execution_count": null,
      "metadata": {
        "id": "3h_RZdptCn8r",
        "outputId": "bf67cbea-4e82-4544-eb2a-19d5f6f11406"
      },
      "outputs": [
        {
          "data": {
            "text/plain": [
              "{'name': 'sudhanshu',\n",
              " 'mo_no': 3454354353,\n",
              " 'mail_id': 'sudhanshu@xyz.com',\n",
              " 'key1': [4, 5, 6, 7],\n",
              " 'key2': (3, 4, 5, 6),\n",
              " 'key3': {3, 4, 5},\n",
              " 'key4': {1: 5, 4: 6}}"
            ]
          },
          "execution_count": 130,
          "metadata": {},
          "output_type": "execute_result"
        }
      ],
      "source": [
        "d"
      ]
    },
    {
      "cell_type": "code",
      "execution_count": null,
      "metadata": {
        "id": "T2b2bxJlCn8r",
        "outputId": "4a9d3e90-7b43-4a61-b1e6-a0e3d9088923"
      },
      "outputs": [
        {
          "data": {
            "text/plain": [
              "dict_keys(['name', 'mo_no', 'mail_id', 'key1', 'key2', 'key3', 'key4'])"
            ]
          },
          "execution_count": 131,
          "metadata": {},
          "output_type": "execute_result"
        }
      ],
      "source": [
        "d.keys()"
      ]
    },
    {
      "cell_type": "code",
      "execution_count": null,
      "metadata": {
        "id": "AT078qNXCn8r",
        "outputId": "bb87baf7-95a8-4616-9b80-1c84122a91c5"
      },
      "outputs": [
        {
          "data": {
            "text/plain": [
              "dict_values(['sudhanshu', 3454354353, 'sudhanshu@xyz.com', [4, 5, 6, 7], (3, 4, 5, 6), {3, 4, 5}, {1: 5, 4: 6}])"
            ]
          },
          "execution_count": 132,
          "metadata": {},
          "output_type": "execute_result"
        }
      ],
      "source": [
        "d.values()"
      ]
    },
    {
      "cell_type": "code",
      "execution_count": null,
      "metadata": {
        "id": "v5y0Ch9sCn8s",
        "outputId": "0abec135-6ad2-447e-aa07-ef23a1f32dca"
      },
      "outputs": [
        {
          "data": {
            "text/plain": [
              "dict_items"
            ]
          },
          "execution_count": 134,
          "metadata": {},
          "output_type": "execute_result"
        }
      ],
      "source": [
        "type(d.items())"
      ]
    },
    {
      "cell_type": "code",
      "execution_count": null,
      "metadata": {
        "id": "I4q3coKHCn8s"
      },
      "outputs": [],
      "source": [
        "d = {'key1' : \"sudh\" , \"key2\" : [1,2,3,4]}"
      ]
    },
    {
      "cell_type": "code",
      "execution_count": null,
      "metadata": {
        "id": "m-iWQi9YCn8s",
        "outputId": "f23c2a97-edc5-4e3b-8091-d2505ed8b942"
      },
      "outputs": [
        {
          "data": {
            "text/plain": [
              "{'key1': 'sudh', 'key2': [1, 2, 3, 4]}"
            ]
          },
          "execution_count": 136,
          "metadata": {},
          "output_type": "execute_result"
        }
      ],
      "source": [
        "d"
      ]
    },
    {
      "cell_type": "code",
      "execution_count": null,
      "metadata": {
        "id": "DguQx9h-Cn8t"
      },
      "outputs": [],
      "source": [
        "d[\"key3\"]  = \"kumar\""
      ]
    },
    {
      "cell_type": "code",
      "execution_count": null,
      "metadata": {
        "id": "nz4IMTRxCn8t",
        "outputId": "ac173c67-e372-4246-e3d7-bde90981ca68"
      },
      "outputs": [
        {
          "data": {
            "text/plain": [
              "{'key1': 'sudh', 'key2': [1, 2, 3, 4], 'key3': 'kumar'}"
            ]
          },
          "execution_count": 138,
          "metadata": {},
          "output_type": "execute_result"
        }
      ],
      "source": [
        "d"
      ]
    },
    {
      "cell_type": "code",
      "execution_count": null,
      "metadata": {
        "id": "9mZjy6toCn8u"
      },
      "outputs": [],
      "source": [
        "d[4] = [2,4,4,4,5,4]"
      ]
    },
    {
      "cell_type": "code",
      "execution_count": null,
      "metadata": {
        "id": "gakTzClWCn8u",
        "outputId": "7bc716ca-348c-452e-9bed-6b10f2b9b0ea"
      },
      "outputs": [
        {
          "data": {
            "text/plain": [
              "{'key1': 'sudh', 'key2': [1, 2, 3, 4], 'key3': 'kumar', 4: [2, 4, 4, 4, 5, 4]}"
            ]
          },
          "execution_count": 140,
          "metadata": {},
          "output_type": "execute_result"
        }
      ],
      "source": [
        "d"
      ]
    },
    {
      "cell_type": "code",
      "execution_count": null,
      "metadata": {
        "id": "oe4rSyRGCn8v"
      },
      "outputs": [],
      "source": [
        "d['key1'] = \"fsafsadfads\""
      ]
    },
    {
      "cell_type": "code",
      "execution_count": null,
      "metadata": {
        "id": "WlOlGKXCCn8v",
        "outputId": "b1a5bc1b-e7ae-46e0-a3bb-8828e17993bc"
      },
      "outputs": [
        {
          "data": {
            "text/plain": [
              "{'key1': 'fsafsadfads',\n",
              " 'key2': [1, 2, 3, 4],\n",
              " 'key3': 'kumar',\n",
              " 4: [2, 4, 4, 4, 5, 4]}"
            ]
          },
          "execution_count": 142,
          "metadata": {},
          "output_type": "execute_result"
        }
      ],
      "source": [
        "d"
      ]
    },
    {
      "cell_type": "code",
      "execution_count": null,
      "metadata": {
        "id": "6ze5XxSXCn8w"
      },
      "outputs": [],
      "source": [
        "del d['key1']"
      ]
    },
    {
      "cell_type": "code",
      "execution_count": null,
      "metadata": {
        "id": "laOqWtyhCn8w",
        "outputId": "5fd61ec7-7687-4411-982a-7cd3bc2fe278"
      },
      "outputs": [
        {
          "data": {
            "text/plain": [
              "{'key2': [1, 2, 3, 4], 'key3': 'kumar', 4: [2, 4, 4, 4, 5, 4]}"
            ]
          },
          "execution_count": 144,
          "metadata": {},
          "output_type": "execute_result"
        }
      ],
      "source": [
        "d"
      ]
    },
    {
      "cell_type": "code",
      "execution_count": null,
      "metadata": {
        "id": "QjTp6jYDCn8x"
      },
      "outputs": [],
      "source": [
        "del d "
      ]
    },
    {
      "cell_type": "code",
      "execution_count": null,
      "metadata": {
        "id": "eZYT25woCn8x",
        "outputId": "6e0cf7d5-a0d0-4bbc-e47f-60865cca2f89"
      },
      "outputs": [
        {
          "ename": "NameError",
          "evalue": "name 'd' is not defined",
          "output_type": "error",
          "traceback": [
            "\u001b[1;31m---------------------------------------------------------------------------\u001b[0m",
            "\u001b[1;31mNameError\u001b[0m                                 Traceback (most recent call last)",
            "\u001b[1;32m<ipython-input-146-e983f374794d>\u001b[0m in \u001b[0;36m<module>\u001b[1;34m\u001b[0m\n\u001b[1;32m----> 1\u001b[1;33m \u001b[0md\u001b[0m\u001b[1;33m\u001b[0m\u001b[1;33m\u001b[0m\u001b[0m\n\u001b[0m",
            "\u001b[1;31mNameError\u001b[0m: name 'd' is not defined"
          ]
        }
      ],
      "source": [
        "d"
      ]
    },
    {
      "cell_type": "code",
      "execution_count": null,
      "metadata": {
        "id": "64ABoElSCn8y"
      },
      "outputs": [],
      "source": [
        "d1 = {'key1' : \"sudh\" , 'key2' : [4,5,6,7,8]} "
      ]
    },
    {
      "cell_type": "code",
      "execution_count": null,
      "metadata": {
        "id": "LvuMe3auCn8y",
        "outputId": "4201c5ed-184c-4bf0-8cab-527286dcc853"
      },
      "outputs": [
        {
          "ename": "TypeError",
          "evalue": "unhashable type: 'list'",
          "output_type": "error",
          "traceback": [
            "\u001b[1;31m---------------------------------------------------------------------------\u001b[0m",
            "\u001b[1;31mTypeError\u001b[0m                                 Traceback (most recent call last)",
            "\u001b[1;32m<ipython-input-148-be53110e7467>\u001b[0m in \u001b[0;36m<module>\u001b[1;34m\u001b[0m\n\u001b[1;32m----> 1\u001b[1;33m \u001b[0md1\u001b[0m\u001b[1;33m[\u001b[0m\u001b[1;33m[\u001b[0m\u001b[1;36m1\u001b[0m\u001b[1;33m,\u001b[0m\u001b[1;36m2\u001b[0m\u001b[1;33m,\u001b[0m\u001b[1;36m3\u001b[0m\u001b[1;33m]\u001b[0m\u001b[1;33m]\u001b[0m \u001b[1;33m=\u001b[0m \u001b[1;34m\"ineuron\"\u001b[0m\u001b[1;33m\u001b[0m\u001b[1;33m\u001b[0m\u001b[0m\n\u001b[0m",
            "\u001b[1;31mTypeError\u001b[0m: unhashable type: 'list'"
          ]
        }
      ],
      "source": [
        "d1[[1,2,3]] = \"ineuron\""
      ]
    },
    {
      "cell_type": "code",
      "execution_count": null,
      "metadata": {
        "id": "WW469AtkCn8z"
      },
      "outputs": [],
      "source": [
        "d1[(1,2,3)] = \"ineuron\""
      ]
    },
    {
      "cell_type": "code",
      "execution_count": null,
      "metadata": {
        "id": "iyn7R-DvCn80",
        "outputId": "d26c0ba0-589e-44e5-cdef-1a900ee08cc0"
      },
      "outputs": [
        {
          "data": {
            "text/plain": [
              "{'key1': 'sudh', 'key2': [4, 5, 6, 7, 8], (1, 2, 3): 'ineuron'}"
            ]
          },
          "execution_count": 150,
          "metadata": {},
          "output_type": "execute_result"
        }
      ],
      "source": [
        "d1"
      ]
    },
    {
      "cell_type": "code",
      "execution_count": null,
      "metadata": {
        "id": "X-9JcWRICn80",
        "outputId": "b79eb150-36d5-4ba5-e88e-acc56fa73827"
      },
      "outputs": [
        {
          "data": {
            "text/plain": [
              "{'key1': 'sudh', 'key2': [4, 5, 6, 7, 8], (1, 2, 3): 'ineuron'}"
            ]
          },
          "execution_count": 151,
          "metadata": {},
          "output_type": "execute_result"
        }
      ],
      "source": [
        "d1"
      ]
    },
    {
      "cell_type": "code",
      "execution_count": null,
      "metadata": {
        "id": "2E8VuaihCn81",
        "outputId": "07f04a3c-650f-42ef-e8b9-0aa734240bdf"
      },
      "outputs": [
        {
          "data": {
            "text/plain": [
              "'sudh'"
            ]
          },
          "execution_count": 153,
          "metadata": {},
          "output_type": "execute_result"
        }
      ],
      "source": [
        "d1.get(\"key1\")"
      ]
    },
    {
      "cell_type": "code",
      "execution_count": null,
      "metadata": {
        "id": "L1nxziJ9Cn81"
      },
      "outputs": [],
      "source": [
        "d1 = {'key1' : \"ineruon\" , \"key\"  : \"FSDS\"}"
      ]
    },
    {
      "cell_type": "code",
      "execution_count": null,
      "metadata": {
        "id": "N5EnpxreCn82"
      },
      "outputs": [],
      "source": [
        "d2 = {\"key2\":456 , \"key3\" :[1,2,3,4,5]}"
      ]
    },
    {
      "cell_type": "code",
      "execution_count": null,
      "metadata": {
        "id": "6Dzb44JTCn82"
      },
      "outputs": [],
      "source": [
        "d1.update(d2)"
      ]
    },
    {
      "cell_type": "code",
      "execution_count": null,
      "metadata": {
        "id": "Z6NuQ4zCCn83",
        "outputId": "1616ff01-ca71-4ffd-a481-b7aec013e5d1"
      },
      "outputs": [
        {
          "data": {
            "text/plain": [
              "{'key1': 'ineruon', 'key': 'FSDS', 'key2': 456, 'key3': [1, 2, 3, 4, 5]}"
            ]
          },
          "execution_count": 157,
          "metadata": {},
          "output_type": "execute_result"
        }
      ],
      "source": [
        "d1"
      ]
    },
    {
      "cell_type": "code",
      "execution_count": null,
      "metadata": {
        "id": "FueUjW44Cn83",
        "outputId": "31141e04-b998-476b-95c1-c29da79f4a53"
      },
      "outputs": [
        {
          "data": {
            "text/plain": [
              "{'key2': 456, 'key3': [1, 2, 3, 4, 5]}"
            ]
          },
          "execution_count": 158,
          "metadata": {},
          "output_type": "execute_result"
        }
      ],
      "source": [
        "d2"
      ]
    },
    {
      "cell_type": "code",
      "execution_count": null,
      "metadata": {
        "id": "AjksP_uvCn84",
        "outputId": "e48dd4cf-bf15-4d0a-f14f-086337f15573"
      },
      "outputs": [
        {
          "ename": "TypeError",
          "evalue": "unsupported operand type(s) for +: 'dict' and 'dict'",
          "output_type": "error",
          "traceback": [
            "\u001b[1;31m---------------------------------------------------------------------------\u001b[0m",
            "\u001b[1;31mTypeError\u001b[0m                                 Traceback (most recent call last)",
            "\u001b[1;32m<ipython-input-159-686adf62153a>\u001b[0m in \u001b[0;36m<module>\u001b[1;34m\u001b[0m\n\u001b[1;32m----> 1\u001b[1;33m \u001b[0md1\u001b[0m\u001b[1;33m+\u001b[0m\u001b[0md2\u001b[0m\u001b[1;33m\u001b[0m\u001b[1;33m\u001b[0m\u001b[0m\n\u001b[0m",
            "\u001b[1;31mTypeError\u001b[0m: unsupported operand type(s) for +: 'dict' and 'dict'"
          ]
        }
      ],
      "source": [
        "d1+d2"
      ]
    },
    {
      "cell_type": "code",
      "execution_count": null,
      "metadata": {
        "id": "x0yMXTu5Cn84"
      },
      "outputs": [],
      "source": [
        "l=[1,23,4,5]\n",
        "l.append(l)\n"
      ]
    },
    {
      "cell_type": "code",
      "execution_count": null,
      "metadata": {
        "id": "6Vao3tWmCn86",
        "outputId": "afea4c57-c39d-46a3-e4bb-05f6e1e9c8ea"
      },
      "outputs": [
        {
          "data": {
            "text/plain": [
              "[1, 23, 4, 5, [...]]"
            ]
          },
          "execution_count": 161,
          "metadata": {},
          "output_type": "execute_result"
        }
      ],
      "source": [
        "l"
      ]
    },
    {
      "cell_type": "code",
      "execution_count": null,
      "metadata": {
        "id": "TjTsJT2GCn87",
        "outputId": "f309988a-2917-4fb9-f6a6-7c6bb3d60aac"
      },
      "outputs": [
        {
          "data": {
            "text/plain": [
              "[1, 23, 4, 5, [...]]"
            ]
          },
          "execution_count": 162,
          "metadata": {},
          "output_type": "execute_result"
        }
      ],
      "source": [
        "l[4]"
      ]
    },
    {
      "cell_type": "code",
      "execution_count": null,
      "metadata": {
        "id": "MjMylwEECn87",
        "outputId": "2fefa4da-57ef-4df7-9424-03693bb465df"
      },
      "outputs": [
        {
          "data": {
            "text/plain": [
              "1"
            ]
          },
          "execution_count": 1,
          "metadata": {},
          "output_type": "execute_result"
        }
      ],
      "source": [
        "t1 = (\"aditya\",1,1+2j,3.4,True)\n",
        "t1.index(True)\n"
      ]
    },
    {
      "cell_type": "code",
      "execution_count": null,
      "metadata": {
        "id": "Vbp86sL-Cn88",
        "outputId": "00898d58-7447-4ce1-f6b5-3d348be8794f"
      },
      "outputs": [
        {
          "ename": "NameError",
          "evalue": "name 'd1' is not defined",
          "output_type": "error",
          "traceback": [
            "\u001b[1;31m---------------------------------------------------------------------------\u001b[0m",
            "\u001b[1;31mNameError\u001b[0m                                 Traceback (most recent call last)",
            "\u001b[1;32m<ipython-input-2-2d3a24957153>\u001b[0m in \u001b[0;36m<module>\u001b[1;34m\u001b[0m\n\u001b[1;32m----> 1\u001b[1;33m \u001b[0md1\u001b[0m\u001b[1;33m\u001b[0m\u001b[1;33m\u001b[0m\u001b[0m\n\u001b[0m",
            "\u001b[1;31mNameError\u001b[0m: name 'd1' is not defined"
          ]
        }
      ],
      "source": [
        "d1"
      ]
    },
    {
      "cell_type": "code",
      "execution_count": null,
      "metadata": {
        "id": "SAizutFGCn88",
        "outputId": "4abf3ab3-8030-41e3-b3bf-b17d9e6313d7"
      },
      "outputs": [
        {
          "data": {
            "text/plain": [
              "{'key1': 'ineruon', 'key': 'FSDS'}"
            ]
          },
          "execution_count": 5,
          "metadata": {},
          "output_type": "execute_result"
        }
      ],
      "source": [
        "d1"
      ]
    },
    {
      "cell_type": "code",
      "execution_count": null,
      "metadata": {
        "id": "ZjONYtKkCn89",
        "outputId": "8989078a-c64e-4e9e-a83a-92df426e9689"
      },
      "outputs": [
        {
          "data": {
            "text/plain": [
              "{'key2': 456, 'key3': [1, 2, 3, 4, 5]}"
            ]
          },
          "execution_count": 6,
          "metadata": {},
          "output_type": "execute_result"
        }
      ],
      "source": [
        "d2"
      ]
    },
    {
      "cell_type": "code",
      "execution_count": null,
      "metadata": {
        "id": "FJg5ZETVCn89",
        "outputId": "5f9665a9-c4c3-4ad3-9d6c-3fb7740c7d42"
      },
      "outputs": [
        {
          "ename": "KeyError",
          "evalue": "'keyfdsf'",
          "output_type": "error",
          "traceback": [
            "\u001b[1;31m---------------------------------------------------------------------------\u001b[0m",
            "\u001b[1;31mKeyError\u001b[0m                                  Traceback (most recent call last)",
            "\u001b[1;32m<ipython-input-9-540c89fdb45d>\u001b[0m in \u001b[0;36m<module>\u001b[1;34m\u001b[0m\n\u001b[1;32m----> 1\u001b[1;33m \u001b[0md1\u001b[0m\u001b[1;33m[\u001b[0m\u001b[1;34m'keyfdsf'\u001b[0m\u001b[1;33m]\u001b[0m\u001b[1;33m\u001b[0m\u001b[1;33m\u001b[0m\u001b[0m\n\u001b[0m",
            "\u001b[1;31mKeyError\u001b[0m: 'keyfdsf'"
          ]
        }
      ],
      "source": [
        "d1['keyfdsf']"
      ]
    },
    {
      "cell_type": "code",
      "execution_count": null,
      "metadata": {
        "id": "b3_QwSJSCn89"
      },
      "outputs": [],
      "source": [
        "d1.get('key1fdsf')"
      ]
    },
    {
      "cell_type": "code",
      "execution_count": null,
      "metadata": {
        "id": "Yr4n_1kqCn89",
        "outputId": "547a4719-e782-46e0-9c2f-4acbd5d166c8"
      },
      "outputs": [
        {
          "data": {
            "text/plain": [
              "{'key1': 'ineruon', 'key': 'FSDS'}"
            ]
          },
          "execution_count": 11,
          "metadata": {},
          "output_type": "execute_result"
        }
      ],
      "source": [
        "d1\n"
      ]
    },
    {
      "cell_type": "code",
      "execution_count": null,
      "metadata": {
        "id": "Ypbf2WL8Cn8-"
      },
      "outputs": [],
      "source": [
        "key= (\"name\" , \"mobile_no\" , \"email_id\")\n",
        "value = (\"sudh\" , \"fdsf\" ,\"dsf\")"
      ]
    },
    {
      "cell_type": "code",
      "execution_count": null,
      "metadata": {
        "id": "oToKmdUjCn8-"
      },
      "outputs": [],
      "source": [
        "d = d1.fromkeys(key,value)"
      ]
    },
    {
      "cell_type": "code",
      "execution_count": null,
      "metadata": {
        "id": "Ev6kKC_vCn8-",
        "outputId": "4384c292-55cc-4d26-f400-0d537d8866fe"
      },
      "outputs": [
        {
          "data": {
            "text/plain": [
              "{'name': ('sudh', 'fdsf', 'dsf'),\n",
              " 'mobile_no': ('sudh', 'fdsf', 'dsf'),\n",
              " 'email_id': ('sudh', 'fdsf', 'dsf')}"
            ]
          },
          "execution_count": 24,
          "metadata": {},
          "output_type": "execute_result"
        }
      ],
      "source": [
        "d"
      ]
    },
    {
      "cell_type": "code",
      "execution_count": null,
      "metadata": {
        "id": "417db3svCn8-",
        "outputId": "3dcd33c5-f311-4c38-ae55-9249860a890a"
      },
      "outputs": [
        {
          "data": {
            "text/plain": [
              "0"
            ]
          },
          "execution_count": 15,
          "metadata": {},
          "output_type": "execute_result"
        }
      ],
      "source": [
        "t1=(1,2,3,4,'dfs',True)\n",
        "t1.index(True)\n",
        "\n"
      ]
    },
    {
      "cell_type": "code",
      "execution_count": null,
      "metadata": {
        "id": "JUAwaZiJCn8_",
        "outputId": "d7fe30cc-69c3-4868-97fc-759336fbde78"
      },
      "outputs": [
        {
          "ename": "TypeError",
          "evalue": "unhashable type: 'list'",
          "output_type": "error",
          "traceback": [
            "\u001b[1;31m---------------------------------------------------------------------------\u001b[0m",
            "\u001b[1;31mTypeError\u001b[0m                                 Traceback (most recent call last)",
            "\u001b[1;32m<ipython-input-16-9dab632140b2>\u001b[0m in \u001b[0;36m<module>\u001b[1;34m\u001b[0m\n\u001b[1;32m----> 1\u001b[1;33m \u001b[1;33m{\u001b[0m\u001b[1;33m[\u001b[0m\u001b[1;36m3\u001b[0m\u001b[1;33m,\u001b[0m\u001b[1;36m4\u001b[0m\u001b[1;33m,\u001b[0m\u001b[1;36m5\u001b[0m\u001b[1;33m,\u001b[0m\u001b[1;36m6\u001b[0m\u001b[1;33m]\u001b[0m \u001b[1;33m,\u001b[0m \u001b[1;36m4\u001b[0m\u001b[1;33m,\u001b[0m\u001b[1;36m5\u001b[0m\u001b[1;33m,\u001b[0m\u001b[1;36m5\u001b[0m\u001b[1;33m,\u001b[0m\u001b[1;36m6\u001b[0m\u001b[1;33m,\u001b[0m\u001b[1;36m7\u001b[0m\u001b[1;33m}\u001b[0m\u001b[1;33m\u001b[0m\u001b[1;33m\u001b[0m\u001b[0m\n\u001b[0m",
            "\u001b[1;31mTypeError\u001b[0m: unhashable type: 'list'"
          ]
        }
      ],
      "source": [
        "{[3,4,5,6] , 4,5,5,6,7}"
      ]
    },
    {
      "cell_type": "code",
      "execution_count": null,
      "metadata": {
        "id": "q-KOTtGLCn8_",
        "outputId": "fb64d50f-70d5-4481-ee0a-583452d23410"
      },
      "outputs": [
        {
          "ename": "NameError",
          "evalue": "name '_4' is not defined",
          "output_type": "error",
          "traceback": [
            "\u001b[1;31m---------------------------------------------------------------------------\u001b[0m",
            "\u001b[1;31mNameError\u001b[0m                                 Traceback (most recent call last)",
            "\u001b[1;32m<ipython-input-19-32a48dc1e9c0>\u001b[0m in \u001b[0;36m<module>\u001b[1;34m\u001b[0m\n\u001b[1;32m----> 1\u001b[1;33m \u001b[0md1\u001b[0m\u001b[1;33m=\u001b[0m\u001b[1;33m{\u001b[0m\u001b[0m_4\u001b[0m\u001b[1;33m:\u001b[0m\u001b[1;33m[\u001b[0m\u001b[1;36m1\u001b[0m\u001b[1;33m,\u001b[0m\u001b[1;36m2\u001b[0m\u001b[1;33m,\u001b[0m\u001b[1;36m3\u001b[0m\u001b[1;33m]\u001b[0m\u001b[1;33m,\u001b[0m\u001b[1;34m\"key\"\u001b[0m\u001b[1;33m:\u001b[0m\u001b[1;34m\"sudg\"\u001b[0m\u001b[1;33m,\u001b[0m \u001b[1;34m\"key1\"\u001b[0m\u001b[1;33m:\u001b[0m\u001b[1;36m5\u001b[0m\u001b[1;33m}\u001b[0m\u001b[1;33m\u001b[0m\u001b[1;33m\u001b[0m\u001b[0m\n\u001b[0m",
            "\u001b[1;31mNameError\u001b[0m: name '_4' is not defined"
          ]
        }
      ],
      "source": [
        "d1={_4:[1,2,3],\"key\":\"sudg\", \"key1\":5} "
      ]
    },
    {
      "cell_type": "code",
      "execution_count": null,
      "metadata": {
        "id": "CX6PllWeCn9A",
        "outputId": "5005c81c-2556-45c2-c474-cba6ad968270"
      },
      "outputs": [
        {
          "data": {
            "text/plain": [
              "[1]"
            ]
          },
          "execution_count": 25,
          "metadata": {},
          "output_type": "execute_result"
        }
      ],
      "source": [
        "l=[1,2,3,4,5]\n",
        "l[0::-1]\n"
      ]
    },
    {
      "cell_type": "code",
      "execution_count": null,
      "metadata": {
        "id": "KJmmmCJtCn9A",
        "outputId": "51b96f22-243e-4120-dd2a-eab2df07a6e1"
      },
      "outputs": [
        {
          "data": {
            "text/plain": [
              "tuple"
            ]
          },
          "execution_count": 26,
          "metadata": {},
          "output_type": "execute_result"
        }
      ],
      "source": [
        "t1 = (1,2,3,4,5)\n",
        "type(t1)"
      ]
    },
    {
      "cell_type": "code",
      "execution_count": null,
      "metadata": {
        "id": "_MOzImLzCn9A"
      },
      "outputs": [],
      "source": [
        "t1 = (1)"
      ]
    },
    {
      "cell_type": "code",
      "execution_count": null,
      "metadata": {
        "id": "cyoh7SZrCn9A",
        "outputId": "49eba32b-8540-4fc1-ca75-502469fc42c4"
      },
      "outputs": [
        {
          "data": {
            "text/plain": [
              "int"
            ]
          },
          "execution_count": 28,
          "metadata": {},
          "output_type": "execute_result"
        }
      ],
      "source": [
        "type(t1)"
      ]
    },
    {
      "cell_type": "code",
      "execution_count": null,
      "metadata": {
        "id": "IH_ivjwfCn9B"
      },
      "outputs": [],
      "source": [
        "t = ([1,2,3,4,54] , \"dfsf\" , 234)"
      ]
    },
    {
      "cell_type": "code",
      "execution_count": null,
      "metadata": {
        "id": "HI29PlXSCn9B",
        "outputId": "7a4e45b2-30a2-45a6-a188-8560b42b7c2f"
      },
      "outputs": [
        {
          "data": {
            "text/plain": [
              "[1, 2, 3, 4, 54]"
            ]
          },
          "execution_count": 30,
          "metadata": {},
          "output_type": "execute_result"
        }
      ],
      "source": [
        "t[0] "
      ]
    },
    {
      "cell_type": "code",
      "execution_count": null,
      "metadata": {
        "id": "Finz9rQ5Cn9B"
      },
      "outputs": [],
      "source": [
        "t[0][1]  = \"dfsfs\""
      ]
    },
    {
      "cell_type": "code",
      "execution_count": null,
      "metadata": {
        "id": "0Uttth9cCn9B",
        "outputId": "89da7690-c0cc-4880-d1ae-5c9b5d2a946d"
      },
      "outputs": [
        {
          "data": {
            "text/plain": [
              "([1, 'dfsfs', 3, 4, 54], 'dfsf', 234)"
            ]
          },
          "execution_count": 33,
          "metadata": {},
          "output_type": "execute_result"
        }
      ],
      "source": [
        "t"
      ]
    },
    {
      "cell_type": "code",
      "execution_count": null,
      "metadata": {
        "id": "S-Xa77sLCn9C"
      },
      "outputs": [],
      "source": [
        "s = {45,343,5454,545,565,65,65,6,56,56,5,343534,566,5,65,6,5,4353543,4,556}"
      ]
    },
    {
      "cell_type": "code",
      "execution_count": null,
      "metadata": {
        "id": "ETPdtQPOCn9C",
        "outputId": "dec8fa0d-5720-4e40-b88f-624754d21e5b"
      },
      "outputs": [
        {
          "data": {
            "text/plain": [
              "{4, 5, 6, 45, 56, 65, 343, 545, 556, 565, 566, 5454, 343534, 4353543}"
            ]
          },
          "execution_count": 37,
          "metadata": {},
          "output_type": "execute_result"
        }
      ],
      "source": [
        "s"
      ]
    },
    {
      "cell_type": "code",
      "execution_count": null,
      "metadata": {
        "id": "JFvZddHjCn9C"
      },
      "outputs": [],
      "source": [
        "i = 0 \n",
        "j = 3\n",
        "for i, j in range(i,j) : \n",
        "     "
      ]
    },
    {
      "cell_type": "code",
      "execution_count": null,
      "metadata": {
        "id": "cnwvLGRHCn9D"
      },
      "outputs": [],
      "source": [
        "i = 10 \n",
        "j = 6"
      ]
    },
    {
      "cell_type": "code",
      "execution_count": null,
      "metadata": {
        "id": "oBa7J3HjCn9E",
        "outputId": "ad6b2830-3386-44b1-8647-efb8a5cfdbb7"
      },
      "outputs": [
        {
          "data": {
            "text/plain": [
              "10"
            ]
          },
          "execution_count": 39,
          "metadata": {},
          "output_type": "execute_result"
        }
      ],
      "source": [
        "i "
      ]
    },
    {
      "cell_type": "code",
      "execution_count": null,
      "metadata": {
        "id": "UsUf9PIGCn9E",
        "outputId": "e5b3a49b-2422-41fc-91aa-a937a816f829"
      },
      "outputs": [
        {
          "data": {
            "text/plain": [
              "6"
            ]
          },
          "execution_count": 40,
          "metadata": {},
          "output_type": "execute_result"
        }
      ],
      "source": [
        "j "
      ]
    },
    {
      "cell_type": "code",
      "execution_count": null,
      "metadata": {
        "id": "NnjkRsGRCn9F"
      },
      "outputs": [],
      "source": [
        " i,j = 10,6"
      ]
    },
    {
      "cell_type": "code",
      "execution_count": null,
      "metadata": {
        "id": "vwzYlZdfCn9F",
        "outputId": "71b31f62-abdf-41d3-be6c-6dcc3098c4e2"
      },
      "outputs": [
        {
          "data": {
            "text/plain": [
              "10"
            ]
          },
          "execution_count": 42,
          "metadata": {},
          "output_type": "execute_result"
        }
      ],
      "source": [
        "i "
      ]
    },
    {
      "cell_type": "code",
      "execution_count": null,
      "metadata": {
        "id": "1YVObP0lCn9N",
        "outputId": "e53c7eb7-1a8b-4307-bcab-f7137d504c26"
      },
      "outputs": [
        {
          "data": {
            "text/plain": [
              "6"
            ]
          },
          "execution_count": 43,
          "metadata": {},
          "output_type": "execute_result"
        }
      ],
      "source": [
        "j"
      ]
    },
    {
      "cell_type": "code",
      "execution_count": null,
      "metadata": {
        "id": "INv-IFSDCn9N"
      },
      "outputs": [],
      "source": [
        "i = 4,5"
      ]
    },
    {
      "cell_type": "code",
      "execution_count": null,
      "metadata": {
        "id": "xj549Ep9Cn9N",
        "outputId": "7ccf3832-b0ff-41d3-9a7b-621458787b20"
      },
      "outputs": [
        {
          "data": {
            "text/plain": [
              "(4, 5)"
            ]
          },
          "execution_count": 45,
          "metadata": {},
          "output_type": "execute_result"
        }
      ],
      "source": [
        "i"
      ]
    },
    {
      "cell_type": "code",
      "execution_count": null,
      "metadata": {
        "id": "x2lwNQINCn9O",
        "outputId": "3f853576-62a2-4e8d-fd55-ebe115e6b83b"
      },
      "outputs": [
        {
          "ename": "TypeError",
          "evalue": "unsupported operand type(s) for *: 'dict' and 'int'",
          "output_type": "error",
          "traceback": [
            "\u001b[1;31m---------------------------------------------------------------------------\u001b[0m",
            "\u001b[1;31mTypeError\u001b[0m                                 Traceback (most recent call last)",
            "\u001b[1;32m<ipython-input-46-598a4e07c337>\u001b[0m in \u001b[0;36m<module>\u001b[1;34m\u001b[0m\n\u001b[1;32m----> 1\u001b[1;33m \u001b[0md1\u001b[0m \u001b[1;33m*\u001b[0m\u001b[1;36m2\u001b[0m\u001b[1;33m\u001b[0m\u001b[1;33m\u001b[0m\u001b[0m\n\u001b[0m",
            "\u001b[1;31mTypeError\u001b[0m: unsupported operand type(s) for *: 'dict' and 'int'"
          ]
        }
      ],
      "source": [
        "d1 *2"
      ]
    },
    {
      "cell_type": "code",
      "execution_count": null,
      "metadata": {
        "id": "v9UYDA3HCn9O"
      },
      "outputs": [],
      "source": [
        "d3={\"key1\":\"ineuron\",\"key2\":\"fsds\"}\n",
        "d4={\"key1\":456,\"key2\":[1,2,3,4]}\n",
        "d3.update(d4)\n"
      ]
    },
    {
      "cell_type": "code",
      "execution_count": null,
      "metadata": {
        "id": "Avrz8imiCn9P",
        "outputId": "c1551eaf-90fb-4dc0-b567-c2882f0bc367"
      },
      "outputs": [
        {
          "data": {
            "text/plain": [
              "{'key1': 456, 'key2': [1, 2, 3, 4]}"
            ]
          },
          "execution_count": 48,
          "metadata": {},
          "output_type": "execute_result"
        }
      ],
      "source": [
        "d3"
      ]
    },
    {
      "cell_type": "code",
      "execution_count": null,
      "metadata": {
        "id": "G-T967oNCn9P",
        "outputId": "24558f37-77aa-4819-e184-1836350db21c"
      },
      "outputs": [
        {
          "data": {
            "text/plain": [
              "[1]"
            ]
          },
          "execution_count": 51,
          "metadata": {},
          "output_type": "execute_result"
        }
      ],
      "source": [
        "l=[1,2,3,4,5]\n",
        "l[0::-1]"
      ]
    },
    {
      "cell_type": "code",
      "execution_count": null,
      "metadata": {
        "id": "Fhxo3QO4Cn9P"
      },
      "outputs": [],
      "source": [
        "d = {'key1' :\"fdsf\" , \"key2\" :\"fdsf\" , \"key1\" :2354}"
      ]
    },
    {
      "cell_type": "code",
      "execution_count": null,
      "metadata": {
        "id": "3xRmdT10Cn9Q",
        "outputId": "26ff5bb0-7382-48f2-89f8-f623d9456179"
      },
      "outputs": [
        {
          "data": {
            "text/plain": [
              "dict_keys(['key1', 'key2'])"
            ]
          },
          "execution_count": 54,
          "metadata": {},
          "output_type": "execute_result"
        }
      ],
      "source": [
        "d.keys()"
      ]
    },
    {
      "cell_type": "code",
      "execution_count": null,
      "metadata": {
        "id": "xqSRVhkwCn9Q"
      },
      "outputs": [],
      "source": [
        "t = (1,2,3,4,1,True)"
      ]
    },
    {
      "cell_type": "code",
      "execution_count": null,
      "metadata": {
        "id": "PrdvE3QXCn9Q",
        "outputId": "f2dccb4d-4851-4747-e45f-388a68c73314"
      },
      "outputs": [
        {
          "data": {
            "text/plain": [
              "3"
            ]
          },
          "execution_count": 56,
          "metadata": {},
          "output_type": "execute_result"
        }
      ],
      "source": [
        "t.count(1)"
      ]
    },
    {
      "cell_type": "code",
      "execution_count": null,
      "metadata": {
        "id": "NXbjxDwhCn9R",
        "outputId": "889cc51d-799c-4b8c-de54-b3fa1aef76c6"
      },
      "outputs": [
        {
          "data": {
            "text/plain": [
              "True"
            ]
          },
          "execution_count": 57,
          "metadata": {},
          "output_type": "execute_result"
        }
      ],
      "source": [
        "t[5]"
      ]
    },
    {
      "cell_type": "code",
      "execution_count": null,
      "metadata": {
        "id": "uT6l3aUXCn9R",
        "outputId": "134790cb-977b-42f8-94d2-b364fad6180e"
      },
      "outputs": [
        {
          "data": {
            "text/plain": [
              "['a', 'b']"
            ]
          },
          "execution_count": 58,
          "metadata": {},
          "output_type": "execute_result"
        }
      ],
      "source": [
        "list({'a':1, 'b':2})"
      ]
    },
    {
      "cell_type": "code",
      "execution_count": null,
      "metadata": {
        "id": "YERUT8kvCn9R"
      },
      "outputs": [],
      "source": [
        "t = (0,1,True)"
      ]
    },
    {
      "cell_type": "code",
      "execution_count": null,
      "metadata": {
        "id": "AjznbhNwCn9R",
        "outputId": "6fb1c5ff-5866-4fe7-d9db-4fba53a0ed2e"
      },
      "outputs": [
        {
          "data": {
            "text/plain": [
              "2"
            ]
          },
          "execution_count": 61,
          "metadata": {},
          "output_type": "execute_result"
        }
      ],
      "source": [
        "t.count(1)"
      ]
    },
    {
      "cell_type": "code",
      "execution_count": null,
      "metadata": {
        "id": "CgiTJo79Cn9S",
        "outputId": "b5b6ae83-b92e-477b-b17f-1d3cfeb4b3da"
      },
      "outputs": [
        {
          "ename": "NameError",
          "evalue": "name '_3' is not defined",
          "output_type": "error",
          "traceback": [
            "\u001b[1;31m---------------------------------------------------------------------------\u001b[0m",
            "\u001b[1;31mNameError\u001b[0m                                 Traceback (most recent call last)",
            "\u001b[1;32m<ipython-input-62-30062ffeabd8>\u001b[0m in \u001b[0;36m<module>\u001b[1;34m\u001b[0m\n\u001b[1;32m----> 1\u001b[1;33m \u001b[0me\u001b[0m \u001b[1;33m=\u001b[0m \u001b[1;33m{\u001b[0m\u001b[0m_3\u001b[0m\u001b[1;33m:\u001b[0m \u001b[1;33m[\u001b[0m\u001b[1;34m\"dfsaf\"\u001b[0m\u001b[1;33m,\u001b[0m \u001b[1;34m\"dfsf\"\u001b[0m\u001b[1;33m,\u001b[0m\u001b[1;36m4\u001b[0m\u001b[1;33m,\u001b[0m\u001b[1;36m5\u001b[0m\u001b[1;33m,\u001b[0m\u001b[1;36m6\u001b[0m\u001b[1;33m,\u001b[0m\u001b[1;36m7\u001b[0m\u001b[1;33m,\u001b[0m\u001b[1;36m7\u001b[0m\u001b[1;33m]\u001b[0m\u001b[1;33m}\u001b[0m\u001b[1;33m\u001b[0m\u001b[1;33m\u001b[0m\u001b[0m\n\u001b[0m\u001b[0;32m      2\u001b[0m \u001b[1;33m\u001b[0m\u001b[0m\n",
            "\u001b[1;31mNameError\u001b[0m: name '_3' is not defined"
          ]
        }
      ],
      "source": [
        "e = {_3: [\"dfsaf\", \"dfsf\",4,5,6,7,7]}\n",
        "\n"
      ]
    },
    {
      "cell_type": "code",
      "execution_count": null,
      "metadata": {
        "id": "Dj04frn1Cn9S"
      },
      "outputs": [],
      "source": [
        "e = {_3: [\"dfsaf\", \"dfsf\",4,5,6,7,7]}\n",
        "\n",
        "Output : \n",
        "\n",
        "{tuple: ['dfsaf', 'dfsf', 4, 5, 6, 7, 7]}\n"
      ]
    }
  ],
  "metadata": {
    "kernelspec": {
      "display_name": "Python 3",
      "language": "python",
      "name": "python3"
    },
    "language_info": {
      "codemirror_mode": {
        "name": "ipython",
        "version": 3
      },
      "file_extension": ".py",
      "mimetype": "text/x-python",
      "name": "python",
      "nbconvert_exporter": "python",
      "pygments_lexer": "ipython3",
      "version": "3.8.5"
    },
    "colab": {
      "provenance": [],
      "include_colab_link": true
    }
  },
  "nbformat": 4,
  "nbformat_minor": 0
}