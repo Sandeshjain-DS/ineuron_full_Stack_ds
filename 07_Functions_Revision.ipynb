{
  "cells": [
    {
      "cell_type": "markdown",
      "metadata": {
        "id": "view-in-github",
        "colab_type": "text"
      },
      "source": [
        "<a href=\"https://colab.research.google.com/github/Sandeshjain-DS/ineuron_full_Stack_ds/blob/main/07_Functions_Revision.ipynb\" target=\"_parent\"><img src=\"https://colab.research.google.com/assets/colab-badge.svg\" alt=\"Open In Colab\"/></a>"
      ]
    },
    {
      "cell_type": "markdown",
      "metadata": {
        "id": "gdI-9nRBFcwt"
      },
      "source": [
        "- What Is A Function ?\n",
        "\n",
        "- Function V/s Method\n",
        "\n",
        "- Steps Required For Developing User Defined Function and Calling that Function\n",
        "\n",
        "- Returning Values From Function\n",
        "\n",
        "- Arguments V/s Parameters\n",
        "\n",
        "- Types Of Arguments\n",
        "\n",
        "- Variable Scope\n",
        "\n",
        "- Local Scope\n",
        "\n",
        "- Global Scope\n",
        "\n",
        "- Argument Passing\n",
        "\n",
        "- Anonymous Functions OR Lambda Function\n",
        "\n",
        "- The map( ) Function\n",
        "\n",
        "- The filter( ) Function\n",
        "\n",
        "- Using map( ) and filter( ) with Lambda Expressions\n"
      ]
    },
    {
      "cell_type": "markdown",
      "metadata": {
        "id": "vT4GIszkI4_H"
      },
      "source": [
        "## 07 Functions\n",
        "\n",
        "- **Definition**: Function are nothing but a block of code which performs a specific task and can be called again and again as per requirement in the code.\n",
        "- A generic way to write a simple function is shown below-\n",
        "```python\n",
        "def function_name():\n",
        "    # function body starts\n",
        "    pass\n",
        "    # function body ends\n",
        "# calling function in the code -\n",
        "function_name() \n",
        "```\n",
        "\n",
        "- **DRY**: It stands for **D**o not **R**epeat **Y**ourself. It means that a good generally should not contain repeated blocks of code. So if you observe in your code repeatition of certain lines of code then you can also make it a function and call as per your requirement. Let's see an example below-"
      ]
    },
    {
      "cell_type": "markdown",
      "metadata": {
        "id": "8fvQMOEhhRxA"
      },
      "source": [
        "### 7.1 A simple function definition\n",
        "**EXAMPLE:**"
      ]
    },
    {
      "cell_type": "code",
      "execution_count": null,
      "metadata": {
        "id": "D3UIkgvfIcnc"
      },
      "outputs": [],
      "source": [
        "def function_name():\n",
        "    # function body starts\n",
        "    pass\n",
        "    # function body ends\n",
        "\n",
        "# calling function in the code -\n",
        "function_name() "
      ]
    },
    {
      "cell_type": "markdown",
      "metadata": {
        "id": "YKENVJ23jQBW"
      },
      "source": [
        "**EXAMPLE:**"
      ]
    },
    {
      "cell_type": "code",
      "execution_count": null,
      "metadata": {
        "id": "_fn4N0q6ilXw"
      },
      "outputs": [],
      "source": [
        "def greetings():\n",
        "    print(\"Hi there from iNeuron\")\n",
        "\n",
        "# calling greeting function in the code -\n",
        "greetings() "
      ]
    },
    {
      "cell_type": "markdown",
      "metadata": {
        "id": "5dCMlQemuQgP"
      },
      "source": [
        "- We can also pass some values to the function. These values are known as arguments.A function can have following kind of arguments -\n",
        "    - 1. Key word arguments: Here we define the name of arguments"
      ]
    },
    {
      "cell_type": "markdown",
      "metadata": {
        "id": "zVRSSqeRjcq3"
      },
      "source": [
        "**EXAMPLE**:\n",
        "Observe the below code from Expressions, Operators, and Precedence Chapter- "
      ]
    },
    {
      "cell_type": "code",
      "execution_count": null,
      "metadata": {
        "id": "ZD9AXQoJjN3K"
      },
      "outputs": [],
      "source": [
        "# Block One\n",
        "BIKE = True\n",
        "CAR = True\n",
        "TRAVEL_100_KM = BIKE or CAR\n",
        "\n",
        "print(f\"You have BIKE: {BIKE}\")\n",
        "print(f\"You have CAR: {CAR}\")\n",
        "print(f\"You can travel 100 KMs: {TRAVEL_100_KM}\\n\")\n",
        "\n",
        "\n",
        "# Block Two\n",
        "BIKE = True\n",
        "CAR = False\n",
        "TRAVEL_100_KM = BIKE or CAR\n",
        "\n",
        "print(f\"You have BIKE: {BIKE}\")\n",
        "print(f\"You have CAR: {CAR}\")\n",
        "print(f\"You can travel 100 KMs: {TRAVEL_100_KM}\\n\")\n",
        "\n",
        "# Block Three\n",
        "BIKE = False\n",
        "CAR = True\n",
        "TRAVEL_100_KM = BIKE or CAR\n",
        "\n",
        "print(f\"You have BIKE: {BIKE}\")\n",
        "print(f\"You have CAR: {CAR}\")\n",
        "print(f\"You can travel 100 KMs: {TRAVEL_100_KM}\\n\")\n",
        "\n",
        "# Block Four\n",
        "BIKE = False\n",
        "CAR = False\n",
        "TRAVEL_100_KM = BIKE or CAR\n",
        "\n",
        "print(f\"You have BIKE: {BIKE}\")\n",
        "print(f\"You have CAR: {CAR}\")\n",
        "print(f\"You can travel 100 KMs: {TRAVEL_100_KM}\\n\")"
      ]
    },
    {
      "cell_type": "markdown",
      "metadata": {
        "id": "gqaG1lkFvDal"
      },
      "source": [
        "**EXAMPLE**:\n",
        "So above codes are repetetive. Now lets observe the below code which will give the same results as shown above but in avery less line of code. -"
      ]
    },
    {
      "cell_type": "code",
      "execution_count": null,
      "metadata": {
        "id": "ZZc_2LFCvCQ4"
      },
      "outputs": [],
      "source": [
        "def travel_or_not(BIKE, CAR):\n",
        "    TRAVEL_100_KM = BIKE or CAR\n",
        "\n",
        "    print(f\"You have BIKE: {BIKE}\")\n",
        "    print(f\"You have CAR: {CAR}\")\n",
        "    print(f\"You can travel 100 KMs: {TRAVEL_100_KM}\\n\")\n",
        "\n",
        "travel_or_not(False, False)\n",
        "\n",
        "travel_or_not(False, True)\n",
        "\n",
        "travel_or_not(True, False)\n",
        "\n",
        "travel_or_not(True, True)\n"
      ]
    },
    {
      "cell_type": "markdown",
      "metadata": {
        "id": "OVLcxCoxv8Sk"
      },
      "source": [
        "**EXAMPLE**:\n",
        "Lets make it more concise using a for loop and remove the repetition-"
      ]
    },
    {
      "cell_type": "code",
      "execution_count": null,
      "metadata": {
        "id": "jT2_Zy-Kvt2N"
      },
      "outputs": [],
      "source": [
        "def travel_or_not(BIKE, CAR):\n",
        "    TRAVEL_100_KM = BIKE or CAR\n",
        "\n",
        "    print(f\"You have BIKE: {BIKE}\")\n",
        "    print(f\"You have CAR: {CAR}\")\n",
        "    print(f\"You can travel 100 KMs: {TRAVEL_100_KM}\\n\")\n",
        "    \n",
        "BIKE = [False, False, True, True]\n",
        "CAR = [False, True,False, True]\n",
        "\n",
        "for bike, car in zip(BIKE, CAR):\n",
        "    travel_or_not(bike, car)"
      ]
    },
    {
      "cell_type": "markdown",
      "metadata": {
        "id": "4If023q33yuz"
      },
      "source": [
        "### 7.2 Default Arguments\n",
        "\n",
        "**EXAMPLE**:\n",
        "Let's see a different varient of above code. You can also define a default value of the arguments which will be utilized when no argument is passed. as shown below -\n"
      ]
    },
    {
      "cell_type": "code",
      "execution_count": null,
      "metadata": {
        "id": "3UQLjrUdwf3R"
      },
      "outputs": [],
      "source": [
        "def travel_or_not(BIKE=True, CAR=False):\n",
        "    TRAVEL_100_KM = BIKE or CAR\n",
        "\n",
        "    print(f\"You have BIKE: {BIKE}\")\n",
        "    print(f\"You have CAR: {CAR}\")\n",
        "    print(f\"You can travel 100 KMs: {TRAVEL_100_KM}\\n\")\n",
        "\n",
        "\n",
        "travel_or_not()"
      ]
    },
    {
      "cell_type": "code",
      "execution_count": null,
      "metadata": {
        "id": "dw1mX_Z94jEW"
      },
      "outputs": [],
      "source": [
        "def travel_or_not(BIKE=True, CAR=False):\n",
        "    TRAVEL_100_KM = BIKE or CAR\n",
        "\n",
        "    print(f\"You have BIKE: {BIKE}\")\n",
        "    print(f\"You have CAR: {CAR}\")\n",
        "    print(f\"You can travel 100 KMs: {TRAVEL_100_KM}\\n\")\n",
        "\n",
        "\n",
        "travel_or_not(False, True) # overriding the default arguments value by passing our value"
      ]
    },
    {
      "cell_type": "markdown",
      "metadata": {
        "id": "cFcCwhWa46rk"
      },
      "source": [
        "**EXAMPLE**: \n",
        "Here ```None``` gets printed if we try to print the ouput of the given function because it is not returning any value. Its just printing ther results."
      ]
    },
    {
      "cell_type": "code",
      "execution_count": null,
      "metadata": {
        "id": "nPMWsQTu410Z"
      },
      "outputs": [],
      "source": [
        "result = travel_or_not(False, True)\n",
        "print(f\"\\nresults:-\\n{result}\")"
      ]
    },
    {
      "cell_type": "markdown",
      "metadata": {
        "id": "O1BzNPzw4Wf_"
      },
      "source": [
        "### 7.3 Return statement\n",
        "\n",
        "**EXAMPLE**:\n",
        "In some cases you'd like to return some value from a function. So for that we use a return keyword to return the results as show below-"
      ]
    },
    {
      "cell_type": "code",
      "execution_count": null,
      "metadata": {
        "id": "yO8X2hwM4K_E"
      },
      "outputs": [],
      "source": [
        "def travel_or_not(BIKE=True, CAR=False):\n",
        "    TRAVEL_100_KM = BIKE or CAR\n",
        "\n",
        "    print(f\"You have BIKE: {BIKE}\")\n",
        "    print(f\"You have CAR: {CAR}\")\n",
        "    return f\"You can travel 100 KMs: {TRAVEL_100_KM}\\n\"\n",
        "\n",
        "\n",
        "result = travel_or_not(False, True)\n",
        "print(f\"\\nresults:-\\n{result}\")"
      ]
    },
    {
      "cell_type": "markdown",
      "metadata": {
        "id": "49sCSt0a6FeZ"
      },
      "source": [
        "**EXAMPLE**:\n",
        "You can also return multiple values as show below -"
      ]
    },
    {
      "cell_type": "code",
      "execution_count": null,
      "metadata": {
        "id": "RKkSF4954fxV"
      },
      "outputs": [],
      "source": [
        "def travel_or_not(BIKE=True, CAR=False):\n",
        "    TRAVEL_100_KM = BIKE or CAR\n",
        "\n",
        "    return BIKE, CAR, TRAVEL_100_KM\n",
        "\n",
        "\n",
        "result1, result2, result3 = travel_or_not(False, True)\n",
        "print(f\"You have BIKE: {result1}\")\n",
        "print(f\"You have CAR: {result2}\")\n",
        "print(f\"You can travel 100 KMs: {result3}\\n\")"
      ]
    },
    {
      "cell_type": "markdown",
      "metadata": {
        "id": "LwhQ3ZkXbghp"
      },
      "source": [
        "### 7.4 Variable length args\n",
        "\n",
        "**EXAMPLE**:\n",
        "At some point there may be chance that you don't know how many args that you should pass. Lets check the example below -"
      ]
    },
    {
      "cell_type": "code",
      "execution_count": null,
      "metadata": {
        "id": "nm2ZWbb76wlF"
      },
      "outputs": [],
      "source": [
        "def branch_and_subjects_in_graduation(*args, branch):\n",
        "    print(f\"My branch was {branch}\")\n",
        "    return f\"I liked these subjects in graduation {args}\"\n",
        "\n",
        "results = branch_and_subjects_in_graduation(\"Digital Image Processing\", \"Microprocessor\", branch=\"Electronics engineering\")\n",
        "print(results)"
      ]
    },
    {
      "cell_type": "code",
      "execution_count": null,
      "metadata": {
        "id": "1RQD02M9FcxK"
      },
      "outputs": [],
      "source": [
        "def test(*args):\n",
        "    print(args)\n",
        "test(10,20,30,40,50)"
      ]
    },
    {
      "cell_type": "code",
      "execution_count": null,
      "metadata": {
        "id": "NXXxJmi8cLUR"
      },
      "outputs": [],
      "source": [
        "def branch_and_subjects_in_graduation(*args, branch=\"Electronics engineering\"):\n",
        "    print(f\"My branch was {branch}\")\n",
        "    return f\"I liked these subjects in graduation {args}\"\n",
        "\n",
        "results = branch_and_subjects_in_graduation(\"Digital Image Processing\", \"Microprocessor\")\n",
        "print(results)"
      ]
    },
    {
      "cell_type": "markdown",
      "metadata": {
        "id": "Dh0d8gc9KEj2"
      },
      "source": [
        "### 7.5 Variable length keyword args\n",
        "\n",
        "**EXAMPLE**:\n",
        "Some times we need varying keyword arguments as shown below-"
      ]
    },
    {
      "cell_type": "code",
      "execution_count": null,
      "metadata": {
        "id": "-eAm8jZXd3NH"
      },
      "outputs": [],
      "source": [
        "def marks_in_subjects_of_semester(**kwargs):\n",
        "    print(kwargs)\n",
        "\n",
        "marks_in_subjects_of_semester(Digital_Image_Processing = 78, Microprocessor= 79, Signals_and_systems=83)"
      ]
    },
    {
      "cell_type": "code",
      "execution_count": null,
      "metadata": {
        "id": "dsT1LjqdFcxM"
      },
      "outputs": [],
      "source": [
        "def test1(**kwargs):\n",
        "    print(kwargs)"
      ]
    },
    {
      "cell_type": "code",
      "execution_count": null,
      "metadata": {
        "id": "PajLX1WDFcxM"
      },
      "outputs": [],
      "source": [
        "test1(a=10,b=20,c=30,d=40)"
      ]
    },
    {
      "cell_type": "code",
      "execution_count": null,
      "metadata": {
        "id": "bJYIjOesFcxM"
      },
      "outputs": [],
      "source": [
        "A=[]\n",
        "B=()\n"
      ]
    },
    {
      "cell_type": "code",
      "execution_count": null,
      "metadata": {
        "id": "U0Qp8F3TKxA8"
      },
      "outputs": [],
      "source": [
        "def marks_in_subjects_of_semester(**kwargs):\n",
        "    for subject, marks in kwargs.items():\n",
        "        print(f\"Score in {subject} = {marks}\")\n",
        "\n",
        "marks_in_subjects_of_semester(Digital_Image_Processing = 78, Microprocessor= 79, Signals_and_systems=83)"
      ]
    },
    {
      "cell_type": "markdown",
      "metadata": {
        "id": "zGhIjY4wLPdO"
      },
      "source": [
        "### 7.6 Functions inside functions -\n",
        "**EXAMPLE**:"
      ]
    },
    {
      "cell_type": "code",
      "execution_count": null,
      "metadata": {
        "id": "Gj8AiIstLDsd"
      },
      "outputs": [],
      "source": [
        "def marks_in_subjects_of_semester(**kwargs):\n",
        "    def total_marks(marks_list):\n",
        "        return sum(marks_list)\n",
        "    \n",
        "    marks_list = list()\n",
        "    for subject, marks in kwargs.items():\n",
        "        marks_list.append(marks)\n",
        "        print(f\"Score in {subject} = {marks}\")\n",
        "    \n",
        "    return total_marks(marks_list)\n",
        "\n",
        "results = marks_in_subjects_of_semester(Digital_Image_Processing = 78, Microprocessor= 79, Signals_and_systems=83)\n",
        "\n",
        "print(f\"\\ntotal marks obtained {results}\")"
      ]
    },
    {
      "cell_type": "markdown",
      "metadata": {
        "id": "1fPdPbr2arGm"
      },
      "source": [
        "### 7.7 Anonymous Function or Lambda Function\n",
        "\n",
        "**EXAMPLE**: Lets convert below example into a onliner or lambda function"
      ]
    },
    {
      "cell_type": "markdown",
      "metadata": {
        "id": "t0t-QK1KbIqB"
      },
      "source": [
        "```python\n",
        "def travel_or_not(BIKE=True, CAR=False):\n",
        "    TRAVEL_100_KM = BIKE or CAR\n",
        "\n",
        "    print(f\"You have BIKE: {BIKE}\")\n",
        "    print(f\"You have CAR: {CAR}\")\n",
        "    return f\"You can travel 100 KMs: {TRAVEL_100_KM}\\n\"\n",
        "\n",
        "\n",
        "result = travel_or_not(False, True)\n",
        "print(f\"\\nresults:-\\n{result}\")\n",
        "```"
      ]
    },
    {
      "cell_type": "code",
      "execution_count": null,
      "metadata": {
        "id": "H7NOHoK2O9Xl"
      },
      "outputs": [],
      "source": [
        "BIKE=True\n",
        "CAR=False\n",
        "\n",
        "result = lambda BIKE, CAR: f\"You can travel 100 KMs: {BIKE or CAR}\\n\"\n",
        "print(f\"\\nresults:-\\n{result(BIKE, CAR)}\")"
      ]
    },
    {
      "cell_type": "markdown",
      "metadata": {
        "id": "km5laIO9b85P"
      },
      "source": [
        "**EXAMPLE**\n",
        "Lets make a lambda function that returns power of an input no. It takes power and number as an input"
      ]
    },
    {
      "cell_type": "code",
      "execution_count": null,
      "metadata": {
        "id": "2OCQhMhwbuaT"
      },
      "outputs": [],
      "source": [
        "number = 5\n",
        "power = 3\n",
        "result = lambda number, power: number**power\n",
        "\n",
        "print(f\"{number} to the power of {power} is {result(number, power)}\")"
      ]
    },
    {
      "cell_type": "markdown",
      "metadata": {
        "id": "tW65_zyDc1Wg"
      },
      "source": [
        "### 7.8 Scope of variables\n",
        "* Variables defined inside the function are known as Local variable\n",
        "\n",
        "* Global varaibles can be accessed anywhere in the script unlike local variable who's scope is defined within the function only. \n",
        "\n",
        "**EXAMPLE**"
      ]
    },
    {
      "cell_type": "code",
      "execution_count": null,
      "metadata": {
        "id": "oRjEhhrack15"
      },
      "outputs": [],
      "source": [
        "result = 0 # outside the scope of function\n",
        "\n",
        "def divide(numerator, denominator):\n",
        "    result = numerator//denominator # result inside the scope of function\n",
        "    print(f\"result after division inside the function: {result}\")\n",
        "\n",
        "numerator = 625\n",
        "denominator = 5\n",
        "divide(numerator, denominator)\n",
        "\n",
        "print(f\"result after division outside the function: {result}\")"
      ]
    },
    {
      "cell_type": "markdown",
      "metadata": {
        "id": "_97TSpl0f-FO"
      },
      "source": [
        "### 7.9 Docstring\n",
        "\n",
        "```python\n",
        "def function():\n",
        "    \"\"\"\n",
        "    This is docstring of the function.\n",
        "    \"\"\"\n",
        "    pass\n",
        "```\n",
        "**EXAMPLE**"
      ]
    },
    {
      "cell_type": "code",
      "execution_count": null,
      "metadata": {
        "id": "Nx8xFCzHgLng"
      },
      "outputs": [],
      "source": [
        "def find_power(number, power):\n",
        "    \"\"\"This function returns the power of the number\n",
        "\n",
        "    Args:\n",
        "        number (int): insert any integer value\n",
        "        power (int): insert any integer value\n",
        "\n",
        "    Returns:\n",
        "        integer: power of number\n",
        "    \"\"\"\n",
        "    return number**power\n",
        "\n",
        "number = 5\n",
        "power = 3\n",
        "result = find_power(number, power)\n",
        "\n",
        "print(f\"{number} to the power of {power} is {result}\")"
      ]
    },
    {
      "cell_type": "code",
      "execution_count": null,
      "metadata": {
        "id": "MfrP3JG4heUu"
      },
      "outputs": [],
      "source": [
        "# This prints the docstring.\n",
        "# Its very good practice to write the docstring of very important function\n",
        "# It imroves code readabilty\n",
        "help(find_power)"
      ]
    },
    {
      "cell_type": "markdown",
      "metadata": {
        "id": "qOHi7TuuFcxS"
      },
      "source": [
        "FUNCTIONS\n",
        "\n",
        "## ----------------------------------------------------------------------"
      ]
    },
    {
      "cell_type": "markdown",
      "metadata": {
        "id": "dRRMzgcmFcxS"
      },
      "source": [
        "code re-usability. "
      ]
    },
    {
      "cell_type": "markdown",
      "metadata": {
        "id": "RtqH5D6_FcxT"
      },
      "source": [
        "To create and use a function we have to take 2 steps:\n",
        "\n",
        "\n",
        "Function Definition: Creating or writing the body of a function is called defining it. It contains the set of statements we want to run , when the function execute.\n",
        "\n",
        "Function Call: A function never runs automatically . So to execute it’s statements we must call it\n"
      ]
    },
    {
      "cell_type": "code",
      "execution_count": null,
      "metadata": {
        "id": "Gnk2Zd6XFcxU"
      },
      "outputs": [],
      "source": [
        "def function_name(param1,param2):\n",
        "    statement(s)\n"
      ]
    },
    {
      "cell_type": "markdown",
      "metadata": {
        "id": "2T7NlP4IFcxW"
      },
      "source": [
        "### About Return Statement"
      ]
    },
    {
      "cell_type": "markdown",
      "metadata": {
        "id": "Dh0Monn2FcxX"
      },
      "source": [
        "- Return value\n",
        "\n",
        "- Return multiple value\n",
        "\n",
        "- it will stop the execution from that line itself\n"
      ]
    },
    {
      "cell_type": "code",
      "execution_count": null,
      "metadata": {
        "id": "-EtGKZ87FcxX"
      },
      "outputs": [],
      "source": [
        "def add(x,y):\n",
        "    a=x\n",
        "    b=y\n",
        "    c=a+b\n",
        "    #print(c)\n",
        "    mul=x*y\n",
        "    print(mul)\n",
        "    return c\n",
        "    "
      ]
    },
    {
      "cell_type": "code",
      "execution_count": null,
      "metadata": {
        "id": "Lhn1S2crFcxY"
      },
      "outputs": [],
      "source": [
        "add(10,20)"
      ]
    },
    {
      "cell_type": "markdown",
      "metadata": {
        "id": "6LntMYfmFcxY"
      },
      "source": [
        "#### Parameter vs Argument"
      ]
    },
    {
      "cell_type": "markdown",
      "metadata": {
        "id": "ooAFcpcQFcxY"
      },
      "source": [
        "In Python , a function can have 4 types of arguments:\n",
        "\n",
        "Positional Argument\n",
        "\n",
        "Keyword Argument\n",
        "\n",
        "Default Argument\n",
        "\n",
        "Variable Length Argument\n"
      ]
    },
    {
      "cell_type": "markdown",
      "metadata": {
        "id": "a0reCiUVFcxZ"
      },
      "source": [
        "if number of argument is not matching with number of parameter then we will get a type error."
      ]
    },
    {
      "cell_type": "markdown",
      "metadata": {
        "id": "5xexzQQdFcxZ"
      },
      "source": [
        "#### Positional Argument"
      ]
    },
    {
      "cell_type": "code",
      "execution_count": null,
      "metadata": {
        "id": "7sV3q5KAFcxZ"
      },
      "outputs": [],
      "source": [
        "def attach(s1,s2):\n",
        "    s3=s1+s2\n",
        "    print(\"Joined String is:\",s3)\n",
        "\n",
        "\n"
      ]
    },
    {
      "cell_type": "code",
      "execution_count": null,
      "metadata": {
        "id": "tl5cmonyFcxa"
      },
      "outputs": [],
      "source": [
        "attach(\"Good\",\"Evening\")"
      ]
    },
    {
      "cell_type": "code",
      "execution_count": null,
      "metadata": {
        "id": "KG8NKXuRFcxa"
      },
      "outputs": [],
      "source": [
        "def grocery(name,price):\n",
        "    print(\"Item is\",name,\"It's price is\",price)\n",
        "\n",
        "\n"
      ]
    },
    {
      "cell_type": "code",
      "execution_count": null,
      "metadata": {
        "id": "0xse4n5fFcxa"
      },
      "outputs": [],
      "source": [
        "grocery(\"Bread\",20)\n"
      ]
    },
    {
      "cell_type": "code",
      "execution_count": null,
      "metadata": {
        "id": "rt70y7G1Fcxb"
      },
      "outputs": [],
      "source": [
        "grocery(150,\"Butter\")"
      ]
    },
    {
      "cell_type": "markdown",
      "metadata": {
        "id": "4DVGZp0UFcxb"
      },
      "source": [
        "#### Keyword Argument"
      ]
    },
    {
      "cell_type": "code",
      "execution_count": null,
      "metadata": {
        "id": "hNcqyw7pFcxc"
      },
      "outputs": [],
      "source": [
        "def grocery(name,price):\n",
        "    print(\"Item is\",name,\"It's price is\",price)\n",
        "\n"
      ]
    },
    {
      "cell_type": "code",
      "execution_count": null,
      "metadata": {
        "id": "06yZfxCmFcxd"
      },
      "outputs": [],
      "source": [
        "grocery('bread',200)"
      ]
    },
    {
      "cell_type": "code",
      "execution_count": null,
      "metadata": {
        "id": "WUHsmkg9Fcxd"
      },
      "outputs": [],
      "source": [
        "grocery(200,'bread')"
      ]
    },
    {
      "cell_type": "code",
      "execution_count": null,
      "metadata": {
        "id": "GTvwSXsoFcxe"
      },
      "outputs": [],
      "source": [
        "grocery(name=\"Bread\",price=20)\n",
        "\n"
      ]
    },
    {
      "cell_type": "code",
      "execution_count": null,
      "metadata": {
        "id": "7f-3jQtgFcxe"
      },
      "outputs": [],
      "source": [
        "grocery(price=150,name=\"Butter\")"
      ]
    },
    {
      "cell_type": "code",
      "execution_count": null,
      "metadata": {
        "id": "EtRbl-PXFcxf"
      },
      "outputs": [],
      "source": [
        "### A positional argument can never follow a keyword argument i.e. the keyword argument should always appear after positional argument\n",
        "\n",
        "###For example:\n",
        "\n",
        "\n"
      ]
    },
    {
      "cell_type": "code",
      "execution_count": null,
      "metadata": {
        "id": "iM20V0BHFcxi"
      },
      "outputs": [],
      "source": [
        "def display(num1,num2):\n",
        "    # some code\n",
        "    pass\n"
      ]
    },
    {
      "cell_type": "code",
      "execution_count": null,
      "metadata": {
        "id": "5XePqHeWFcxi"
      },
      "outputs": [],
      "source": [
        "display(num1=10,15)"
      ]
    },
    {
      "cell_type": "code",
      "execution_count": null,
      "metadata": {
        "id": "4NtL7CJiFcxj"
      },
      "outputs": [],
      "source": [
        "display(15,num1=10)"
      ]
    },
    {
      "cell_type": "code",
      "execution_count": null,
      "metadata": {
        "id": "wamQDU8zFcxj"
      },
      "outputs": [],
      "source": [
        "display(15,num2=10)"
      ]
    },
    {
      "cell_type": "code",
      "execution_count": null,
      "metadata": {
        "id": "XIGsc4FYFcxk"
      },
      "outputs": [],
      "source": [
        "def display(10,num2=15):\n",
        "    pass"
      ]
    },
    {
      "cell_type": "code",
      "execution_count": null,
      "metadata": {
        "id": "vvYh48sYFcxk"
      },
      "outputs": [],
      "source": []
    },
    {
      "cell_type": "code",
      "execution_count": null,
      "metadata": {
        "id": "bTsmYJxAFcxk"
      },
      "outputs": [],
      "source": [
        "Now if we call the above function as:\n",
        "\n",
        "\n",
        "\n",
        "Then it will be correct. But if we call it as:\n",
        "\n",
        "\n",
        "\n",
        "Then it will be a Syntax Error"
      ]
    },
    {
      "cell_type": "markdown",
      "metadata": {
        "id": "FDkpfPKsFcxk"
      },
      "source": [
        "### Default Argument"
      ]
    },
    {
      "cell_type": "markdown",
      "metadata": {
        "id": "8wyspkWzFcxl"
      },
      "source": [
        "For some functions, we may want to make some parameters optional and use default values in case the user does not want to provide values for them. \n",
        "\n",
        "This is done with the help of default argument values. \n",
        "\n",
        "We can specify default argument values for parameters by appending to the parameter name in the function definition the assignment operator (=) followed by the default value.\n",
        "\n"
      ]
    },
    {
      "cell_type": "markdown",
      "metadata": {
        "id": "p-OHF09gFcxm"
      },
      "source": [
        "#Syntax:\n",
        "def function_name(paramname1=value,paramname2=value):\n",
        "    # function body\n",
        "    pass\n"
      ]
    },
    {
      "cell_type": "code",
      "execution_count": null,
      "metadata": {
        "id": "8vYSQUOuFcxo"
      },
      "outputs": [],
      "source": [
        "def greet(name,msg=\"Good Morning\"):\n",
        "    print(\"Hello\",name,msg)"
      ]
    },
    {
      "cell_type": "code",
      "execution_count": null,
      "metadata": {
        "id": "qoljQHIDFcxp"
      },
      "outputs": [],
      "source": [
        "greet(\"Sunny\")"
      ]
    },
    {
      "cell_type": "code",
      "execution_count": null,
      "metadata": {
        "id": "8Y-uvoxiFcxq"
      },
      "outputs": [],
      "source": [
        "greet(\"sunny\",\"How are you?\")\n"
      ]
    },
    {
      "cell_type": "markdown",
      "metadata": {
        "id": "pqsPrCXDFcxq"
      },
      "source": [
        "A function can have any number of default arguments but t once we have a default argument, all the arguments to it’s right must also have default values.\n",
        "\n",
        "\n",
        "This means to say, non-default arguments cannot follow default arguments.\n"
      ]
    },
    {
      "cell_type": "code",
      "execution_count": null,
      "metadata": {
        "id": "DxMeFk9hFcxq"
      },
      "outputs": [],
      "source": [
        "\n",
        "def greet(msg = \"Good morning!\", name):\n",
        "    pass"
      ]
    },
    {
      "cell_type": "code",
      "execution_count": null,
      "metadata": {
        "id": "Da-_voE8Fcxr"
      },
      "outputs": [],
      "source": [
        "For example:  if we had defined the function header above as:\n",
        "\n",
        "def greet(msg = \"Good morning!\", name):\n",
        "\n",
        "Then we would have got the following SyntaxError\n"
      ]
    },
    {
      "cell_type": "code",
      "execution_count": null,
      "metadata": {
        "id": "hjcrgW0OFcxr"
      },
      "outputs": [],
      "source": [
        "def show(a=10,b=20,c=30):\n",
        "    print(a,b,c)\n"
      ]
    },
    {
      "cell_type": "markdown",
      "metadata": {
        "id": "6RSiBbepFcxr"
      },
      "source": [
        "### Excercise\n",
        "\n",
        "Write a function called cal_area( ) using default argument concept which accepts radius and pi as arguments and calculates and displays area of the Circle. The value of pi should be used as default argument and value of radius should be accepted from the user\n"
      ]
    },
    {
      "cell_type": "markdown",
      "metadata": {
        "id": "NnwfTvdDFcxr"
      },
      "source": [
        "### Function or Method Overloading\n"
      ]
    },
    {
      "cell_type": "markdown",
      "metadata": {
        "id": "OJ5uywjbFcxs"
      },
      "source": [
        "Method Overloading is an example of Compile time polymorphism.In this, more than one method of the same class shares the same method name having different parameters.If a class has multiple methods having same name but different in parameters, it is known as Method Overloading.\n",
        "\n",
        "Note: Python does not support method overloading. We may overload the methods but can only use the latest defined method."
      ]
    },
    {
      "cell_type": "code",
      "execution_count": null,
      "metadata": {
        "id": "h_SnlHWWFcxs"
      },
      "outputs": [],
      "source": [
        "def addnos(a,b):\n",
        "    c=a+b\n",
        "    return c\n"
      ]
    },
    {
      "cell_type": "code",
      "execution_count": null,
      "metadata": {
        "id": "IOfXMyUSFcxs"
      },
      "outputs": [],
      "source": [
        "def addnos(a,b,c):\n",
        "    d=a+b+c\n",
        "    return d   \n"
      ]
    },
    {
      "cell_type": "code",
      "execution_count": null,
      "metadata": {
        "id": "N13R6jiQFcxt"
      },
      "outputs": [],
      "source": [
        "def addnos(a,b,c,d):\n",
        "    d=a+b+c+d\n",
        "    return d  "
      ]
    },
    {
      "cell_type": "code",
      "execution_count": null,
      "metadata": {
        "id": "O3-SWCRoFcxt"
      },
      "outputs": [],
      "source": [
        "addnos(10,20,30,40)"
      ]
    },
    {
      "cell_type": "code",
      "execution_count": null,
      "metadata": {
        "id": "oX5iTGHIFcxt"
      },
      "outputs": [],
      "source": [
        "print(addnos(10,20))\n",
        "\n"
      ]
    },
    {
      "cell_type": "code",
      "execution_count": null,
      "metadata": {
        "id": "bLHA5tBkFcxt"
      },
      "outputs": [],
      "source": [
        "print(addnos(10,20,30)) "
      ]
    },
    {
      "cell_type": "markdown",
      "metadata": {
        "id": "5rVbDBF1Fcxu"
      },
      "source": [
        "The error occurred because Python does not support Function or Method Overloading\n",
        "\n",
        "Moreover Python understands the latest definition of a function addnos( ) which takes 3 arguments \n",
        "\n",
        "Now since we passed 2 arguments only , the call generated error because Python tried to call the method with 3 arguments\n"
      ]
    },
    {
      "cell_type": "markdown",
      "metadata": {
        "id": "3DDpbgFLFcxu"
      },
      "source": [
        "### Variable Length Arguments"
      ]
    },
    {
      "cell_type": "markdown",
      "metadata": {
        "id": "_xo-GE2VFcxu"
      },
      "source": [
        "The solution to this problem is a technique called variable length arguments\n",
        "\n",
        "\n",
        "\n",
        "\n",
        "In this technique , we define the function in such a way that it can accept any number of arguments from 0 to infinite\n"
      ]
    },
    {
      "cell_type": "code",
      "execution_count": null,
      "metadata": {
        "id": "nvD-d04WFcxv"
      },
      "outputs": [],
      "source": [
        "def test(**sunny):\n",
        "    print(sunny)\n",
        "    print(type(sunny))"
      ]
    },
    {
      "cell_type": "code",
      "execution_count": null,
      "metadata": {
        "id": "fe0XlwwVFcxv"
      },
      "outputs": [],
      "source": [
        "test(10)"
      ]
    },
    {
      "cell_type": "code",
      "execution_count": null,
      "metadata": {
        "id": "-1l23TncFcxv"
      },
      "outputs": [],
      "source": [
        "test(10,20)"
      ]
    },
    {
      "cell_type": "code",
      "execution_count": null,
      "metadata": {
        "id": "_wKCWoV0Fcxw"
      },
      "outputs": [],
      "source": [
        "test(10,20,30)"
      ]
    },
    {
      "cell_type": "code",
      "execution_count": null,
      "metadata": {
        "id": "YbvUFGHqFcxw"
      },
      "outputs": [],
      "source": [
        "def addnos(*a):\n",
        "    sum =0\n",
        "    for x in a:\n",
        "        sum=sum+x\n",
        "    return sum\n",
        "\n"
      ]
    },
    {
      "cell_type": "code",
      "execution_count": null,
      "metadata": {
        "id": "Ftr4uP0kFcxy"
      },
      "outputs": [],
      "source": [
        "print(addnos(10,20))\n",
        "print(addnos(10,20,30)) \n",
        "print(addnos(10,20,30,40)) "
      ]
    },
    {
      "cell_type": "code",
      "execution_count": null,
      "metadata": {
        "id": "sDmAsAFAFcx0"
      },
      "outputs": [],
      "source": [
        "type(10)"
      ]
    },
    {
      "cell_type": "code",
      "execution_count": null,
      "metadata": {
        "id": "6lQdiTABFcx0"
      },
      "outputs": [],
      "source": [
        "type((10))"
      ]
    },
    {
      "cell_type": "code",
      "execution_count": null,
      "metadata": {
        "id": "TuCCUit1Fcx2"
      },
      "outputs": [],
      "source": [
        "type((10,))"
      ]
    },
    {
      "cell_type": "markdown",
      "metadata": {
        "id": "3NrwTqVzFcx6"
      },
      "source": [
        "### Method Overriding"
      ]
    },
    {
      "cell_type": "markdown",
      "metadata": {
        "id": "LEcJ5iE7Fcx7"
      },
      "source": [
        "Method overriding is an ability of any object-oriented programming language that allows a subclass or child class to provide a specific implementation of a method that is already provided by one of its super-classes or parent classes."
      ]
    },
    {
      "cell_type": "markdown",
      "metadata": {
        "id": "f-fGqPlpFcx7"
      },
      "source": [
        "![image.png](attachment:image.png)"
      ]
    },
    {
      "cell_type": "code",
      "execution_count": null,
      "metadata": {
        "id": "PGNxLBA9Fcx8"
      },
      "outputs": [],
      "source": [
        "# Defining parent class\n",
        "class Animal():\n",
        "      \n",
        "    # Constructor\n",
        "    def __init__(self):\n",
        "        self.value = \"Inside Parent\"\n",
        "          \n",
        "    # Parent's show method\n",
        "    def show(self):\n",
        "        print(self.value)\n",
        "    \n",
        "    def eat(self):\n",
        "        pass"
      ]
    },
    {
      "cell_type": "code",
      "execution_count": null,
      "metadata": {
        "id": "9ms9Aw-cFcx8"
      },
      "outputs": [],
      "source": [
        "# Defining child class\n",
        "class Dog(Animal):\n",
        "      \n",
        "    # Constructor\n",
        "    def __init__(self):\n",
        "        self.value = \"Inside Child\"\n",
        "          \n",
        "    # Child's show method\n",
        "    def show(self):\n",
        "        print(self.value)\n",
        "    \n",
        "    def eat(self):\n",
        "        pass"
      ]
    },
    {
      "cell_type": "code",
      "execution_count": null,
      "metadata": {
        "id": "MHm05e91Fcx9"
      },
      "outputs": [],
      "source": [
        "# Driver's code\n",
        "obj1 = Parent()\n",
        "obj2 = Child()\n",
        "  \n",
        "obj1.show()\n",
        "obj2.show()"
      ]
    },
    {
      "cell_type": "code",
      "execution_count": null,
      "metadata": {
        "id": "9vl7nlTxFcx9"
      },
      "outputs": [],
      "source": []
    },
    {
      "cell_type": "markdown",
      "metadata": {
        "id": "f_FVMIF0Fcx9"
      },
      "source": [
        "### Exercise\n",
        "Write a function called find_largest( ) which accepts multiple strings as argument and returns the length of the largest string\n"
      ]
    },
    {
      "cell_type": "code",
      "execution_count": null,
      "metadata": {
        "id": "h2XilUX1Fcx-"
      },
      "outputs": [],
      "source": [
        "### A function cannot have 2 variable length arguments. So the following is wrong:\n",
        "\n",
        "def addnos(*a,*b):\n",
        "    pass\n"
      ]
    },
    {
      "cell_type": "code",
      "execution_count": null,
      "metadata": {
        "id": "QOXDyNAOFcx-"
      },
      "outputs": [],
      "source": [
        "#If we have any other argument along with variable length argument , then it should be set before the variable length argument\n",
        "def addnos(n,*a):\n",
        "    sum =n\n",
        "    print(n)\n",
        "    print(a)\n",
        "    for x in a:\n",
        "        sum=sum+x\n",
        "    return sum\n"
      ]
    },
    {
      "cell_type": "code",
      "execution_count": null,
      "metadata": {
        "id": "vOQ75CFEFcx-"
      },
      "outputs": [],
      "source": [
        "print(addnos(10,20,30))"
      ]
    },
    {
      "cell_type": "code",
      "execution_count": null,
      "metadata": {
        "id": "tgUU-pEOFcx_"
      },
      "outputs": [],
      "source": [
        "\n",
        "print(addnos(10,20,30,40))"
      ]
    },
    {
      "cell_type": "code",
      "execution_count": null,
      "metadata": {
        "id": "BsHDy0rJFcx_"
      },
      "outputs": [],
      "source": [
        "#If we set the other argument used with variable length argument , after the variable length argument then while calling it , we must pass it as keyword argument\n",
        "\n",
        "def addnos(*a,n):\n",
        "    print(a)\n",
        "    print(n)\n",
        "    sum =n\n",
        "    for x in a:\n",
        "        sum=sum+x\n",
        "    return sum\n"
      ]
    },
    {
      "cell_type": "code",
      "execution_count": null,
      "metadata": {
        "id": "NaUNyx-BFcx_"
      },
      "outputs": [],
      "source": [
        "addnos(20,30,n=40)"
      ]
    },
    {
      "cell_type": "code",
      "execution_count": null,
      "metadata": {
        "id": "gEhRzBmUFcyA"
      },
      "outputs": [],
      "source": [
        "print(addnos(20,30,n=10))"
      ]
    },
    {
      "cell_type": "code",
      "execution_count": null,
      "metadata": {
        "id": "pcMGgqSCFcyA"
      },
      "outputs": [],
      "source": [
        "\n",
        "print(addnos(20,30,40,n=10))"
      ]
    },
    {
      "cell_type": "markdown",
      "metadata": {
        "id": "FxQmGoX_FcyA"
      },
      "source": [
        "## User Defined Functions\n",
        "\n",
        "Variable Scope\n",
        "\n",
        "Local Scope\n",
        "\n",
        "Global Scope\n",
        "\n",
        "Argument Passing\n"
      ]
    },
    {
      "cell_type": "code",
      "execution_count": null,
      "metadata": {
        "id": "dtkY9mlYFcyB"
      },
      "outputs": [],
      "source": [
        "Local : Inside a function body\n",
        "Enclosing: Inside an outer function’s body . We will discuss it later\n",
        "Global: At the module level\n",
        "Built In: At the interpreter level\n"
      ]
    },
    {
      "cell_type": "code",
      "execution_count": null,
      "metadata": {
        "id": "HjPk9fUZFcyB"
      },
      "outputs": [],
      "source": []
    },
    {
      "cell_type": "code",
      "execution_count": null,
      "metadata": {
        "id": "ibLa72HKFcyB"
      },
      "outputs": [],
      "source": [
        "s = \"I love Python\"#global variable\n",
        "def f(): \n",
        "    print(s) \n",
        "f()\n"
      ]
    },
    {
      "cell_type": "code",
      "execution_count": null,
      "metadata": {
        "id": "gXOkxIPMFcyB"
      },
      "outputs": [],
      "source": [
        "indentation\n",
        "\n",
        "def test():\n",
        "    ajcjc\n",
        "    hjafhs\n",
        "    hakfshks\n",
        "kjgjsdsjkas"
      ]
    },
    {
      "cell_type": "code",
      "execution_count": null,
      "metadata": {
        "id": "kZVGhmMKFcyC"
      },
      "outputs": [],
      "source": [
        "def f(): \n",
        "    print(s) \n",
        "s = \"I love Python\"# global or local?\n",
        "f()\n"
      ]
    },
    {
      "cell_type": "code",
      "execution_count": null,
      "metadata": {
        "id": "IqYUNqlUFcyC"
      },
      "outputs": [],
      "source": [
        "def f():\n",
        "    print(p)\n",
        "f()\n",
        "p=\"I love Python\"\n",
        "\n"
      ]
    },
    {
      "cell_type": "code",
      "execution_count": null,
      "metadata": {
        "id": "cWbpr5EoFcyD"
      },
      "outputs": [],
      "source": [
        "def f():\n",
        "    s=\"I love Python\"#local variable\n",
        "    print(s)\n",
        "f()"
      ]
    },
    {
      "cell_type": "code",
      "execution_count": null,
      "metadata": {
        "id": "jh49n2WBFcyD"
      },
      "outputs": [],
      "source": [
        "def f():\n",
        "    s1=\"I love Python\"#local variable\n",
        "    print(s1)\n",
        "f()\n",
        "print(s1)\n"
      ]
    },
    {
      "cell_type": "code",
      "execution_count": null,
      "metadata": {
        "id": "Zg_JoBTEFcyE"
      },
      "outputs": [],
      "source": [
        "s2=\"I love Python\"\n",
        "def f():\n",
        "    s2=\"I love C\"\n",
        "    print(s2)\n",
        "    print(id(s2))\n",
        "f()\n",
        "print(s2)\n",
        "print(id(s2))\n"
      ]
    },
    {
      "cell_type": "code",
      "execution_count": null,
      "metadata": {
        "id": "eP2FNk5EFcyE"
      },
      "outputs": [],
      "source": [
        "def f():\n",
        "    global p1\n",
        "    p1=\"I love C\"\n",
        "    print(p1)\n",
        "    #print(id(p))\n",
        "f()\n",
        "print(p1)"
      ]
    },
    {
      "cell_type": "code",
      "execution_count": null,
      "metadata": {
        "id": "SLh0Hgm4FcyE"
      },
      "outputs": [],
      "source": [
        "print(p)"
      ]
    },
    {
      "cell_type": "code",
      "execution_count": null,
      "metadata": {
        "id": "90zPlfxQFcyF",
        "outputId": "9c171686-3300-4a5f-cd0a-3dba87d3c21d"
      },
      "outputs": [
        {
          "name": "stdout",
          "output_type": "stream",
          "text": [
            "I love C\n",
            "2046596301936\n",
            "I love Python\n",
            "2046596301616\n"
          ]
        }
      ],
      "source": [
        "s1=\"I love Python\"\n",
        "def f():\n",
        "    s1=\"I love C\"\n",
        "    print(s1)\n",
        "    print(id(s1))\n",
        "f()\n",
        "print(s1)\n",
        "print(id(s1))\n"
      ]
    },
    {
      "cell_type": "code",
      "execution_count": null,
      "metadata": {
        "id": "3568Fc0HFcyK",
        "outputId": "7e35f72e-dca4-4d49-9bff-360fa63effcc"
      },
      "outputs": [
        {
          "name": "stdout",
          "output_type": "stream",
          "text": [
            "I love C\n",
            "2046596303984\n",
            "I love C\n",
            "2046596303984\n"
          ]
        }
      ],
      "source": [
        "s=\"I love Python\"\n",
        "def f():\n",
        "    global s\n",
        "    s=\"I love C\"\n",
        "    print(s)\n",
        "    print(id(s))\n",
        "f()\n",
        "print(s)\n",
        "print(id(s))\n"
      ]
    },
    {
      "cell_type": "code",
      "execution_count": null,
      "metadata": {
        "id": "GdQN6ENcFcyL"
      },
      "outputs": [],
      "source": [
        "s=\"I love Python\""
      ]
    },
    {
      "cell_type": "code",
      "execution_count": null,
      "metadata": {
        "id": "fOrW0zJ2FcyL"
      },
      "outputs": [],
      "source": [
        "\n",
        "def f():\n",
        "    global s\n",
        "    print(s)\n",
        "    s=\"I love C\"\n",
        "    print(s)\n",
        "f()\n",
        "print(s)\n",
        "\n"
      ]
    },
    {
      "cell_type": "code",
      "execution_count": null,
      "metadata": {
        "id": "OS11A7y5FcyM"
      },
      "outputs": [],
      "source": [
        "a=1\n",
        "def f():\n",
        "    print ('Inside f() : ', a)\n",
        "def g():    \n",
        "    a = 2\n",
        "    print ('Inside g() : ',a)\n",
        "def h():    \n",
        "    global a\n",
        "    a = 3\n",
        "    print ('Inside h() : ',a)\n",
        " \n",
        "print ('global : ',a)\n",
        "f()\n",
        "print ('global : ',a)\n",
        "g()\n",
        "print ('global : ',a)\n",
        "h()\n",
        "print ('global : ',a)\n"
      ]
    },
    {
      "cell_type": "markdown",
      "metadata": {
        "id": "kwI7mYeCFcyM"
      },
      "source": [
        "Lambda Function\n",
        "\n",
        "The map( ) Function\n",
        "\n",
        "The filter( ) Function\n",
        "\n",
        "Using map( ) and filter( ) with Lambda Expressions\n",
        "\n",
        "\n"
      ]
    },
    {
      "cell_type": "markdown",
      "metadata": {
        "id": "JuRowEvmFcyM"
      },
      "source": [
        "### What is Anonymous Function"
      ]
    },
    {
      "cell_type": "markdown",
      "metadata": {
        "id": "DWRCKhUtFcyN"
      },
      "source": [
        "An anonymous function is a function that is defined without a name"
      ]
    },
    {
      "cell_type": "markdown",
      "metadata": {
        "id": "3vouYK4kFcyN"
      },
      "source": [
        "### Difference between anonymous function and normal function"
      ]
    },
    {
      "cell_type": "markdown",
      "metadata": {
        "id": "jt7wYvfzFcyN"
      },
      "source": [
        "While normal functions are defined using the def keyword, we define anonymous functions using the lambda keyword.\n"
      ]
    },
    {
      "cell_type": "markdown",
      "metadata": {
        "id": "kclaYaHCFcyN"
      },
      "source": [
        "### Syntax: lambda [arg1,arg2,..]:[expression]"
      ]
    },
    {
      "cell_type": "markdown",
      "metadata": {
        "id": "ptavWffpFcyN"
      },
      "source": [
        "lambda is a keyword/operator and can have any number of arguments.\n",
        "\n",
        "But it can have only one expression. \n",
        "\n",
        "Python evaluates the expression and returns the result automatically"
      ]
    },
    {
      "cell_type": "markdown",
      "metadata": {
        "id": "aw_8tqe2FcyO"
      },
      "source": [
        "An expression here is anything that can return some value.\n",
        "\n",
        "The following items qualify as expressions.\n",
        "\n",
        "Arithmetic operations like a+b and a**b\n",
        "\n",
        "Function calls like sum(a,b)\n",
        "\n",
        "A print statement like print(“Hello”)\n",
        "\n"
      ]
    },
    {
      "cell_type": "markdown",
      "metadata": {
        "id": "EcTX0mnfFcyO"
      },
      "source": [
        "Assignment statements cannot be used in lambda , because they don’t return anything, not even None (null).\n",
        "\n",
        "Simple things such as mathematical operations, string operations etc. are OK in a lambda.\n",
        "\n",
        "Function calls are expressions, so it’s OK to put a function call in a lambda, and to pass arguments to that function. \n",
        "\n",
        "Even functions that return None, like the print function in Python 3, can be used in a lambda.\n",
        "\n",
        "Single line if – else is also allowed as it also evaluates the condition and returns the result of true or false expression\n"
      ]
    },
    {
      "cell_type": "code",
      "execution_count": null,
      "metadata": {
        "id": "O5EJF6U2FcyP"
      },
      "outputs": [],
      "source": [
        "#Suppose, we want to make a function which will calculate sum of two numbers.\n",
        "\n",
        "#In normal approach we will do as shown below:\n",
        "\n",
        "def add(a,b): \n",
        "    return a+b\n"
      ]
    },
    {
      "cell_type": "code",
      "execution_count": null,
      "metadata": {
        "id": "l4-sLg-hFcyP",
        "outputId": "7db4924e-349b-4042-9b11-6df77a1dd955"
      },
      "outputs": [
        {
          "data": {
            "text/plain": [
              "30"
            ]
          },
          "execution_count": 7,
          "metadata": {},
          "output_type": "execute_result"
        }
      ],
      "source": [
        "add(10,20)"
      ]
    },
    {
      "cell_type": "code",
      "execution_count": null,
      "metadata": {
        "id": "F6Nwr7WAFcyQ",
        "outputId": "b9a2fce2-419b-49f8-a1eb-de8d8ed8f208"
      },
      "outputs": [
        {
          "name": "stdout",
          "output_type": "stream",
          "text": [
            "30\n"
          ]
        }
      ],
      "source": [
        "#In case of lambda function we will write it as:\n",
        "\n",
        "print((lambda a,b:a+b)(10,20))\n"
      ]
    },
    {
      "cell_type": "markdown",
      "metadata": {
        "id": "1gp0TGL1FcyR"
      },
      "source": [
        "A very common doubt is that when we can define our functions using def keyword , then why we require lambda functions ?\n",
        "\n",
        "The most common use for lambda functions is in code that requires a simple one-line function, where it would be an overkill to write a complete normal function.\n",
        "\n",
        "We will explore it in more detail when we will discuss two very important functions in Python called map( ) and filter( )\n"
      ]
    },
    {
      "cell_type": "markdown",
      "metadata": {
        "id": "7Rk4rYi9FcyS"
      },
      "source": [
        "There are 2 ways to use a Lambda Function.\n",
        "\n",
        "\n",
        "- Using it anonymously in inline mode\n",
        "\n",
        "- Using it by assigning it to a variable\n"
      ]
    },
    {
      "cell_type": "code",
      "execution_count": null,
      "metadata": {
        "id": "u-pFllqwFcyT"
      },
      "outputs": [],
      "source": [
        "#Using it as anonymous function\n",
        "\n",
        "print((lambda a,b: a+b)(2,3))\n"
      ]
    },
    {
      "cell_type": "code",
      "execution_count": null,
      "metadata": {
        "id": "Vc4JB6AvFcyT"
      },
      "outputs": [],
      "source": [
        "#Using it by assigning it to a variable\n",
        "\n",
        "sum=lambda a,b: a+b"
      ]
    },
    {
      "cell_type": "code",
      "execution_count": null,
      "metadata": {
        "id": "VA39B9nZFcyT",
        "outputId": "aacba3ca-7c38-442b-f043-07c577c38753"
      },
      "outputs": [
        {
          "name": "stdout",
          "output_type": "stream",
          "text": [
            "5\n"
          ]
        }
      ],
      "source": [
        "print(sum(2,3))"
      ]
    },
    {
      "cell_type": "code",
      "execution_count": null,
      "metadata": {
        "id": "qJ2MgXDWFcyU",
        "outputId": "7f665708-73c4-4b26-e60d-797d6721003a"
      },
      "outputs": [
        {
          "name": "stdout",
          "output_type": "stream",
          "text": [
            "14\n"
          ]
        }
      ],
      "source": [
        "\n",
        "\n",
        "\n",
        "print(sum(5,9))\n"
      ]
    },
    {
      "cell_type": "markdown",
      "metadata": {
        "id": "8GaNk7jHFcyU"
      },
      "source": [
        "What is happening in this code ?\n",
        "\n",
        "The statement lambda a,b:a+b , \n",
        "\n",
        "is creating a FUNCTION OBJECT\n",
        "\n",
        "and returning that object . The\n",
        "\n",
        "variable sum is referring to that\n",
        "\n",
        "object. Now when we write sum(2,3), it behaves like function call\n"
      ]
    },
    {
      "cell_type": "code",
      "execution_count": null,
      "metadata": {
        "id": "u2eN9-BAFcyU"
      },
      "outputs": [],
      "source": [
        "sum=lambda a,b: a+b\n",
        "\n",
        "print(type(sum))\n",
        "print(sum)\n"
      ]
    },
    {
      "cell_type": "code",
      "execution_count": null,
      "metadata": {
        "id": "h4nZ-bTtFcyV"
      },
      "outputs": [],
      "source": [
        "squareit=lambda a: a*a\n",
        "\n",
        "print(squareit(25))\n",
        "print(squareit(10))\n",
        "\n"
      ]
    },
    {
      "cell_type": "code",
      "execution_count": null,
      "metadata": {
        "id": "env6jdKoFcyV"
      },
      "outputs": [],
      "source": [
        "import math\n",
        "\n",
        "squr=lambda a:math.sqrt(a)\n",
        "\n"
      ]
    },
    {
      "cell_type": "code",
      "execution_count": null,
      "metadata": {
        "id": "ixcDZ1pVFcyW",
        "outputId": "18d656b7-5f63-4995-ef6a-ca6270196a81"
      },
      "outputs": [
        {
          "data": {
            "text/plain": [
              "5.0"
            ]
          },
          "execution_count": 17,
          "metadata": {},
          "output_type": "execute_result"
        }
      ],
      "source": [
        "squr(25)"
      ]
    },
    {
      "cell_type": "code",
      "execution_count": null,
      "metadata": {
        "id": "JGqqe7HeFcyW"
      },
      "outputs": [],
      "source": [
        "st=lambda str:str[0]"
      ]
    },
    {
      "cell_type": "code",
      "execution_count": null,
      "metadata": {
        "id": "RxV2ey3nFcyZ",
        "outputId": "56781405-b112-4d0b-d44b-43ec2c0d35ec"
      },
      "outputs": [
        {
          "data": {
            "text/plain": [
              "'s'"
            ]
          },
          "execution_count": 19,
          "metadata": {},
          "output_type": "execute_result"
        }
      ],
      "source": [
        "st(\"sunny\")"
      ]
    },
    {
      "cell_type": "code",
      "execution_count": null,
      "metadata": {
        "id": "nZn22408Fcya"
      },
      "outputs": [],
      "source": [
        "iseven=lambda n: n%2==0"
      ]
    },
    {
      "cell_type": "code",
      "execution_count": null,
      "metadata": {
        "id": "SjxE8J0uFcya",
        "outputId": "9f29fd98-e23e-473d-cb02-778602b66e55"
      },
      "outputs": [
        {
          "name": "stdout",
          "output_type": "stream",
          "text": [
            "10 is even : False\n"
          ]
        }
      ],
      "source": [
        "\n",
        "print(\"10 is even :\",iseven(11))"
      ]
    },
    {
      "cell_type": "code",
      "execution_count": null,
      "metadata": {
        "id": "SJPB8K6hFcyb"
      },
      "outputs": [],
      "source": [
        "\n",
        "print(\"7 is even:\",iseven(7))\n"
      ]
    },
    {
      "cell_type": "code",
      "execution_count": null,
      "metadata": {
        "id": "zbotnlC4Fcyb"
      },
      "outputs": [],
      "source": [
        "#Write a lambda function that accepts 2 arguments and returns the greater amongst them\n",
        "maxnum=lambda a,b: a if a>b else b"
      ]
    },
    {
      "cell_type": "code",
      "execution_count": null,
      "metadata": {
        "id": "8m603crvFcyc",
        "outputId": "6f5c1863-6968-4f4d-ceae-946506b1cf53"
      },
      "outputs": [
        {
          "name": "stdout",
          "output_type": "stream",
          "text": [
            "max amongst 10 and 20 : 20\n"
          ]
        }
      ],
      "source": [
        "print(\"max amongst 10 and 20 :\",maxnum(10,20))"
      ]
    },
    {
      "cell_type": "code",
      "execution_count": null,
      "metadata": {
        "id": "tVBXGRhuFcyc",
        "outputId": "43c20ef5-1d71-4d9d-dba1-4a9334bd000a"
      },
      "outputs": [
        {
          "name": "stdout",
          "output_type": "stream",
          "text": [
            "max amongst 15 and 5 : 15\n"
          ]
        }
      ],
      "source": [
        "print(\"max amongst 15 and 5 :\",maxnum(15,5))\n"
      ]
    },
    {
      "cell_type": "markdown",
      "metadata": {
        "id": "cBjT6877Fcyc"
      },
      "source": [
        "### map() function in python"
      ]
    },
    {
      "cell_type": "code",
      "execution_count": null,
      "metadata": {
        "id": "Kkj2Nh_0Fcyd"
      },
      "outputs": [],
      "source": [
        "#map() is a function which takes two arguments:\n",
        "r = map(func, iterable)"
      ]
    },
    {
      "cell_type": "markdown",
      "metadata": {
        "id": "C_ysLLSSFcyd"
      },
      "source": [
        "The first argument func is the name of a function and the second argument  , iterable  ,should be a sequence (e.g. a list , tuple ,string etc) or anything that can be used with for loop. \n",
        "\n",
        "map() applies the function func to all the elements of the sequence iterable\n"
      ]
    },
    {
      "cell_type": "markdown",
      "metadata": {
        "id": "5b-hDNo3Fcyd"
      },
      "source": [
        "### To understand this , let’s solve a problem"
      ]
    },
    {
      "cell_type": "code",
      "execution_count": null,
      "metadata": {
        "id": "TKMwTplEFcyd"
      },
      "outputs": [],
      "source": [
        "#Suppose we want to define a function called square( ) that can accept a number as argument and returns it’s square.\n",
        "\n",
        "#The definition of this function would be:\n",
        "\n",
        "def square(num):\n",
        "    return num**2"
      ]
    },
    {
      "cell_type": "code",
      "execution_count": null,
      "metadata": {
        "id": "ptlHAKJdFcye",
        "outputId": "29a4a153-75f1-4072-b0ae-23bcf8f95a6e"
      },
      "outputs": [
        {
          "data": {
            "text/plain": [
              "25"
            ]
          },
          "execution_count": 27,
          "metadata": {},
          "output_type": "execute_result"
        }
      ],
      "source": [
        "square(5)"
      ]
    },
    {
      "cell_type": "code",
      "execution_count": null,
      "metadata": {
        "id": "jyWvFsyFFcye",
        "outputId": "fe26bd34-c279-4f12-8171-de6eb2a93c5f"
      },
      "outputs": [
        {
          "data": {
            "text/plain": [
              "625"
            ]
          },
          "execution_count": 28,
          "metadata": {},
          "output_type": "execute_result"
        }
      ],
      "source": [
        "square(25)"
      ]
    },
    {
      "cell_type": "code",
      "execution_count": null,
      "metadata": {
        "id": "nGiUEUWzFcye"
      },
      "outputs": [],
      "source": [
        "#Now suppose we want to call this function for the following list of numbers:\n",
        "\n",
        "mynums=[1,2,3,4,5]"
      ]
    },
    {
      "cell_type": "code",
      "execution_count": null,
      "metadata": {
        "id": "bDuY3w4XFcyf",
        "outputId": "df58239c-60bb-42f4-b612-0023627043da"
      },
      "outputs": [
        {
          "name": "stdout",
          "output_type": "stream",
          "text": [
            "1\n",
            "4\n",
            "9\n",
            "16\n",
            "25\n"
          ]
        }
      ],
      "source": [
        "#One way to do this , will be to use a for loop \n",
        "\n",
        "mynums=[1,2,3,4,5]\n",
        "for x in mynums:\n",
        "    print(square(x))"
      ]
    },
    {
      "cell_type": "code",
      "execution_count": null,
      "metadata": {
        "id": "cpiuUQPvFcyf",
        "outputId": "e591bc0d-d35c-4cf2-f811-c7769b67741f"
      },
      "outputs": [
        {
          "name": "stdout",
          "output_type": "stream",
          "text": [
            "1\n",
            "4\n",
            "9\n",
            "16\n",
            "25\n"
          ]
        }
      ],
      "source": [
        "def square(num):\n",
        "    return num**2\n",
        "mynums=[1,2,3,4,5]\n",
        "for x in mynums:\n",
        "    print(square(x))"
      ]
    },
    {
      "cell_type": "code",
      "execution_count": null,
      "metadata": {
        "id": "7iVBj8wSFcyf"
      },
      "outputs": [],
      "source": [
        "<map at 0x1b3e7ae1880> \n"
      ]
    },
    {
      "cell_type": "markdown",
      "metadata": {
        "id": "-HZyFntXFcyg"
      },
      "source": [
        "Another way to solve the previous problem is to use the map( ) function .\n",
        "The map( ) function will accept 2 arguments from us. \n",
        "\n",
        "The first argument will be the name of the function square \n",
        "\n",
        "The second argument will be the list mynums.\n",
        "\n",
        "It will then apply the function square on every element of mynum and return the corresponding result as map object \n"
      ]
    },
    {
      "cell_type": "code",
      "execution_count": null,
      "metadata": {
        "id": "HxPHOyenFcyg"
      },
      "outputs": [],
      "source": [
        "def square(num):\n",
        "    return num**2\n",
        "mynums=(1,2,3,4,5)"
      ]
    },
    {
      "cell_type": "code",
      "execution_count": null,
      "metadata": {
        "id": "2EOW5QEEFcyh",
        "outputId": "9079d738-1abe-4e37-b56b-a36cbd5dd2ff"
      },
      "outputs": [
        {
          "name": "stdout",
          "output_type": "stream",
          "text": [
            "[1, 4, 9, 16, 25]\n"
          ]
        }
      ],
      "source": [
        "print(list(map(square,mynums)))"
      ]
    },
    {
      "cell_type": "code",
      "execution_count": null,
      "metadata": {
        "id": "IvJjVE3NFcyh"
      },
      "outputs": [],
      "source": [
        "def square(num):\n",
        "    return num**2\n",
        "\n",
        "mynums=[1,2,3,4,5]\n",
        "result=map(square,mynums)\n",
        "print(result)\n"
      ]
    },
    {
      "cell_type": "markdown",
      "metadata": {
        "id": "uk1d144cFcyi"
      },
      "source": [
        "As we can observe , the return value of map( ) function is a map object \n",
        "\n",
        "To convert it into actual numbers we can pass it to the function list( )"
      ]
    },
    {
      "cell_type": "code",
      "execution_count": null,
      "metadata": {
        "id": "Swl3qwNXFcyi"
      },
      "outputs": [],
      "source": [
        "def square(num):\n",
        "    return num**2\n",
        "\n",
        "mynums=[1,2,3,4,5]\n",
        "result=map(square,mynums)"
      ]
    },
    {
      "cell_type": "code",
      "execution_count": null,
      "metadata": {
        "id": "2dD4rgteFcyj",
        "outputId": "b55c4c7c-ca5c-4aaa-b828-b97900f7514a"
      },
      "outputs": [
        {
          "data": {
            "text/plain": [
              "<map at 0x1f01b38dd90>"
            ]
          },
          "execution_count": 12,
          "metadata": {},
          "output_type": "execute_result"
        }
      ],
      "source": [
        "result"
      ]
    },
    {
      "cell_type": "code",
      "execution_count": null,
      "metadata": {
        "id": "kgqDHJibFcyj"
      },
      "outputs": [],
      "source": [
        "sqrnum=list(result)"
      ]
    },
    {
      "cell_type": "code",
      "execution_count": null,
      "metadata": {
        "id": "osYobpltFcyj",
        "outputId": "a6e774b7-3ee0-44c0-af68-312c673d6181"
      },
      "outputs": [
        {
          "name": "stdout",
          "output_type": "stream",
          "text": [
            "[1, 4, 9, 16, 25]\n"
          ]
        }
      ],
      "source": [
        "\n",
        "\n",
        "print(sqrnum)\n"
      ]
    },
    {
      "cell_type": "code",
      "execution_count": null,
      "metadata": {
        "id": "ynh3orsaFcyk"
      },
      "outputs": [],
      "source": [
        "def square(num):\n",
        "    return num**2\n",
        "\n",
        "\n",
        "mynums=[1,2,3,4,5]\n",
        "# we can club the 2 lines in 1 line\n",
        "\n",
        "sqrnum=list(map(square,mynums))\n",
        "\n",
        "print(sqrnum)\n"
      ]
    },
    {
      "cell_type": "code",
      "execution_count": null,
      "metadata": {
        "id": "RhAVCv43Fcyk"
      },
      "outputs": [],
      "source": [
        "#To make it even shorter we can directly pass the list( ) function to \n",
        "#the function print()\n",
        "def square(num):\n",
        "    return num**2\n",
        "\n",
        "mynums=[1,2,3,4,5]\n",
        "print(list(map(square,mynums)))\n"
      ]
    },
    {
      "cell_type": "code",
      "execution_count": null,
      "metadata": {
        "id": "eH6s9-dLFcyk"
      },
      "outputs": [],
      "source": [
        "#In case we want to iterate over this list , then we can use for loop\n",
        "def square(num):\n",
        "    return num**2\n",
        "\n",
        "mynums=[1,2,3,4,5]\n",
        "for x in map(square,mynums):\n",
        "    print(x)\n"
      ]
    },
    {
      "cell_type": "markdown",
      "metadata": {
        "id": "wdar1Q0MFcyl"
      },
      "source": [
        "Write a function called inspect( ) that accepts a string as argument and returns the word EVEN if the string is of even length and returns it’s first character if the string is of odd length\n",
        "\n",
        "Now call this function for first 3 month names"
      ]
    },
    {
      "cell_type": "code",
      "execution_count": null,
      "metadata": {
        "id": "OxeQnZDhFcyl",
        "outputId": "0d165026-2f98-4870-c818-5ddc506f2f22"
      },
      "outputs": [
        {
          "name": "stdout",
          "output_type": "stream",
          "text": [
            "['J', 'EVEN', 'M']\n"
          ]
        }
      ],
      "source": [
        "def inspect(mystring):\n",
        "    if len(mystring)%2==0:\n",
        "        return \"EVEN\"\n",
        "    else:\n",
        "        return mystring[0]\n",
        "\n",
        "months=[\"January\",\"February\",\"March\"]\n",
        "print(list(map(inspect,months))) \n"
      ]
    },
    {
      "cell_type": "markdown",
      "metadata": {
        "id": "RGsJKbP5Fcyl"
      },
      "source": [
        "### filter() function in python"
      ]
    },
    {
      "cell_type": "markdown",
      "metadata": {
        "id": "dBa2jVKDFcyl"
      },
      "source": [
        "Another way to solve the previous problem is to use the filter( ) function .\n",
        "\n",
        "\n",
        "The flter( ) function will accept 2 arguments from us. \n",
        "\n",
        "The first argument will be the name of the function check_even \n",
        "\n",
        "The second argument will be the list mynums.\n",
        "\n",
        "It will then apply the function check_even on every element of mynum and if check_even returned True for that element then filter( ) will return that element as a part of it’s return value otherwise that element will not be returned\n"
      ]
    },
    {
      "cell_type": "code",
      "execution_count": null,
      "metadata": {
        "id": "pNVV7ixXFcym"
      },
      "outputs": [],
      "source": [
        "num=7"
      ]
    },
    {
      "cell_type": "code",
      "execution_count": null,
      "metadata": {
        "id": "QGueM-sjFcym",
        "outputId": "539e5f64-71b5-4bd7-e406-90c93d337e53"
      },
      "outputs": [
        {
          "data": {
            "text/plain": [
              "1"
            ]
          },
          "execution_count": 26,
          "metadata": {},
          "output_type": "execute_result"
        }
      ],
      "source": [
        "num%2"
      ]
    },
    {
      "cell_type": "code",
      "execution_count": null,
      "metadata": {
        "id": "8QHHR43XFcym"
      },
      "outputs": [],
      "source": [
        "def check_even(num):\n",
        "    return num%2!=0"
      ]
    },
    {
      "cell_type": "code",
      "execution_count": null,
      "metadata": {
        "id": "U4nZZahMFcyn",
        "outputId": "c7d800a1-3ef1-4f12-b0ba-6438c756efac"
      },
      "outputs": [
        {
          "data": {
            "text/plain": [
              "True"
            ]
          },
          "execution_count": 23,
          "metadata": {},
          "output_type": "execute_result"
        }
      ],
      "source": [
        "check_even(7)"
      ]
    },
    {
      "cell_type": "code",
      "execution_count": null,
      "metadata": {
        "id": "f1zpIPArFcyn"
      },
      "outputs": [],
      "source": [
        "mynums=[1,2,3,4,5,6]"
      ]
    },
    {
      "cell_type": "code",
      "execution_count": null,
      "metadata": {
        "id": "rpbjC1_BFcyn"
      },
      "outputs": [],
      "source": [
        "value=filter(check_even,mynums)"
      ]
    },
    {
      "cell_type": "code",
      "execution_count": null,
      "metadata": {
        "id": "iJ6pVNFRFcyq",
        "outputId": "4b983419-d4ed-4371-f8bb-87d42d79cb64"
      },
      "outputs": [
        {
          "data": {
            "text/plain": [
              "[1, 3, 5]"
            ]
          },
          "execution_count": 29,
          "metadata": {},
          "output_type": "execute_result"
        }
      ],
      "source": [
        "list(value)"
      ]
    },
    {
      "cell_type": "code",
      "execution_count": null,
      "metadata": {
        "id": "iBmuaiuvFcyr",
        "outputId": "7679a0d1-6f7d-44e1-f6a5-217c950c374f"
      },
      "outputs": [
        {
          "name": "stdout",
          "output_type": "stream",
          "text": [
            "<filter object at 0x000001F01B38DA00>\n"
          ]
        }
      ],
      "source": [
        "\n",
        "\n",
        "\n",
        "print()"
      ]
    },
    {
      "cell_type": "markdown",
      "metadata": {
        "id": "udOI9YmHFcyr"
      },
      "source": [
        "As we can observe , the return value of filter( ) function is a  filter object \n",
        "\n",
        "To convert it into actual numbers we can pass it to the function list( )\n"
      ]
    },
    {
      "cell_type": "code",
      "execution_count": null,
      "metadata": {
        "id": "iCr8LzdqFcys",
        "outputId": "a2335e9d-c464-4e3f-eeda-2358e002244b"
      },
      "outputs": [
        {
          "name": "stdout",
          "output_type": "stream",
          "text": [
            "[2, 4, 6]\n"
          ]
        }
      ],
      "source": [
        "def check_even(num):\n",
        "    return num%2==0\n",
        "\n",
        "mynums=[1,2,3,4,5,6]\n",
        "print(list(filter(check_even,mynums)))\n",
        "\n",
        "\n"
      ]
    },
    {
      "cell_type": "code",
      "execution_count": null,
      "metadata": {
        "id": "AIMHALIVFcys",
        "outputId": "2809b78a-aa17-4365-90fe-0ddd9987136c"
      },
      "outputs": [
        {
          "name": "stdout",
          "output_type": "stream",
          "text": [
            "2\n",
            "4\n",
            "6\n"
          ]
        }
      ],
      "source": [
        "#In case we want to iterate over this list , then we can use for loop \n",
        "#as shown below:\n",
        "def check_even(num):\n",
        "    return num%2==0\n",
        "\n",
        "mynums=[1,2,3,4,5,6]\n",
        "for x in filter(check_even,mynums):\n",
        "    print(x)"
      ]
    },
    {
      "cell_type": "code",
      "execution_count": null,
      "metadata": {
        "id": "wUaegQOtFcyt",
        "outputId": "567b3e4c-9454-4771-d20b-b4885009000d"
      },
      "outputs": [
        {
          "name": "stdout",
          "output_type": "stream",
          "text": [
            "[1, 2, 3, 4, 5]\n"
          ]
        }
      ],
      "source": [
        "def f1(num):\n",
        "    return num*num\n",
        "\n",
        "mynums=[1,2,3,4,5]\n",
        "print(list(filter(f1,mynums)))\n"
      ]
    },
    {
      "cell_type": "markdown",
      "metadata": {
        "id": "zstLYTxRFcyw"
      },
      "source": [
        "Ideally , the function passed to filter( ) should return a boolean value. But if it doesn’t return boolean value , then whatever value it returns Python converts it to boolean . In our case for each value in mynums the return value will be it’s square which is a non-zero value and thus assumed to be True. So all the elements are returned by filter() \n"
      ]
    },
    {
      "cell_type": "code",
      "execution_count": null,
      "metadata": {
        "id": "SIZkOukTFcyw"
      },
      "outputs": [],
      "source": [
        "def f1(num):\n",
        "    return num%2"
      ]
    },
    {
      "cell_type": "code",
      "execution_count": null,
      "metadata": {
        "id": "tAEgZuJRFcyw",
        "outputId": "439941e3-ab4f-4e43-b10d-cf0907a45c0d"
      },
      "outputs": [
        {
          "data": {
            "text/plain": [
              "1"
            ]
          },
          "execution_count": 31,
          "metadata": {},
          "output_type": "execute_result"
        }
      ],
      "source": [
        "f1(11)"
      ]
    },
    {
      "cell_type": "code",
      "execution_count": null,
      "metadata": {
        "id": "oiuWntBPFcyx",
        "outputId": "b07a04aa-b609-48a1-dcfb-81e864ed3b69"
      },
      "outputs": [
        {
          "data": {
            "text/plain": [
              "1"
            ]
          },
          "execution_count": 35,
          "metadata": {},
          "output_type": "execute_result"
        }
      ],
      "source": [
        "True+False"
      ]
    },
    {
      "cell_type": "code",
      "execution_count": null,
      "metadata": {
        "id": "GVv0r3ZhFcyx",
        "outputId": "da0963e8-9071-4f94-9dac-0fd42aad63a5"
      },
      "outputs": [
        {
          "name": "stdout",
          "output_type": "stream",
          "text": [
            "1\n",
            "0\n",
            "1\n",
            "0\n",
            "1\n",
            "[]\n"
          ]
        }
      ],
      "source": [
        "def f1(num):\n",
        "    print(num%2)\n",
        "    #return num%2\n",
        "\n",
        "mynums=[1,2,3,4,5]\n",
        "print(list(filter(f1,mynums)))\n"
      ]
    },
    {
      "cell_type": "code",
      "execution_count": null,
      "metadata": {
        "id": "cDn0Gq1UFcyy",
        "outputId": "e21d5011-2540-4811-8c03-a3628fa5eace"
      },
      "outputs": [
        {
          "data": {
            "text/plain": [
              "<filter at 0x1f01b38d970>"
            ]
          },
          "execution_count": 37,
          "metadata": {},
          "output_type": "execute_result"
        }
      ],
      "source": [
        "filter(f1,mynums)"
      ]
    },
    {
      "cell_type": "markdown",
      "metadata": {
        "id": "B2FtjP0NFcyy"
      },
      "source": [
        "For every even number the return value of the function f1( ) will be 0 which is assumed to be False and for every odd number the return value will be 1 which is assumed to be True . Thus filter( ) returns only those numbers for which f1( ) has returned 1.\n"
      ]
    },
    {
      "cell_type": "code",
      "execution_count": null,
      "metadata": {
        "id": "TATHkf74Fcyz"
      },
      "outputs": [],
      "source": [
        "def f1(num):\n",
        "    print(\"Hello\")"
      ]
    },
    {
      "cell_type": "code",
      "execution_count": null,
      "metadata": {
        "id": "u2YAag9KFcyz",
        "outputId": "6ce612f3-6ea8-4396-e167-a53fccc9762a"
      },
      "outputs": [
        {
          "name": "stdout",
          "output_type": "stream",
          "text": [
            "Hello\n"
          ]
        }
      ],
      "source": [
        "f1(5)"
      ]
    },
    {
      "cell_type": "code",
      "execution_count": null,
      "metadata": {
        "id": "i2pnUt-4Fcyz",
        "outputId": "a4682745-8198-482f-fbc5-b2106a6a6df1"
      },
      "outputs": [
        {
          "name": "stdout",
          "output_type": "stream",
          "text": [
            "Hello\n",
            "Hello\n",
            "Hello\n",
            "Hello\n",
            "Hello\n",
            "[]\n"
          ]
        }
      ],
      "source": [
        "mynums=[1,2,3,4,5]\n",
        "print(list(filter(f1,mynums)))\n"
      ]
    },
    {
      "cell_type": "markdown",
      "metadata": {
        "id": "jKzVcLa6Fcyz"
      },
      "source": [
        "Hello is displayed 5 times because the filter( ) function has called f1( ) function 5 times. Now for each value in mynums , since f1( ) has not returned any value , by default it’s return value is assumed to be None which is a representation of False. Thus filter( ) returned an empty list.\n"
      ]
    },
    {
      "cell_type": "code",
      "execution_count": null,
      "metadata": {
        "id": "IjRy-elXFcy0",
        "outputId": "d3693fe0-6604-4022-df1e-902456d80adb"
      },
      "outputs": [
        {
          "name": "stdout",
          "output_type": "stream",
          "text": [
            "[]\n"
          ]
        }
      ],
      "source": [
        "def f1(num):\n",
        "    pass\n",
        "\n",
        "mynums=[1,2,3,4,5]\n",
        "print(list(filter(f1,mynums)))\n"
      ]
    },
    {
      "cell_type": "markdown",
      "metadata": {
        "id": "HZu5oZMgFcy0"
      },
      "source": [
        "For each value in mynums , since f1( ) has not returned any value , by default it’s return value is assumed to be None which is a representation of False. Thus filter( ) returned an empty list.\n"
      ]
    },
    {
      "cell_type": "code",
      "execution_count": null,
      "metadata": {
        "id": "t_goFBAqFcy0",
        "outputId": "4c358577-1684-4a3d-a4dc-1db82e787aaa"
      },
      "outputs": [
        {
          "ename": "TypeError",
          "evalue": "f1() takes 0 positional arguments but 1 was given",
          "output_type": "error",
          "traceback": [
            "\u001b[1;31m---------------------------------------------------------------------------\u001b[0m",
            "\u001b[1;31mTypeError\u001b[0m                                 Traceback (most recent call last)",
            "\u001b[1;32m<ipython-input-45-804ed006219b>\u001b[0m in \u001b[0;36m<module>\u001b[1;34m\u001b[0m\n\u001b[0;32m      3\u001b[0m \u001b[1;33m\u001b[0m\u001b[0m\n\u001b[0;32m      4\u001b[0m \u001b[0mmynums\u001b[0m\u001b[1;33m=\u001b[0m\u001b[1;33m[\u001b[0m\u001b[1;36m1\u001b[0m\u001b[1;33m,\u001b[0m\u001b[1;36m2\u001b[0m\u001b[1;33m,\u001b[0m\u001b[1;36m3\u001b[0m\u001b[1;33m,\u001b[0m\u001b[1;36m4\u001b[0m\u001b[1;33m,\u001b[0m\u001b[1;36m5\u001b[0m\u001b[1;33m]\u001b[0m\u001b[1;33m\u001b[0m\u001b[1;33m\u001b[0m\u001b[0m\n\u001b[1;32m----> 5\u001b[1;33m \u001b[0mprint\u001b[0m\u001b[1;33m(\u001b[0m\u001b[0mlist\u001b[0m\u001b[1;33m(\u001b[0m\u001b[0mfilter\u001b[0m\u001b[1;33m(\u001b[0m\u001b[0mf1\u001b[0m\u001b[1;33m,\u001b[0m\u001b[0mmynums\u001b[0m\u001b[1;33m)\u001b[0m\u001b[1;33m)\u001b[0m\u001b[1;33m)\u001b[0m\u001b[1;33m\u001b[0m\u001b[1;33m\u001b[0m\u001b[0m\n\u001b[0m\u001b[0;32m      6\u001b[0m \u001b[1;33m\u001b[0m\u001b[0m\n",
            "\u001b[1;31mTypeError\u001b[0m: f1() takes 0 positional arguments but 1 was given"
          ]
        }
      ],
      "source": [
        "def f1():\n",
        "    pass\n",
        "\n",
        "mynums=[1,2,3,4,5]\n",
        "print(list(filter(f1,mynums)))\n",
        "\n"
      ]
    },
    {
      "cell_type": "markdown",
      "metadata": {
        "id": "f9L-tXWyFcy0"
      },
      "source": [
        "The function filter() is trying to call f1( ) for every value in the list mynums. But since f1( ) is a non-parametrized function , this call generates TypeError\n"
      ]
    },
    {
      "cell_type": "code",
      "execution_count": null,
      "metadata": {
        "id": "Y6N2U2KDFcy1"
      },
      "outputs": [],
      "source": [
        "def f1():\n",
        "    pass\n",
        "\n",
        "mynums=[]\n",
        "print(list(filter(f1,mynums)))\n",
        "\n"
      ]
    },
    {
      "cell_type": "code",
      "execution_count": null,
      "metadata": {
        "id": "PUZmNMSJFcy1",
        "outputId": "c0eb076f-07f6-4dd2-beee-01ec1d8dd39f"
      },
      "outputs": [
        {
          "name": "stdout",
          "output_type": "stream",
          "text": [
            "[1, 0, 1, 0, 1]\n"
          ]
        }
      ],
      "source": [
        "def f1(num):\n",
        "    return num%2\n",
        "\n",
        "mynums=[1,2,3,4,5]\n",
        "print(list(map(f1,mynums)))\n",
        "\n"
      ]
    },
    {
      "cell_type": "code",
      "execution_count": null,
      "metadata": {
        "id": "qae6GaZ2Fcy1",
        "outputId": "580bd7a3-2563-47b2-8444-20ef6bc24481"
      },
      "outputs": [
        {
          "name": "stdout",
          "output_type": "stream",
          "text": [
            "[1, 3, 5]\n"
          ]
        }
      ],
      "source": [
        "def f1(num):\n",
        "    return num%2\n",
        "\n",
        "mynums=[1,2,3,4,5]\n",
        "print(list(filter(f1,mynums)))"
      ]
    },
    {
      "cell_type": "markdown",
      "metadata": {
        "id": "ZPztID2WFcy1"
      },
      "source": [
        "For every even number the return value of the function f1( ) will be 0 and for every odd number the return value will be 1. Thus map( ) has returned a list containing 1 and 0 for each number in mynums based upon even and odd.\n"
      ]
    },
    {
      "cell_type": "code",
      "execution_count": null,
      "metadata": {
        "id": "LvdhhEfUFcy2",
        "outputId": "a12a4094-6b50-418b-e160-f8ebafd8e1b7"
      },
      "outputs": [
        {
          "name": "stdout",
          "output_type": "stream",
          "text": [
            "[None, None, None, None, None]\n"
          ]
        }
      ],
      "source": [
        "def f1(num):\n",
        "    pass\n",
        "\n",
        "mynums=[1,2,3,4,5]\n",
        "print(list(map(f1,mynums)))\n",
        "\n"
      ]
    },
    {
      "cell_type": "markdown",
      "metadata": {
        "id": "Jdaj_Y3bFcy2"
      },
      "source": [
        "Since f1( ) is not returning anything , so it’s return value by default is assumed to be None  and because map( ) has internally called f1 () 5 times , so the list returned contains None 5 times\n"
      ]
    },
    {
      "cell_type": "code",
      "execution_count": null,
      "metadata": {
        "id": "wKxE1ysJFcy2",
        "outputId": "194d0f1a-c3e2-42ad-f578-1cac4928e849"
      },
      "outputs": [
        {
          "name": "stdout",
          "output_type": "stream",
          "text": [
            "[]\n"
          ]
        }
      ],
      "source": [
        "def f1():\n",
        "    pass\n",
        "\n",
        "mynums=[]\n",
        "print(list(map(f1,mynums)))\n"
      ]
    },
    {
      "cell_type": "markdown",
      "metadata": {
        "id": "AnoIPSDjFcy2"
      },
      "source": [
        "The best use of Lambda Expression is to use it with map( ) and filter( ) functions\n",
        "\n",
        "\n",
        "\n",
        "\n",
        "Recall that the keyword lambda creates an anonymous function and returns it’s address.\n"
      ]
    },
    {
      "cell_type": "markdown",
      "metadata": {
        "id": "z6z83sYCFcy3"
      },
      "source": [
        "So , we can pass this lambda expression as first argument to map( ) and filter() functions , since their first argument is the a function object reference\n",
        "\n",
        "\n",
        "In this way , we wouldn’t be required to specially create a separate function using the keyword def\n"
      ]
    },
    {
      "cell_type": "code",
      "execution_count": null,
      "metadata": {
        "id": "F2qXW7ZzFcy3",
        "outputId": "04d0f5af-450f-48b3-8274-6cfc5b6fc5bf"
      },
      "outputs": [
        {
          "name": "stdout",
          "output_type": "stream",
          "text": [
            "[1, 4, 9, 16, 25]\n"
          ]
        }
      ],
      "source": [
        "def square(num):\n",
        "    return num**2\n",
        "\n",
        "mynums=[1,2,3,4,5]\n",
        "squrnum=list(map(square,mynums))\n",
        "print(squrnum)\n"
      ]
    },
    {
      "cell_type": "code",
      "execution_count": null,
      "metadata": {
        "id": "RV0A2CSEFcy3"
      },
      "outputs": [],
      "source": [
        "#To convert the above code using lambda ,we have to do 2 changes:\n",
        "\n",
        "#Remove the function square( )\n",
        "\n",
        "#Rewrite this function as lambda in place of first argument while calling the function map( )\n"
      ]
    },
    {
      "cell_type": "code",
      "execution_count": null,
      "metadata": {
        "id": "Wh9Lu8a9Fcy4"
      },
      "outputs": [],
      "source": [
        "map(lambda num: num*num,mynums)"
      ]
    },
    {
      "cell_type": "code",
      "execution_count": null,
      "metadata": {
        "id": "QhlV2w_lFcy4",
        "outputId": "9e34fffe-1b0b-4db4-ba4c-788cb77707df"
      },
      "outputs": [
        {
          "name": "stdout",
          "output_type": "stream",
          "text": [
            "[1, 4, 9, 16, 25]\n"
          ]
        }
      ],
      "source": [
        "#Following will be the resultant code:\n",
        "\n",
        "mynums=[1,2,3,4,5]\n",
        "sqrnum=list(map(lambda num: num*num,mynums))\n",
        "print(sqrnum)\n"
      ]
    },
    {
      "cell_type": "markdown",
      "metadata": {
        "id": "dU8AoSJgFcy4"
      },
      "source": [
        "### Exercise1"
      ]
    },
    {
      "cell_type": "markdown",
      "metadata": {
        "id": "i1_TYhpEFcy5"
      },
      "source": [
        "Write a lambda expression that accepts a string as argument and returns it’s first character\n",
        "\n",
        "Now use this lambda expression in map( ) function \n",
        "to work on for first 3 month names\n"
      ]
    },
    {
      "cell_type": "code",
      "execution_count": null,
      "metadata": {
        "id": "TQA9gYz4Fcy8",
        "outputId": "9d21584b-b604-4a89-a48a-65c43b586cb8"
      },
      "outputs": [
        {
          "data": {
            "text/plain": [
              "['b', 's', 'k']"
            ]
          },
          "execution_count": 56,
          "metadata": {},
          "output_type": "execute_result"
        }
      ],
      "source": [
        "list(map(lambda x:x[0],['bunny','sudhanshu','krish']))"
      ]
    },
    {
      "cell_type": "code",
      "execution_count": null,
      "metadata": {
        "id": "cDVZbhuOFcy8"
      },
      "outputs": [],
      "source": [
        "months=[\"January\",\"February\",\"March\"]\n",
        "print(list(map(lambda mystring: mystring[0],months)))\n",
        "\n"
      ]
    },
    {
      "cell_type": "markdown",
      "metadata": {
        "id": "fwHnWvtGFcy9"
      },
      "source": [
        "### Exercise2"
      ]
    },
    {
      "cell_type": "markdown",
      "metadata": {
        "id": "bYHMG2uPFcy9"
      },
      "source": [
        "Write a lambda expression that accepts a string as argument and returns the word EVEN if the string is of even length and returns it’s first character if the string is of odd length\n",
        "\n",
        "Now use this lambda expression in map( ) function \n",
        "to work on for first 3 month names\n"
      ]
    },
    {
      "cell_type": "code",
      "execution_count": null,
      "metadata": {
        "id": "fTAJKQohFcy9",
        "outputId": "fc6da30d-e963-4cda-996a-e1643dda900a"
      },
      "outputs": [
        {
          "data": {
            "text/plain": [
              "['b', 'EVEN', 'k']"
            ]
          },
          "execution_count": 61,
          "metadata": {},
          "output_type": "execute_result"
        }
      ],
      "source": [
        "list(map(lambda x:\"EVEN\" if len(x)%2==0 else x[0],['bunny','sudhansh','krish']))"
      ]
    },
    {
      "cell_type": "code",
      "execution_count": null,
      "metadata": {
        "id": "_ZGtcaJpFcy-"
      },
      "outputs": [],
      "source": [
        "months=[\"January\",\"February\",\"March\"]\n",
        "print(list(map(lambda mystring: \"EVEN\" if len(mystring)%2==0 else \n",
        "mystring[0],months)))\n",
        "\n"
      ]
    },
    {
      "cell_type": "markdown",
      "metadata": {
        "id": "haeL2x-AFcy-"
      },
      "source": [
        "### Exercise3"
      ]
    },
    {
      "cell_type": "markdown",
      "metadata": {
        "id": "oG_o3r6iFcy_"
      },
      "source": [
        "Write a lambda expression that accepts a character as argument and returns True if it is a vowel otherwise False\n",
        "\n",
        "Now ask the user to input his/her name and display \n",
        "only the vowels in the name . In case the name does \n",
        "not contain any vowel display the message No vowels \n",
        "in your name\n"
      ]
    },
    {
      "cell_type": "code",
      "execution_count": null,
      "metadata": {
        "id": "5hWCTfpmFcy_",
        "outputId": "924ed319-5a0e-4afe-d44a-edc361619ffc"
      },
      "outputs": [
        {
          "name": "stdout",
          "output_type": "stream",
          "text": [
            "[2, 4, 6]\n"
          ]
        }
      ],
      "source": [
        "mynums=[1,2,3,4,5,6]\n",
        "print(list(filter(lambda num:num%2==0 ,mynums)))\n"
      ]
    },
    {
      "cell_type": "code",
      "execution_count": null,
      "metadata": {
        "id": "lmwljysdFczA"
      },
      "outputs": [],
      "source": [
        "Write a lambda expression that accepts a character as argument and returns True if it is a vowel otherwise False\n",
        "\n",
        "Now ask the user to input his/her name and display \n",
        "only the vowels in the name . In case the name does \n",
        "not contain any vowel display the message No vowels \n",
        "in your name\n"
      ]
    },
    {
      "cell_type": "code",
      "execution_count": null,
      "metadata": {
        "id": "R6rIo1WzFczA"
      },
      "outputs": [],
      "source": [
        "name=input(\"Enter your name:\")\n",
        "vowels=list(filter(lambda ch: ch in \"aeiou\" ,name))\n",
        "if len(vowels)==0:\n",
        "    print(\"No vowels in your name\")\n",
        "else:\n",
        "    print(\"Vowels in your name are:\",vowels)\n"
      ]
    },
    {
      "cell_type": "code",
      "execution_count": null,
      "metadata": {
        "id": "FZEUOwh0FczA"
      },
      "outputs": [],
      "source": [
        "def between(number, min=0, max=1000):\n",
        "    return max > number > min\n",
        "\n",
        "# Only returns number between 10 and 1000\n",
        "filter(lambda x: between(x, min=10), range(10000))"
      ]
    },
    {
      "cell_type": "code",
      "execution_count": null,
      "metadata": {
        "id": "CfC0ly3tFczB"
      },
      "outputs": [],
      "source": [
        "a=42"
      ]
    },
    {
      "cell_type": "code",
      "execution_count": null,
      "metadata": {
        "id": "qC706K5iFczB"
      },
      "outputs": [],
      "source": [
        "b=42"
      ]
    },
    {
      "cell_type": "code",
      "execution_count": null,
      "metadata": {
        "id": "WhjAJIS2FczC"
      },
      "outputs": [],
      "source": [
        "c=42"
      ]
    },
    {
      "cell_type": "code",
      "execution_count": null,
      "metadata": {
        "id": "EeKuWHvOFczC",
        "outputId": "e20204cf-3897-4965-850d-216b060660b5"
      },
      "outputs": [
        {
          "data": {
            "text/plain": [
              "140703981190208"
            ]
          },
          "execution_count": 66,
          "metadata": {},
          "output_type": "execute_result"
        }
      ],
      "source": [
        "id(a)"
      ]
    },
    {
      "cell_type": "code",
      "execution_count": null,
      "metadata": {
        "id": "-3q59AHWFczD",
        "outputId": "303a7d73-9d20-4a4c-a014-5520e25e6589"
      },
      "outputs": [
        {
          "data": {
            "text/plain": [
              "140703981190208"
            ]
          },
          "execution_count": 67,
          "metadata": {},
          "output_type": "execute_result"
        }
      ],
      "source": [
        "id(b)"
      ]
    },
    {
      "cell_type": "code",
      "execution_count": null,
      "metadata": {
        "id": "_97dZGThFczE",
        "outputId": "2185c010-de88-4f14-abb7-b9350999655d"
      },
      "outputs": [
        {
          "data": {
            "text/plain": [
              "140703981190208"
            ]
          },
          "execution_count": 68,
          "metadata": {},
          "output_type": "execute_result"
        }
      ],
      "source": [
        "id(c)"
      ]
    },
    {
      "cell_type": "code",
      "execution_count": null,
      "metadata": {
        "id": "PPHLuq3mFczE"
      },
      "outputs": [],
      "source": [
        "a=43"
      ]
    },
    {
      "cell_type": "code",
      "execution_count": null,
      "metadata": {
        "id": "jzu_XDCuFczF",
        "outputId": "10097b8d-c973-4fe7-caae-9b166905a4f1"
      },
      "outputs": [
        {
          "data": {
            "text/plain": [
              "140703981190240"
            ]
          },
          "execution_count": 70,
          "metadata": {},
          "output_type": "execute_result"
        }
      ],
      "source": [
        "id(a)"
      ]
    },
    {
      "cell_type": "code",
      "execution_count": null,
      "metadata": {
        "id": "nWfgp7RgFczG",
        "outputId": "5108dc72-011a-4ae7-f4c2-d7d6dea38896"
      },
      "outputs": [
        {
          "data": {
            "text/plain": [
              "140703981190208"
            ]
          },
          "execution_count": 71,
          "metadata": {},
          "output_type": "execute_result"
        }
      ],
      "source": [
        "id(b)"
      ]
    },
    {
      "cell_type": "code",
      "execution_count": null,
      "metadata": {
        "id": "NjDbnOGhFczG",
        "outputId": "fe58e2bc-5444-4a26-d630-418dc6638e2d"
      },
      "outputs": [
        {
          "data": {
            "text/plain": [
              "140703981190208"
            ]
          },
          "execution_count": 72,
          "metadata": {},
          "output_type": "execute_result"
        }
      ],
      "source": [
        "id(c)"
      ]
    },
    {
      "cell_type": "code",
      "execution_count": null,
      "metadata": {
        "id": "lgvTycFcFczH",
        "outputId": "bf25b794-94a3-4480-f383-f354cb957dc4"
      },
      "outputs": [
        {
          "data": {
            "text/plain": [
              "42"
            ]
          },
          "execution_count": 73,
          "metadata": {},
          "output_type": "execute_result"
        }
      ],
      "source": [
        "b"
      ]
    },
    {
      "cell_type": "code",
      "execution_count": null,
      "metadata": {
        "id": "rzMwOgmyFczI",
        "outputId": "d6909f3f-8a1d-4129-a896-600b99aab376"
      },
      "outputs": [
        {
          "data": {
            "text/plain": [
              "42"
            ]
          },
          "execution_count": 74,
          "metadata": {},
          "output_type": "execute_result"
        }
      ],
      "source": [
        "c"
      ]
    },
    {
      "cell_type": "code",
      "execution_count": null,
      "metadata": {
        "id": "M2EccR4aFczI",
        "outputId": "7e20a87b-ebc6-4bea-8c59-7f1b81219d7b"
      },
      "outputs": [
        {
          "data": {
            "text/plain": [
              "43"
            ]
          },
          "execution_count": 75,
          "metadata": {},
          "output_type": "execute_result"
        }
      ],
      "source": [
        "a"
      ]
    },
    {
      "cell_type": "code",
      "execution_count": null,
      "metadata": {
        "id": "Lx4YLG3IFczI"
      },
      "outputs": [],
      "source": [
        "a=42"
      ]
    },
    {
      "cell_type": "code",
      "execution_count": null,
      "metadata": {
        "id": "wrWocIULFczJ",
        "outputId": "a9b25ed2-df6b-40be-fb76-35a539ab3751"
      },
      "outputs": [
        {
          "data": {
            "text/plain": [
              "140703981190208"
            ]
          },
          "execution_count": 77,
          "metadata": {},
          "output_type": "execute_result"
        }
      ],
      "source": [
        "id(a)"
      ]
    },
    {
      "cell_type": "code",
      "execution_count": null,
      "metadata": {
        "id": "Pw4GGPrgFczK"
      },
      "outputs": [],
      "source": [
        "a=10"
      ]
    },
    {
      "cell_type": "code",
      "execution_count": null,
      "metadata": {
        "id": "ZpIyG5qFFczL",
        "outputId": "87dee820-ad7b-40af-e1bd-739b7e23b919"
      },
      "outputs": [
        {
          "data": {
            "text/plain": [
              "140703981189184"
            ]
          },
          "execution_count": 79,
          "metadata": {},
          "output_type": "execute_result"
        }
      ],
      "source": [
        "id(a)"
      ]
    },
    {
      "cell_type": "code",
      "execution_count": null,
      "metadata": {
        "id": "JpLq6U-XFczM"
      },
      "outputs": [],
      "source": [
        "a=20"
      ]
    },
    {
      "cell_type": "code",
      "execution_count": null,
      "metadata": {
        "id": "4BeKgUfrFczM",
        "outputId": "cda75ff0-e019-405f-91ca-c5e5b9d82eb2"
      },
      "outputs": [
        {
          "data": {
            "text/plain": [
              "140703981189504"
            ]
          },
          "execution_count": 81,
          "metadata": {},
          "output_type": "execute_result"
        }
      ],
      "source": [
        "id(20)"
      ]
    },
    {
      "cell_type": "code",
      "execution_count": null,
      "metadata": {
        "id": "MXd-wwVMFczN"
      },
      "outputs": [],
      "source": [
        "a=30"
      ]
    },
    {
      "cell_type": "code",
      "execution_count": null,
      "metadata": {
        "id": "13L7j87HFczN",
        "outputId": "db9182f0-c31d-4250-deae-260f4d1e305b"
      },
      "outputs": [
        {
          "data": {
            "text/plain": [
              "140703981189824"
            ]
          },
          "execution_count": 84,
          "metadata": {},
          "output_type": "execute_result"
        }
      ],
      "source": [
        "id(a)"
      ]
    },
    {
      "cell_type": "code",
      "execution_count": null,
      "metadata": {
        "id": "siGpQmmTFczN"
      },
      "outputs": [],
      "source": [
        "a=\"sunny\""
      ]
    },
    {
      "cell_type": "code",
      "execution_count": null,
      "metadata": {
        "id": "NZ3tgRrZFczO"
      },
      "outputs": [],
      "source": [
        "b=\"sudhanshu\""
      ]
    },
    {
      "cell_type": "code",
      "execution_count": null,
      "metadata": {
        "id": "NsYaSNpVFczO",
        "outputId": "512e0462-6d3f-4223-c7ee-e86a7935bafc"
      },
      "outputs": [
        {
          "data": {
            "text/plain": [
              "False"
            ]
          },
          "execution_count": 87,
          "metadata": {},
          "output_type": "execute_result"
        }
      ],
      "source": [
        "a is b"
      ]
    },
    {
      "cell_type": "code",
      "execution_count": null,
      "metadata": {
        "id": "YdPrt3tEFczO",
        "outputId": "1cca5c07-accb-4123-aac6-7894ede7be87"
      },
      "outputs": [
        {
          "data": {
            "text/plain": [
              "2130760172912"
            ]
          },
          "execution_count": 88,
          "metadata": {},
          "output_type": "execute_result"
        }
      ],
      "source": [
        "id(a)"
      ]
    },
    {
      "cell_type": "code",
      "execution_count": null,
      "metadata": {
        "id": "R6YwoTjrFczP",
        "outputId": "0efb192c-2a9d-46f1-fba1-ed088de92cd8"
      },
      "outputs": [
        {
          "data": {
            "text/plain": [
              "2130793892016"
            ]
          },
          "execution_count": 89,
          "metadata": {},
          "output_type": "execute_result"
        }
      ],
      "source": [
        "id(b)"
      ]
    },
    {
      "cell_type": "code",
      "execution_count": null,
      "metadata": {
        "id": "tcvj_oDOFczP"
      },
      "outputs": [],
      "source": [
        "a=\"ravi\""
      ]
    },
    {
      "cell_type": "code",
      "execution_count": null,
      "metadata": {
        "id": "hzJbIuHhFczP"
      },
      "outputs": [],
      "source": [
        "b=\"ravi\""
      ]
    },
    {
      "cell_type": "code",
      "execution_count": null,
      "metadata": {
        "id": "gty-vaLOFczP",
        "outputId": "a7011f39-134a-4459-daea-323a03755b69"
      },
      "outputs": [
        {
          "data": {
            "text/plain": [
              "True"
            ]
          },
          "execution_count": 92,
          "metadata": {},
          "output_type": "execute_result"
        }
      ],
      "source": [
        "a is b"
      ]
    },
    {
      "cell_type": "code",
      "execution_count": null,
      "metadata": {
        "id": "0DewwZRGFczQ",
        "outputId": "2e264209-95be-45b2-94be-5795366462ef"
      },
      "outputs": [
        {
          "data": {
            "text/plain": [
              "2130794293872"
            ]
          },
          "execution_count": 93,
          "metadata": {},
          "output_type": "execute_result"
        }
      ],
      "source": [
        "id(a)"
      ]
    },
    {
      "cell_type": "code",
      "execution_count": null,
      "metadata": {
        "id": "v_TaMIfqFczQ",
        "outputId": "f0d8844d-4817-4329-bdea-636c63369c15"
      },
      "outputs": [
        {
          "data": {
            "text/plain": [
              "2130794293872"
            ]
          },
          "execution_count": 94,
          "metadata": {},
          "output_type": "execute_result"
        }
      ],
      "source": [
        "id(b)"
      ]
    },
    {
      "cell_type": "code",
      "execution_count": null,
      "metadata": {
        "id": "A2roKAOgFczR"
      },
      "outputs": [],
      "source": [
        "a=[1,2,3,4,5]"
      ]
    },
    {
      "cell_type": "code",
      "execution_count": null,
      "metadata": {
        "id": "oqLUlRK2FczR",
        "outputId": "fcdda9ac-ef44-4b21-fd26-988c1852c66f"
      },
      "outputs": [
        {
          "data": {
            "text/plain": [
              "2130794313536"
            ]
          },
          "execution_count": 96,
          "metadata": {},
          "output_type": "execute_result"
        }
      ],
      "source": [
        "id(a)"
      ]
    },
    {
      "cell_type": "code",
      "execution_count": null,
      "metadata": {
        "id": "88IfGGbEFczS",
        "outputId": "f25d02b0-f3c9-4855-e1c8-f88ebbbc176f"
      },
      "outputs": [
        {
          "data": {
            "text/plain": [
              "list"
            ]
          },
          "execution_count": 97,
          "metadata": {},
          "output_type": "execute_result"
        }
      ],
      "source": [
        "type(a)"
      ]
    },
    {
      "cell_type": "code",
      "execution_count": null,
      "metadata": {
        "id": "niNTT9ApFczS"
      },
      "outputs": [],
      "source": [
        "a[3]=7"
      ]
    },
    {
      "cell_type": "code",
      "execution_count": null,
      "metadata": {
        "id": "P_uVLZbxFczT",
        "outputId": "d2933629-b73c-4702-9bc0-4b09cfe71c9d"
      },
      "outputs": [
        {
          "data": {
            "text/plain": [
              "[1, 2, 3, 7, 5]"
            ]
          },
          "execution_count": 99,
          "metadata": {},
          "output_type": "execute_result"
        }
      ],
      "source": [
        "a"
      ]
    },
    {
      "cell_type": "code",
      "execution_count": null,
      "metadata": {
        "id": "Zxkn9QsLFczU",
        "outputId": "00021e94-4bb3-4469-84ec-131c66c8e5fb"
      },
      "outputs": [
        {
          "data": {
            "text/plain": [
              "2130794313536"
            ]
          },
          "execution_count": 100,
          "metadata": {},
          "output_type": "execute_result"
        }
      ],
      "source": [
        "id(a)"
      ]
    },
    {
      "cell_type": "code",
      "execution_count": null,
      "metadata": {
        "id": "20FakeMCFczU"
      },
      "outputs": [],
      "source": [
        "a=42"
      ]
    },
    {
      "cell_type": "code",
      "execution_count": null,
      "metadata": {
        "id": "3n6P7COqFczV",
        "outputId": "fe9d9cf8-b394-48e8-c26b-33624001c062"
      },
      "outputs": [
        {
          "data": {
            "text/plain": [
              "140703981190208"
            ]
          },
          "execution_count": 102,
          "metadata": {},
          "output_type": "execute_result"
        }
      ],
      "source": [
        "id(a)"
      ]
    },
    {
      "cell_type": "code",
      "execution_count": null,
      "metadata": {
        "id": "a4BPxvYkFczV"
      },
      "outputs": [],
      "source": [
        "a=43"
      ]
    },
    {
      "cell_type": "code",
      "execution_count": null,
      "metadata": {
        "id": "pXAOF9hcFczV",
        "outputId": "ef0d0dd0-d27c-41d0-8933-09f5f71a0035"
      },
      "outputs": [
        {
          "data": {
            "text/plain": [
              "140703981190240"
            ]
          },
          "execution_count": 104,
          "metadata": {},
          "output_type": "execute_result"
        }
      ],
      "source": [
        "id(a)"
      ]
    },
    {
      "cell_type": "code",
      "execution_count": null,
      "metadata": {
        "id": "XKiXJW9lFczW"
      },
      "outputs": [],
      "source": [
        "tup=(1,2,3,4,5)"
      ]
    },
    {
      "cell_type": "code",
      "execution_count": null,
      "metadata": {
        "id": "FlABMhzuFczW",
        "outputId": "28c0ef4a-b530-43f0-e968-cea4fa7b3d22"
      },
      "outputs": [
        {
          "ename": "TypeError",
          "evalue": "'tuple' object does not support item assignment",
          "output_type": "error",
          "traceback": [
            "\u001b[1;31m---------------------------------------------------------------------------\u001b[0m",
            "\u001b[1;31mTypeError\u001b[0m                                 Traceback (most recent call last)",
            "\u001b[1;32m<ipython-input-106-79950056ad54>\u001b[0m in \u001b[0;36m<module>\u001b[1;34m\u001b[0m\n\u001b[1;32m----> 1\u001b[1;33m \u001b[0mtup\u001b[0m\u001b[1;33m[\u001b[0m\u001b[1;36m0\u001b[0m\u001b[1;33m]\u001b[0m\u001b[1;33m=\u001b[0m\u001b[1;36m4\u001b[0m\u001b[1;33m\u001b[0m\u001b[1;33m\u001b[0m\u001b[0m\n\u001b[0m",
            "\u001b[1;31mTypeError\u001b[0m: 'tuple' object does not support item assignment"
          ]
        }
      ],
      "source": [
        "tup[0]=4"
      ]
    },
    {
      "cell_type": "code",
      "execution_count": null,
      "metadata": {
        "id": "bcte-j_BFczW",
        "outputId": "adb5723c-ca1d-4d9f-93bf-368e90cb09b0"
      },
      "outputs": [
        {
          "data": {
            "text/plain": [
              "2130761246416"
            ]
          },
          "execution_count": 107,
          "metadata": {},
          "output_type": "execute_result"
        }
      ],
      "source": [
        "id(tup)"
      ]
    },
    {
      "cell_type": "code",
      "execution_count": null,
      "metadata": {
        "id": "hy3E4KtwFczX"
      },
      "outputs": [],
      "source": [
        "tup=(787,87348,98734985)"
      ]
    },
    {
      "cell_type": "code",
      "execution_count": null,
      "metadata": {
        "id": "dZvQhJtsFczX",
        "outputId": "e6b5dd8a-1bd5-4bcd-f373-42326f503c2d"
      },
      "outputs": [
        {
          "data": {
            "text/plain": [
              "2130793806976"
            ]
          },
          "execution_count": 109,
          "metadata": {},
          "output_type": "execute_result"
        }
      ],
      "source": [
        "id(tup)"
      ]
    },
    {
      "cell_type": "code",
      "execution_count": null,
      "metadata": {
        "id": "sjPzap_tFczY"
      },
      "outputs": [],
      "source": []
    }
  ],
  "metadata": {
    "colab": {
      "collapsed_sections": [],
      "provenance": [],
      "include_colab_link": true
    },
    "kernelspec": {
      "display_name": "Python 3",
      "language": "python",
      "name": "python3"
    },
    "language_info": {
      "codemirror_mode": {
        "name": "ipython",
        "version": 3
      },
      "file_extension": ".py",
      "mimetype": "text/x-python",
      "name": "python",
      "nbconvert_exporter": "python",
      "pygments_lexer": "ipython3",
      "version": "3.8.3"
    }
  },
  "nbformat": 4,
  "nbformat_minor": 0
}