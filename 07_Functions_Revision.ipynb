{
  "cells": [
    {
      "cell_type": "markdown",
      "metadata": {
        "id": "view-in-github",
        "colab_type": "text"
      },
      "source": [
        "<a href=\"https://colab.research.google.com/github/Sandeshjain-DS/ineuron_full_Stack_ds/blob/main/07_Functions_Revision.ipynb\" target=\"_parent\"><img src=\"https://colab.research.google.com/assets/colab-badge.svg\" alt=\"Open In Colab\"/></a>"
      ]
    },
    {
      "cell_type": "markdown",
      "metadata": {
        "id": "QBZVPYVIQ5q5"
      },
      "source": [
        "<img src=\"https://d24cdstip7q8pz.cloudfront.net/t/ineuron1/content/common/images/final%20logo.png\" height=60 alt-text=\"iNeuron.ai logo\">"
      ]
    },
    {
      "cell_type": "markdown",
      "metadata": {
        "id": "MX21FkKmE7ZF"
      },
      "source": [
        "- What Is A Function ?\n",
        "\n",
        "- Function V/s Method\n",
        "\n",
        "- Steps Required For Developing User Defined Function and Calling that Function\n",
        "\n",
        "- Returning Values From Function\n",
        "\n",
        "- Arguments V/s Parameters\n",
        "\n",
        "- Types Of Arguments\n",
        "\n",
        "- Variable Scope\n",
        "\n",
        "- Local Scope\n",
        "\n",
        "- Global Scope\n",
        "\n",
        "- Argument Passing\n",
        "\n",
        "- Anonymous Functions OR Lambda Function\n",
        "\n",
        "- The map( ) Function\n",
        "\n",
        "- The filter( ) Function\n",
        "\n",
        "- Using map( ) and filter( ) with Lambda Expressions\n"
      ]
    },
    {
      "cell_type": "markdown",
      "metadata": {
        "id": "vT4GIszkI4_H"
      },
      "source": [
        "## 07 Functions\n",
        "\n",
        "- **Definition**: Function are nothing but a block of code which performs a specific task and can be called again and again as per requirement in the code.\n",
        "- A generic way to write a simple function is shown below-\n",
        "```python\n",
        "def function_name():\n",
        "    # function body starts\n",
        "    pass\n",
        "    # function body ends\n",
        "# calling function in the code -\n",
        "function_name() \n",
        "```\n",
        "\n",
        "- **DRY**: It stands for **D**o not **R**epeat **Y**ourself. It means that a good generally should not contain repeated blocks of code. So if you observe in your code repeatition of certain lines of code then you can also make it a function and call as per your requirement. Let's see an example below-"
      ]
    },
    {
      "cell_type": "markdown",
      "metadata": {
        "id": "8fvQMOEhhRxA"
      },
      "source": [
        "### 7.1 A simple function definition\n",
        "**EXAMPLE:**"
      ]
    },
    {
      "cell_type": "code",
      "execution_count": null,
      "metadata": {
        "id": "D3UIkgvfIcnc"
      },
      "outputs": [],
      "source": [
        "def function_name():\n",
        "    # function body starts\n",
        "    pass\n",
        "    # function body ends\n",
        "\n",
        "# calling function in the code -\n",
        "function_name() "
      ]
    },
    {
      "cell_type": "markdown",
      "metadata": {
        "id": "YKENVJ23jQBW"
      },
      "source": [
        "**EXAMPLE:**"
      ]
    },
    {
      "cell_type": "code",
      "execution_count": null,
      "metadata": {
        "id": "_fn4N0q6ilXw"
      },
      "outputs": [],
      "source": [
        "def greetings():\n",
        "    print(\"Hi there from iNeuron\")\n",
        "\n",
        "# calling greeting function in the code -\n",
        "greetings() "
      ]
    },
    {
      "cell_type": "markdown",
      "metadata": {
        "id": "5dCMlQemuQgP"
      },
      "source": [
        "- We can also pass some values to the function. These values are known as arguments.A function can have following kind of arguments -\n",
        "    - 1. Key word arguments: Here we define the name of arguments"
      ]
    },
    {
      "cell_type": "markdown",
      "metadata": {
        "id": "zVRSSqeRjcq3"
      },
      "source": [
        "**EXAMPLE**:\n",
        "Observe the below code from Expressions, Operators, and Precedence Chapter- "
      ]
    },
    {
      "cell_type": "code",
      "execution_count": null,
      "metadata": {
        "id": "ZD9AXQoJjN3K"
      },
      "outputs": [],
      "source": [
        "# Block One\n",
        "BIKE = True\n",
        "CAR = True\n",
        "TRAVEL_100_KM = BIKE or CAR\n",
        "\n",
        "print(f\"You have BIKE: {BIKE}\")\n",
        "print(f\"You have CAR: {CAR}\")\n",
        "print(f\"You can travel 100 KMs: {TRAVEL_100_KM}\\n\")\n",
        "\n",
        "\n",
        "# Block Two\n",
        "BIKE = True\n",
        "CAR = False\n",
        "TRAVEL_100_KM = BIKE or CAR\n",
        "\n",
        "print(f\"You have BIKE: {BIKE}\")\n",
        "print(f\"You have CAR: {CAR}\")\n",
        "print(f\"You can travel 100 KMs: {TRAVEL_100_KM}\\n\")\n",
        "\n",
        "# Block Three\n",
        "BIKE = False\n",
        "CAR = True\n",
        "TRAVEL_100_KM = BIKE or CAR\n",
        "\n",
        "print(f\"You have BIKE: {BIKE}\")\n",
        "print(f\"You have CAR: {CAR}\")\n",
        "print(f\"You can travel 100 KMs: {TRAVEL_100_KM}\\n\")\n",
        "\n",
        "# Block Four\n",
        "BIKE = False\n",
        "CAR = False\n",
        "TRAVEL_100_KM = BIKE or CAR\n",
        "\n",
        "print(f\"You have BIKE: {BIKE}\")\n",
        "print(f\"You have CAR: {CAR}\")\n",
        "print(f\"You can travel 100 KMs: {TRAVEL_100_KM}\\n\")"
      ]
    },
    {
      "cell_type": "markdown",
      "metadata": {
        "id": "gqaG1lkFvDal"
      },
      "source": [
        "**EXAMPLE**:\n",
        "So above codes are repetetive. Now lets observe the below code which will give the same results as shown above but in avery less line of code. -"
      ]
    },
    {
      "cell_type": "code",
      "execution_count": null,
      "metadata": {
        "id": "ZZc_2LFCvCQ4"
      },
      "outputs": [],
      "source": [
        "def travel_or_not(BIKE, CAR):\n",
        "    TRAVEL_100_KM = BIKE or CAR\n",
        "\n",
        "    print(f\"You have BIKE: {BIKE}\")\n",
        "    print(f\"You have CAR: {CAR}\")\n",
        "    print(f\"You can travel 100 KMs: {TRAVEL_100_KM}\\n\")\n",
        "\n",
        "travel_or_not(False, False)\n",
        "\n",
        "travel_or_not(False, True)\n",
        "\n",
        "travel_or_not(True, False)\n",
        "\n",
        "travel_or_not(True, True)\n"
      ]
    },
    {
      "cell_type": "markdown",
      "metadata": {
        "id": "OVLcxCoxv8Sk"
      },
      "source": [
        "**EXAMPLE**:\n",
        "Lets make it more concise using a for loop and remove the repetition-"
      ]
    },
    {
      "cell_type": "code",
      "execution_count": null,
      "metadata": {
        "id": "jT2_Zy-Kvt2N"
      },
      "outputs": [],
      "source": [
        "def travel_or_not(BIKE, CAR):\n",
        "    TRAVEL_100_KM = BIKE or CAR\n",
        "\n",
        "    print(f\"You have BIKE: {BIKE}\")\n",
        "    print(f\"You have CAR: {CAR}\")\n",
        "    print(f\"You can travel 100 KMs: {TRAVEL_100_KM}\\n\")\n",
        "    \n",
        "BIKE = [False, False, True, True]\n",
        "CAR = [False, True,False, True]\n",
        "\n",
        "for bike, car in zip(BIKE, CAR):\n",
        "    travel_or_not(bike, car)"
      ]
    },
    {
      "cell_type": "markdown",
      "metadata": {
        "id": "4If023q33yuz"
      },
      "source": [
        "### 7.2 Default Arguments\n",
        "\n",
        "**EXAMPLE**:\n",
        "Let's see a different varient of above code. You can also define a default value of the arguments which will be utilized when no argument is passed. as shown below -\n"
      ]
    },
    {
      "cell_type": "code",
      "execution_count": null,
      "metadata": {
        "id": "3UQLjrUdwf3R"
      },
      "outputs": [],
      "source": [
        "def travel_or_not(BIKE=True, CAR=False):\n",
        "    TRAVEL_100_KM = BIKE or CAR\n",
        "\n",
        "    print(f\"You have BIKE: {BIKE}\")\n",
        "    print(f\"You have CAR: {CAR}\")\n",
        "    print(f\"You can travel 100 KMs: {TRAVEL_100_KM}\\n\")\n",
        "\n",
        "\n",
        "travel_or_not()"
      ]
    },
    {
      "cell_type": "code",
      "execution_count": null,
      "metadata": {
        "id": "dw1mX_Z94jEW"
      },
      "outputs": [],
      "source": [
        "def travel_or_not(BIKE=True, CAR=False):\n",
        "    TRAVEL_100_KM = BIKE or CAR\n",
        "\n",
        "    print(f\"You have BIKE: {BIKE}\")\n",
        "    print(f\"You have CAR: {CAR}\")\n",
        "    print(f\"You can travel 100 KMs: {TRAVEL_100_KM}\\n\")\n",
        "\n",
        "\n",
        "travel_or_not(False, True) # overriding the default arguments value by passing our value"
      ]
    },
    {
      "cell_type": "markdown",
      "metadata": {
        "id": "cFcCwhWa46rk"
      },
      "source": [
        "**EXAMPLE**: \n",
        "Here ```None``` gets printed if we try to print the ouput of the given function because it is not returning any value. Its just printing ther results."
      ]
    },
    {
      "cell_type": "code",
      "execution_count": null,
      "metadata": {
        "id": "nPMWsQTu410Z"
      },
      "outputs": [],
      "source": [
        "result = travel_or_not(False, True)\n",
        "print(f\"\\nresults:-\\n{result}\")"
      ]
    },
    {
      "cell_type": "markdown",
      "metadata": {
        "id": "O1BzNPzw4Wf_"
      },
      "source": [
        "### 7.3 Return statement\n",
        "\n",
        "**EXAMPLE**:\n",
        "In some cases you'd like to return some value from a function. So for that we use a return keyword to return the results as show below-"
      ]
    },
    {
      "cell_type": "code",
      "execution_count": null,
      "metadata": {
        "id": "yO8X2hwM4K_E"
      },
      "outputs": [],
      "source": [
        "def travel_or_not(BIKE=True, CAR=False):\n",
        "    TRAVEL_100_KM = BIKE or CAR\n",
        "\n",
        "    print(f\"You have BIKE: {BIKE}\")\n",
        "    print(f\"You have CAR: {CAR}\")\n",
        "    return f\"You can travel 100 KMs: {TRAVEL_100_KM}\\n\"\n",
        "\n",
        "\n",
        "result = travel_or_not(False, True)\n",
        "print(f\"\\nresults:-\\n{result}\")"
      ]
    },
    {
      "cell_type": "markdown",
      "metadata": {
        "id": "49sCSt0a6FeZ"
      },
      "source": [
        "**EXAMPLE**:\n",
        "You can also return multiple values as show below -"
      ]
    },
    {
      "cell_type": "code",
      "execution_count": null,
      "metadata": {
        "id": "RKkSF4954fxV"
      },
      "outputs": [],
      "source": [
        "def travel_or_not(BIKE=True, CAR=False):\n",
        "    TRAVEL_100_KM = BIKE or CAR\n",
        "\n",
        "    return BIKE, CAR, TRAVEL_100_KM\n",
        "\n",
        "\n",
        "result1, result2, result3 = travel_or_not(False, True)\n",
        "print(f\"You have BIKE: {result1}\")\n",
        "print(f\"You have CAR: {result2}\")\n",
        "print(f\"You can travel 100 KMs: {result3}\\n\")"
      ]
    },
    {
      "cell_type": "markdown",
      "metadata": {
        "id": "LwhQ3ZkXbghp"
      },
      "source": [
        "### 7.4 Variable length args\n",
        "\n",
        "**EXAMPLE**:\n",
        "At some point there may be chance that you don't know how many args that you should pass. Lets check the example below -"
      ]
    },
    {
      "cell_type": "code",
      "execution_count": null,
      "metadata": {
        "id": "nm2ZWbb76wlF"
      },
      "outputs": [],
      "source": [
        "def branch_and_subjects_in_graduation(*args, branch):\n",
        "    print(f\"My branch was {branch}\")\n",
        "    return f\"I liked these subjects in graduation {args}\"\n",
        "\n",
        "results = branch_and_subjects_in_graduation(\"Digital Image Processing\", \"Microprocessor\", branch=\"Electronics engineering\")\n",
        "print(results)"
      ]
    },
    {
      "cell_type": "code",
      "execution_count": null,
      "metadata": {
        "id": "BllrZmthE7Zt"
      },
      "outputs": [],
      "source": [
        "def test(*args):\n",
        "    print(args)\n",
        "test(10,20,30,40,50)"
      ]
    },
    {
      "cell_type": "code",
      "execution_count": null,
      "metadata": {
        "id": "NXXxJmi8cLUR"
      },
      "outputs": [],
      "source": [
        "def branch_and_subjects_in_graduation(*args, branch=\"Electronics engineering\"):\n",
        "    print(f\"My branch was {branch}\")\n",
        "    return f\"I liked these subjects in graduation {args}\"\n",
        "\n",
        "results = branch_and_subjects_in_graduation(\"Digital Image Processing\", \"Microprocessor\")\n",
        "print(results)"
      ]
    },
    {
      "cell_type": "markdown",
      "metadata": {
        "id": "Dh0d8gc9KEj2"
      },
      "source": [
        "### 7.5 Variable length keyword args\n",
        "\n",
        "**EXAMPLE**:\n",
        "Some times we need varying keyword arguments as shown below-"
      ]
    },
    {
      "cell_type": "code",
      "execution_count": null,
      "metadata": {
        "id": "-eAm8jZXd3NH"
      },
      "outputs": [],
      "source": [
        "def marks_in_subjects_of_semester(**kwargs):\n",
        "    print(kwargs)\n",
        "\n",
        "marks_in_subjects_of_semester(Digital_Image_Processing = 78, Microprocessor= 79, Signals_and_systems=83)"
      ]
    },
    {
      "cell_type": "code",
      "execution_count": null,
      "metadata": {
        "id": "OXbCLKGLE7Zv"
      },
      "outputs": [],
      "source": [
        "def test1(**kwargs):\n",
        "    print(kwargs)"
      ]
    },
    {
      "cell_type": "code",
      "execution_count": null,
      "metadata": {
        "id": "dTVDRm4LE7Zv"
      },
      "outputs": [],
      "source": [
        "test1(a=10,b=20,c=30,d=40)"
      ]
    },
    {
      "cell_type": "code",
      "execution_count": null,
      "metadata": {
        "id": "-4wfEO0-E7Zw"
      },
      "outputs": [],
      "source": [
        "A=[]\n",
        "B=()\n"
      ]
    },
    {
      "cell_type": "code",
      "execution_count": null,
      "metadata": {
        "id": "U0Qp8F3TKxA8"
      },
      "outputs": [],
      "source": [
        "def marks_in_subjects_of_semester(**kwargs):\n",
        "    for subject, marks in kwargs.items():\n",
        "        print(f\"Score in {subject} = {marks}\")\n",
        "\n",
        "marks_in_subjects_of_semester(Digital_Image_Processing = 78, Microprocessor= 79, Signals_and_systems=83)"
      ]
    },
    {
      "cell_type": "markdown",
      "metadata": {
        "id": "zGhIjY4wLPdO"
      },
      "source": [
        "### 7.6 Functions inside functions -\n",
        "**EXAMPLE**:"
      ]
    },
    {
      "cell_type": "code",
      "execution_count": null,
      "metadata": {
        "id": "Gj8AiIstLDsd"
      },
      "outputs": [],
      "source": [
        "def marks_in_subjects_of_semester(**kwargs):\n",
        "    def total_marks(marks_list):\n",
        "        return sum(marks_list)\n",
        "    \n",
        "    marks_list = list()\n",
        "    for subject, marks in kwargs.items():\n",
        "        marks_list.append(marks)\n",
        "        print(f\"Score in {subject} = {marks}\")\n",
        "    \n",
        "    return total_marks(marks_list)\n",
        "\n",
        "results = marks_in_subjects_of_semester(Digital_Image_Processing = 78, Microprocessor= 79, Signals_and_systems=83)\n",
        "\n",
        "print(f\"\\ntotal marks obtained {results}\")"
      ]
    },
    {
      "cell_type": "markdown",
      "metadata": {
        "id": "1fPdPbr2arGm"
      },
      "source": [
        "### 7.7 Anonymous Function or Lambda Function\n",
        "\n",
        "**EXAMPLE**: Lets convert below example into a onliner or lambda function"
      ]
    },
    {
      "cell_type": "markdown",
      "metadata": {
        "id": "t0t-QK1KbIqB"
      },
      "source": [
        "```python\n",
        "def travel_or_not(BIKE=True, CAR=False):\n",
        "    TRAVEL_100_KM = BIKE or CAR\n",
        "\n",
        "    print(f\"You have BIKE: {BIKE}\")\n",
        "    print(f\"You have CAR: {CAR}\")\n",
        "    return f\"You can travel 100 KMs: {TRAVEL_100_KM}\\n\"\n",
        "\n",
        "\n",
        "result = travel_or_not(False, True)\n",
        "print(f\"\\nresults:-\\n{result}\")\n",
        "```"
      ]
    },
    {
      "cell_type": "code",
      "execution_count": null,
      "metadata": {
        "id": "H7NOHoK2O9Xl"
      },
      "outputs": [],
      "source": [
        "BIKE=True\n",
        "CAR=False\n",
        "\n",
        "result = lambda BIKE, CAR: f\"You can travel 100 KMs: {BIKE or CAR}\\n\"\n",
        "print(f\"\\nresults:-\\n{result(BIKE, CAR)}\")"
      ]
    },
    {
      "cell_type": "markdown",
      "metadata": {
        "id": "km5laIO9b85P"
      },
      "source": [
        "**EXAMPLE**\n",
        "Lets make a lambda function that returns power of an input no. It takes power and number as an input"
      ]
    },
    {
      "cell_type": "code",
      "execution_count": null,
      "metadata": {
        "id": "2OCQhMhwbuaT"
      },
      "outputs": [],
      "source": [
        "number = 5\n",
        "power = 3\n",
        "result = lambda number, power: number**power\n",
        "\n",
        "print(f\"{number} to the power of {power} is {result(number, power)}\")"
      ]
    },
    {
      "cell_type": "markdown",
      "metadata": {
        "id": "tW65_zyDc1Wg"
      },
      "source": [
        "### 7.8 Scope of variables\n",
        "* Variables defined inside the function are known as Local variable\n",
        "\n",
        "* Global varaibles can be accessed anywhere in the script unlike local variable who's scope is defined within the function only. \n",
        "\n",
        "**EXAMPLE**"
      ]
    },
    {
      "cell_type": "code",
      "execution_count": null,
      "metadata": {
        "id": "oRjEhhrack15"
      },
      "outputs": [],
      "source": [
        "result = 0 # outside the scope of function\n",
        "\n",
        "def divide(numerator, denominator):\n",
        "    result = numerator//denominator # result inside the scope of function\n",
        "    print(f\"result after division inside the function: {result}\")\n",
        "\n",
        "numerator = 625\n",
        "denominator = 5\n",
        "divide(numerator, denominator)\n",
        "\n",
        "print(f\"result after division outside the function: {result}\")"
      ]
    },
    {
      "cell_type": "markdown",
      "metadata": {
        "id": "_97TSpl0f-FO"
      },
      "source": [
        "### 7.9 Docstring\n",
        "\n",
        "```python\n",
        "def function():\n",
        "    \"\"\"\n",
        "    This is docstring of the function.\n",
        "    \"\"\"\n",
        "    pass\n",
        "```\n",
        "**EXAMPLE**"
      ]
    },
    {
      "cell_type": "code",
      "execution_count": null,
      "metadata": {
        "id": "Nx8xFCzHgLng"
      },
      "outputs": [],
      "source": [
        "def find_power(number, power):\n",
        "    \"\"\"This function returns the power of the number\n",
        "\n",
        "    Args:\n",
        "        number (int): insert any integer value\n",
        "        power (int): insert any integer value\n",
        "\n",
        "    Returns:\n",
        "        integer: power of number\n",
        "    \"\"\"\n",
        "    return number**power\n",
        "\n",
        "number = 5\n",
        "power = 3\n",
        "result = find_power(number, power)\n",
        "\n",
        "print(f\"{number} to the power of {power} is {result}\")"
      ]
    },
    {
      "cell_type": "code",
      "execution_count": null,
      "metadata": {
        "id": "MfrP3JG4heUu"
      },
      "outputs": [],
      "source": [
        "# This prints the docstring.\n",
        "# Its very good practice to write the docstring of very important function\n",
        "# It imroves code readabilty\n",
        "help(find_power)"
      ]
    },
    {
      "cell_type": "markdown",
      "metadata": {
        "id": "WPnbWoK3E7Z5"
      },
      "source": [
        "FUNCTIONS\n",
        "\n",
        "## ----------------------------------------------------------------------"
      ]
    },
    {
      "cell_type": "markdown",
      "metadata": {
        "id": "3iQ61ZxOE7Z6"
      },
      "source": [
        "code re-usability. "
      ]
    },
    {
      "cell_type": "markdown",
      "metadata": {
        "id": "eNhynolDE7Z6"
      },
      "source": [
        "To create and use a function we have to take 2 steps:\n",
        "\n",
        "\n",
        "Function Definition: Creating or writing the body of a function is called defining it. It contains the set of statements we want to run , when the function execute.\n",
        "\n",
        "Function Call: A function never runs automatically . So to execute it’s statements we must call it\n"
      ]
    },
    {
      "cell_type": "code",
      "execution_count": null,
      "metadata": {
        "id": "ItXptEccE7Z7"
      },
      "outputs": [],
      "source": [
        "def function_name(param1,param2):\n",
        "    statement(s)\n"
      ]
    },
    {
      "cell_type": "markdown",
      "metadata": {
        "id": "IYP6VUc6E7Z7"
      },
      "source": [
        "### About Return Statement"
      ]
    },
    {
      "cell_type": "markdown",
      "metadata": {
        "id": "zkNXSGzIE7Z7"
      },
      "source": [
        "- Return value\n",
        "\n",
        "- Return multiple value\n",
        "\n",
        "- it will stop the execution from that line itself\n"
      ]
    },
    {
      "cell_type": "code",
      "execution_count": null,
      "metadata": {
        "id": "KKJkzGCFE7Z8"
      },
      "outputs": [],
      "source": [
        "def add(x,y):\n",
        "    a=x\n",
        "    b=y\n",
        "    c=a+b\n",
        "    #print(c)\n",
        "    mul=x*y\n",
        "    print(mul)\n",
        "    return c\n",
        "    "
      ]
    },
    {
      "cell_type": "code",
      "execution_count": null,
      "metadata": {
        "id": "QJ9XV4WFE7Z8"
      },
      "outputs": [],
      "source": [
        "add(10,20)"
      ]
    },
    {
      "cell_type": "markdown",
      "metadata": {
        "id": "1Z9ADVvJE7Z8"
      },
      "source": [
        "#### Parameter vs Argument"
      ]
    },
    {
      "cell_type": "markdown",
      "metadata": {
        "id": "iPIINvzFE7Z8"
      },
      "source": [
        "In Python , a function can have 4 types of arguments:\n",
        "\n",
        "Positional Argument\n",
        "\n",
        "Keyword Argument\n",
        "\n",
        "Default Argument\n",
        "\n",
        "Variable Length Argument\n"
      ]
    },
    {
      "cell_type": "markdown",
      "metadata": {
        "id": "ScmkG56_E7Z9"
      },
      "source": [
        "if number of argument is not matching with number of parameter then we will get a type error."
      ]
    },
    {
      "cell_type": "markdown",
      "metadata": {
        "id": "PdUCCKhEE7Z9"
      },
      "source": [
        "#### Positional Argument"
      ]
    },
    {
      "cell_type": "code",
      "execution_count": null,
      "metadata": {
        "id": "La5H3i20E7Z9"
      },
      "outputs": [],
      "source": [
        "def attach(s1,s2):\n",
        "    s3=s1+s2\n",
        "    print(\"Joined String is:\",s3)\n",
        "\n",
        "\n"
      ]
    },
    {
      "cell_type": "code",
      "execution_count": null,
      "metadata": {
        "id": "n-PJaHvnE7Z-"
      },
      "outputs": [],
      "source": [
        "attach(\"Good\",\"Evening\")"
      ]
    },
    {
      "cell_type": "code",
      "execution_count": null,
      "metadata": {
        "id": "7pXw4WfOE7Z-"
      },
      "outputs": [],
      "source": [
        "def grocery(name,price):\n",
        "    print(\"Item is\",name,\"It's price is\",price)\n",
        "\n",
        "\n"
      ]
    },
    {
      "cell_type": "code",
      "execution_count": null,
      "metadata": {
        "id": "291_i08EE7Z-"
      },
      "outputs": [],
      "source": [
        "grocery(\"Bread\",20)\n"
      ]
    },
    {
      "cell_type": "code",
      "execution_count": null,
      "metadata": {
        "id": "IRNhiTWcE7Z_"
      },
      "outputs": [],
      "source": [
        "grocery(150,\"Butter\")"
      ]
    },
    {
      "cell_type": "markdown",
      "metadata": {
        "id": "SxGkqzJ0E7Z_"
      },
      "source": [
        "#### Keyword Argument"
      ]
    },
    {
      "cell_type": "code",
      "execution_count": null,
      "metadata": {
        "id": "EjmltBCjE7Z_"
      },
      "outputs": [],
      "source": [
        "def grocery(name,price):\n",
        "    print(\"Item is\",name,\"It's price is\",price)\n",
        "\n"
      ]
    },
    {
      "cell_type": "code",
      "execution_count": null,
      "metadata": {
        "id": "i9E-mLsjE7aA"
      },
      "outputs": [],
      "source": [
        "grocery('bread',200)"
      ]
    },
    {
      "cell_type": "code",
      "execution_count": null,
      "metadata": {
        "id": "SxZvn-GnE7aA"
      },
      "outputs": [],
      "source": [
        "grocery(200,'bread')"
      ]
    },
    {
      "cell_type": "code",
      "execution_count": null,
      "metadata": {
        "id": "IUelrZOWE7aB"
      },
      "outputs": [],
      "source": [
        "grocery(name=\"Bread\",price=20)\n",
        "\n"
      ]
    },
    {
      "cell_type": "code",
      "execution_count": null,
      "metadata": {
        "id": "m4dXot3tE7aB"
      },
      "outputs": [],
      "source": [
        "grocery(price=150,name=\"Butter\")"
      ]
    },
    {
      "cell_type": "code",
      "execution_count": null,
      "metadata": {
        "id": "HZpwMVtWE7aC"
      },
      "outputs": [],
      "source": [
        "### A positional argument can never follow a keyword argument i.e. the keyword argument should always appear after positional argument\n",
        "\n",
        "###For example:\n",
        "\n",
        "\n"
      ]
    },
    {
      "cell_type": "code",
      "execution_count": null,
      "metadata": {
        "id": "BerhvjVUE7aC"
      },
      "outputs": [],
      "source": [
        "def display(num1,num2):\n",
        "    # some code\n",
        "    pass\n"
      ]
    },
    {
      "cell_type": "code",
      "execution_count": null,
      "metadata": {
        "id": "Dyld1-_uE7aD"
      },
      "outputs": [],
      "source": [
        "display(num1=10,15)"
      ]
    },
    {
      "cell_type": "code",
      "execution_count": null,
      "metadata": {
        "id": "z83JclkXE7aD"
      },
      "outputs": [],
      "source": [
        "display(15,num1=10)"
      ]
    },
    {
      "cell_type": "code",
      "execution_count": null,
      "metadata": {
        "id": "KEEKF8_OE7aD"
      },
      "outputs": [],
      "source": [
        "display(15,num2=10)"
      ]
    },
    {
      "cell_type": "code",
      "execution_count": null,
      "metadata": {
        "id": "WiU_GjAEE7aE"
      },
      "outputs": [],
      "source": [
        "def display(10,num2=15):\n",
        "    pass"
      ]
    },
    {
      "cell_type": "code",
      "execution_count": null,
      "metadata": {
        "id": "fdtE-1WUE7aE"
      },
      "outputs": [],
      "source": []
    },
    {
      "cell_type": "code",
      "execution_count": null,
      "metadata": {
        "id": "C9g0uowxE7aE"
      },
      "outputs": [],
      "source": [
        "Now if we call the above function as:\n",
        "\n",
        "\n",
        "\n",
        "Then it will be correct. But if we call it as:\n",
        "\n",
        "\n",
        "\n",
        "Then it will be a Syntax Error"
      ]
    },
    {
      "cell_type": "markdown",
      "metadata": {
        "id": "BZjWhTQXE7aF"
      },
      "source": [
        "### Default Argument"
      ]
    },
    {
      "cell_type": "markdown",
      "metadata": {
        "id": "OltCuJCuE7aG"
      },
      "source": [
        "For some functions, we may want to make some parameters optional and use default values in case the user does not want to provide values for them. \n",
        "\n",
        "This is done with the help of default argument values. \n",
        "\n",
        "We can specify default argument values for parameters by appending to the parameter name in the function definition the assignment operator (=) followed by the default value.\n",
        "\n"
      ]
    },
    {
      "cell_type": "markdown",
      "metadata": {
        "id": "piDdVzAxE7aG"
      },
      "source": [
        "#Syntax:\n",
        "def function_name(paramname1=value,paramname2=value):\n",
        "    # function body\n",
        "    pass\n"
      ]
    },
    {
      "cell_type": "code",
      "execution_count": null,
      "metadata": {
        "id": "bFovfKinE7aH"
      },
      "outputs": [],
      "source": [
        "def greet(name,msg=\"Good Morning\"):\n",
        "    print(\"Hello\",name,msg)"
      ]
    },
    {
      "cell_type": "code",
      "execution_count": null,
      "metadata": {
        "id": "7LZSyo3OE7aI"
      },
      "outputs": [],
      "source": [
        "greet(\"Sunny\")"
      ]
    },
    {
      "cell_type": "code",
      "execution_count": null,
      "metadata": {
        "id": "qTAFHFW9E7aI"
      },
      "outputs": [],
      "source": [
        "greet(\"sunny\",\"How are you?\")\n"
      ]
    },
    {
      "cell_type": "markdown",
      "metadata": {
        "id": "Cz1IuTqvE7aI"
      },
      "source": [
        "A function can have any number of default arguments but t once we have a default argument, all the arguments to it’s right must also have default values.\n",
        "\n",
        "\n",
        "This means to say, non-default arguments cannot follow default arguments.\n"
      ]
    },
    {
      "cell_type": "code",
      "execution_count": null,
      "metadata": {
        "id": "Mu25MdtvE7aI"
      },
      "outputs": [],
      "source": [
        "\n",
        "def greet(msg = \"Good morning!\", name):\n",
        "    pass"
      ]
    },
    {
      "cell_type": "code",
      "execution_count": null,
      "metadata": {
        "id": "sbc8tqYVE7aJ"
      },
      "outputs": [],
      "source": [
        "For example:  if we had defined the function header above as:\n",
        "\n",
        "def greet(msg = \"Good morning!\", name):\n",
        "\n",
        "Then we would have got the following SyntaxError\n"
      ]
    },
    {
      "cell_type": "code",
      "execution_count": null,
      "metadata": {
        "id": "F0WmivJqE7aJ"
      },
      "outputs": [],
      "source": [
        "def show(a=10,b=20,c=30):\n",
        "    print(a,b,c)\n"
      ]
    },
    {
      "cell_type": "markdown",
      "metadata": {
        "id": "Z-CyNw4mE7aK"
      },
      "source": [
        "### Excercise\n",
        "\n",
        "Write a function called cal_area( ) using default argument concept which accepts radius and pi as arguments and calculates and displays area of the Circle. The value of pi should be used as default argument and value of radius should be accepted from the user\n"
      ]
    },
    {
      "cell_type": "markdown",
      "metadata": {
        "id": "HZRwui16E7aK"
      },
      "source": [
        "### Function or Method Overloading\n"
      ]
    },
    {
      "cell_type": "markdown",
      "metadata": {
        "id": "mpJs-pjjE7aK"
      },
      "source": [
        "Method Overloading is an example of Compile time polymorphism.In this, more than one method of the same class shares the same method name having different parameters.If a class has multiple methods having same name but different in parameters, it is known as Method Overloading.\n",
        "\n",
        "Note: Python does not support method overloading. We may overload the methods but can only use the latest defined method."
      ]
    },
    {
      "cell_type": "code",
      "execution_count": null,
      "metadata": {
        "id": "At1apSpNE7aK"
      },
      "outputs": [],
      "source": [
        "def addnos(a,b):\n",
        "    c=a+b\n",
        "    return c\n"
      ]
    },
    {
      "cell_type": "code",
      "execution_count": null,
      "metadata": {
        "id": "c3oAodPeE7aK"
      },
      "outputs": [],
      "source": [
        "def addnos(a,b,c):\n",
        "    d=a+b+c\n",
        "    return d   \n"
      ]
    },
    {
      "cell_type": "code",
      "execution_count": null,
      "metadata": {
        "id": "IO6i_27CE7aL"
      },
      "outputs": [],
      "source": [
        "def addnos(a,b,c,d):\n",
        "    d=a+b+c+d\n",
        "    return d  "
      ]
    },
    {
      "cell_type": "code",
      "execution_count": null,
      "metadata": {
        "id": "6Skih6euE7aL"
      },
      "outputs": [],
      "source": [
        "addnos(10,20,30,40)"
      ]
    },
    {
      "cell_type": "code",
      "execution_count": null,
      "metadata": {
        "id": "n-EwWYn6E7aL"
      },
      "outputs": [],
      "source": [
        "print(addnos(10,20))\n",
        "\n"
      ]
    },
    {
      "cell_type": "code",
      "execution_count": null,
      "metadata": {
        "id": "EQj6R3JuE7aL"
      },
      "outputs": [],
      "source": [
        "print(addnos(10,20,30)) "
      ]
    },
    {
      "cell_type": "markdown",
      "metadata": {
        "id": "hZvna3HpE7aM"
      },
      "source": [
        "The error occurred because Python does not support Function or Method Overloading\n",
        "\n",
        "Moreover Python understands the latest definition of a function addnos( ) which takes 3 arguments \n",
        "\n",
        "Now since we passed 2 arguments only , the call generated error because Python tried to call the method with 3 arguments\n"
      ]
    },
    {
      "cell_type": "markdown",
      "metadata": {
        "id": "C6dtUcS0E7aM"
      },
      "source": [
        "### Variable Length Arguments"
      ]
    },
    {
      "cell_type": "markdown",
      "metadata": {
        "id": "3ph0OOFmE7aM"
      },
      "source": [
        "The solution to this problem is a technique called variable length arguments\n",
        "\n",
        "\n",
        "\n",
        "\n",
        "In this technique , we define the function in such a way that it can accept any number of arguments from 0 to infinite\n"
      ]
    },
    {
      "cell_type": "code",
      "execution_count": null,
      "metadata": {
        "id": "g_tdqOTGE7aN"
      },
      "outputs": [],
      "source": [
        "def test(**sunny):\n",
        "    print(sunny)\n",
        "    print(type(sunny))"
      ]
    },
    {
      "cell_type": "code",
      "execution_count": null,
      "metadata": {
        "id": "zl5TH6KfE7aN"
      },
      "outputs": [],
      "source": [
        "test(10)"
      ]
    },
    {
      "cell_type": "code",
      "execution_count": null,
      "metadata": {
        "id": "qPLYEav1E7aN"
      },
      "outputs": [],
      "source": [
        "test(10,20)"
      ]
    },
    {
      "cell_type": "code",
      "execution_count": null,
      "metadata": {
        "id": "NJzzhjbFE7aN"
      },
      "outputs": [],
      "source": [
        "test(10,20,30)"
      ]
    },
    {
      "cell_type": "code",
      "execution_count": null,
      "metadata": {
        "id": "KLTadM-zE7aO"
      },
      "outputs": [],
      "source": [
        "def addnos(*a):\n",
        "    sum =0\n",
        "    for x in a:\n",
        "        sum=sum+x\n",
        "    return sum\n",
        "\n"
      ]
    },
    {
      "cell_type": "code",
      "execution_count": null,
      "metadata": {
        "id": "i9w86loAE7aO"
      },
      "outputs": [],
      "source": [
        "print(addnos(10,20))\n",
        "print(addnos(10,20,30)) \n",
        "print(addnos(10,20,30,40)) "
      ]
    },
    {
      "cell_type": "code",
      "execution_count": null,
      "metadata": {
        "id": "ajNt1ZKWE7aO"
      },
      "outputs": [],
      "source": [
        "type(10)"
      ]
    },
    {
      "cell_type": "code",
      "execution_count": null,
      "metadata": {
        "id": "VxQZBzZcE7aO"
      },
      "outputs": [],
      "source": [
        "type((10))"
      ]
    },
    {
      "cell_type": "code",
      "execution_count": null,
      "metadata": {
        "id": "gmgvOY_qE7aP"
      },
      "outputs": [],
      "source": [
        "type((10,))"
      ]
    },
    {
      "cell_type": "markdown",
      "metadata": {
        "id": "prWqRG5VE7aP"
      },
      "source": [
        "### Method Overriding"
      ]
    },
    {
      "cell_type": "markdown",
      "metadata": {
        "id": "l_yO20B-E7aP"
      },
      "source": [
        "Method overriding is an ability of any object-oriented programming language that allows a subclass or child class to provide a specific implementation of a method that is already provided by one of its super-classes or parent classes."
      ]
    },
    {
      "cell_type": "markdown",
      "metadata": {
        "id": "0E-j5VBGE7aP"
      },
      "source": [
        "![image.png](attachment:image.png)"
      ]
    },
    {
      "cell_type": "code",
      "execution_count": null,
      "metadata": {
        "id": "csBCd5EeE7aQ"
      },
      "outputs": [],
      "source": [
        "# Defining parent class\n",
        "class Animal():\n",
        "      \n",
        "    # Constructor\n",
        "    def __init__(self):\n",
        "        self.value = \"Inside Parent\"\n",
        "          \n",
        "    # Parent's show method\n",
        "    def show(self):\n",
        "        print(self.value)\n",
        "    \n",
        "    def eat(self):\n",
        "        pass"
      ]
    },
    {
      "cell_type": "code",
      "execution_count": null,
      "metadata": {
        "id": "rOM1O6q_E7aQ"
      },
      "outputs": [],
      "source": [
        "# Defining child class\n",
        "class Dog(Animal):\n",
        "      \n",
        "    # Constructor\n",
        "    def __init__(self):\n",
        "        self.value = \"Inside Child\"\n",
        "          \n",
        "    # Child's show method\n",
        "    def show(self):\n",
        "        print(self.value)\n",
        "    \n",
        "    def eat(self):\n",
        "        pass"
      ]
    },
    {
      "cell_type": "code",
      "execution_count": null,
      "metadata": {
        "id": "EdN9tOMtE7aQ"
      },
      "outputs": [],
      "source": [
        "# Driver's code\n",
        "obj1 = Parent()\n",
        "obj2 = Child()\n",
        "  \n",
        "obj1.show()\n",
        "obj2.show()"
      ]
    },
    {
      "cell_type": "code",
      "execution_count": null,
      "metadata": {
        "id": "V9thIZ9GE7aQ"
      },
      "outputs": [],
      "source": []
    },
    {
      "cell_type": "markdown",
      "metadata": {
        "id": "C4ZA379vE7aQ"
      },
      "source": [
        "### Exercise\n",
        "Write a function called find_largest( ) which accepts multiple strings as argument and returns the length of the largest string\n"
      ]
    },
    {
      "cell_type": "code",
      "execution_count": null,
      "metadata": {
        "id": "a7z9GDQLE7aR"
      },
      "outputs": [],
      "source": [
        "### A function cannot have 2 variable length arguments. So the following is wrong:\n",
        "\n",
        "def addnos(*a,*b):\n",
        "    pass\n"
      ]
    },
    {
      "cell_type": "code",
      "execution_count": null,
      "metadata": {
        "id": "r6pJwxxpE7aR"
      },
      "outputs": [],
      "source": [
        "#If we have any other argument along with variable length argument , then it should be set before the variable length argument\n",
        "def addnos(n,*a):\n",
        "    sum =n\n",
        "    print(n)\n",
        "    print(a)\n",
        "    for x in a:\n",
        "        sum=sum+x\n",
        "    return sum\n"
      ]
    },
    {
      "cell_type": "code",
      "execution_count": null,
      "metadata": {
        "id": "16-pU4nAE7aR"
      },
      "outputs": [],
      "source": [
        "print(addnos(10,20,30))"
      ]
    },
    {
      "cell_type": "code",
      "execution_count": null,
      "metadata": {
        "id": "OrjuiuzzE7aR"
      },
      "outputs": [],
      "source": [
        "\n",
        "print(addnos(10,20,30,40))"
      ]
    },
    {
      "cell_type": "code",
      "execution_count": null,
      "metadata": {
        "id": "Rrq6mb9kE7aS"
      },
      "outputs": [],
      "source": [
        "#If we set the other argument used with variable length argument , after the variable length argument then while calling it , we must pass it as keyword argument\n",
        "\n",
        "def addnos(*a,n):\n",
        "    print(a)\n",
        "    print(n)\n",
        "    sum =n\n",
        "    for x in a:\n",
        "        sum=sum+x\n",
        "    return sum\n"
      ]
    },
    {
      "cell_type": "code",
      "execution_count": null,
      "metadata": {
        "id": "rk0WpbXaE7aS"
      },
      "outputs": [],
      "source": [
        "addnos(20,30,n=40)"
      ]
    },
    {
      "cell_type": "code",
      "execution_count": null,
      "metadata": {
        "id": "uQFbzMhYE7aS"
      },
      "outputs": [],
      "source": [
        "print(addnos(20,30,n=10))"
      ]
    },
    {
      "cell_type": "code",
      "execution_count": null,
      "metadata": {
        "id": "Q91E4i-zE7aS"
      },
      "outputs": [],
      "source": [
        "\n",
        "print(addnos(20,30,40,n=10))"
      ]
    },
    {
      "cell_type": "markdown",
      "metadata": {
        "id": "HztFzfIkE7aT"
      },
      "source": [
        "## User Defined Functions\n",
        "\n",
        "Variable Scope\n",
        "\n",
        "Local Scope\n",
        "\n",
        "Global Scope\n",
        "\n",
        "Argument Passing\n"
      ]
    },
    {
      "cell_type": "code",
      "execution_count": null,
      "metadata": {
        "id": "K22IOlWNE7aT"
      },
      "outputs": [],
      "source": [
        "Local : Inside a function body\n",
        "Enclosing: Inside an outer function’s body . We will discuss it later\n",
        "Global: At the module level\n",
        "Built In: At the interpreter level\n"
      ]
    },
    {
      "cell_type": "code",
      "execution_count": null,
      "metadata": {
        "id": "_eap4NMdE7aU"
      },
      "outputs": [],
      "source": []
    },
    {
      "cell_type": "code",
      "execution_count": null,
      "metadata": {
        "id": "7yOoUfejE7aU"
      },
      "outputs": [],
      "source": [
        "s = \"I love Python\"#global variable\n",
        "def f(): \n",
        "    print(s) \n",
        "f()\n"
      ]
    },
    {
      "cell_type": "code",
      "execution_count": null,
      "metadata": {
        "id": "51n9bEgyE7aU"
      },
      "outputs": [],
      "source": [
        "indentation\n",
        "\n",
        "def test():\n",
        "    ajcjc\n",
        "    hjafhs\n",
        "    hakfshks\n",
        "kjgjsdsjkas"
      ]
    },
    {
      "cell_type": "code",
      "execution_count": null,
      "metadata": {
        "id": "mSqz3yviE7aV"
      },
      "outputs": [],
      "source": [
        "def f(): \n",
        "    print(s) \n",
        "s = \"I love Python\"# global or local?\n",
        "f()\n"
      ]
    },
    {
      "cell_type": "code",
      "execution_count": null,
      "metadata": {
        "id": "RvFz0FsdE7aW"
      },
      "outputs": [],
      "source": [
        "def f():\n",
        "    print(p)\n",
        "f()\n",
        "p=\"I love Python\"\n",
        "\n"
      ]
    },
    {
      "cell_type": "code",
      "execution_count": null,
      "metadata": {
        "id": "AIpnh8UVE7aW"
      },
      "outputs": [],
      "source": [
        "def f():\n",
        "    s=\"I love Python\"#local variable\n",
        "    print(s)\n",
        "f()"
      ]
    },
    {
      "cell_type": "code",
      "execution_count": null,
      "metadata": {
        "id": "uO5bnqhEE7aX"
      },
      "outputs": [],
      "source": [
        "def f():\n",
        "    s1=\"I love Python\"#local variable\n",
        "    print(s1)\n",
        "f()\n",
        "print(s1)\n"
      ]
    },
    {
      "cell_type": "code",
      "execution_count": null,
      "metadata": {
        "id": "T1V9wm0eE7aX"
      },
      "outputs": [],
      "source": [
        "s2=\"I love Python\"\n",
        "def f():\n",
        "    s2=\"I love C\"\n",
        "    print(s2)\n",
        "    print(id(s2))\n",
        "f()\n",
        "print(s2)\n",
        "print(id(s2))\n"
      ]
    },
    {
      "cell_type": "code",
      "execution_count": null,
      "metadata": {
        "id": "-kDwLPgTE7aY"
      },
      "outputs": [],
      "source": [
        "def f():\n",
        "    global p1\n",
        "    p1=\"I love C\"\n",
        "    print(p1)\n",
        "    #print(id(p))\n",
        "f()\n",
        "print(p1)"
      ]
    },
    {
      "cell_type": "code",
      "execution_count": null,
      "metadata": {
        "id": "ebTH2fDNE7aZ"
      },
      "outputs": [],
      "source": [
        "print(p)"
      ]
    },
    {
      "cell_type": "code",
      "execution_count": null,
      "metadata": {
        "id": "yCmYZh0eE7aZ",
        "outputId": "3e1b5f23-7606-4296-c750-5f0520ec9efa"
      },
      "outputs": [
        {
          "name": "stdout",
          "output_type": "stream",
          "text": [
            "I love C\n",
            "2046596301936\n",
            "I love Python\n",
            "2046596301616\n"
          ]
        }
      ],
      "source": [
        "s1=\"I love Python\"\n",
        "def f():\n",
        "    s1=\"I love C\"\n",
        "    print(s1)\n",
        "    print(id(s1))\n",
        "f()\n",
        "print(s1)\n",
        "print(id(s1))\n"
      ]
    },
    {
      "cell_type": "code",
      "execution_count": null,
      "metadata": {
        "id": "S0CcSlivE7ab",
        "outputId": "be349bae-a865-45b9-bdf4-95f6be1f5d3d"
      },
      "outputs": [
        {
          "name": "stdout",
          "output_type": "stream",
          "text": [
            "I love C\n",
            "2046596303984\n",
            "I love C\n",
            "2046596303984\n"
          ]
        }
      ],
      "source": [
        "s=\"I love Python\"\n",
        "def f():\n",
        "    global s\n",
        "    s=\"I love C\"\n",
        "    print(s)\n",
        "    print(id(s))\n",
        "f()\n",
        "print(s)\n",
        "print(id(s))\n"
      ]
    },
    {
      "cell_type": "code",
      "execution_count": null,
      "metadata": {
        "id": "60Wim54kE7ac"
      },
      "outputs": [],
      "source": [
        "s=\"I love Python\""
      ]
    },
    {
      "cell_type": "code",
      "execution_count": null,
      "metadata": {
        "id": "kkoNs3TDE7ac"
      },
      "outputs": [],
      "source": [
        "\n",
        "def f():\n",
        "    global s\n",
        "    print(s)\n",
        "    s=\"I love C\"\n",
        "    print(s)\n",
        "f()\n",
        "print(s)\n",
        "\n"
      ]
    },
    {
      "cell_type": "code",
      "execution_count": null,
      "metadata": {
        "id": "K0YgDOrIE7ad"
      },
      "outputs": [],
      "source": [
        "a=1\n",
        "def f():\n",
        "    print ('Inside f() : ', a)\n",
        "def g():    \n",
        "    a = 2\n",
        "    print ('Inside g() : ',a)\n",
        "def h():    \n",
        "    global a\n",
        "    a = 3\n",
        "    print ('Inside h() : ',a)\n",
        " \n",
        "print ('global : ',a)\n",
        "f()\n",
        "print ('global : ',a)\n",
        "g()\n",
        "print ('global : ',a)\n",
        "h()\n",
        "print ('global : ',a)\n"
      ]
    },
    {
      "cell_type": "markdown",
      "metadata": {
        "id": "pR08M0gBE7ae"
      },
      "source": [
        "Lambda Function\n",
        "\n",
        "The map( ) Function\n",
        "\n",
        "The filter( ) Function\n",
        "\n",
        "Using map( ) and filter( ) with Lambda Expressions\n",
        "\n",
        "\n"
      ]
    },
    {
      "cell_type": "markdown",
      "metadata": {
        "id": "1vwTNYHXE7ae"
      },
      "source": [
        "### What is Anonymous Function"
      ]
    },
    {
      "cell_type": "markdown",
      "metadata": {
        "id": "fjc1BAdwE7ae"
      },
      "source": [
        "An anonymous function is a function that is defined without a name"
      ]
    },
    {
      "cell_type": "markdown",
      "metadata": {
        "id": "67CmblnUE7ae"
      },
      "source": [
        "### Difference between anonymous function and normal function"
      ]
    },
    {
      "cell_type": "markdown",
      "metadata": {
        "id": "0No8jjvfE7af"
      },
      "source": [
        "While normal functions are defined using the def keyword, we define anonymous functions using the lambda keyword.\n"
      ]
    },
    {
      "cell_type": "markdown",
      "metadata": {
        "id": "x0CPXGG3E7ak"
      },
      "source": [
        "### Syntax: lambda [arg1,arg2,..]:[expression]"
      ]
    },
    {
      "cell_type": "markdown",
      "metadata": {
        "id": "-VTE_A5yE7al"
      },
      "source": [
        "lambda is a keyword/operator and can have any number of arguments.\n",
        "\n",
        "But it can have only one expression. \n",
        "\n",
        "Python evaluates the expression and returns the result automatically"
      ]
    },
    {
      "cell_type": "markdown",
      "metadata": {
        "id": "LIJFu05jE7am"
      },
      "source": [
        "An expression here is anything that can return some value.\n",
        "\n",
        "The following items qualify as expressions.\n",
        "\n",
        "Arithmetic operations like a+b and a**b\n",
        "\n",
        "Function calls like sum(a,b)\n",
        "\n",
        "A print statement like print(“Hello”)\n",
        "\n"
      ]
    },
    {
      "cell_type": "markdown",
      "metadata": {
        "id": "T3jZzbl5E7am"
      },
      "source": [
        "Assignment statements cannot be used in lambda , because they don’t return anything, not even None (null).\n",
        "\n",
        "Simple things such as mathematical operations, string operations etc. are OK in a lambda.\n",
        "\n",
        "Function calls are expressions, so it’s OK to put a function call in a lambda, and to pass arguments to that function. \n",
        "\n",
        "Even functions that return None, like the print function in Python 3, can be used in a lambda.\n",
        "\n",
        "Single line if – else is also allowed as it also evaluates the condition and returns the result of true or false expression\n"
      ]
    },
    {
      "cell_type": "code",
      "execution_count": null,
      "metadata": {
        "id": "AVVRSjIlE7an"
      },
      "outputs": [],
      "source": [
        "#Suppose, we want to make a function which will calculate sum of two numbers.\n",
        "\n",
        "#In normal approach we will do as shown below:\n",
        "\n",
        "def add(a,b): \n",
        "    return a+b\n"
      ]
    },
    {
      "cell_type": "code",
      "execution_count": null,
      "metadata": {
        "id": "f8gCPtsXE7an",
        "outputId": "a7618163-b9c4-4ade-dc23-f012b149380e"
      },
      "outputs": [
        {
          "data": {
            "text/plain": [
              "30"
            ]
          },
          "execution_count": 7,
          "metadata": {},
          "output_type": "execute_result"
        }
      ],
      "source": [
        "add(10,20)"
      ]
    },
    {
      "cell_type": "code",
      "execution_count": null,
      "metadata": {
        "id": "s_FReRpLE7ar",
        "outputId": "7fff789b-f3fe-41d0-ed5a-daff2ecfaffe"
      },
      "outputs": [
        {
          "name": "stdout",
          "output_type": "stream",
          "text": [
            "30\n"
          ]
        }
      ],
      "source": [
        "#In case of lambda function we will write it as:\n",
        "\n",
        "print((lambda a,b:a+b)(10,20))\n"
      ]
    },
    {
      "cell_type": "markdown",
      "metadata": {
        "id": "vFIcAwARE7as"
      },
      "source": [
        "A very common doubt is that when we can define our functions using def keyword , then why we require lambda functions ?\n",
        "\n",
        "The most common use for lambda functions is in code that requires a simple one-line function, where it would be an overkill to write a complete normal function.\n",
        "\n",
        "We will explore it in more detail when we will discuss two very important functions in Python called map( ) and filter( )\n"
      ]
    },
    {
      "cell_type": "markdown",
      "metadata": {
        "id": "oZ_OzGkwE7as"
      },
      "source": [
        "There are 2 ways to use a Lambda Function.\n",
        "\n",
        "\n",
        "- Using it anonymously in inline mode\n",
        "\n",
        "- Using it by assigning it to a variable\n"
      ]
    },
    {
      "cell_type": "code",
      "execution_count": null,
      "metadata": {
        "id": "W4j9trDdE7at"
      },
      "outputs": [],
      "source": [
        "#Using it as anonymous function\n",
        "\n",
        "print((lambda a,b: a+b)(2,3))\n"
      ]
    },
    {
      "cell_type": "code",
      "execution_count": null,
      "metadata": {
        "id": "VrxQoWHDE7at"
      },
      "outputs": [],
      "source": [
        "#Using it by assigning it to a variable\n",
        "\n",
        "sum=lambda a,b: a+b"
      ]
    },
    {
      "cell_type": "code",
      "execution_count": null,
      "metadata": {
        "id": "J28SYfnlE7at",
        "outputId": "c34a667b-aede-42bf-c3a9-faa836f16e66"
      },
      "outputs": [
        {
          "name": "stdout",
          "output_type": "stream",
          "text": [
            "5\n"
          ]
        }
      ],
      "source": [
        "print(sum(2,3))"
      ]
    },
    {
      "cell_type": "code",
      "execution_count": null,
      "metadata": {
        "id": "K4xAkWeOE7au",
        "outputId": "bee12c32-bae0-4177-f868-c68a7cade328"
      },
      "outputs": [
        {
          "name": "stdout",
          "output_type": "stream",
          "text": [
            "14\n"
          ]
        }
      ],
      "source": [
        "\n",
        "\n",
        "\n",
        "print(sum(5,9))\n"
      ]
    },
    {
      "cell_type": "markdown",
      "metadata": {
        "id": "sI4xSfl3E7av"
      },
      "source": [
        "What is happening in this code ?\n",
        "\n",
        "The statement lambda a,b:a+b , \n",
        "\n",
        "is creating a FUNCTION OBJECT\n",
        "\n",
        "and returning that object . The\n",
        "\n",
        "variable sum is referring to that\n",
        "\n",
        "object. Now when we write sum(2,3), it behaves like function call\n"
      ]
    },
    {
      "cell_type": "code",
      "execution_count": null,
      "metadata": {
        "id": "9aNqA2vYE7av"
      },
      "outputs": [],
      "source": [
        "sum=lambda a,b: a+b\n",
        "\n",
        "print(type(sum))\n",
        "print(sum)\n"
      ]
    },
    {
      "cell_type": "code",
      "execution_count": null,
      "metadata": {
        "id": "MG6V3MNoE7av"
      },
      "outputs": [],
      "source": [
        "squareit=lambda a: a*a\n",
        "\n",
        "print(squareit(25))\n",
        "print(squareit(10))\n",
        "\n"
      ]
    },
    {
      "cell_type": "code",
      "execution_count": null,
      "metadata": {
        "id": "QsOXgLtJE7aw"
      },
      "outputs": [],
      "source": [
        "import math\n",
        "\n",
        "squr=lambda a:math.sqrt(a)\n",
        "\n"
      ]
    },
    {
      "cell_type": "code",
      "execution_count": null,
      "metadata": {
        "id": "LVNq1OsiE7ax",
        "outputId": "e7bc4cc7-a699-4cb5-ded3-5a30446cbbae"
      },
      "outputs": [
        {
          "data": {
            "text/plain": [
              "5.0"
            ]
          },
          "execution_count": 17,
          "metadata": {},
          "output_type": "execute_result"
        }
      ],
      "source": [
        "squr(25)"
      ]
    },
    {
      "cell_type": "code",
      "execution_count": null,
      "metadata": {
        "id": "hBbBf7ftE7ax"
      },
      "outputs": [],
      "source": [
        "st=lambda str:str[0]"
      ]
    },
    {
      "cell_type": "code",
      "execution_count": null,
      "metadata": {
        "id": "RWK0NMaXE7ay",
        "outputId": "1daf279b-cbad-4ab0-8942-1c3582fb4f25"
      },
      "outputs": [
        {
          "data": {
            "text/plain": [
              "'s'"
            ]
          },
          "execution_count": 19,
          "metadata": {},
          "output_type": "execute_result"
        }
      ],
      "source": [
        "st(\"sunny\")"
      ]
    },
    {
      "cell_type": "code",
      "execution_count": null,
      "metadata": {
        "id": "Qrxucv-ME7ay"
      },
      "outputs": [],
      "source": [
        "iseven=lambda n: n%2==0"
      ]
    },
    {
      "cell_type": "code",
      "execution_count": null,
      "metadata": {
        "id": "9OPdE6slE7ay",
        "outputId": "aeefcf0e-d306-4929-bb88-7cad4bfdcec7"
      },
      "outputs": [
        {
          "name": "stdout",
          "output_type": "stream",
          "text": [
            "10 is even : False\n"
          ]
        }
      ],
      "source": [
        "\n",
        "print(\"10 is even :\",iseven(11))"
      ]
    },
    {
      "cell_type": "code",
      "execution_count": null,
      "metadata": {
        "id": "XjAT_7rcE7az"
      },
      "outputs": [],
      "source": [
        "\n",
        "print(\"7 is even:\",iseven(7))\n"
      ]
    },
    {
      "cell_type": "code",
      "execution_count": null,
      "metadata": {
        "id": "ONBNawaSE7az"
      },
      "outputs": [],
      "source": [
        "#Write a lambda function that accepts 2 arguments and returns the greater amongst them\n",
        "maxnum=lambda a,b: a if a>b else b"
      ]
    },
    {
      "cell_type": "code",
      "execution_count": null,
      "metadata": {
        "id": "zrjlnurfE7az",
        "outputId": "0db6af13-2036-45ca-ab47-b4a902c5cc16"
      },
      "outputs": [
        {
          "name": "stdout",
          "output_type": "stream",
          "text": [
            "max amongst 10 and 20 : 20\n"
          ]
        }
      ],
      "source": [
        "print(\"max amongst 10 and 20 :\",maxnum(10,20))"
      ]
    },
    {
      "cell_type": "code",
      "execution_count": null,
      "metadata": {
        "id": "aUStHi6DE7a0",
        "outputId": "ff92bd0e-5f5b-40d7-8dd4-a57577cf8517"
      },
      "outputs": [
        {
          "name": "stdout",
          "output_type": "stream",
          "text": [
            "max amongst 15 and 5 : 15\n"
          ]
        }
      ],
      "source": [
        "print(\"max amongst 15 and 5 :\",maxnum(15,5))\n"
      ]
    },
    {
      "cell_type": "markdown",
      "metadata": {
        "id": "Ls1kONPlE7a0"
      },
      "source": [
        "### map() function in python"
      ]
    },
    {
      "cell_type": "code",
      "execution_count": null,
      "metadata": {
        "id": "kq_cVUTaE7a1"
      },
      "outputs": [],
      "source": [
        "#map() is a function which takes two arguments:\n",
        "r = map(func, iterable)"
      ]
    },
    {
      "cell_type": "markdown",
      "metadata": {
        "id": "AIxt5q1ME7a1"
      },
      "source": [
        "The first argument func is the name of a function and the second argument  , iterable  ,should be a sequence (e.g. a list , tuple ,string etc) or anything that can be used with for loop. \n",
        "\n",
        "map() applies the function func to all the elements of the sequence iterable\n"
      ]
    },
    {
      "cell_type": "markdown",
      "metadata": {
        "id": "uD79AZ9bE7a2"
      },
      "source": [
        "### To understand this , let’s solve a problem"
      ]
    },
    {
      "cell_type": "code",
      "execution_count": null,
      "metadata": {
        "id": "PQTlLm78E7a2"
      },
      "outputs": [],
      "source": [
        "#Suppose we want to define a function called square( ) that can accept a number as argument and returns it’s square.\n",
        "\n",
        "#The definition of this function would be:\n",
        "\n",
        "def square(num):\n",
        "    return num**2"
      ]
    },
    {
      "cell_type": "code",
      "execution_count": null,
      "metadata": {
        "id": "SKw09WXOE7a3",
        "outputId": "ae4fd644-af6f-41b0-85b6-db8cb00ce025"
      },
      "outputs": [
        {
          "data": {
            "text/plain": [
              "25"
            ]
          },
          "execution_count": 27,
          "metadata": {},
          "output_type": "execute_result"
        }
      ],
      "source": [
        "square(5)"
      ]
    },
    {
      "cell_type": "code",
      "execution_count": null,
      "metadata": {
        "id": "BkAIJxkKE7a3",
        "outputId": "860c4527-8044-4f8b-c7c6-f29e77827e93"
      },
      "outputs": [
        {
          "data": {
            "text/plain": [
              "625"
            ]
          },
          "execution_count": 28,
          "metadata": {},
          "output_type": "execute_result"
        }
      ],
      "source": [
        "square(25)"
      ]
    },
    {
      "cell_type": "code",
      "execution_count": null,
      "metadata": {
        "id": "4s2XhBBIE7a3"
      },
      "outputs": [],
      "source": [
        "#Now suppose we want to call this function for the following list of numbers:\n",
        "\n",
        "mynums=[1,2,3,4,5]"
      ]
    },
    {
      "cell_type": "code",
      "execution_count": null,
      "metadata": {
        "id": "Z4DinNy5E7a3",
        "outputId": "1e41b606-5ccc-43d0-c741-604ea886b084"
      },
      "outputs": [
        {
          "name": "stdout",
          "output_type": "stream",
          "text": [
            "1\n",
            "4\n",
            "9\n",
            "16\n",
            "25\n"
          ]
        }
      ],
      "source": [
        "#One way to do this , will be to use a for loop \n",
        "\n",
        "mynums=[1,2,3,4,5]\n",
        "for x in mynums:\n",
        "    print(square(x))"
      ]
    },
    {
      "cell_type": "code",
      "execution_count": null,
      "metadata": {
        "id": "6gPTHiDiE7a4",
        "outputId": "5b77ba83-d7f5-4fa2-f4c5-e8f6b4a93977"
      },
      "outputs": [
        {
          "name": "stdout",
          "output_type": "stream",
          "text": [
            "1\n",
            "4\n",
            "9\n",
            "16\n",
            "25\n"
          ]
        }
      ],
      "source": [
        "def square(num):\n",
        "    return num**2\n",
        "mynums=[1,2,3,4,5]\n",
        "for x in mynums:\n",
        "    print(square(x))"
      ]
    },
    {
      "cell_type": "code",
      "execution_count": null,
      "metadata": {
        "id": "RNXkfW6xE7a4"
      },
      "outputs": [],
      "source": [
        "<map at 0x1b3e7ae1880> \n"
      ]
    },
    {
      "cell_type": "markdown",
      "metadata": {
        "id": "APHBcYJXE7a4"
      },
      "source": [
        "Another way to solve the previous problem is to use the map( ) function .\n",
        "The map( ) function will accept 2 arguments from us. \n",
        "\n",
        "The first argument will be the name of the function square \n",
        "\n",
        "The second argument will be the list mynums.\n",
        "\n",
        "It will then apply the function square on every element of mynum and return the corresponding result as map object \n"
      ]
    },
    {
      "cell_type": "code",
      "execution_count": null,
      "metadata": {
        "id": "Fkczd4rTE7a5"
      },
      "outputs": [],
      "source": [
        "def square(num):\n",
        "    return num**2\n",
        "mynums=(1,2,3,4,5)"
      ]
    },
    {
      "cell_type": "code",
      "execution_count": null,
      "metadata": {
        "id": "jR02Ilr5E7a6",
        "outputId": "65e6ecfa-7b18-47da-85da-246059138809"
      },
      "outputs": [
        {
          "name": "stdout",
          "output_type": "stream",
          "text": [
            "[1, 4, 9, 16, 25]\n"
          ]
        }
      ],
      "source": [
        "print(list(map(square,mynums)))"
      ]
    },
    {
      "cell_type": "code",
      "execution_count": null,
      "metadata": {
        "id": "JJvmcHAgE7a6"
      },
      "outputs": [],
      "source": [
        "def square(num):\n",
        "    return num**2\n",
        "\n",
        "mynums=[1,2,3,4,5]\n",
        "result=map(square,mynums)\n",
        "print(result)\n"
      ]
    },
    {
      "cell_type": "markdown",
      "metadata": {
        "id": "WnEw6UExE7a6"
      },
      "source": [
        "As we can observe , the return value of map( ) function is a map object \n",
        "\n",
        "To convert it into actual numbers we can pass it to the function list( )"
      ]
    },
    {
      "cell_type": "code",
      "execution_count": null,
      "metadata": {
        "id": "QC9p-NSQE7a6"
      },
      "outputs": [],
      "source": [
        "def square(num):\n",
        "    return num**2\n",
        "\n",
        "mynums=[1,2,3,4,5]\n",
        "result=map(square,mynums)"
      ]
    },
    {
      "cell_type": "code",
      "execution_count": null,
      "metadata": {
        "id": "voojM2FDE7a7",
        "outputId": "9a806771-1672-4399-9992-f46d0958b938"
      },
      "outputs": [
        {
          "data": {
            "text/plain": [
              "<map at 0x1f01b38dd90>"
            ]
          },
          "execution_count": 12,
          "metadata": {},
          "output_type": "execute_result"
        }
      ],
      "source": [
        "result"
      ]
    },
    {
      "cell_type": "code",
      "execution_count": null,
      "metadata": {
        "id": "23dKcPuSE7a7"
      },
      "outputs": [],
      "source": [
        "sqrnum=list(result)"
      ]
    },
    {
      "cell_type": "code",
      "execution_count": null,
      "metadata": {
        "id": "TW3qdiXaE7a7",
        "outputId": "704ed3d6-9fc4-4908-f34d-5f00a721a518"
      },
      "outputs": [
        {
          "name": "stdout",
          "output_type": "stream",
          "text": [
            "[1, 4, 9, 16, 25]\n"
          ]
        }
      ],
      "source": [
        "\n",
        "\n",
        "print(sqrnum)\n"
      ]
    },
    {
      "cell_type": "code",
      "execution_count": null,
      "metadata": {
        "id": "ERAPZ_pRE7a8"
      },
      "outputs": [],
      "source": [
        "def square(num):\n",
        "    return num**2\n",
        "\n",
        "\n",
        "mynums=[1,2,3,4,5]\n",
        "# we can club the 2 lines in 1 line\n",
        "\n",
        "sqrnum=list(map(square,mynums))\n",
        "\n",
        "print(sqrnum)\n"
      ]
    },
    {
      "cell_type": "code",
      "execution_count": null,
      "metadata": {
        "id": "s6NKs8q1E7a8"
      },
      "outputs": [],
      "source": [
        "#To make it even shorter we can directly pass the list( ) function to \n",
        "#the function print()\n",
        "def square(num):\n",
        "    return num**2\n",
        "\n",
        "mynums=[1,2,3,4,5]\n",
        "print(list(map(square,mynums)))\n"
      ]
    },
    {
      "cell_type": "code",
      "execution_count": null,
      "metadata": {
        "id": "McgN0Ew_E7a8"
      },
      "outputs": [],
      "source": [
        "#In case we want to iterate over this list , then we can use for loop\n",
        "def square(num):\n",
        "    return num**2\n",
        "\n",
        "mynums=[1,2,3,4,5]\n",
        "for x in map(square,mynums):\n",
        "    print(x)\n"
      ]
    },
    {
      "cell_type": "markdown",
      "metadata": {
        "id": "tBIGhVLmE7a8"
      },
      "source": [
        "Write a function called inspect( ) that accepts a string as argument and returns the word EVEN if the string is of even length and returns it’s first character if the string is of odd length\n",
        "\n",
        "Now call this function for first 3 month names"
      ]
    },
    {
      "cell_type": "code",
      "execution_count": null,
      "metadata": {
        "id": "vOOyn-p5E7a9",
        "outputId": "893d6608-05bc-4d67-eea4-8812dc22540b"
      },
      "outputs": [
        {
          "name": "stdout",
          "output_type": "stream",
          "text": [
            "['J', 'EVEN', 'M']\n"
          ]
        }
      ],
      "source": [
        "def inspect(mystring):\n",
        "    if len(mystring)%2==0:\n",
        "        return \"EVEN\"\n",
        "    else:\n",
        "        return mystring[0]\n",
        "\n",
        "months=[\"January\",\"February\",\"March\"]\n",
        "print(list(map(inspect,months))) \n"
      ]
    },
    {
      "cell_type": "markdown",
      "metadata": {
        "id": "pzJos02SE7a9"
      },
      "source": [
        "### filter() function in python"
      ]
    },
    {
      "cell_type": "markdown",
      "metadata": {
        "id": "sSS7TRaXE7a9"
      },
      "source": [
        "Another way to solve the previous problem is to use the filter( ) function .\n",
        "\n",
        "\n",
        "The flter( ) function will accept 2 arguments from us. \n",
        "\n",
        "The first argument will be the name of the function check_even \n",
        "\n",
        "The second argument will be the list mynums.\n",
        "\n",
        "It will then apply the function check_even on every element of mynum and if check_even returned True for that element then filter( ) will return that element as a part of it’s return value otherwise that element will not be returned\n"
      ]
    },
    {
      "cell_type": "code",
      "execution_count": null,
      "metadata": {
        "id": "vVLiDuw_E7a9"
      },
      "outputs": [],
      "source": [
        "num=7"
      ]
    },
    {
      "cell_type": "code",
      "execution_count": null,
      "metadata": {
        "id": "HqsArOzUE7a-",
        "outputId": "debbacb3-7a99-4d26-9bb5-cde219461752"
      },
      "outputs": [
        {
          "data": {
            "text/plain": [
              "1"
            ]
          },
          "execution_count": 26,
          "metadata": {},
          "output_type": "execute_result"
        }
      ],
      "source": [
        "num%2"
      ]
    },
    {
      "cell_type": "code",
      "execution_count": null,
      "metadata": {
        "id": "8-PL29H0E7a-"
      },
      "outputs": [],
      "source": [
        "def check_even(num):\n",
        "    return num%2!=0"
      ]
    },
    {
      "cell_type": "code",
      "execution_count": null,
      "metadata": {
        "id": "sGP75bmuE7a-",
        "outputId": "8db43a8f-d2a1-4ea6-e551-04daa89a5ad8"
      },
      "outputs": [
        {
          "data": {
            "text/plain": [
              "True"
            ]
          },
          "execution_count": 23,
          "metadata": {},
          "output_type": "execute_result"
        }
      ],
      "source": [
        "check_even(7)"
      ]
    },
    {
      "cell_type": "code",
      "execution_count": null,
      "metadata": {
        "id": "ld-uQmPnE7a_"
      },
      "outputs": [],
      "source": [
        "mynums=[1,2,3,4,5,6]"
      ]
    },
    {
      "cell_type": "code",
      "execution_count": null,
      "metadata": {
        "id": "GFAv_MCSE7a_"
      },
      "outputs": [],
      "source": [
        "value=filter(check_even,mynums)"
      ]
    },
    {
      "cell_type": "code",
      "execution_count": null,
      "metadata": {
        "id": "MPgAxQM6E7a_",
        "outputId": "8602b50f-4093-4946-f130-e356cb730fba"
      },
      "outputs": [
        {
          "data": {
            "text/plain": [
              "[1, 3, 5]"
            ]
          },
          "execution_count": 29,
          "metadata": {},
          "output_type": "execute_result"
        }
      ],
      "source": [
        "list(value)"
      ]
    },
    {
      "cell_type": "code",
      "execution_count": null,
      "metadata": {
        "id": "DECG_PwIE7bA",
        "outputId": "76b4d0d1-a308-47db-fdb3-28df4b0b89b1"
      },
      "outputs": [
        {
          "name": "stdout",
          "output_type": "stream",
          "text": [
            "<filter object at 0x000001F01B38DA00>\n"
          ]
        }
      ],
      "source": [
        "\n",
        "\n",
        "\n",
        "print()"
      ]
    },
    {
      "cell_type": "markdown",
      "metadata": {
        "id": "q8zdonA8E7bA"
      },
      "source": [
        "As we can observe , the return value of filter( ) function is a  filter object \n",
        "\n",
        "To convert it into actual numbers we can pass it to the function list( )\n"
      ]
    },
    {
      "cell_type": "code",
      "execution_count": null,
      "metadata": {
        "id": "UCUXMGyvE7bA",
        "outputId": "029e5c38-a427-4f5c-aaa1-e0816e03189c"
      },
      "outputs": [
        {
          "name": "stdout",
          "output_type": "stream",
          "text": [
            "[2, 4, 6]\n"
          ]
        }
      ],
      "source": [
        "def check_even(num):\n",
        "    return num%2==0\n",
        "\n",
        "mynums=[1,2,3,4,5,6]\n",
        "print(list(filter(check_even,mynums)))\n",
        "\n",
        "\n"
      ]
    },
    {
      "cell_type": "code",
      "execution_count": null,
      "metadata": {
        "id": "g-YwyTggE7bB",
        "outputId": "126ed2fc-baad-4cf2-8290-28f90acae234"
      },
      "outputs": [
        {
          "name": "stdout",
          "output_type": "stream",
          "text": [
            "2\n",
            "4\n",
            "6\n"
          ]
        }
      ],
      "source": [
        "#In case we want to iterate over this list , then we can use for loop \n",
        "#as shown below:\n",
        "def check_even(num):\n",
        "    return num%2==0\n",
        "\n",
        "mynums=[1,2,3,4,5,6]\n",
        "for x in filter(check_even,mynums):\n",
        "    print(x)"
      ]
    },
    {
      "cell_type": "code",
      "execution_count": null,
      "metadata": {
        "id": "Qw63MsF9E7bB",
        "outputId": "ccc8c85d-875b-43ee-9582-8821c1df8de5"
      },
      "outputs": [
        {
          "name": "stdout",
          "output_type": "stream",
          "text": [
            "[1, 2, 3, 4, 5]\n"
          ]
        }
      ],
      "source": [
        "def f1(num):\n",
        "    return num*num\n",
        "\n",
        "mynums=[1,2,3,4,5]\n",
        "print(list(filter(f1,mynums)))\n"
      ]
    },
    {
      "cell_type": "markdown",
      "metadata": {
        "id": "ZuEfp9_oE7bB"
      },
      "source": [
        "Ideally , the function passed to filter( ) should return a boolean value. But if it doesn’t return boolean value , then whatever value it returns Python converts it to boolean . In our case for each value in mynums the return value will be it’s square which is a non-zero value and thus assumed to be True. So all the elements are returned by filter() \n"
      ]
    },
    {
      "cell_type": "code",
      "execution_count": null,
      "metadata": {
        "id": "Ewow_2bZE7bB"
      },
      "outputs": [],
      "source": [
        "def f1(num):\n",
        "    return num%2"
      ]
    },
    {
      "cell_type": "code",
      "execution_count": null,
      "metadata": {
        "id": "0MwxUSFhE7bC",
        "outputId": "c1d8182e-814b-4d3e-9c35-657b28f3c677"
      },
      "outputs": [
        {
          "data": {
            "text/plain": [
              "1"
            ]
          },
          "execution_count": 31,
          "metadata": {},
          "output_type": "execute_result"
        }
      ],
      "source": [
        "f1(11)"
      ]
    },
    {
      "cell_type": "code",
      "execution_count": null,
      "metadata": {
        "id": "X_gStej2E7bC",
        "outputId": "e6433aa5-63e8-4630-b954-38f10a5bc42c"
      },
      "outputs": [
        {
          "data": {
            "text/plain": [
              "1"
            ]
          },
          "execution_count": 35,
          "metadata": {},
          "output_type": "execute_result"
        }
      ],
      "source": [
        "True+False"
      ]
    },
    {
      "cell_type": "code",
      "execution_count": null,
      "metadata": {
        "id": "uNdOIVwwE7bC",
        "outputId": "e9c83a4b-46fe-4201-b1df-b14a9530cede"
      },
      "outputs": [
        {
          "name": "stdout",
          "output_type": "stream",
          "text": [
            "1\n",
            "0\n",
            "1\n",
            "0\n",
            "1\n",
            "[]\n"
          ]
        }
      ],
      "source": [
        "def f1(num):\n",
        "    print(num%2)\n",
        "    #return num%2\n",
        "\n",
        "mynums=[1,2,3,4,5]\n",
        "print(list(filter(f1,mynums)))\n"
      ]
    },
    {
      "cell_type": "code",
      "execution_count": null,
      "metadata": {
        "id": "QmJTRA95E7bC",
        "outputId": "092648f6-04f7-484c-e9d4-b2517866c377"
      },
      "outputs": [
        {
          "data": {
            "text/plain": [
              "<filter at 0x1f01b38d970>"
            ]
          },
          "execution_count": 37,
          "metadata": {},
          "output_type": "execute_result"
        }
      ],
      "source": [
        "filter(f1,mynums)"
      ]
    },
    {
      "cell_type": "markdown",
      "metadata": {
        "id": "0_KgMIBRE7bD"
      },
      "source": [
        "For every even number the return value of the function f1( ) will be 0 which is assumed to be False and for every odd number the return value will be 1 which is assumed to be True . Thus filter( ) returns only those numbers for which f1( ) has returned 1.\n"
      ]
    },
    {
      "cell_type": "code",
      "execution_count": null,
      "metadata": {
        "id": "-RyZm7ISE7bD"
      },
      "outputs": [],
      "source": [
        "def f1(num):\n",
        "    print(\"Hello\")"
      ]
    },
    {
      "cell_type": "code",
      "execution_count": null,
      "metadata": {
        "id": "HMKoCmbnE7bD",
        "outputId": "194d9810-4d08-4403-a1c2-523be0ab9af7"
      },
      "outputs": [
        {
          "name": "stdout",
          "output_type": "stream",
          "text": [
            "Hello\n"
          ]
        }
      ],
      "source": [
        "f1(5)"
      ]
    },
    {
      "cell_type": "code",
      "execution_count": null,
      "metadata": {
        "id": "r7RXoNkQE7bD",
        "outputId": "4c0ae290-d5c9-44fc-b70a-6962619b8969"
      },
      "outputs": [
        {
          "name": "stdout",
          "output_type": "stream",
          "text": [
            "Hello\n",
            "Hello\n",
            "Hello\n",
            "Hello\n",
            "Hello\n",
            "[]\n"
          ]
        }
      ],
      "source": [
        "mynums=[1,2,3,4,5]\n",
        "print(list(filter(f1,mynums)))\n"
      ]
    },
    {
      "cell_type": "markdown",
      "metadata": {
        "id": "i0Z6nioQE7bE"
      },
      "source": [
        "Hello is displayed 5 times because the filter( ) function has called f1( ) function 5 times. Now for each value in mynums , since f1( ) has not returned any value , by default it’s return value is assumed to be None which is a representation of False. Thus filter( ) returned an empty list.\n"
      ]
    },
    {
      "cell_type": "code",
      "execution_count": null,
      "metadata": {
        "id": "ORxZD6M4E7bF",
        "outputId": "b399f139-f9fd-4f89-ec62-b4b3777df5d9"
      },
      "outputs": [
        {
          "name": "stdout",
          "output_type": "stream",
          "text": [
            "[]\n"
          ]
        }
      ],
      "source": [
        "def f1(num):\n",
        "    pass\n",
        "\n",
        "mynums=[1,2,3,4,5]\n",
        "print(list(filter(f1,mynums)))\n"
      ]
    },
    {
      "cell_type": "markdown",
      "metadata": {
        "id": "5a8ZMYTuE7bG"
      },
      "source": [
        "For each value in mynums , since f1( ) has not returned any value , by default it’s return value is assumed to be None which is a representation of False. Thus filter( ) returned an empty list.\n"
      ]
    },
    {
      "cell_type": "code",
      "execution_count": null,
      "metadata": {
        "id": "cyuVwruXE7bH",
        "outputId": "a170ef18-1ba6-42f8-fca1-f13caaa07498"
      },
      "outputs": [
        {
          "ename": "TypeError",
          "evalue": "f1() takes 0 positional arguments but 1 was given",
          "output_type": "error",
          "traceback": [
            "\u001b[1;31m---------------------------------------------------------------------------\u001b[0m",
            "\u001b[1;31mTypeError\u001b[0m                                 Traceback (most recent call last)",
            "\u001b[1;32m<ipython-input-45-804ed006219b>\u001b[0m in \u001b[0;36m<module>\u001b[1;34m\u001b[0m\n\u001b[0;32m      3\u001b[0m \u001b[1;33m\u001b[0m\u001b[0m\n\u001b[0;32m      4\u001b[0m \u001b[0mmynums\u001b[0m\u001b[1;33m=\u001b[0m\u001b[1;33m[\u001b[0m\u001b[1;36m1\u001b[0m\u001b[1;33m,\u001b[0m\u001b[1;36m2\u001b[0m\u001b[1;33m,\u001b[0m\u001b[1;36m3\u001b[0m\u001b[1;33m,\u001b[0m\u001b[1;36m4\u001b[0m\u001b[1;33m,\u001b[0m\u001b[1;36m5\u001b[0m\u001b[1;33m]\u001b[0m\u001b[1;33m\u001b[0m\u001b[1;33m\u001b[0m\u001b[0m\n\u001b[1;32m----> 5\u001b[1;33m \u001b[0mprint\u001b[0m\u001b[1;33m(\u001b[0m\u001b[0mlist\u001b[0m\u001b[1;33m(\u001b[0m\u001b[0mfilter\u001b[0m\u001b[1;33m(\u001b[0m\u001b[0mf1\u001b[0m\u001b[1;33m,\u001b[0m\u001b[0mmynums\u001b[0m\u001b[1;33m)\u001b[0m\u001b[1;33m)\u001b[0m\u001b[1;33m)\u001b[0m\u001b[1;33m\u001b[0m\u001b[1;33m\u001b[0m\u001b[0m\n\u001b[0m\u001b[0;32m      6\u001b[0m \u001b[1;33m\u001b[0m\u001b[0m\n",
            "\u001b[1;31mTypeError\u001b[0m: f1() takes 0 positional arguments but 1 was given"
          ]
        }
      ],
      "source": [
        "def f1():\n",
        "    pass\n",
        "\n",
        "mynums=[1,2,3,4,5]\n",
        "print(list(filter(f1,mynums)))\n",
        "\n"
      ]
    },
    {
      "cell_type": "markdown",
      "metadata": {
        "id": "aiiYs1NYE7bH"
      },
      "source": [
        "The function filter() is trying to call f1( ) for every value in the list mynums. But since f1( ) is a non-parametrized function , this call generates TypeError\n"
      ]
    },
    {
      "cell_type": "code",
      "execution_count": null,
      "metadata": {
        "id": "hSEy5XPQE7bH"
      },
      "outputs": [],
      "source": [
        "def f1():\n",
        "    pass\n",
        "\n",
        "mynums=[]\n",
        "print(list(filter(f1,mynums)))\n",
        "\n"
      ]
    },
    {
      "cell_type": "code",
      "execution_count": null,
      "metadata": {
        "id": "3jI5oRylE7bI",
        "outputId": "00b0609e-8ed6-45c9-ad84-6ad2cd457773"
      },
      "outputs": [
        {
          "name": "stdout",
          "output_type": "stream",
          "text": [
            "[1, 0, 1, 0, 1]\n"
          ]
        }
      ],
      "source": [
        "def f1(num):\n",
        "    return num%2\n",
        "\n",
        "mynums=[1,2,3,4,5]\n",
        "print(list(map(f1,mynums)))\n",
        "\n"
      ]
    },
    {
      "cell_type": "code",
      "execution_count": null,
      "metadata": {
        "id": "M7Q1SODDE7bI",
        "outputId": "da768c63-ef14-4d69-a2c8-afc634636792"
      },
      "outputs": [
        {
          "name": "stdout",
          "output_type": "stream",
          "text": [
            "[1, 3, 5]\n"
          ]
        }
      ],
      "source": [
        "def f1(num):\n",
        "    return num%2\n",
        "\n",
        "mynums=[1,2,3,4,5]\n",
        "print(list(filter(f1,mynums)))"
      ]
    },
    {
      "cell_type": "markdown",
      "metadata": {
        "id": "I930UfF2E7bI"
      },
      "source": [
        "For every even number the return value of the function f1( ) will be 0 and for every odd number the return value will be 1. Thus map( ) has returned a list containing 1 and 0 for each number in mynums based upon even and odd.\n"
      ]
    },
    {
      "cell_type": "code",
      "execution_count": null,
      "metadata": {
        "id": "GGm11a6QE7bJ",
        "outputId": "2c167ac2-8699-4806-a840-1c6acdeed50a"
      },
      "outputs": [
        {
          "name": "stdout",
          "output_type": "stream",
          "text": [
            "[None, None, None, None, None]\n"
          ]
        }
      ],
      "source": [
        "def f1(num):\n",
        "    pass\n",
        "\n",
        "mynums=[1,2,3,4,5]\n",
        "print(list(map(f1,mynums)))\n",
        "\n"
      ]
    },
    {
      "cell_type": "markdown",
      "metadata": {
        "id": "nhLrrOKLE7bK"
      },
      "source": [
        "Since f1( ) is not returning anything , so it’s return value by default is assumed to be None  and because map( ) has internally called f1 () 5 times , so the list returned contains None 5 times\n"
      ]
    },
    {
      "cell_type": "code",
      "execution_count": null,
      "metadata": {
        "id": "NoJHs0H1E7bK",
        "outputId": "bc170b1a-2aa3-486b-99d6-d6675f165dea"
      },
      "outputs": [
        {
          "name": "stdout",
          "output_type": "stream",
          "text": [
            "[]\n"
          ]
        }
      ],
      "source": [
        "def f1():\n",
        "    pass\n",
        "\n",
        "mynums=[]\n",
        "print(list(map(f1,mynums)))\n"
      ]
    },
    {
      "cell_type": "markdown",
      "metadata": {
        "id": "WNLi5VBBE7bL"
      },
      "source": [
        "The best use of Lambda Expression is to use it with map( ) and filter( ) functions\n",
        "\n",
        "\n",
        "\n",
        "\n",
        "Recall that the keyword lambda creates an anonymous function and returns it’s address.\n"
      ]
    },
    {
      "cell_type": "markdown",
      "metadata": {
        "id": "DD1usCkuE7bL"
      },
      "source": [
        "So , we can pass this lambda expression as first argument to map( ) and filter() functions , since their first argument is the a function object reference\n",
        "\n",
        "\n",
        "In this way , we wouldn’t be required to specially create a separate function using the keyword def\n"
      ]
    },
    {
      "cell_type": "code",
      "execution_count": null,
      "metadata": {
        "id": "1SF4ARPuE7bL",
        "outputId": "b40e69aa-db83-4008-b4e1-c7587ebf2f57"
      },
      "outputs": [
        {
          "name": "stdout",
          "output_type": "stream",
          "text": [
            "[1, 4, 9, 16, 25]\n"
          ]
        }
      ],
      "source": [
        "def square(num):\n",
        "    return num**2\n",
        "\n",
        "mynums=[1,2,3,4,5]\n",
        "squrnum=list(map(square,mynums))\n",
        "print(squrnum)\n"
      ]
    },
    {
      "cell_type": "code",
      "execution_count": null,
      "metadata": {
        "id": "QK83q-XQE7bM"
      },
      "outputs": [],
      "source": [
        "#To convert the above code using lambda ,we have to do 2 changes:\n",
        "\n",
        "#Remove the function square( )\n",
        "\n",
        "#Rewrite this function as lambda in place of first argument while calling the function map( )\n"
      ]
    },
    {
      "cell_type": "code",
      "execution_count": null,
      "metadata": {
        "id": "0bA3Blf1E7bM"
      },
      "outputs": [],
      "source": [
        "map(lambda num: num*num,mynums)"
      ]
    },
    {
      "cell_type": "code",
      "execution_count": null,
      "metadata": {
        "id": "RJIgL7FPE7bM",
        "outputId": "ce7ca96e-3b00-441f-e979-707cfa43e288"
      },
      "outputs": [
        {
          "name": "stdout",
          "output_type": "stream",
          "text": [
            "[1, 4, 9, 16, 25]\n"
          ]
        }
      ],
      "source": [
        "#Following will be the resultant code:\n",
        "\n",
        "mynums=[1,2,3,4,5]\n",
        "sqrnum=list(map(lambda num: num*num,mynums))\n",
        "print(sqrnum)\n"
      ]
    },
    {
      "cell_type": "markdown",
      "metadata": {
        "id": "grsBFkLqE7bM"
      },
      "source": [
        "### Exercise1"
      ]
    },
    {
      "cell_type": "markdown",
      "metadata": {
        "id": "-hN8KSoGE7bN"
      },
      "source": [
        "Write a lambda expression that accepts a string as argument and returns it’s first character\n",
        "\n",
        "Now use this lambda expression in map( ) function \n",
        "to work on for first 3 month names\n"
      ]
    },
    {
      "cell_type": "code",
      "execution_count": null,
      "metadata": {
        "id": "cZ_wr47YE7bN",
        "outputId": "0b50698c-4fb5-4cf5-d02e-9b1906799074"
      },
      "outputs": [
        {
          "data": {
            "text/plain": [
              "['b', 's', 'k']"
            ]
          },
          "execution_count": 56,
          "metadata": {},
          "output_type": "execute_result"
        }
      ],
      "source": [
        "list(map(lambda x:x[0],['bunny','sudhanshu','krish']))"
      ]
    },
    {
      "cell_type": "code",
      "execution_count": null,
      "metadata": {
        "id": "UanAdMGwE7bN"
      },
      "outputs": [],
      "source": [
        "months=[\"January\",\"February\",\"March\"]\n",
        "print(list(map(lambda mystring: mystring[0],months)))\n",
        "\n"
      ]
    },
    {
      "cell_type": "markdown",
      "metadata": {
        "id": "SAVDtRIrE7bN"
      },
      "source": [
        "### Exercise2"
      ]
    },
    {
      "cell_type": "markdown",
      "metadata": {
        "id": "qa7Z1NRJE7bO"
      },
      "source": [
        "Write a lambda expression that accepts a string as argument and returns the word EVEN if the string is of even length and returns it’s first character if the string is of odd length\n",
        "\n",
        "Now use this lambda expression in map( ) function \n",
        "to work on for first 3 month names\n"
      ]
    },
    {
      "cell_type": "code",
      "execution_count": null,
      "metadata": {
        "id": "w9tRk3S8E7bO",
        "outputId": "b1f70255-e12f-4300-9b69-63f93f460ca8"
      },
      "outputs": [
        {
          "data": {
            "text/plain": [
              "['b', 'EVEN', 'k']"
            ]
          },
          "execution_count": 61,
          "metadata": {},
          "output_type": "execute_result"
        }
      ],
      "source": [
        "list(map(lambda x:\"EVEN\" if len(x)%2==0 else x[0],['bunny','sudhansh','krish']))"
      ]
    },
    {
      "cell_type": "code",
      "execution_count": null,
      "metadata": {
        "id": "0onaJmSeE7bO"
      },
      "outputs": [],
      "source": [
        "months=[\"January\",\"February\",\"March\"]\n",
        "print(list(map(lambda mystring: \"EVEN\" if len(mystring)%2==0 else \n",
        "mystring[0],months)))\n",
        "\n"
      ]
    },
    {
      "cell_type": "markdown",
      "metadata": {
        "id": "DvWA06w_E7bP"
      },
      "source": [
        "### Exercise3"
      ]
    },
    {
      "cell_type": "markdown",
      "metadata": {
        "id": "ZqM_z-I5E7bP"
      },
      "source": [
        "Write a lambda expression that accepts a character as argument and returns True if it is a vowel otherwise False\n",
        "\n",
        "Now ask the user to input his/her name and display \n",
        "only the vowels in the name . In case the name does \n",
        "not contain any vowel display the message No vowels \n",
        "in your name\n"
      ]
    },
    {
      "cell_type": "code",
      "execution_count": null,
      "metadata": {
        "id": "_oDoqADXE7bQ",
        "outputId": "6f22cacf-4454-4b56-a73e-aa778b650677"
      },
      "outputs": [
        {
          "name": "stdout",
          "output_type": "stream",
          "text": [
            "[2, 4, 6]\n"
          ]
        }
      ],
      "source": [
        "mynums=[1,2,3,4,5,6]\n",
        "print(list(filter(lambda num:num%2==0 ,mynums)))\n"
      ]
    },
    {
      "cell_type": "code",
      "execution_count": null,
      "metadata": {
        "id": "6qv_SG28E7bQ"
      },
      "outputs": [],
      "source": [
        "Write a lambda expression that accepts a character as argument and returns True if it is a vowel otherwise False\n",
        "\n",
        "Now ask the user to input his/her name and display \n",
        "only the vowels in the name . In case the name does \n",
        "not contain any vowel display the message No vowels \n",
        "in your name\n"
      ]
    },
    {
      "cell_type": "code",
      "execution_count": null,
      "metadata": {
        "id": "gKJzlgQPE7bQ"
      },
      "outputs": [],
      "source": [
        "name=input(\"Enter your name:\")\n",
        "vowels=list(filter(lambda ch: ch in \"aeiou\" ,name))\n",
        "if len(vowels)==0:\n",
        "    print(\"No vowels in your name\")\n",
        "else:\n",
        "    print(\"Vowels in your name are:\",vowels)\n"
      ]
    },
    {
      "cell_type": "code",
      "execution_count": null,
      "metadata": {
        "id": "dXtYHgT5E7bR"
      },
      "outputs": [],
      "source": [
        "def between(number, min=0, max=1000):\n",
        "    return max > number > min\n",
        "\n",
        "# Only returns number between 10 and 1000\n",
        "filter(lambda x: between(x, min=10), range(10000))"
      ]
    },
    {
      "cell_type": "code",
      "execution_count": null,
      "metadata": {
        "id": "dUmBLJG8E7bR"
      },
      "outputs": [],
      "source": [
        "a=42"
      ]
    },
    {
      "cell_type": "code",
      "execution_count": null,
      "metadata": {
        "id": "5zn4Xwu-E7bR"
      },
      "outputs": [],
      "source": [
        "b=42"
      ]
    },
    {
      "cell_type": "code",
      "execution_count": null,
      "metadata": {
        "id": "NvX7fT4bE7bS"
      },
      "outputs": [],
      "source": [
        "c=42"
      ]
    },
    {
      "cell_type": "code",
      "execution_count": null,
      "metadata": {
        "id": "5q7gCu-sE7bS",
        "outputId": "87cde765-778d-4583-e2ab-c5f90b706523"
      },
      "outputs": [
        {
          "data": {
            "text/plain": [
              "140703981190208"
            ]
          },
          "execution_count": 66,
          "metadata": {},
          "output_type": "execute_result"
        }
      ],
      "source": [
        "id(a)"
      ]
    },
    {
      "cell_type": "code",
      "execution_count": null,
      "metadata": {
        "id": "fn1DWi-dE7bS",
        "outputId": "f8484ff7-f1e4-437a-b805-1173f8470054"
      },
      "outputs": [
        {
          "data": {
            "text/plain": [
              "140703981190208"
            ]
          },
          "execution_count": 67,
          "metadata": {},
          "output_type": "execute_result"
        }
      ],
      "source": [
        "id(b)"
      ]
    },
    {
      "cell_type": "code",
      "execution_count": null,
      "metadata": {
        "id": "xFH60V5eE7bS",
        "outputId": "b822e6f7-eb9a-4eff-b91d-92e01d5c6295"
      },
      "outputs": [
        {
          "data": {
            "text/plain": [
              "140703981190208"
            ]
          },
          "execution_count": 68,
          "metadata": {},
          "output_type": "execute_result"
        }
      ],
      "source": [
        "id(c)"
      ]
    },
    {
      "cell_type": "code",
      "execution_count": null,
      "metadata": {
        "id": "e5j7K7C0E7bT"
      },
      "outputs": [],
      "source": [
        "a=43"
      ]
    },
    {
      "cell_type": "code",
      "execution_count": null,
      "metadata": {
        "id": "JvT0elVnE7bT",
        "outputId": "e5047711-e06f-4824-cf2d-c3de6fefa095"
      },
      "outputs": [
        {
          "data": {
            "text/plain": [
              "140703981190240"
            ]
          },
          "execution_count": 70,
          "metadata": {},
          "output_type": "execute_result"
        }
      ],
      "source": [
        "id(a)"
      ]
    },
    {
      "cell_type": "code",
      "execution_count": null,
      "metadata": {
        "id": "DhKKMRSLE7bT",
        "outputId": "d90dbe09-2cc8-43bd-dafd-6967e498cf2c"
      },
      "outputs": [
        {
          "data": {
            "text/plain": [
              "140703981190208"
            ]
          },
          "execution_count": 71,
          "metadata": {},
          "output_type": "execute_result"
        }
      ],
      "source": [
        "id(b)"
      ]
    },
    {
      "cell_type": "code",
      "execution_count": null,
      "metadata": {
        "id": "iYoTdH3UE7bU",
        "outputId": "af342e84-55ec-413b-a57e-d807f74404f1"
      },
      "outputs": [
        {
          "data": {
            "text/plain": [
              "140703981190208"
            ]
          },
          "execution_count": 72,
          "metadata": {},
          "output_type": "execute_result"
        }
      ],
      "source": [
        "id(c)"
      ]
    },
    {
      "cell_type": "code",
      "execution_count": null,
      "metadata": {
        "id": "5Zw2EjREE7bV",
        "outputId": "fbe747e6-8e73-4dc8-ee33-723a53464c02"
      },
      "outputs": [
        {
          "data": {
            "text/plain": [
              "42"
            ]
          },
          "execution_count": 73,
          "metadata": {},
          "output_type": "execute_result"
        }
      ],
      "source": [
        "b"
      ]
    },
    {
      "cell_type": "code",
      "execution_count": null,
      "metadata": {
        "id": "y7XGQj4aE7bV",
        "outputId": "99c60b39-2963-47c0-f9bf-a1130575713e"
      },
      "outputs": [
        {
          "data": {
            "text/plain": [
              "42"
            ]
          },
          "execution_count": 74,
          "metadata": {},
          "output_type": "execute_result"
        }
      ],
      "source": [
        "c"
      ]
    },
    {
      "cell_type": "code",
      "execution_count": null,
      "metadata": {
        "id": "drxNJPzWE7bV",
        "outputId": "2e0ce41d-78b9-467f-897d-ce69cbc678cd"
      },
      "outputs": [
        {
          "data": {
            "text/plain": [
              "43"
            ]
          },
          "execution_count": 75,
          "metadata": {},
          "output_type": "execute_result"
        }
      ],
      "source": [
        "a"
      ]
    },
    {
      "cell_type": "code",
      "execution_count": null,
      "metadata": {
        "id": "FVzw7Jo9E7bW"
      },
      "outputs": [],
      "source": [
        "a=42"
      ]
    },
    {
      "cell_type": "code",
      "execution_count": null,
      "metadata": {
        "id": "oZAX5NWSE7bW",
        "outputId": "e6a36f31-0e0d-44d9-ebd5-4679ac34ae54"
      },
      "outputs": [
        {
          "data": {
            "text/plain": [
              "140703981190208"
            ]
          },
          "execution_count": 77,
          "metadata": {},
          "output_type": "execute_result"
        }
      ],
      "source": [
        "id(a)"
      ]
    },
    {
      "cell_type": "code",
      "execution_count": null,
      "metadata": {
        "id": "HBvZg_NqE7bW"
      },
      "outputs": [],
      "source": [
        "a=10"
      ]
    },
    {
      "cell_type": "code",
      "execution_count": null,
      "metadata": {
        "id": "L1Jx1S0YE7bW",
        "outputId": "c87979a7-3773-43c0-ac2e-83feb9658593"
      },
      "outputs": [
        {
          "data": {
            "text/plain": [
              "140703981189184"
            ]
          },
          "execution_count": 79,
          "metadata": {},
          "output_type": "execute_result"
        }
      ],
      "source": [
        "id(a)"
      ]
    },
    {
      "cell_type": "code",
      "execution_count": null,
      "metadata": {
        "id": "ICz_-e7bE7bX"
      },
      "outputs": [],
      "source": [
        "a=20"
      ]
    },
    {
      "cell_type": "code",
      "execution_count": null,
      "metadata": {
        "id": "VOQvUG8nE7bX",
        "outputId": "f2a3188a-ca78-4a51-9f78-f8bd41023625"
      },
      "outputs": [
        {
          "data": {
            "text/plain": [
              "140703981189504"
            ]
          },
          "execution_count": 81,
          "metadata": {},
          "output_type": "execute_result"
        }
      ],
      "source": [
        "id(20)"
      ]
    },
    {
      "cell_type": "code",
      "execution_count": null,
      "metadata": {
        "id": "9tS9LWvdE7bX"
      },
      "outputs": [],
      "source": [
        "a=30"
      ]
    },
    {
      "cell_type": "code",
      "execution_count": null,
      "metadata": {
        "id": "BL3qUZ7cE7bX",
        "outputId": "dcbd426e-9681-490c-ac0e-44c3e6317d90"
      },
      "outputs": [
        {
          "data": {
            "text/plain": [
              "140703981189824"
            ]
          },
          "execution_count": 84,
          "metadata": {},
          "output_type": "execute_result"
        }
      ],
      "source": [
        "id(a)"
      ]
    },
    {
      "cell_type": "code",
      "execution_count": null,
      "metadata": {
        "id": "pK4qj9g4E7bY"
      },
      "outputs": [],
      "source": [
        "a=\"sunny\""
      ]
    },
    {
      "cell_type": "code",
      "execution_count": null,
      "metadata": {
        "id": "-utf4ETkE7bY"
      },
      "outputs": [],
      "source": [
        "b=\"sudhanshu\""
      ]
    },
    {
      "cell_type": "code",
      "execution_count": null,
      "metadata": {
        "id": "ETCTPn94E7bY",
        "outputId": "2be24823-c922-4cbd-a5b6-ed004ba1e10d"
      },
      "outputs": [
        {
          "data": {
            "text/plain": [
              "False"
            ]
          },
          "execution_count": 87,
          "metadata": {},
          "output_type": "execute_result"
        }
      ],
      "source": [
        "a is b"
      ]
    },
    {
      "cell_type": "code",
      "execution_count": null,
      "metadata": {
        "id": "cELciegKE7bZ",
        "outputId": "a2b06a26-bc07-4f1b-e89e-c1765d340cb8"
      },
      "outputs": [
        {
          "data": {
            "text/plain": [
              "2130760172912"
            ]
          },
          "execution_count": 88,
          "metadata": {},
          "output_type": "execute_result"
        }
      ],
      "source": [
        "id(a)"
      ]
    },
    {
      "cell_type": "code",
      "execution_count": null,
      "metadata": {
        "id": "CxjtqL2KE7bZ",
        "outputId": "7528b12d-e23a-4d58-e8dc-647424782fb5"
      },
      "outputs": [
        {
          "data": {
            "text/plain": [
              "2130793892016"
            ]
          },
          "execution_count": 89,
          "metadata": {},
          "output_type": "execute_result"
        }
      ],
      "source": [
        "id(b)"
      ]
    },
    {
      "cell_type": "code",
      "execution_count": null,
      "metadata": {
        "id": "tWiSushzE7bZ"
      },
      "outputs": [],
      "source": [
        "a=\"ravi\""
      ]
    },
    {
      "cell_type": "code",
      "execution_count": null,
      "metadata": {
        "id": "RREQ6J5sE7bZ"
      },
      "outputs": [],
      "source": [
        "b=\"ravi\""
      ]
    },
    {
      "cell_type": "code",
      "execution_count": null,
      "metadata": {
        "id": "qTL7BLa-E7ba",
        "outputId": "6ef9ea15-42b5-41d1-f776-a329b253af1a"
      },
      "outputs": [
        {
          "data": {
            "text/plain": [
              "True"
            ]
          },
          "execution_count": 92,
          "metadata": {},
          "output_type": "execute_result"
        }
      ],
      "source": [
        "a is b"
      ]
    },
    {
      "cell_type": "code",
      "execution_count": null,
      "metadata": {
        "id": "pC8I-GQOE7ba",
        "outputId": "bffb6ae9-3d5f-4f85-a2f0-c72f0f6b742a"
      },
      "outputs": [
        {
          "data": {
            "text/plain": [
              "2130794293872"
            ]
          },
          "execution_count": 93,
          "metadata": {},
          "output_type": "execute_result"
        }
      ],
      "source": [
        "id(a)"
      ]
    },
    {
      "cell_type": "code",
      "execution_count": null,
      "metadata": {
        "id": "vkR9xYb_E7bb",
        "outputId": "1779088b-34bb-42e5-c26f-50249d399a70"
      },
      "outputs": [
        {
          "data": {
            "text/plain": [
              "2130794293872"
            ]
          },
          "execution_count": 94,
          "metadata": {},
          "output_type": "execute_result"
        }
      ],
      "source": [
        "id(b)"
      ]
    },
    {
      "cell_type": "code",
      "execution_count": null,
      "metadata": {
        "id": "s4jXvVVNE7bc"
      },
      "outputs": [],
      "source": [
        "a=[1,2,3,4,5]"
      ]
    },
    {
      "cell_type": "code",
      "execution_count": null,
      "metadata": {
        "id": "QDb64eiRE7bd",
        "outputId": "6bde9ef5-13b6-465e-974e-86006ed8b058"
      },
      "outputs": [
        {
          "data": {
            "text/plain": [
              "2130794313536"
            ]
          },
          "execution_count": 96,
          "metadata": {},
          "output_type": "execute_result"
        }
      ],
      "source": [
        "id(a)"
      ]
    },
    {
      "cell_type": "code",
      "execution_count": null,
      "metadata": {
        "id": "C0LQPZjdE7bd",
        "outputId": "554170a6-ec2f-4425-8e43-53e585a5699b"
      },
      "outputs": [
        {
          "data": {
            "text/plain": [
              "list"
            ]
          },
          "execution_count": 97,
          "metadata": {},
          "output_type": "execute_result"
        }
      ],
      "source": [
        "type(a)"
      ]
    },
    {
      "cell_type": "code",
      "execution_count": null,
      "metadata": {
        "id": "IeyEbI01E7be"
      },
      "outputs": [],
      "source": [
        "a[3]=7"
      ]
    },
    {
      "cell_type": "code",
      "execution_count": null,
      "metadata": {
        "id": "0Q15zWmLE7be",
        "outputId": "d7d3f76b-f388-40d5-d7a9-599b2dbc7e17"
      },
      "outputs": [
        {
          "data": {
            "text/plain": [
              "[1, 2, 3, 7, 5]"
            ]
          },
          "execution_count": 99,
          "metadata": {},
          "output_type": "execute_result"
        }
      ],
      "source": [
        "a"
      ]
    },
    {
      "cell_type": "code",
      "execution_count": null,
      "metadata": {
        "id": "Acxhl7s2E7be",
        "outputId": "6cc305b0-8c51-4a9e-d3e7-ed259eb4061f"
      },
      "outputs": [
        {
          "data": {
            "text/plain": [
              "2130794313536"
            ]
          },
          "execution_count": 100,
          "metadata": {},
          "output_type": "execute_result"
        }
      ],
      "source": [
        "id(a)"
      ]
    },
    {
      "cell_type": "code",
      "execution_count": null,
      "metadata": {
        "id": "SQTg4Ze7E7be"
      },
      "outputs": [],
      "source": [
        "a=42"
      ]
    },
    {
      "cell_type": "code",
      "execution_count": null,
      "metadata": {
        "id": "hCItmqynE7bf",
        "outputId": "bc21e993-61d4-4600-ea36-b190866eb6b8"
      },
      "outputs": [
        {
          "data": {
            "text/plain": [
              "140703981190208"
            ]
          },
          "execution_count": 102,
          "metadata": {},
          "output_type": "execute_result"
        }
      ],
      "source": [
        "id(a)"
      ]
    },
    {
      "cell_type": "code",
      "execution_count": null,
      "metadata": {
        "id": "pdqGK5UiE7bf"
      },
      "outputs": [],
      "source": [
        "a=43"
      ]
    },
    {
      "cell_type": "code",
      "execution_count": null,
      "metadata": {
        "id": "FCWILgn4E7bf",
        "outputId": "a6e1f93b-ad2a-4869-d1eb-89502de1f647"
      },
      "outputs": [
        {
          "data": {
            "text/plain": [
              "140703981190240"
            ]
          },
          "execution_count": 104,
          "metadata": {},
          "output_type": "execute_result"
        }
      ],
      "source": [
        "id(a)"
      ]
    },
    {
      "cell_type": "code",
      "execution_count": null,
      "metadata": {
        "id": "xyt0okSoE7bg"
      },
      "outputs": [],
      "source": [
        "tup=(1,2,3,4,5)"
      ]
    },
    {
      "cell_type": "code",
      "execution_count": null,
      "metadata": {
        "id": "axn66TziE7bg",
        "outputId": "0092bdca-ba97-4df3-9767-f0d0527fab18"
      },
      "outputs": [
        {
          "ename": "TypeError",
          "evalue": "'tuple' object does not support item assignment",
          "output_type": "error",
          "traceback": [
            "\u001b[1;31m---------------------------------------------------------------------------\u001b[0m",
            "\u001b[1;31mTypeError\u001b[0m                                 Traceback (most recent call last)",
            "\u001b[1;32m<ipython-input-106-79950056ad54>\u001b[0m in \u001b[0;36m<module>\u001b[1;34m\u001b[0m\n\u001b[1;32m----> 1\u001b[1;33m \u001b[0mtup\u001b[0m\u001b[1;33m[\u001b[0m\u001b[1;36m0\u001b[0m\u001b[1;33m]\u001b[0m\u001b[1;33m=\u001b[0m\u001b[1;36m4\u001b[0m\u001b[1;33m\u001b[0m\u001b[1;33m\u001b[0m\u001b[0m\n\u001b[0m",
            "\u001b[1;31mTypeError\u001b[0m: 'tuple' object does not support item assignment"
          ]
        }
      ],
      "source": [
        "tup[0]=4"
      ]
    },
    {
      "cell_type": "code",
      "execution_count": null,
      "metadata": {
        "id": "p0vdOeSfE7bg",
        "outputId": "1f5c74dc-f68c-4e43-c9e2-b80b1fbd904f"
      },
      "outputs": [
        {
          "data": {
            "text/plain": [
              "2130761246416"
            ]
          },
          "execution_count": 107,
          "metadata": {},
          "output_type": "execute_result"
        }
      ],
      "source": [
        "id(tup)"
      ]
    },
    {
      "cell_type": "code",
      "execution_count": null,
      "metadata": {
        "id": "7vy9L3uME7bg"
      },
      "outputs": [],
      "source": [
        "tup=(787,87348,98734985)"
      ]
    },
    {
      "cell_type": "code",
      "execution_count": null,
      "metadata": {
        "id": "fLHFNGZzE7bh",
        "outputId": "b3db9d8a-dc68-47f9-f388-ecaa228b27c7"
      },
      "outputs": [
        {
          "data": {
            "text/plain": [
              "2130793806976"
            ]
          },
          "execution_count": 109,
          "metadata": {},
          "output_type": "execute_result"
        }
      ],
      "source": [
        "id(tup)"
      ]
    },
    {
      "cell_type": "code",
      "execution_count": null,
      "metadata": {
        "id": "VeGNbExaE7bh"
      },
      "outputs": [],
      "source": []
    }
  ],
  "metadata": {
    "colab": {
      "collapsed_sections": [],
      "provenance": [],
      "include_colab_link": true
    },
    "kernelspec": {
      "display_name": "Python 3",
      "language": "python",
      "name": "python3"
    },
    "language_info": {
      "codemirror_mode": {
        "name": "ipython",
        "version": 3
      },
      "file_extension": ".py",
      "mimetype": "text/x-python",
      "name": "python",
      "nbconvert_exporter": "python",
      "pygments_lexer": "ipython3",
      "version": "3.8.3"
    }
  },
  "nbformat": 4,
  "nbformat_minor": 0
}