{
  "cells": [
    {
      "cell_type": "markdown",
      "metadata": {
        "id": "view-in-github",
        "colab_type": "text"
      },
      "source": [
        "<a href=\"https://colab.research.google.com/github/Sandeshjain-DS/ineuron_full_Stack_ds/blob/main/for_loops_while_loop.ipynb\" target=\"_parent\"><img src=\"https://colab.research.google.com/assets/colab-badge.svg\" alt=\"Open In Colab\"/></a>"
      ]
    },
    {
      "cell_type": "code",
      "execution_count": null,
      "metadata": {
        "id": "2zj9maFx6FmT",
        "outputId": "5c05758b-f252-44bf-f6d7-afc0a6604f81"
      },
      "outputs": [
        {
          "name": "stdout",
          "output_type": "stream",
          "text": [
            "namesudh\n",
            "emialidsudh\n",
            "phonenosudh\n",
            "addresssudh\n"
          ]
        }
      ],
      "source": [
        "l = [\"name\" , \"emialid\" , \"phoneno\" , \"address\"]\n",
        "for i in l :\n",
        "    print(i + \"sudh\")\n",
        "    "
      ]
    },
    {
      "cell_type": "code",
      "execution_count": null,
      "metadata": {
        "id": "OP-GWElm6Fmg",
        "outputId": "3bee3364-0447-4a38-c7ff-8db8aef0de5c"
      },
      "outputs": [
        {
          "name": "stdout",
          "output_type": "stream",
          "text": [
            "i\n",
            "n\n",
            "e\n",
            "u\n",
            "r\n",
            "o\n",
            "n\n"
          ]
        }
      ],
      "source": [
        "s = \"ineuron\"\n",
        "for i in s :\n",
        "    print(i)"
      ]
    },
    {
      "cell_type": "code",
      "execution_count": null,
      "metadata": {
        "id": "BqoBGSvH6Fmi",
        "outputId": "adc27601-2fbb-47bd-fcce-6fd62d4fa062"
      },
      "outputs": [
        {
          "data": {
            "text/plain": [
              "['name', 'emialid', 'phoneno', 'address']"
            ]
          },
          "execution_count": 4,
          "metadata": {},
          "output_type": "execute_result"
        }
      ],
      "source": [
        "l"
      ]
    },
    {
      "cell_type": "code",
      "execution_count": null,
      "metadata": {
        "id": "iOn_i_kX6Fmk",
        "outputId": "dd8d480c-fdb9-46b6-d545-88f955237255"
      },
      "outputs": [
        {
          "name": "stdout",
          "output_type": "stream",
          "text": [
            "name\n",
            "emialid\n",
            "phoneno\n",
            "address\n",
            "if for loop is going to complete itself then it will come to else \n"
          ]
        }
      ],
      "source": [
        "for i in l :\n",
        "    print(i)\n",
        "else :\n",
        "    print(\"if for loop is going to complete itself then it will come to else \")"
      ]
    },
    {
      "cell_type": "code",
      "execution_count": null,
      "metadata": {
        "id": "ePBM17EZ6Fmm",
        "outputId": "306d8470-d13d-4c76-920e-553f2bfa504a"
      },
      "outputs": [
        {
          "data": {
            "text/plain": [
              "['name', 'emialid', 'phoneno', 'address']"
            ]
          },
          "execution_count": 7,
          "metadata": {},
          "output_type": "execute_result"
        }
      ],
      "source": [
        "l"
      ]
    },
    {
      "cell_type": "code",
      "execution_count": null,
      "metadata": {
        "id": "eFk6hvLf6Fmn",
        "outputId": "53d6e446-3f32-40a1-9af8-f69991ece97f"
      },
      "outputs": [
        {
          "name": "stdout",
          "output_type": "stream",
          "text": [
            "name\n"
          ]
        }
      ],
      "source": [
        "for i in l :\n",
        "    if i == \"emialid\":\n",
        "        break\n",
        "    print(i)\n",
        "else :\n",
        "    print(\"check this statemnt \")"
      ]
    },
    {
      "cell_type": "code",
      "execution_count": null,
      "metadata": {
        "id": "1gIxsnND6Fmq",
        "outputId": "1d5c5b8e-778f-4070-dfd5-422c24951d34"
      },
      "outputs": [
        {
          "name": "stdout",
          "output_type": "stream",
          "text": [
            "s\n",
            "u\n",
            "d\n",
            "h\n",
            "a\n"
          ]
        }
      ],
      "source": [
        "s = \"sudhanshu\"\n",
        "for i in s:\n",
        "    if i == \"n\" : \n",
        "        break \n",
        "    print(i)\n",
        "else :\n",
        "    print(\"dont exectute is unless and untill it is not printing my name \")"
      ]
    },
    {
      "cell_type": "code",
      "execution_count": null,
      "metadata": {
        "id": "F5pE2Yl76Fmr",
        "outputId": "b4e0e432-3d9c-476f-f489-486e61442e4e"
      },
      "outputs": [
        {
          "name": "stdout",
          "output_type": "stream",
          "text": [
            "1\n",
            "2\n",
            "3\n",
            "4\n",
            "5\n"
          ]
        }
      ],
      "source": [
        "a = 1 \n",
        "while a <6 :\n",
        "    print(a)\n",
        "    a =a +1"
      ]
    },
    {
      "cell_type": "code",
      "execution_count": null,
      "metadata": {
        "id": "C3Gshn7X6Fmt",
        "outputId": "8bd303c8-9c9e-43b9-ecb8-f302c914e239"
      },
      "outputs": [
        {
          "name": "stdout",
          "output_type": "stream",
          "text": [
            "1\n",
            "2\n",
            "3\n",
            "4\n"
          ]
        }
      ],
      "source": [
        "a = 1 \n",
        "while a < 5 :\n",
        "    print(a)\n",
        "    if a == 4 :\n",
        "        break\n",
        "    a = a +1 "
      ]
    },
    {
      "cell_type": "code",
      "execution_count": null,
      "metadata": {
        "id": "vMwTNwBi6Fmw",
        "outputId": "0890fa49-7289-4ee3-b89d-f3a60c8877f9"
      },
      "outputs": [
        {
          "name": "stdout",
          "output_type": "stream",
          "text": [
            "1\n",
            "2\n",
            "3\n",
            "4\n"
          ]
        }
      ],
      "source": [
        "a = 1 \n",
        "while a < 5 :\n",
        "    print(a)\n",
        "    a = a + 1\n",
        "    if a == 3:\n",
        "        continue\n",
        "    "
      ]
    },
    {
      "cell_type": "code",
      "execution_count": null,
      "metadata": {
        "id": "LxN7l77U6Fmx",
        "outputId": "7180b931-3866-455d-c8c4-6adfefdf04c0"
      },
      "outputs": [
        {
          "data": {
            "text/plain": [
              "7"
            ]
          },
          "execution_count": 97,
          "metadata": {},
          "output_type": "execute_result"
        }
      ],
      "source": [
        "a"
      ]
    },
    {
      "cell_type": "code",
      "execution_count": null,
      "metadata": {
        "id": "ajxGiuy96Fmy"
      },
      "outputs": [],
      "source": [
        "while a < 5 :\n",
        "    pass"
      ]
    },
    {
      "cell_type": "code",
      "execution_count": null,
      "metadata": {
        "id": "7IbPdtSg6Fmz"
      },
      "outputs": [],
      "source": [
        "for i in l :\n",
        "    pass"
      ]
    },
    {
      "cell_type": "code",
      "execution_count": null,
      "metadata": {
        "id": "wNvex7p96Fmz"
      },
      "outputs": [],
      "source": [
        "while a < 4 :\n",
        "    break"
      ]
    },
    {
      "cell_type": "code",
      "execution_count": null,
      "metadata": {
        "id": "lvWlJZZX6Fm0"
      },
      "outputs": [],
      "source": [
        "a = 1 "
      ]
    },
    {
      "cell_type": "code",
      "execution_count": null,
      "metadata": {
        "id": "XQ3LnNUk6Fm1",
        "outputId": "61e42321-1696-4def-fda9-c03570d2c05b"
      },
      "outputs": [
        {
          "ename": "KeyboardInterrupt",
          "evalue": "",
          "output_type": "error",
          "traceback": [
            "\u001b[1;31m---------------------------------------------------------------------------\u001b[0m",
            "\u001b[1;31mKeyboardInterrupt\u001b[0m                         Traceback (most recent call last)",
            "\u001b[1;32m<ipython-input-24-8cfcabfebe0b>\u001b[0m in \u001b[0;36m<module>\u001b[1;34m\u001b[0m\n\u001b[1;32m----> 1\u001b[1;33m \u001b[1;32mwhile\u001b[0m \u001b[0ma\u001b[0m \u001b[1;33m<\u001b[0m \u001b[1;36m4\u001b[0m \u001b[1;33m:\u001b[0m\u001b[1;33m\u001b[0m\u001b[1;33m\u001b[0m\u001b[0m\n\u001b[0m\u001b[0;32m      2\u001b[0m     \u001b[1;32mcontinue\u001b[0m\u001b[1;33m\u001b[0m\u001b[1;33m\u001b[0m\u001b[0m\n",
            "\u001b[1;31mKeyboardInterrupt\u001b[0m: "
          ]
        }
      ],
      "source": [
        "while a < 4 :\n",
        "    continue"
      ]
    },
    {
      "cell_type": "code",
      "execution_count": null,
      "metadata": {
        "id": "W9YnauMc6Fm1",
        "outputId": "d0e69fe6-a2f7-4d9e-b97d-71ab7871f0b7"
      },
      "outputs": [
        {
          "data": {
            "text/plain": [
              "[0, 1, 2, 3, 4, 5]"
            ]
          },
          "execution_count": 26,
          "metadata": {},
          "output_type": "execute_result"
        }
      ],
      "source": [
        "list(range(6))"
      ]
    },
    {
      "cell_type": "code",
      "execution_count": null,
      "metadata": {
        "id": "ndl8leZc6Fm2",
        "outputId": "05d080f2-2085-41f0-8893-58373b93ea80"
      },
      "outputs": [
        {
          "data": {
            "text/plain": [
              "[0, 1, 2, 3, 4, 5, 6]"
            ]
          },
          "execution_count": 28,
          "metadata": {},
          "output_type": "execute_result"
        }
      ],
      "source": [
        "list(range(0,7))"
      ]
    },
    {
      "cell_type": "code",
      "execution_count": null,
      "metadata": {
        "id": "dCfiNGKY6Fm2",
        "outputId": "01063fa2-3160-4b37-8b55-3a9d3c54fddd"
      },
      "outputs": [
        {
          "data": {
            "text/plain": [
              "[4,\n",
              " 5,\n",
              " 6,\n",
              " 7,\n",
              " 8,\n",
              " 9,\n",
              " 10,\n",
              " 11,\n",
              " 12,\n",
              " 13,\n",
              " 14,\n",
              " 15,\n",
              " 16,\n",
              " 17,\n",
              " 18,\n",
              " 19,\n",
              " 20,\n",
              " 21,\n",
              " 22,\n",
              " 23,\n",
              " 24,\n",
              " 25,\n",
              " 26,\n",
              " 27,\n",
              " 28,\n",
              " 29,\n",
              " 30,\n",
              " 31,\n",
              " 32,\n",
              " 33,\n",
              " 34,\n",
              " 35,\n",
              " 36,\n",
              " 37,\n",
              " 38,\n",
              " 39,\n",
              " 40,\n",
              " 41,\n",
              " 42,\n",
              " 43,\n",
              " 44,\n",
              " 45,\n",
              " 46,\n",
              " 47,\n",
              " 48,\n",
              " 49,\n",
              " 50,\n",
              " 51,\n",
              " 52,\n",
              " 53,\n",
              " 54,\n",
              " 55,\n",
              " 56,\n",
              " 57,\n",
              " 58,\n",
              " 59,\n",
              " 60,\n",
              " 61,\n",
              " 62,\n",
              " 63,\n",
              " 64,\n",
              " 65,\n",
              " 66,\n",
              " 67,\n",
              " 68,\n",
              " 69,\n",
              " 70,\n",
              " 71,\n",
              " 72,\n",
              " 73,\n",
              " 74,\n",
              " 75,\n",
              " 76,\n",
              " 77,\n",
              " 78,\n",
              " 79,\n",
              " 80,\n",
              " 81,\n",
              " 82,\n",
              " 83,\n",
              " 84,\n",
              " 85,\n",
              " 86,\n",
              " 87,\n",
              " 88,\n",
              " 89,\n",
              " 90,\n",
              " 91,\n",
              " 92,\n",
              " 93,\n",
              " 94,\n",
              " 95,\n",
              " 96,\n",
              " 97,\n",
              " 98,\n",
              " 99]"
            ]
          },
          "execution_count": 29,
          "metadata": {},
          "output_type": "execute_result"
        }
      ],
      "source": [
        "list(range(4,100))"
      ]
    },
    {
      "cell_type": "code",
      "execution_count": null,
      "metadata": {
        "id": "L01Mx8fA6Fm4",
        "outputId": "a51f78c0-7b8b-4305-ce4a-c137a3ecda4c"
      },
      "outputs": [
        {
          "data": {
            "text/plain": [
              "[3, 4, 5, 6, 7, 8, 9]"
            ]
          },
          "execution_count": 32,
          "metadata": {},
          "output_type": "execute_result"
        }
      ],
      "source": [
        "list(range(3 , 10 , 1))"
      ]
    },
    {
      "cell_type": "code",
      "execution_count": null,
      "metadata": {
        "id": "zg-OW0Js6Fm8",
        "outputId": "1d812d81-8a27-435e-bdcf-0a9c65ee21d8"
      },
      "outputs": [
        {
          "data": {
            "text/plain": [
              "[3, 4, 5, 6, 7, 8, 9]"
            ]
          },
          "execution_count": 33,
          "metadata": {},
          "output_type": "execute_result"
        }
      ],
      "source": [
        "list(range(3 , 10))"
      ]
    },
    {
      "cell_type": "code",
      "execution_count": null,
      "metadata": {
        "id": "c_h9_jt26Fm9",
        "outputId": "400be29b-c148-4c80-98de-7b84ae88efdc"
      },
      "outputs": [
        {
          "data": {
            "text/plain": [
              "[]"
            ]
          },
          "execution_count": 34,
          "metadata": {},
          "output_type": "execute_result"
        }
      ],
      "source": [
        "list(range(3 , 10 , -1))"
      ]
    },
    {
      "cell_type": "code",
      "execution_count": null,
      "metadata": {
        "id": "F9s5mhgO6Fm9",
        "outputId": "c7f2920f-bbe0-4c52-8701-2b7ad33d7241"
      },
      "outputs": [
        {
          "data": {
            "text/plain": [
              "[10, 9, 8, 7]"
            ]
          },
          "execution_count": 35,
          "metadata": {},
          "output_type": "execute_result"
        }
      ],
      "source": [
        "list(range(10 , 6 , -1))"
      ]
    },
    {
      "cell_type": "code",
      "execution_count": null,
      "metadata": {
        "id": "2IFeEEOX6Fm-",
        "outputId": "1a322c8c-0938-46be-c2a2-b03bab33d004"
      },
      "outputs": [
        {
          "data": {
            "text/plain": [
              "[10, 8, 6, 4, 2, 0, -2, -4]"
            ]
          },
          "execution_count": 36,
          "metadata": {},
          "output_type": "execute_result"
        }
      ],
      "source": [
        "list(range(10 , -5 , -2))"
      ]
    },
    {
      "cell_type": "code",
      "execution_count": null,
      "metadata": {
        "id": "M4Sc-e1a6Fm-",
        "outputId": "433f169b-8cbd-4eed-f6fd-eb8f4be512df"
      },
      "outputs": [
        {
          "name": "stdout",
          "output_type": "stream",
          "text": [
            "10\n",
            "8\n",
            "6\n",
            "4\n",
            "2\n",
            "0\n",
            "-2\n",
            "-4\n"
          ]
        }
      ],
      "source": [
        "for i in range(10 , -5 , -2):\n",
        "    print(i)"
      ]
    },
    {
      "cell_type": "code",
      "execution_count": null,
      "metadata": {
        "id": "7YsIGBrH6Fm_",
        "outputId": "19e5216d-73b3-4405-f84c-34ad9753db92"
      },
      "outputs": [
        {
          "name": "stdout",
          "output_type": "stream",
          "text": [
            "sudh \n",
            "\n",
            "sudh sudh \n",
            "\n",
            "sudh sudh sudh \n",
            "\n",
            "sudh sudh sudh sudh \n",
            "\n",
            "sudh sudh sudh sudh sudh \n",
            "\n"
          ]
        }
      ],
      "source": [
        "n = 5 \n",
        "for i in range(0,n) : \n",
        "    for j in range(0,i+1):\n",
        "        print(\"sudh \" , end = \"\")\n",
        "    print(\"\\n\")"
      ]
    },
    {
      "cell_type": "code",
      "execution_count": null,
      "metadata": {
        "id": "Zky0ljnH6Fm_",
        "outputId": "236d8532-ec9f-4c89-fdf7-186f6e02d31b"
      },
      "outputs": [
        {
          "name": "stdout",
          "output_type": "stream",
          "text": [
            "1\n",
            "2\n",
            "3\n",
            "43\n",
            "5\n",
            "5\n",
            "5\n",
            "6\n",
            "7\n",
            "78\n"
          ]
        }
      ],
      "source": [
        "l = [1,2,3,43,5,5,5,6,7,78]\n",
        "for i in l :\n",
        "    print(i)"
      ]
    },
    {
      "cell_type": "code",
      "execution_count": null,
      "metadata": {
        "id": "JoXIRPA16FnA",
        "outputId": "d771219d-6cc1-4774-d06d-f2e008fc8d42"
      },
      "outputs": [
        {
          "name": "stdout",
          "output_type": "stream",
          "text": [
            "0 3\n",
            "1 4\n",
            "2 4\n",
            "3 5\n",
            "4 6\n",
            "5 7\n",
            "6 7\n"
          ]
        }
      ],
      "source": [
        "t = (3,4,4,5,6,7,7)\n",
        "for i in range(len(t)):\n",
        "    print(i ,t[i] )"
      ]
    },
    {
      "cell_type": "code",
      "execution_count": null,
      "metadata": {
        "id": "mls5-JFu6FnA",
        "outputId": "006ea5e4-6ac3-4947-f3da-e2a188ae3215"
      },
      "outputs": [
        {
          "name": "stdout",
          "output_type": "stream",
          "text": [
            "3\n",
            "4\n",
            "4\n",
            "5\n",
            "6\n",
            "7\n",
            "7\n"
          ]
        }
      ],
      "source": [
        "for i in t :\n",
        "    print(i)"
      ]
    },
    {
      "cell_type": "code",
      "execution_count": null,
      "metadata": {
        "id": "tQ7ohze_6FnB",
        "outputId": "6be3a9bb-c56a-4db7-849b-0ffd32c3df2c"
      },
      "outputs": [
        {
          "name": "stdout",
          "output_type": "stream",
          "text": [
            "i\n",
            "n\n",
            "e\n",
            "u\n",
            "r\n",
            "o\n",
            "n\n"
          ]
        }
      ],
      "source": [
        "s = \"ineuron\"\n",
        "for i in s:\n",
        "    print(i)"
      ]
    },
    {
      "cell_type": "code",
      "execution_count": null,
      "metadata": {
        "id": "Cl2l1lso6FnB",
        "outputId": "c1cc065c-83a8-4349-99ad-bf776bd7a82e"
      },
      "outputs": [
        {
          "data": {
            "text/plain": [
              "(3, 4, 4, 5, 6, 7, 7)"
            ]
          },
          "execution_count": 62,
          "metadata": {},
          "output_type": "execute_result"
        }
      ],
      "source": [
        "t "
      ]
    },
    {
      "cell_type": "code",
      "execution_count": null,
      "metadata": {
        "id": "zfBEqbWW6FnB",
        "outputId": "93218b68-c198-48cf-b8e9-6b9d9346c31a"
      },
      "outputs": [
        {
          "ename": "IndexError",
          "evalue": "tuple index out of range",
          "output_type": "error",
          "traceback": [
            "\u001b[1;31m---------------------------------------------------------------------------\u001b[0m",
            "\u001b[1;31mIndexError\u001b[0m                                Traceback (most recent call last)",
            "\u001b[1;32m<ipython-input-68-ef914c3c3895>\u001b[0m in \u001b[0;36m<module>\u001b[1;34m\u001b[0m\n\u001b[1;32m----> 1\u001b[1;33m \u001b[0mt\u001b[0m\u001b[1;33m[\u001b[0m\u001b[1;36m7\u001b[0m\u001b[1;33m]\u001b[0m\u001b[1;33m\u001b[0m\u001b[1;33m\u001b[0m\u001b[0m\n\u001b[0m",
            "\u001b[1;31mIndexError\u001b[0m: tuple index out of range"
          ]
        }
      ],
      "source": [
        "t[7]"
      ]
    },
    {
      "cell_type": "code",
      "execution_count": null,
      "metadata": {
        "id": "vVrppPKf6FnC",
        "outputId": "0c68f61b-3a57-457f-c113-4237fc732936"
      },
      "outputs": [
        {
          "data": {
            "text/plain": [
              "(3, 4, 4, 5, 6, 7, 7)"
            ]
          },
          "execution_count": 70,
          "metadata": {},
          "output_type": "execute_result"
        }
      ],
      "source": [
        "t"
      ]
    },
    {
      "cell_type": "code",
      "execution_count": null,
      "metadata": {
        "id": "6eomVgE-6FnC",
        "outputId": "9a7883a2-2f51-44b0-d134-3550613fafb1"
      },
      "outputs": [
        {
          "ename": "IndexError",
          "evalue": "tuple index out of range",
          "output_type": "error",
          "traceback": [
            "\u001b[1;31m---------------------------------------------------------------------------\u001b[0m",
            "\u001b[1;31mIndexError\u001b[0m                                Traceback (most recent call last)",
            "\u001b[1;32m<ipython-input-90-ef914c3c3895>\u001b[0m in \u001b[0;36m<module>\u001b[1;34m\u001b[0m\n\u001b[1;32m----> 1\u001b[1;33m \u001b[0mt\u001b[0m\u001b[1;33m[\u001b[0m\u001b[1;36m7\u001b[0m\u001b[1;33m]\u001b[0m\u001b[1;33m\u001b[0m\u001b[1;33m\u001b[0m\u001b[0m\n\u001b[0m",
            "\u001b[1;31mIndexError\u001b[0m: tuple index out of range"
          ]
        }
      ],
      "source": [
        "t[7]"
      ]
    },
    {
      "cell_type": "code",
      "execution_count": null,
      "metadata": {
        "id": "IRHJJ48P6FnD",
        "outputId": "eb9c4417-1b6d-4099-9b1c-6879273ae9a0"
      },
      "outputs": [
        {
          "data": {
            "text/plain": [
              "[6, 5, 4, 3, 2, 1, 0]"
            ]
          },
          "execution_count": 72,
          "metadata": {},
          "output_type": "execute_result"
        }
      ],
      "source": [
        "list(range(len(t)-1 , -1, -1))"
      ]
    },
    {
      "cell_type": "code",
      "execution_count": null,
      "metadata": {
        "id": "mDTb43ai6FnD",
        "outputId": "12280994-1a40-42d0-ba28-3fda9c8e685b"
      },
      "outputs": [
        {
          "name": "stdout",
          "output_type": "stream",
          "text": [
            "7\n",
            "7\n",
            "6\n",
            "5\n",
            "4\n",
            "4\n",
            "3\n"
          ]
        }
      ],
      "source": [
        "for i in range(len(t)-1 , -1, -1):\n",
        "    print(t[i])"
      ]
    },
    {
      "cell_type": "code",
      "execution_count": null,
      "metadata": {
        "id": "w_YJ9Eja6FnE"
      },
      "outputs": [],
      "source": []
    },
    {
      "cell_type": "code",
      "execution_count": null,
      "metadata": {
        "id": "dbrWrsTu6FnE",
        "outputId": "04488c39-67e9-468c-e2dc-b73cbdb8801a"
      },
      "outputs": [
        {
          "data": {
            "text/plain": [
              "(7, 7, 6, 5, 4, 4, 3)"
            ]
          },
          "execution_count": 63,
          "metadata": {},
          "output_type": "execute_result"
        }
      ],
      "source": [
        "t[::-1]"
      ]
    },
    {
      "cell_type": "code",
      "execution_count": null,
      "metadata": {
        "id": "8Eoznyzb6FnF"
      },
      "outputs": [],
      "source": [
        "d = {\"a \" : \"fsdfds\" , \"b \" : \"fsdfsaf\" , \"c \" :[1,2,3,4,5] , \"d\" : (4,5,6,7)  , \"e\":\"sudh\"}"
      ]
    },
    {
      "cell_type": "code",
      "execution_count": null,
      "metadata": {
        "id": "7l6pd9hd6FnF",
        "outputId": "5038f3bd-2c29-477e-d037-2b27fe3e8b59"
      },
      "outputs": [
        {
          "data": {
            "text/plain": [
              "(4, 5, 6, 7)"
            ]
          },
          "execution_count": 78,
          "metadata": {},
          "output_type": "execute_result"
        }
      ],
      "source": [
        "d['d']"
      ]
    },
    {
      "cell_type": "code",
      "execution_count": null,
      "metadata": {
        "id": "Ry8WLfGb6FnF",
        "outputId": "530b8da6-95ff-4fbc-e833-0c0493d5ef8b"
      },
      "outputs": [
        {
          "name": "stdout",
          "output_type": "stream",
          "text": [
            "a  fsdfds\n",
            "b  fsdfsaf\n",
            "c  [1, 2, 3, 4, 5]\n",
            "d (4, 5, 6, 7)\n",
            "e sudh\n"
          ]
        }
      ],
      "source": [
        "for i in d :\n",
        "    print(i,d[i])"
      ]
    },
    {
      "cell_type": "code",
      "execution_count": null,
      "metadata": {
        "id": "BeA7m_1n6FnG",
        "outputId": "d4aecc33-8cb2-4e68-8a30-059c706b5228"
      },
      "outputs": [
        {
          "name": "stdout",
          "output_type": "stream",
          "text": [
            "('a ', 'fsdfds')\n",
            "('b ', 'fsdfsaf')\n",
            "('c ', [1, 2, 3, 4, 5])\n",
            "('d', (4, 5, 6, 7))\n",
            "('e', 'sudh')\n"
          ]
        }
      ],
      "source": [
        "for i in d.items():\n",
        "    print(i)"
      ]
    },
    {
      "cell_type": "code",
      "execution_count": null,
      "metadata": {
        "id": "mzKCwUtr6FnG"
      },
      "outputs": [],
      "source": [
        "s= {3,546,56,56,56,5,66,7,67,6,7,3,43,534,53,5,7}"
      ]
    },
    {
      "cell_type": "code",
      "execution_count": null,
      "metadata": {
        "id": "cWjk85xl6FnG",
        "outputId": "617182fc-c87c-4846-e640-85b41d6fb21a"
      },
      "outputs": [
        {
          "data": {
            "text/plain": [
              "{3, 5, 6, 7, 43, 53, 56, 66, 67, 534, 546}"
            ]
          },
          "execution_count": 83,
          "metadata": {},
          "output_type": "execute_result"
        }
      ],
      "source": [
        "s"
      ]
    },
    {
      "cell_type": "code",
      "execution_count": null,
      "metadata": {
        "id": "FVCvM6J56FnH",
        "outputId": "3952bdbe-80c9-4fe2-8dba-0fb236b0d33f"
      },
      "outputs": [
        {
          "name": "stdout",
          "output_type": "stream",
          "text": [
            "66\n",
            "546\n",
            "3\n",
            "5\n",
            "67\n",
            "7\n",
            "6\n",
            "43\n",
            "53\n",
            "534\n",
            "56\n"
          ]
        }
      ],
      "source": [
        "for i in s :\n",
        "    print(i)"
      ]
    },
    {
      "cell_type": "code",
      "execution_count": null,
      "metadata": {
        "id": "oywXdVfv6FnI"
      },
      "outputs": [],
      "source": [
        "a = 7 \n",
        "while i < 7 :\n",
        "    pass"
      ]
    },
    {
      "cell_type": "code",
      "execution_count": null,
      "metadata": {
        "id": "4qOJwONi6FnJ",
        "outputId": "816fbb82-d33a-452a-9f46-e0b650a13daf"
      },
      "outputs": [
        {
          "name": "stdout",
          "output_type": "stream",
          "text": [
            "num\n",
            "0\n",
            "num\n",
            "1\n",
            "num\n",
            "num\n",
            "3\n",
            "num\n",
            "4\n",
            "num\n",
            "5\n"
          ]
        }
      ],
      "source": [
        "for i in range(6):\n",
        "    print (\"num\")\n",
        "    if i==2:\n",
        "        continue\n",
        "    print(i)\n"
      ]
    },
    {
      "cell_type": "code",
      "execution_count": null,
      "metadata": {
        "id": "pIFaSTwj6FnK",
        "outputId": "2096fbb9-8e9e-40fb-9950-f98569e901af"
      },
      "outputs": [
        {
          "name": "stdout",
          "output_type": "stream",
          "text": [
            "6\n",
            "it will be difficult\n"
          ]
        }
      ],
      "source": [
        "study_hour = int(input())\n",
        "if study_hour <1 :\n",
        "    print('it may take 8-9 month of time to make a transistion')\n",
        "elif study_hour <4 and study_hour >1:\n",
        "    print ('it may take 6 month for transistion')\n",
        "elif study_hour >10:\n",
        "    print (\"it will take 3 month time for transistion\")\n",
        "else:\n",
        "    print(\"it will be difficult\")\n"
      ]
    },
    {
      "cell_type": "code",
      "execution_count": null,
      "metadata": {
        "id": "U-9s1Unv6FnL",
        "outputId": "2ebe131d-a335-4756-f5e2-219bb4a898f9"
      },
      "outputs": [
        {
          "ename": "KeyboardInterrupt",
          "evalue": "",
          "output_type": "error",
          "traceback": [
            "\u001b[1;31m---------------------------------------------------------------------------\u001b[0m",
            "\u001b[1;31mKeyboardInterrupt\u001b[0m                         Traceback (most recent call last)",
            "\u001b[1;32m<ipython-input-95-605d50b48f8d>\u001b[0m in \u001b[0;36m<module>\u001b[1;34m\u001b[0m\n\u001b[0;32m      1\u001b[0m \u001b[0ma\u001b[0m \u001b[1;33m=\u001b[0m \u001b[1;36m7\u001b[0m\u001b[1;33m\u001b[0m\u001b[1;33m\u001b[0m\u001b[0m\n\u001b[0;32m      2\u001b[0m \u001b[1;32mwhile\u001b[0m \u001b[0ma\u001b[0m \u001b[1;33m<\u001b[0m \u001b[1;36m10\u001b[0m\u001b[1;33m:\u001b[0m\u001b[1;33m\u001b[0m\u001b[1;33m\u001b[0m\u001b[0m\n\u001b[1;32m----> 3\u001b[1;33m     \u001b[1;32mpass\u001b[0m\u001b[1;33m\u001b[0m\u001b[1;33m\u001b[0m\u001b[0m\n\u001b[0m",
            "\u001b[1;31mKeyboardInterrupt\u001b[0m: "
          ]
        }
      ],
      "source": [
        "a = 7\n",
        "while a < 10:\n",
        "    pass"
      ]
    },
    {
      "cell_type": "code",
      "execution_count": null,
      "metadata": {
        "id": "CcR5m88W6FnL",
        "outputId": "8c4a094c-c0d1-4f9e-8988-bd0c429ee240"
      },
      "outputs": [
        {
          "name": "stdout",
          "output_type": "stream",
          "text": [
            "name\n",
            "email-id\n"
          ]
        }
      ],
      "source": [
        "l=[\"name\",\"email-id\",\"phone\",\"SAD\"]\n",
        "for i in l:\n",
        "    \n",
        "    \n",
        "    if i==\"phone\":\n",
        "         break\n",
        "    print(i)\n",
        "else:\n",
        "      print(\"check this statement\")\n"
      ]
    },
    {
      "cell_type": "code",
      "execution_count": null,
      "metadata": {
        "id": "nVvzmNc56FnL",
        "outputId": "98fb2584-bd45-4755-f41c-cf9e4d9b4fa3"
      },
      "outputs": [
        {
          "name": "stdout",
          "output_type": "stream",
          "text": [
            "4\n"
          ]
        }
      ],
      "source": [
        "a = (1,2,3,4)\n",
        "for i in a:\n",
        "    \n",
        "    pass\n",
        "print(i)\n",
        "\n"
      ]
    },
    {
      "cell_type": "code",
      "execution_count": null,
      "metadata": {
        "id": "gVNYILam6FnM",
        "outputId": "531ed626-c267-430b-d876-4bbf1b297a5b"
      },
      "outputs": [
        {
          "name": "stdout",
          "output_type": "stream",
          "text": [
            "* \n",
            "* * \n",
            "* * * \n",
            "* * * * \n",
            "* * * * * \n",
            "* * * * * * \n",
            "* * * * * * * \n",
            "* * * * * * * * \n",
            "* * * * * * * * * \n"
          ]
        }
      ],
      "source": [
        "## for trriangle series\n",
        "a = 10\n",
        "for i in range(1,a):\n",
        "    print(i*'* ')\n"
      ]
    },
    {
      "cell_type": "code",
      "execution_count": null,
      "metadata": {
        "id": "o5OBn27u6FnM",
        "outputId": "5dc5491a-51fb-4add-853f-112348b05b15"
      },
      "outputs": [
        {
          "name": "stdout",
          "output_type": "stream",
          "text": [
            "2\n",
            "3\n",
            "4\n",
            "5\n",
            "6\n",
            "7\n",
            "8\n",
            "9\n",
            "45\n",
            "23\n"
          ]
        }
      ],
      "source": [
        "s= {23,2,3,4,5,6,6,4,3,2,2,45,5,6,7,8,8,9}\n",
        "for i in s:\n",
        "    print(i)"
      ]
    },
    {
      "cell_type": "code",
      "execution_count": null,
      "metadata": {
        "id": "Gu1PdSEb6FnN",
        "outputId": "c72a6b82-a6af-4af8-b145-82fb98a79a7b"
      },
      "outputs": [
        {
          "name": "stdout",
          "output_type": "stream",
          "text": [
            "09\n",
            "it will be difficult\n"
          ]
        }
      ],
      "source": [
        "study_hour = int(input())\n",
        "if study_hour <1 :\n",
        "    print('it may take 8-9 month of time to make a transistion')\n",
        "elif study_hour <4 and study_hour >1:\n",
        "    print ('it may take 6 month for transistion')\n",
        "elif study_hour >10:\n",
        "    print (\"it will take 3 month time for transistion\")\n",
        "else:\n",
        "    print(\"it will be difficult\")"
      ]
    },
    {
      "cell_type": "code",
      "execution_count": null,
      "metadata": {
        "id": "BeB9VgRK6FnN",
        "outputId": "74999d40-8845-435b-cf13-0fad472237d2"
      },
      "outputs": [
        {
          "name": "stdout",
          "output_type": "stream",
          "text": [
            "6\n",
            "just pass\n"
          ]
        }
      ],
      "source": [
        "a = int(input())\n",
        "if a > 10 :\n",
        "    print(\"pass\") \n",
        "elif a < 10 :\n",
        "    print (\"just pass\") \n",
        "elif a < 10 :\n",
        "    print (\"fail\")"
      ]
    },
    {
      "cell_type": "code",
      "execution_count": null,
      "metadata": {
        "id": "keMLbZEv6FnN"
      },
      "outputs": [],
      "source": [
        "t = (1,2,3,4)\n",
        "t1 = (56,67,67)"
      ]
    },
    {
      "cell_type": "code",
      "execution_count": null,
      "metadata": {
        "id": "7BIcQSe96FnO",
        "outputId": "58f4e88a-7095-4d0c-ee16-a210db3ecf29"
      },
      "outputs": [
        {
          "data": {
            "text/plain": [
              "(1, 2, 3, 4, 56, 67, 67)"
            ]
          },
          "execution_count": 111,
          "metadata": {},
          "output_type": "execute_result"
        }
      ],
      "source": [
        "t+t1"
      ]
    },
    {
      "cell_type": "code",
      "execution_count": null,
      "metadata": {
        "id": "dSdeuhAV6FnO",
        "outputId": "98fea125-b588-481a-9d36-d1304f5a21cf"
      },
      "outputs": [
        {
          "name": "stdout",
          "output_type": "stream",
          "text": [
            "sudh \r\n",
            "sudh sudh \r\n",
            "sudh sudh sudh \r\n",
            "sudh sudh sudh sudh \r\n",
            "sudh sudh sudh sudh sudh \r\n"
          ]
        }
      ],
      "source": [
        "n=5\n",
        "for i in range(0,n):\n",
        "    for j in range(0,i+1):\n",
        "        print(\"sudh \" ,end=\"\")\n",
        "    print(\"\\r\")\n"
      ]
    },
    {
      "cell_type": "code",
      "execution_count": null,
      "metadata": {
        "id": "Sg51oW7t6FnP",
        "outputId": "a4f0fbfe-3fea-4a3d-cdb3-97959aeb4bf4"
      },
      "outputs": [
        {
          "name": "stdout",
          "output_type": "stream",
          "text": [
            "8\n",
            "8\n",
            "8\n",
            "8\n",
            "8\n",
            "8\n",
            "8\n"
          ]
        }
      ],
      "source": [
        "t=(3,4,4,5,6,7,8)\n",
        "\n",
        "for i in t:    \n",
        "    print(t[-1])\n"
      ]
    },
    {
      "cell_type": "code",
      "execution_count": null,
      "metadata": {
        "id": "s6IeeP_m6FnP"
      },
      "outputs": [],
      "source": []
    }
  ],
  "metadata": {
    "kernelspec": {
      "display_name": "Python 3",
      "language": "python",
      "name": "python3"
    },
    "language_info": {
      "codemirror_mode": {
        "name": "ipython",
        "version": 3
      },
      "file_extension": ".py",
      "mimetype": "text/x-python",
      "name": "python",
      "nbconvert_exporter": "python",
      "pygments_lexer": "ipython3",
      "version": "3.8.5"
    },
    "colab": {
      "provenance": [],
      "include_colab_link": true
    }
  },
  "nbformat": 4,
  "nbformat_minor": 0
}