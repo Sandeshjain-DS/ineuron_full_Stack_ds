{
  "cells": [
    {
      "cell_type": "markdown",
      "metadata": {
        "id": "view-in-github",
        "colab_type": "text"
      },
      "source": [
        "<a href=\"https://colab.research.google.com/github/Sandeshjain-DS/ineuron_full_Stack_ds/blob/main/Function_and_holiday_task.ipynb\" target=\"_parent\"><img src=\"https://colab.research.google.com/assets/colab-badge.svg\" alt=\"Open In Colab\"/></a>"
      ]
    },
    {
      "cell_type": "code",
      "execution_count": null,
      "metadata": {
        "id": "B4O34wvvG5NX",
        "outputId": "8d3a946a-0468-4927-f79c-58c835eb67d1"
      },
      "outputs": [
        {
          "data": {
            "text/plain": [
              "4"
            ]
          },
          "execution_count": 2,
          "metadata": {},
          "output_type": "execute_result"
        }
      ],
      "source": [
        "len(\"sudh\")"
      ]
    },
    {
      "cell_type": "code",
      "execution_count": null,
      "metadata": {
        "id": "TyMFDKuDG5Nf",
        "outputId": "c9a378e3-f338-4ccf-90d7-3040ec2231ec"
      },
      "outputs": [
        {
          "name": "stdout",
          "output_type": "stream",
          "text": [
            "sdafsadfdsa\n"
          ]
        }
      ],
      "source": [
        "print(\"sdafsadfdsa\")"
      ]
    },
    {
      "cell_type": "code",
      "execution_count": null,
      "metadata": {
        "id": "GRHvxLwYG5Nh"
      },
      "outputs": [],
      "source": [
        "def test(): \n",
        "    pass"
      ]
    },
    {
      "cell_type": "code",
      "execution_count": null,
      "metadata": {
        "id": "ymJ3LaqLG5Ni"
      },
      "outputs": [],
      "source": [
        "def test1():\n",
        "    print(\"this is my first fun\")\n",
        "    "
      ]
    },
    {
      "cell_type": "code",
      "execution_count": null,
      "metadata": {
        "id": "VA33gZ5dG5Nj",
        "outputId": "f52e3313-6f61-48ec-b055-7b091e00982e"
      },
      "outputs": [
        {
          "name": "stdout",
          "output_type": "stream",
          "text": [
            "this is my first fun\n"
          ]
        }
      ],
      "source": [
        "test1()"
      ]
    },
    {
      "cell_type": "code",
      "execution_count": null,
      "metadata": {
        "id": "VcZg5bbcG5Nk",
        "outputId": "c8959c5a-15f4-4216-b222-9cca2efe1871"
      },
      "outputs": [
        {
          "name": "stdout",
          "output_type": "stream",
          "text": [
            "this is my first fun\n"
          ]
        }
      ],
      "source": [
        "test1()"
      ]
    },
    {
      "cell_type": "code",
      "execution_count": null,
      "metadata": {
        "id": "yr07XiyKG5Nl",
        "outputId": "4381e50d-6dff-4929-ed34-dfe1e44e0b3e"
      },
      "outputs": [
        {
          "name": "stdout",
          "output_type": "stream",
          "text": [
            "this is my first fun\n"
          ]
        }
      ],
      "source": [
        "test1()"
      ]
    },
    {
      "cell_type": "code",
      "execution_count": null,
      "metadata": {
        "id": "IhZw9qoHG5Nn",
        "outputId": "8f992ee9-1741-45d0-d7c2-ec779516c12f"
      },
      "outputs": [
        {
          "name": "stdout",
          "output_type": "stream",
          "text": [
            "this is my first fun\n"
          ]
        }
      ],
      "source": [
        "a = test1()"
      ]
    },
    {
      "cell_type": "code",
      "execution_count": null,
      "metadata": {
        "id": "b4XH7pNSG5No",
        "outputId": "7564e2fc-4307-4246-e694-5abab3827962"
      },
      "outputs": [
        {
          "name": "stdout",
          "output_type": "stream",
          "text": [
            "this is my first fun\n"
          ]
        },
        {
          "ename": "TypeError",
          "evalue": "unsupported operand type(s) for +: 'NoneType' and 'str'",
          "output_type": "error",
          "traceback": [
            "\u001b[1;31m---------------------------------------------------------------------------\u001b[0m",
            "\u001b[1;31mTypeError\u001b[0m                                 Traceback (most recent call last)",
            "\u001b[1;32m<ipython-input-20-36c99d35795d>\u001b[0m in \u001b[0;36m<module>\u001b[1;34m\u001b[0m\n\u001b[1;32m----> 1\u001b[1;33m \u001b[0mtest1\u001b[0m\u001b[1;33m(\u001b[0m\u001b[1;33m)\u001b[0m\u001b[1;33m+\u001b[0m\u001b[1;34m\"sudh\"\u001b[0m\u001b[1;33m\u001b[0m\u001b[1;33m\u001b[0m\u001b[0m\n\u001b[0m",
            "\u001b[1;31mTypeError\u001b[0m: unsupported operand type(s) for +: 'NoneType' and 'str'"
          ]
        }
      ],
      "source": [
        "test1()+\"sudh\""
      ]
    },
    {
      "cell_type": "code",
      "execution_count": null,
      "metadata": {
        "id": "rdyxvSZXG5Nq",
        "outputId": "1547fea9-fe75-45fe-e208-d2144c87b129"
      },
      "outputs": [
        {
          "data": {
            "text/plain": [
              "'sudhkuamr'"
            ]
          },
          "execution_count": 19,
          "metadata": {},
          "output_type": "execute_result"
        }
      ],
      "source": [
        "\"sudh\" + \"kuamr\""
      ]
    },
    {
      "cell_type": "code",
      "execution_count": null,
      "metadata": {
        "id": "vN8W_h_pG5Ns",
        "outputId": "3b411ba0-0536-4860-cbb6-468def81fbc6"
      },
      "outputs": [
        {
          "name": "stdout",
          "output_type": "stream",
          "text": [
            "this is my first fun\n"
          ]
        },
        {
          "data": {
            "text/plain": [
              "NoneType"
            ]
          },
          "execution_count": 21,
          "metadata": {},
          "output_type": "execute_result"
        }
      ],
      "source": [
        "type(test1())"
      ]
    },
    {
      "cell_type": "code",
      "execution_count": null,
      "metadata": {
        "id": "9WVBZ1X_G5Nt",
        "outputId": "bf0d623a-f15a-4afd-b693-de26ce43782f"
      },
      "outputs": [
        {
          "name": "stdout",
          "output_type": "stream",
          "text": [
            "this is my first fun\n"
          ]
        }
      ],
      "source": [
        "a = test1()"
      ]
    },
    {
      "cell_type": "code",
      "execution_count": null,
      "metadata": {
        "id": "KCpzj3VHG5Nu",
        "outputId": "77ba529c-717e-424c-97c8-ab4b1bd1ff0a"
      },
      "outputs": [
        {
          "data": {
            "text/plain": [
              "'None'"
            ]
          },
          "execution_count": 25,
          "metadata": {},
          "output_type": "execute_result"
        }
      ],
      "source": [
        "str(a)"
      ]
    },
    {
      "cell_type": "code",
      "execution_count": null,
      "metadata": {
        "id": "lkwgMKU0G5Nv"
      },
      "outputs": [],
      "source": [
        "def test2():\n",
        "    return \"this is my first fun\""
      ]
    },
    {
      "cell_type": "code",
      "execution_count": null,
      "metadata": {
        "id": "jNMuZFRoG5Nv",
        "outputId": "c9e3b043-5d64-4dd8-8bc5-c98cd0d7521a"
      },
      "outputs": [
        {
          "data": {
            "text/plain": [
              "str"
            ]
          },
          "execution_count": 28,
          "metadata": {},
          "output_type": "execute_result"
        }
      ],
      "source": [
        "type(test2())"
      ]
    },
    {
      "cell_type": "code",
      "execution_count": null,
      "metadata": {
        "id": "-tUf-8rYG5Nw",
        "outputId": "c515c7e5-1347-435f-822b-202735cff6b8"
      },
      "outputs": [
        {
          "data": {
            "text/plain": [
              "'this is my first funsudh'"
            ]
          },
          "execution_count": 29,
          "metadata": {},
          "output_type": "execute_result"
        }
      ],
      "source": [
        "test2() + \"sudh\""
      ]
    },
    {
      "cell_type": "code",
      "execution_count": null,
      "metadata": {
        "id": "zt0LT4v0G5Nw"
      },
      "outputs": [],
      "source": [
        "def test3() : \n",
        "    return 235435"
      ]
    },
    {
      "cell_type": "code",
      "execution_count": null,
      "metadata": {
        "id": "TYyrKh_LG5Nx",
        "outputId": "535d932d-6204-44a9-e174-63f69a3e44ce"
      },
      "outputs": [
        {
          "data": {
            "text/plain": [
              "int"
            ]
          },
          "execution_count": 32,
          "metadata": {},
          "output_type": "execute_result"
        }
      ],
      "source": [
        "type(test3())"
      ]
    },
    {
      "cell_type": "code",
      "execution_count": null,
      "metadata": {
        "id": "BQuOTRsnG5Ny"
      },
      "outputs": [],
      "source": [
        "def test4():\n",
        "    return 4,3, \"sudh\" , [1,2,3,4,5]"
      ]
    },
    {
      "cell_type": "code",
      "execution_count": null,
      "metadata": {
        "id": "I8BeULpnG5Ny"
      },
      "outputs": [],
      "source": [
        "b = test4()"
      ]
    },
    {
      "cell_type": "code",
      "execution_count": null,
      "metadata": {
        "id": "rqsNJTAUG5Nz",
        "outputId": "f1d035c8-c4f0-4b16-f67e-212981c7a139"
      },
      "outputs": [
        {
          "data": {
            "text/plain": [
              "(4, 3, 'sudh', [1, 2, 3, 4, 5])"
            ]
          },
          "execution_count": 38,
          "metadata": {},
          "output_type": "execute_result"
        }
      ],
      "source": [
        "b"
      ]
    },
    {
      "cell_type": "code",
      "execution_count": null,
      "metadata": {
        "id": "j1jbJDPfG5N0",
        "outputId": "e76b5521-9145-4311-fc01-8117bb1e75ee"
      },
      "outputs": [
        {
          "data": {
            "text/plain": [
              "3"
            ]
          },
          "execution_count": 39,
          "metadata": {},
          "output_type": "execute_result"
        }
      ],
      "source": [
        "b[1]"
      ]
    },
    {
      "cell_type": "code",
      "execution_count": null,
      "metadata": {
        "id": "STPREqAlG5N0",
        "outputId": "520a1ac9-95b4-4e30-eb76-c02ac2095a23"
      },
      "outputs": [
        {
          "data": {
            "text/plain": [
              "[1, 2, 3, 4, 5]"
            ]
          },
          "execution_count": 40,
          "metadata": {},
          "output_type": "execute_result"
        }
      ],
      "source": [
        "b[3]"
      ]
    },
    {
      "cell_type": "code",
      "execution_count": null,
      "metadata": {
        "id": "vwtGElSWG5N1",
        "outputId": "3506d306-7094-4493-cf90-166b9124d005"
      },
      "outputs": [
        {
          "data": {
            "text/plain": [
              "(4, 3, 'sudh', [1, 2, 3, 4, 5])"
            ]
          },
          "execution_count": 41,
          "metadata": {},
          "output_type": "execute_result"
        }
      ],
      "source": [
        "test4()"
      ]
    },
    {
      "cell_type": "code",
      "execution_count": null,
      "metadata": {
        "id": "CvdmB3_3G5N1"
      },
      "outputs": [],
      "source": [
        "a = 1\n",
        "b  = 5 \n",
        "c = \"sudh\"\n",
        "d = [345354,435435,543,543,5435]"
      ]
    },
    {
      "cell_type": "code",
      "execution_count": null,
      "metadata": {
        "id": "xXNuY-SKG5N2"
      },
      "outputs": [],
      "source": [
        "a ,b,c,d = 34, 45, \"sudh\" , \"dfasdfa\""
      ]
    },
    {
      "cell_type": "code",
      "execution_count": null,
      "metadata": {
        "id": "2K1ho9cfG5N2",
        "outputId": "77f65201-23b4-403b-fb85-4d9cf2123f1c"
      },
      "outputs": [
        {
          "ename": "ValueError",
          "evalue": "not enough values to unpack (expected 5, got 4)",
          "output_type": "error",
          "traceback": [
            "\u001b[1;31m---------------------------------------------------------------------------\u001b[0m",
            "\u001b[1;31mValueError\u001b[0m                                Traceback (most recent call last)",
            "\u001b[1;32m<ipython-input-49-fcbe524550a3>\u001b[0m in \u001b[0;36m<module>\u001b[1;34m\u001b[0m\n\u001b[1;32m----> 1\u001b[1;33m \u001b[0mx\u001b[0m\u001b[1;33m,\u001b[0m\u001b[0my\u001b[0m\u001b[1;33m,\u001b[0m\u001b[0mu\u001b[0m\u001b[1;33m,\u001b[0m\u001b[0mv\u001b[0m \u001b[1;33m,\u001b[0m \u001b[0md\u001b[0m \u001b[1;33m=\u001b[0m \u001b[0mtest4\u001b[0m\u001b[1;33m(\u001b[0m\u001b[1;33m)\u001b[0m\u001b[1;33m\u001b[0m\u001b[1;33m\u001b[0m\u001b[0m\n\u001b[0m",
            "\u001b[1;31mValueError\u001b[0m: not enough values to unpack (expected 5, got 4)"
          ]
        }
      ],
      "source": [
        "x,y,u,v , d = test4()"
      ]
    },
    {
      "cell_type": "code",
      "execution_count": null,
      "metadata": {
        "id": "Dhfc9gHgG5N3",
        "outputId": "9b914cec-7bec-4347-8944-5e545333db86"
      },
      "outputs": [
        {
          "data": {
            "text/plain": [
              "4"
            ]
          },
          "execution_count": 45,
          "metadata": {},
          "output_type": "execute_result"
        }
      ],
      "source": [
        "x"
      ]
    },
    {
      "cell_type": "code",
      "execution_count": null,
      "metadata": {
        "id": "5gY7SgN0G5N3",
        "outputId": "6d5eb644-fedf-4f29-eb59-6bc6fe12295c"
      },
      "outputs": [
        {
          "data": {
            "text/plain": [
              "3"
            ]
          },
          "execution_count": 46,
          "metadata": {},
          "output_type": "execute_result"
        }
      ],
      "source": [
        "y\n"
      ]
    },
    {
      "cell_type": "code",
      "execution_count": null,
      "metadata": {
        "id": "fcSpZ83iG5N4",
        "outputId": "86690a68-9ff7-4ee8-edf7-727735ef7073"
      },
      "outputs": [
        {
          "data": {
            "text/plain": [
              "'sudh'"
            ]
          },
          "execution_count": 47,
          "metadata": {},
          "output_type": "execute_result"
        }
      ],
      "source": [
        "u"
      ]
    },
    {
      "cell_type": "code",
      "execution_count": null,
      "metadata": {
        "id": "cq1XZbOcG5N4",
        "outputId": "4c480064-59f4-447c-90b9-292a89b38af6"
      },
      "outputs": [
        {
          "data": {
            "text/plain": [
              "[1, 2, 3, 4, 5]"
            ]
          },
          "execution_count": 48,
          "metadata": {},
          "output_type": "execute_result"
        }
      ],
      "source": [
        "v"
      ]
    },
    {
      "cell_type": "code",
      "execution_count": null,
      "metadata": {
        "id": "F7zy3bPqG5N5"
      },
      "outputs": [],
      "source": [
        "def test5():\n",
        "    a = 6*7 /6\n",
        "    return a "
      ]
    },
    {
      "cell_type": "code",
      "execution_count": null,
      "metadata": {
        "id": "0ebnlHKyG5N6",
        "outputId": "65e392f6-79b3-477d-cb32-4d24bdb1045e"
      },
      "outputs": [
        {
          "data": {
            "text/plain": [
              "7.0"
            ]
          },
          "execution_count": 51,
          "metadata": {},
          "output_type": "execute_result"
        }
      ],
      "source": [
        "test5()"
      ]
    },
    {
      "cell_type": "code",
      "execution_count": null,
      "metadata": {
        "id": "-y4FLZ30G5N6",
        "outputId": "ae0e87d2-5214-456e-d9a3-1249384d1cde"
      },
      "outputs": [
        {
          "ename": "TypeError",
          "evalue": "object of type 'int' has no len()",
          "output_type": "error",
          "traceback": [
            "\u001b[1;31m---------------------------------------------------------------------------\u001b[0m",
            "\u001b[1;31mTypeError\u001b[0m                                 Traceback (most recent call last)",
            "\u001b[1;32m<ipython-input-54-91fed648bb37>\u001b[0m in \u001b[0;36m<module>\u001b[1;34m\u001b[0m\n\u001b[1;32m----> 1\u001b[1;33m \u001b[0mlen\u001b[0m\u001b[1;33m(\u001b[0m\u001b[1;36m5\u001b[0m\u001b[1;33m)\u001b[0m\u001b[1;33m\u001b[0m\u001b[1;33m\u001b[0m\u001b[0m\n\u001b[0m",
            "\u001b[1;31mTypeError\u001b[0m: object of type 'int' has no len()"
          ]
        }
      ],
      "source": [
        "len(5)"
      ]
    },
    {
      "cell_type": "code",
      "execution_count": null,
      "metadata": {
        "id": "csMLZWtDG5N7"
      },
      "outputs": [],
      "source": [
        "l = [3,4,5,6,7,7 ,\"sudh\" , [1,3,4,54,56]]"
      ]
    },
    {
      "cell_type": "code",
      "execution_count": null,
      "metadata": {
        "id": "56KmMO-LG5N7"
      },
      "outputs": [],
      "source": [
        "def test6(a):\n",
        "    n = []\n",
        "    if type(a) == list:\n",
        "        for i in a:\n",
        "            if type(i) == int:\n",
        "                n.append(i)\n",
        "                \n",
        "    return n\n",
        "        "
      ]
    },
    {
      "cell_type": "code",
      "execution_count": null,
      "metadata": {
        "id": "R6icnPnZG5N7",
        "outputId": "df70d2b5-d153-4963-c928-78cceeb04451"
      },
      "outputs": [
        {
          "data": {
            "text/plain": [
              "list"
            ]
          },
          "execution_count": 59,
          "metadata": {},
          "output_type": "execute_result"
        }
      ],
      "source": [
        "type(test6(l))"
      ]
    },
    {
      "cell_type": "code",
      "execution_count": null,
      "metadata": {
        "id": "FCIbWLGcG5N8",
        "outputId": "e9776a97-b266-4c77-b1ed-ddf3e09fb31c"
      },
      "outputs": [
        {
          "data": {
            "text/plain": [
              "[2, 3, 3, 4, 56, 76, 7]"
            ]
          },
          "execution_count": 60,
          "metadata": {},
          "output_type": "execute_result"
        }
      ],
      "source": [
        "test6([2,3,3,4,56,76,7,\"dsfdsf\" , (\"fdsf\",\"fsdf\" , 45)])"
      ]
    },
    {
      "cell_type": "code",
      "execution_count": null,
      "metadata": {
        "id": "mX7ZU_l2G5N8"
      },
      "outputs": [],
      "source": [
        "def test7(a):\n",
        "    n =[]\n",
        "    if type(a) == list:\n",
        "        for i in a:\n",
        "            if type(i) == int:\n",
        "                n.append(i)\n",
        "    return n \n"
      ]
    },
    {
      "cell_type": "code",
      "execution_count": null,
      "metadata": {
        "id": "VCi60mctG5N9",
        "outputId": "d965ef3f-1652-4c3e-d086-4c2111fb6515"
      },
      "outputs": [
        {
          "data": {
            "text/plain": [
              "[3, 4, 5, 6, 7, 7]"
            ]
          },
          "execution_count": 64,
          "metadata": {},
          "output_type": "execute_result"
        }
      ],
      "source": [
        "test7(l)"
      ]
    },
    {
      "cell_type": "code",
      "execution_count": null,
      "metadata": {
        "id": "_WGYwCIfG5N9"
      },
      "outputs": [],
      "source": [
        "l = [3,4,5,6,7,7,\"sudh\",[1,3,4,54,56],6,7]\n",
        "def test6(a):\n",
        "    n = []\n",
        "    if type(a) == list:\n",
        "        for i in a:\n",
        "            if type(i) == int:\n",
        "                n.append(i)\n",
        "            elif type(i) == list:\n",
        "                for j in i:\n",
        "                    if type(j) == int:\n",
        "                        n.append(j)\n",
        "    return n\n"
      ]
    },
    {
      "cell_type": "code",
      "execution_count": null,
      "metadata": {
        "id": "EKg2PcxzG5N9",
        "outputId": "8ea907b8-1eb2-4814-b4e0-f22dab3b5f56"
      },
      "outputs": [
        {
          "data": {
            "text/plain": [
              "[3, 4, 5, 6, 7, 7, 1, 3, 4, 54, 56, 6, 7]"
            ]
          },
          "execution_count": 66,
          "metadata": {},
          "output_type": "execute_result"
        }
      ],
      "source": [
        "test6(l)"
      ]
    },
    {
      "cell_type": "code",
      "execution_count": null,
      "metadata": {
        "id": "Xb6m8edQG5N-"
      },
      "outputs": [],
      "source": [
        "def test6(a):\n",
        "    n = []\n",
        "    if type(l) == list:\n",
        "        for i in a:\n",
        "            if type(i) == int:\n",
        "                n.append(i)\n",
        "       \n",
        "    return n\n"
      ]
    },
    {
      "cell_type": "code",
      "execution_count": null,
      "metadata": {
        "id": "NGUhxYBKG5N-",
        "outputId": "926e0228-e5b9-4453-be97-eb644f2091be"
      },
      "outputs": [
        {
          "data": {
            "text/plain": [
              "[3, 4, 5, 6, 7, 7, 6, 7]"
            ]
          },
          "execution_count": 68,
          "metadata": {},
          "output_type": "execute_result"
        }
      ],
      "source": [
        "test6(l)"
      ]
    },
    {
      "cell_type": "code",
      "execution_count": null,
      "metadata": {
        "id": "1lNpY7xnG5N_"
      },
      "outputs": [],
      "source": [
        "def test6():\n",
        "    a = input()\n",
        "    b = []\n",
        "    if type(a) ==  int:\n",
        "        for i in a:\n",
        "            b.append()\n",
        "        \n",
        "    return b\n"
      ]
    },
    {
      "cell_type": "code",
      "execution_count": null,
      "metadata": {
        "id": "jIVl0JjcG5N_"
      },
      "outputs": [],
      "source": [
        "def test6(a):\n",
        "    n=\"sardar\"\n",
        "    if type(a)==list:\n",
        "        for i in a:\n",
        "            if type(i)==int:\n",
        "                n.append(i)\n",
        "    return n\n"
      ]
    },
    {
      "cell_type": "code",
      "execution_count": null,
      "metadata": {
        "id": "FPyFdrbOG5N_"
      },
      "outputs": [],
      "source": [
        "def test6(a):\n",
        "    if type(a)==list:\n",
        "        for i in l:\n",
        "            if type(i)==int:\n",
        "               n = print(i,end=\" \")\n",
        "    return n\n"
      ]
    },
    {
      "cell_type": "code",
      "execution_count": null,
      "metadata": {
        "id": "HO3IRLVtG5OA"
      },
      "outputs": [],
      "source": [
        "def test8(c) :\n",
        "    if type(c) == dict :\n",
        "        return c.keys()\n",
        "    else :\n",
        "        return \"you have not passed a dic\""
      ]
    },
    {
      "cell_type": "code",
      "execution_count": null,
      "metadata": {
        "id": "HYzRc5UpG5OB",
        "outputId": "ab2b193c-3097-46b9-acf6-1e40db688a64"
      },
      "outputs": [
        {
          "data": {
            "text/plain": [
              "'you have not passed a dic'"
            ]
          },
          "execution_count": 70,
          "metadata": {},
          "output_type": "execute_result"
        }
      ],
      "source": [
        "test8(\"fsadfsaf\")"
      ]
    },
    {
      "cell_type": "code",
      "execution_count": null,
      "metadata": {
        "id": "USXNGj55G5OB",
        "outputId": "85618e38-c921-4e31-f9cc-c48c642c2314"
      },
      "outputs": [
        {
          "data": {
            "text/plain": [
              "dict_keys(['a', 'b', 'c'])"
            ]
          },
          "execution_count": 71,
          "metadata": {},
          "output_type": "execute_result"
        }
      ],
      "source": [
        "test8({\"a\":\"dsfsf\" , \"b\" :2354234 , \"c\" : [4,5,76,78]})"
      ]
    },
    {
      "cell_type": "code",
      "execution_count": null,
      "metadata": {
        "id": "Czdy4utXG5OC"
      },
      "outputs": [],
      "source": [
        "def test9(a,b) :\n",
        "    if type(a) == list and type(b) == list:\n",
        "        a.extend(b)\n",
        "        return a\n",
        "    else :\n",
        "        return \"either of your data is not a list \""
      ]
    },
    {
      "cell_type": "code",
      "execution_count": null,
      "metadata": {
        "id": "EbSjee_gG5OC",
        "outputId": "d35d27b9-54d0-47fa-ed9f-85bd13571603"
      },
      "outputs": [
        {
          "data": {
            "text/plain": [
              "'either of your data is not a list '"
            ]
          },
          "execution_count": 84,
          "metadata": {},
          "output_type": "execute_result"
        }
      ],
      "source": [
        "test9(2424,\"uisdeh\")"
      ]
    },
    {
      "cell_type": "code",
      "execution_count": null,
      "metadata": {
        "id": "Lx6ERFA9G5OC",
        "outputId": "ac2f7707-c346-4882-953b-aa656760df6c"
      },
      "outputs": [
        {
          "data": {
            "text/plain": [
              "[2, 3, 4, 5, 6, 4, 5, 7, 788]"
            ]
          },
          "execution_count": 89,
          "metadata": {},
          "output_type": "execute_result"
        }
      ],
      "source": [
        "test9([2,3,4,5,6] , [4,5,7,788])"
      ]
    },
    {
      "cell_type": "code",
      "execution_count": null,
      "metadata": {
        "id": "-rFvGAzZG5OD",
        "outputId": "06aafaec-afaa-4156-ec41-c0d2b3b40db6"
      },
      "outputs": [
        {
          "data": {
            "text/plain": [
              "[2, 3, 4, 5, 6, 4, 5, 7, 788]"
            ]
          },
          "execution_count": 86,
          "metadata": {},
          "output_type": "execute_result"
        }
      ],
      "source": [
        "n"
      ]
    },
    {
      "cell_type": "code",
      "execution_count": null,
      "metadata": {
        "id": "eQJR-snyG5OD"
      },
      "outputs": [],
      "source": [
        "a = [2,3,4,5,6]\n",
        "b = [4,5,7,788]"
      ]
    },
    {
      "cell_type": "code",
      "execution_count": null,
      "metadata": {
        "id": "boYPZhCjG5OE",
        "outputId": "feb9bc74-555d-45bd-bace-1dbbc6320280"
      },
      "outputs": [
        {
          "data": {
            "text/plain": [
              "[2, 3, 4, 5, 6, 4, 5, 7, 788]"
            ]
          },
          "execution_count": 88,
          "metadata": {},
          "output_type": "execute_result"
        }
      ],
      "source": [
        "test9(a,b)"
      ]
    },
    {
      "cell_type": "code",
      "execution_count": null,
      "metadata": {
        "id": "K_zTzaESG5OE",
        "outputId": "0b5b8c26-e0e3-4755-e182-90d6152129dc"
      },
      "outputs": [
        {
          "data": {
            "text/plain": [
              "[2, 3, 4, 5, 6, 4, 5, 7, 788]"
            ]
          },
          "execution_count": 82,
          "metadata": {},
          "output_type": "execute_result"
        }
      ],
      "source": [
        "a"
      ]
    },
    {
      "cell_type": "code",
      "execution_count": null,
      "metadata": {
        "id": "0iL0puo8G5OE",
        "outputId": "6fa99a45-289f-454a-b839-5994993efa45"
      },
      "outputs": [
        {
          "name": "stdout",
          "output_type": "stream",
          "text": [
            "  * \n",
            "\n",
            " * * \n",
            "\n",
            "* * * \n",
            "\n"
          ]
        }
      ],
      "source": [
        "def Create_Triangle(row_num):\n",
        "    n= row_num\n",
        "    k = n - 1\n",
        "    \n",
        "    for i in range(0, n):\n",
        "\n",
        "        for j in range(0, k):\n",
        "            print(end=\" \")\n",
        "     \n",
        "        k = k - 1\n",
        "     \n",
        "        for j in range(0, i+1):        \n",
        "            print(\"* \", end=\"\")\n",
        "     \n",
        "        print(\"\\n\")\n",
        "\n",
        "Create_Triangle(3)\n"
      ]
    },
    {
      "cell_type": "code",
      "execution_count": null,
      "metadata": {
        "id": "jASCKW9kG5OF",
        "outputId": "290659f1-7133-41e8-c772-e1d7da21cb95"
      },
      "outputs": [
        {
          "name": "stdout",
          "output_type": "stream",
          "text": [
            "         * \n",
            "\n",
            "        * * \n",
            "\n",
            "       * * * \n",
            "\n",
            "      * * * * \n",
            "\n",
            "     * * * * * \n",
            "\n",
            "    * * * * * * \n",
            "\n",
            "   * * * * * * * \n",
            "\n",
            "  * * * * * * * * \n",
            "\n",
            " * * * * * * * * * \n",
            "\n",
            "* * * * * * * * * * \n",
            "\n"
          ]
        }
      ],
      "source": [
        "Create_Triangle(10)"
      ]
    },
    {
      "cell_type": "code",
      "execution_count": null,
      "metadata": {
        "id": "L3bE2z5EG5OG",
        "outputId": "f2e7ebea-9586-4579-d5c9-84030dd55f4d"
      },
      "outputs": [
        {
          "name": "stdout",
          "output_type": "stream",
          "text": [
            "    * \n",
            "\n",
            "   * * \n",
            "\n",
            "  * * * \n",
            "\n",
            " * * * * \n",
            "\n",
            "* * * * * \n",
            "\n"
          ]
        }
      ],
      "source": [
        "Create_Triangle(5)"
      ]
    },
    {
      "cell_type": "code",
      "execution_count": null,
      "metadata": {
        "id": "wwsc5N28G5OG"
      },
      "outputs": [],
      "source": []
    },
    {
      "cell_type": "code",
      "execution_count": null,
      "metadata": {
        "id": "GYVNkAeIG5OG"
      },
      "outputs": [],
      "source": [
        "def triangle (rows):\n",
        "    if type(rows) == int:\n",
        "        for i in range(1,rows):\n",
        "            for j in range(i):\n",
        "                print(\".\",end=\" \")\n",
        "            print(\"\\n\")\n"
      ]
    },
    {
      "cell_type": "code",
      "execution_count": null,
      "metadata": {
        "id": "TkaLY1B1G5OH",
        "outputId": "57fefda4-5123-4d4c-fae8-245f0424d3fa"
      },
      "outputs": [
        {
          "name": "stdout",
          "output_type": "stream",
          "text": [
            ". \n",
            "\n",
            ". . \n",
            "\n",
            ". . . \n",
            "\n"
          ]
        }
      ],
      "source": [
        "triangle(4)"
      ]
    },
    {
      "cell_type": "code",
      "execution_count": null,
      "metadata": {
        "id": "5nHV9QTBG5OI"
      },
      "outputs": [],
      "source": []
    },
    {
      "cell_type": "code",
      "execution_count": null,
      "metadata": {
        "id": "SrMIkZOuG5OI"
      },
      "outputs": [],
      "source": [
        "def test10(n):\n",
        "    \"\"\"\n",
        "    this is a fun to craete a tri \n",
        "    you can give input as an int \n",
        "    and you will be able to get output as a traingle \n",
        "    \"\"\"\n",
        "    for i in range(0,n):\n",
        "        for j in range (0, i+1):\n",
        "            print(\"*\", end= \"\")\n",
        "        print(\"\\r\")\n"
      ]
    },
    {
      "cell_type": "code",
      "execution_count": null,
      "metadata": {
        "id": "SBYQiETdG5OJ",
        "outputId": "cf2bd37c-dc93-4874-ecfe-0232cee588ab"
      },
      "outputs": [
        {
          "name": "stdout",
          "output_type": "stream",
          "text": [
            "*\r\n",
            "**\r\n",
            "***\r\n",
            "****\r\n",
            "*****\r\n",
            "******\r\n",
            "*******\r\n",
            "********\r\n",
            "*********\r\n",
            "**********\r\n",
            "***********\r\n",
            "************\r\n",
            "*************\r\n",
            "**************\r\n",
            "***************\r\n",
            "****************\r\n",
            "*****************\r\n",
            "******************\r\n",
            "*******************\r\n",
            "********************\r\n",
            "*********************\r\n",
            "**********************\r\n",
            "***********************\r\n",
            "************************\r\n",
            "*************************\r\n",
            "**************************\r\n",
            "***************************\r\n",
            "****************************\r\n",
            "*****************************\r\n",
            "******************************\r\n",
            "*******************************\r\n",
            "********************************\r\n",
            "*********************************\r\n",
            "**********************************\r\n",
            "***********************************\r\n",
            "************************************\r\n",
            "*************************************\r\n",
            "**************************************\r\n",
            "***************************************\r\n",
            "****************************************\r\n"
          ]
        }
      ],
      "source": [
        "test10(40)"
      ]
    },
    {
      "cell_type": "code",
      "execution_count": null,
      "metadata": {
        "id": "C0oPS1yQG5OK",
        "outputId": "62fe634a-c366-4452-e110-f81ffbb670ff"
      },
      "outputs": [
        {
          "name": "stdout",
          "output_type": "stream",
          "text": [
            "Help on function test10 in module __main__:\n",
            "\n",
            "test10(n)\n",
            "    this is a fun to craete a tri \n",
            "    you can give input as an int \n",
            "    and you will be able to get output as a traingle\n",
            "\n"
          ]
        }
      ],
      "source": [
        "help(test10)"
      ]
    },
    {
      "cell_type": "code",
      "execution_count": null,
      "metadata": {
        "id": "5IqbM0EoG5OK"
      },
      "outputs": [],
      "source": [
        "#dsgfsafdsa dsafsadf sadfdsa fsaf dsaf"
      ]
    },
    {
      "cell_type": "code",
      "execution_count": null,
      "metadata": {
        "id": "6yw75AXEG5OK",
        "outputId": "a26c564f-d246-46dd-8485-f203ac9feb78"
      },
      "outputs": [
        {
          "ename": "NameError",
          "evalue": "name 'dsafsa' is not defined",
          "output_type": "error",
          "traceback": [
            "\u001b[1;31m---------------------------------------------------------------------------\u001b[0m",
            "\u001b[1;31mNameError\u001b[0m                                 Traceback (most recent call last)",
            "\u001b[1;32m<ipython-input-112-49043d276779>\u001b[0m in \u001b[0;36m<module>\u001b[1;34m\u001b[0m\n\u001b[0;32m      1\u001b[0m \u001b[1;31m#fsad\u001b[0m\u001b[1;33m\u001b[0m\u001b[1;33m\u001b[0m\u001b[1;33m\u001b[0m\u001b[0m\n\u001b[1;32m----> 2\u001b[1;33m \u001b[0mdsafsa\u001b[0m\u001b[1;33m\u001b[0m\u001b[1;33m\u001b[0m\u001b[0m\n\u001b[0m\u001b[0;32m      3\u001b[0m \u001b[0mfsa\u001b[0m\u001b[1;33m\u001b[0m\u001b[1;33m\u001b[0m\u001b[0m\n\u001b[0;32m      4\u001b[0m \u001b[0mfsad\u001b[0m\u001b[1;33m\u001b[0m\u001b[1;33m\u001b[0m\u001b[0m\n\u001b[0;32m      5\u001b[0m \u001b[0mfas\u001b[0m\u001b[1;33m\u001b[0m\u001b[1;33m\u001b[0m\u001b[0m\n",
            "\u001b[1;31mNameError\u001b[0m: name 'dsafsa' is not defined"
          ]
        }
      ],
      "source": [
        "\"\"\"fsad\n",
        "dsafsa\n",
        "fsa\n",
        "fsad\n",
        "fas\n",
        "df\n",
        "asdfasf\"\"\""
      ]
    },
    {
      "cell_type": "code",
      "execution_count": null,
      "metadata": {
        "id": "8xSOJKgzG5OL",
        "outputId": "a8ded701-1de4-4419-9ceb-5b6fb91bb067"
      },
      "outputs": [
        {
          "name": "stdout",
          "output_type": "stream",
          "text": [
            "*\r\n",
            "**\r\n",
            "***\r\n",
            "****\r\n",
            "*****\r\n",
            "Help on NoneType object:\n",
            "\n",
            "class NoneType(object)\n",
            " |  Methods defined here:\n",
            " |  \n",
            " |  __bool__(self, /)\n",
            " |      self != 0\n",
            " |  \n",
            " |  __repr__(self, /)\n",
            " |      Return repr(self).\n",
            " |  \n",
            " |  ----------------------------------------------------------------------\n",
            " |  Static methods defined here:\n",
            " |  \n",
            " |  __new__(*args, **kwargs) from builtins.type\n",
            " |      Create and return a new object.  See help(type) for accurate signature.\n",
            "\n"
          ]
        }
      ],
      "source": [
        "help(test10(5))"
      ]
    },
    {
      "cell_type": "code",
      "execution_count": null,
      "metadata": {
        "id": "sMSATBJCG5OM",
        "outputId": "f29b7a3e-f516-4036-c2b0-a838c445bea1"
      },
      "outputs": [
        {
          "name": "stdout",
          "output_type": "stream",
          "text": [
            "Help on function test10 in module __main__:\n",
            "\n",
            "test10(n)\n",
            "    this is a fun to craete a tri \n",
            "    you can give input as an int \n",
            "    and you will be able to get output as a traingle\n",
            "\n"
          ]
        }
      ],
      "source": [
        "help(test10)"
      ]
    },
    {
      "cell_type": "code",
      "execution_count": null,
      "metadata": {
        "id": "F6cgcLljG5ON"
      },
      "outputs": [],
      "source": [
        "def ext(a,b):\n",
        "    if type(a) == list and type(b) == list:\n",
        "        a.extend(b)\n",
        "        return a\n",
        "    else:\n",
        "        print( \"IT is not list\")\n"
      ]
    },
    {
      "cell_type": "code",
      "execution_count": null,
      "metadata": {
        "id": "eaB1uIEFG5OO",
        "outputId": "2dea036b-3ee9-44eb-8b1c-97453c42582e"
      },
      "outputs": [
        {
          "data": {
            "text/plain": [
              "[3, 4, 5, 6, 76, 4, 5, 6, 76]"
            ]
          },
          "execution_count": 117,
          "metadata": {},
          "output_type": "execute_result"
        }
      ],
      "source": [
        "ext([3,4,5,6,76] , [4,5,6,76])"
      ]
    },
    {
      "cell_type": "code",
      "execution_count": null,
      "metadata": {
        "id": "IEDwxY9HG5OO"
      },
      "outputs": [],
      "source": [
        "1 . you have to write a fun which will take string and return a len of \n",
        "it without using a inbuilt fun len\n",
        "2 . write a fun which will be able to print an index of all premitive element which you will pass \n",
        "3 . Write a fun which will take input as a dict and give me out as a list of all the values \n",
        "even in case of 2 level nesting it should work . \n",
        "4 . write a fun which will take another function as an input and return me an output \n",
        "5. write a function whihc will take multiple list as a input and give me concatnation of all the element as \n",
        "and output \n",
        "6 . write a function which will be able to take a list as an input return an index of each element \n",
        "like a inbuilt index function but even if we have repetative element it should return index \n",
        "7 . Write a function which will whould return list of all the file name from a directory . \n",
        "8  . write a function which will be able to show your system configuration . \n",
        "9 . write a function which will be able to show date and time  . \n",
        "10 . write a function whihc will be able to read a image file and show it to you .\n",
        "11 . write a function which can read video file and play for you . \n",
        "12  . write a function whihc can move a file from one directory to another directory . \n",
        "13 . write a function which will be able to shutdonw your system . \n",
        "14 . write a function whihc will be able to access your mail . \n",
        "15 . write a func bywhcih i can send a mail to anyone \n",
        "16. write a func to read a complete PDf file . \n",
        "17. write a function to read a word file . \n",
        "18 . write a function which can help you to filter only word file from a directory . \n",
        "19 . write a function by which you can print an ip address of your system . \n",
        "20 . write a function by which you will be able to append two PDF files . "
      ]
    },
    {
      "cell_type": "code",
      "execution_count": null,
      "metadata": {
        "id": "h8P_PMAyG5OP"
      },
      "outputs": [],
      "source": [
        "sudhanshu@ineuron.ai"
      ]
    },
    {
      "cell_type": "code",
      "execution_count": null,
      "metadata": {
        "id": "Z4PMZH6BG5OQ"
      },
      "outputs": [],
      "source": []
    }
  ],
  "metadata": {
    "kernelspec": {
      "display_name": "Python 3",
      "language": "python",
      "name": "python3"
    },
    "language_info": {
      "codemirror_mode": {
        "name": "ipython",
        "version": 3
      },
      "file_extension": ".py",
      "mimetype": "text/x-python",
      "name": "python",
      "nbconvert_exporter": "python",
      "pygments_lexer": "ipython3",
      "version": "3.8.5"
    },
    "colab": {
      "provenance": [],
      "include_colab_link": true
    }
  },
  "nbformat": 4,
  "nbformat_minor": 0
}